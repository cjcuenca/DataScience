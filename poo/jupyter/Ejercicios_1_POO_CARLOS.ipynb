{
 "cells": [
  {
   "cell_type": "code",
   "execution_count": null,
   "id": "303393b7",
   "metadata": {},
   "outputs": [],
   "source": [
    "# Ejercicios 1_POO"
   ]
  },
  {
   "cell_type": "code",
   "execution_count": null,
   "id": "4445c943",
   "metadata": {},
   "outputs": [],
   "source": [
    "# 1)** Crea el siguiente programa:\n",
    "# Una clase de nombre Librería\n",
    "#  Inicia los siguientes atributos: nombre, sección, editorial y año\n",
    "#  Crea una segunda clase con nombre Rosalia que herede la clase librería.\n",
    "#  En esta clase Rosalia, crea una función \"result\" cuyo resultado sea los datos de los libros.\n",
    "#  declara los Objetos siguientes:\n",
    "#     * libro1 --> Oceanarium, Ciencia, Impedimenta, 2021\n",
    "#     * libro2 --> 33 Botones, Novela negra, Atlantis, 2022\n",
    "#     * libro3 --> Venganza en Compostela, Historia, Universo de letras, 2022"
   ]
  },
  {
   "cell_type": "code",
   "execution_count": 71,
   "id": "cc9ecc66",
   "metadata": {},
   "outputs": [],
   "source": [
    "class Libreria:\n",
    "    def __init__(self, nombre, seccion, editorial, anio):\n",
    "        self.nombre = nombre\n",
    "        self.seccion = seccion\n",
    "        self.editorial = editorial\n",
    "        self.anio = anio\n",
    "\n",
    "class Rosalia(Libreria):\n",
    "    def result(self):\n",
    "        print(\"Nombre :\",self.nombre)\n",
    "        print(\"Seccion :\",self.seccion)\n",
    "        print(\"Editorial :\",self.editorial)\n",
    "        print(\"Año :\",self.anio)\n",
    "      \n",
    "        \n",
    "libro1 = Rosalia(\"Oceanarium\", \"Ciencia\", \"Impedimenta\", 2021)\n",
    "libro2 = Rosalia(\"33 Botones\", \"Novela negra\", \"Atlantis\", 2022)\n",
    "libro3 = Rosalia(\"Venganza en Compostela\", \"Historia\", \"Universo de letras\", 2022)"
   ]
  },
  {
   "cell_type": "code",
   "execution_count": 72,
   "id": "aaeb45e7",
   "metadata": {
    "scrolled": false
   },
   "outputs": [
    {
     "name": "stdout",
     "output_type": "stream",
     "text": [
      "Nombre : Oceanarium\n",
      "Seccion : Ciencia\n",
      "Editorial : Impedimenta\n",
      "Año : 2021\n"
     ]
    }
   ],
   "source": [
    "Rosalia.result(libro1)"
   ]
  },
  {
   "cell_type": "code",
   "execution_count": 73,
   "id": "115801a4",
   "metadata": {},
   "outputs": [
    {
     "name": "stdout",
     "output_type": "stream",
     "text": [
      "Nombre : Oceanarium\n",
      "Seccion : Ciencia\n",
      "Editorial : Impedimenta\n",
      "Año : 2021\n"
     ]
    }
   ],
   "source": [
    "libro1.result()"
   ]
  },
  {
   "cell_type": "code",
   "execution_count": 74,
   "id": "3291d678",
   "metadata": {},
   "outputs": [],
   "source": [
    "# 2) Crea otra libraría de nombre MiLibro, que corresponde a una nueva clase, \n",
    "#    define una función de nombre misLibros, cuyo resultado sea los datos de los libros:\n",
    "#        libro4 --> Mi primera Novela, Novela, Bruño, 2019\n",
    "#        libro5 --> Gatos, Literatura, Listado, 2018"
   ]
  },
  {
   "cell_type": "code",
   "execution_count": 103,
   "id": "f90d27a9",
   "metadata": {},
   "outputs": [],
   "source": [
    "class MiLibro(Rosalia):\n",
    "    def misLibros(self):\n",
    "        if self==libro4 or self==libro5:\n",
    "            print(\"Nombre :\",self.nombre)\n",
    "            print(\"Seccion :\",self.seccion)\n",
    "            print(\"Editorial :\",self.editorial)\n",
    "            print(\"Año :\",self.anio)\n",
    "        else:\n",
    "            print(\" NO es mi libro\")\n",
    "       \n",
    "            \n",
    "libro4 = Rosalia(\"Mi primera Novela\", \"Novela\", \"Bruño\", 2019)\n",
    "libro5 = Rosalia(\"Gatos\", \"Literatura\", \"Listado\", 2018)"
   ]
  },
  {
   "cell_type": "code",
   "execution_count": 90,
   "id": "8f77cfa0",
   "metadata": {},
   "outputs": [
    {
     "name": "stdout",
     "output_type": "stream",
     "text": [
      "Nombre : Mi primera Novela\n",
      "Seccion : Novela\n",
      "Editorial : Bruño\n",
      "Año : 2019\n"
     ]
    }
   ],
   "source": [
    "libro4.result()"
   ]
  },
  {
   "cell_type": "code",
   "execution_count": 91,
   "id": "d67e445b",
   "metadata": {},
   "outputs": [
    {
     "name": "stdout",
     "output_type": "stream",
     "text": [
      "Nombre : Gatos\n",
      "Seccion : Literatura\n",
      "Editorial : Listado\n",
      "Año : 2018\n"
     ]
    }
   ],
   "source": [
    "MiLibro.misLibros(libro5)"
   ]
  },
  {
   "cell_type": "code",
   "execution_count": 106,
   "id": "0e69b3e1",
   "metadata": {},
   "outputs": [
    {
     "name": "stdout",
     "output_type": "stream",
     "text": [
      " NO es mi libro\n"
     ]
    }
   ],
   "source": [
    "MiLibro.misLibros(libro1)"
   ]
  },
  {
   "cell_type": "code",
   "execution_count": null,
   "id": "6fa4e921",
   "metadata": {},
   "outputs": [],
   "source": [
    "#    Realiza la media de los años de los libros 4 y 5"
   ]
  },
  {
   "cell_type": "code",
   "execution_count": 116,
   "id": "e90d711a",
   "metadata": {},
   "outputs": [
    {
     "name": "stdout",
     "output_type": "stream",
     "text": [
      "2018.5\n"
     ]
    }
   ],
   "source": [
    "from statistics import mean\n",
    "\n",
    "L = (libro4.anio,libro5.anio)\n",
    "\n",
    "print(mean(L))"
   ]
  },
  {
   "cell_type": "code",
   "execution_count": null,
   "id": "0b527c0e",
   "metadata": {},
   "outputs": [],
   "source": []
  },
  {
   "cell_type": "code",
   "execution_count": null,
   "id": "d6c1712e",
   "metadata": {},
   "outputs": [],
   "source": [
    "# 3) Crea una clase llamada Persona. Sus atributos son: nombre, edad y DNI. Construye los siguientes métodos para la clase:\n",
    "# \n",
    "#  Un constructor, donde los datos pueden estar vacíos.\n",
    "#  mostrar(): Muestra los datos de la persona.\n",
    "#  esMayorDeEdad(): Devuelve un valor indicando si es mayor de edad."
   ]
  },
  {
   "cell_type": "code",
   "execution_count": 89,
   "id": "6284b287",
   "metadata": {},
   "outputs": [],
   "source": [
    "class Persona:\n",
    "    def __init__(self, nombre, edad, DNI):\n",
    "        self.nombre = nombre\n",
    "        self.edad = edad\n",
    "        self.DNI = DNI\n",
    "\n",
    "    def mostrar(self):\n",
    "        print(\"Nombre :\",self.nombre, \"Edad :\",self.edad, \"DNI :\",self.DNI)\n",
    "    \n",
    "    def esMayorDeEdad(self):\n",
    "        if self.edad>=18:\n",
    "            esMayorDeEdad = True\n",
    "            return esMayorDeEdad\n",
    "        else:  \n",
    "            esMayorDeEdad = False\n",
    "            return esMayorDeEdad"
   ]
  },
  {
   "cell_type": "code",
   "execution_count": 201,
   "id": "be149f09",
   "metadata": {},
   "outputs": [
    {
     "name": "stdout",
     "output_type": "stream",
     "text": [
      "Nombre : Carlos Edad : 1 DNI : 50000000A\n"
     ]
    }
   ],
   "source": [
    "persona1 = Persona(\"Carlos\", 1, \"50000000A\")\n",
    "persona2 = Persona(\"Maria\", 18, \"50000000A\")\n",
    "\n",
    "persona1.mostrar()\n"
   ]
  },
  {
   "cell_type": "code",
   "execution_count": 202,
   "id": "41fac64f",
   "metadata": {},
   "outputs": [
    {
     "name": "stdout",
     "output_type": "stream",
     "text": [
      "Es MENOR de edad\n"
     ]
    }
   ],
   "source": [
    "if persona1.esMayorDeEdad():\n",
    "    print(\"Es MAYOR de edad\")\n",
    "else:\n",
    "    print(\"Es MENOR de edad\")\n",
    "        "
   ]
  },
  {
   "cell_type": "code",
   "execution_count": 203,
   "id": "d988c9ac",
   "metadata": {},
   "outputs": [
    {
     "name": "stdout",
     "output_type": "stream",
     "text": [
      "Es MENOR de edad\n"
     ]
    }
   ],
   "source": [
    "if persona2.esMayorDeEdad():\n",
    "    print(\"Es MAYOR de edad\")\n",
    "else:\n",
    "    print(\"Es MENOR de edad\")\n",
    "        "
   ]
  },
  {
   "cell_type": "code",
   "execution_count": 90,
   "id": "295e31aa",
   "metadata": {},
   "outputs": [],
   "source": [
    "#  4) Crea una clase llamada Cuenta que tendrá los siguientes atributos: titular (que es una persona) y \n",
    "#     cantidad (puede tener decimales). Construye los siguientes métodos para la clase:\n",
    "# \n",
    "# * Un constructor, donde los datos pueden estar vacíos.\n",
    "# * El atributo no se puede modificar directamente, sólo ingresando o retirando dinero.\n",
    "# * mostrar(): Muestra los datos de la cuenta.\n",
    "# * ingresar(cantidad): se ingresa una cantidad a la cuenta, si la cantidad introducida es negativa, no se hará nada.\n",
    "# * retirar(cantidad): se retira una cantidad a la cuenta. La cuenta puede estar en números rojos si es saldo negativo.\n",
    "\n",
    "class Cuenta:\n",
    "    def __init__(self, titular, cantidad):\n",
    "        self.titular = titular\n",
    "        self.cantidad = cantidad\n",
    "\n",
    "    def mostrar(self):\n",
    "        print(\"Nombre cliente:\",self.titular,\"-->\", \"Saldo :\",self.cantidad)\n",
    " \n",
    "    def ingresar(self, cantidad):\n",
    "        if cantidad>0:\n",
    "            self.cantidad = self.cantidad + cantidad\n",
    "  \n",
    "    def retirar(self, cantidad):\n",
    "        if cantidad>0:\n",
    "            self.cantidad = self.cantidad - cantidad\n",
    "        if self.cantidad<0:\n",
    "            print(\"Cliente: \", self.titular,\"está en NUMEROS ROJOS\")"
   ]
  },
  {
   "cell_type": "code",
   "execution_count": 180,
   "id": "6428fb0c",
   "metadata": {},
   "outputs": [],
   "source": [
    "# * Ingresar en positivo"
   ]
  },
  {
   "cell_type": "code",
   "execution_count": 224,
   "id": "21078268",
   "metadata": {},
   "outputs": [
    {
     "name": "stdout",
     "output_type": "stream",
     "text": [
      "Nombre cliente: Carlos --> Saldo : 100\n"
     ]
    }
   ],
   "source": [
    "cuenta1 = Cuenta(\"Carlos\", 100)\n",
    "\n",
    "cuenta1.mostrar()"
   ]
  },
  {
   "cell_type": "code",
   "execution_count": 225,
   "id": "a53f155f",
   "metadata": {},
   "outputs": [
    {
     "name": "stdout",
     "output_type": "stream",
     "text": [
      "Nombre cliente: Carlos --> Saldo : 110\n"
     ]
    }
   ],
   "source": [
    "cuenta1.ingresar(10)\n",
    "cuenta1.mostrar()"
   ]
  },
  {
   "cell_type": "markdown",
   "id": "529f6eed",
   "metadata": {},
   "source": [
    "* Ingresar en negativo"
   ]
  },
  {
   "cell_type": "code",
   "execution_count": 226,
   "id": "8efb034a",
   "metadata": {},
   "outputs": [
    {
     "name": "stdout",
     "output_type": "stream",
     "text": [
      "Nombre cliente: Carlos --> Saldo : 110\n"
     ]
    }
   ],
   "source": [
    "cuenta1.ingresar(-10)\n",
    "cuenta1.mostrar()"
   ]
  },
  {
   "cell_type": "markdown",
   "id": "ae7ed299",
   "metadata": {},
   "source": [
    "* Retirar dinero"
   ]
  },
  {
   "cell_type": "code",
   "execution_count": 227,
   "id": "0ff07e08",
   "metadata": {},
   "outputs": [
    {
     "name": "stdout",
     "output_type": "stream",
     "text": [
      "Nombre cliente: Carlos --> Saldo : 100\n"
     ]
    }
   ],
   "source": [
    "cuenta1.retirar(10)\n",
    "cuenta1.mostrar()"
   ]
  },
  {
   "cell_type": "markdown",
   "id": "8206e883",
   "metadata": {},
   "source": [
    "* Retirar dinero en numeros rojos"
   ]
  },
  {
   "cell_type": "code",
   "execution_count": 228,
   "id": "5903086e",
   "metadata": {},
   "outputs": [
    {
     "name": "stdout",
     "output_type": "stream",
     "text": [
      "Cliente:  Carlos está en NUMEROS ROJOS\n",
      "Nombre cliente: Carlos --> Saldo : -10\n"
     ]
    }
   ],
   "source": [
    "cuenta1.retirar(110)\n",
    "cuenta1.mostrar()"
   ]
  },
  {
   "cell_type": "code",
   "execution_count": null,
   "id": "cb7bded2",
   "metadata": {},
   "outputs": [],
   "source": []
  },
  {
   "cell_type": "code",
   "execution_count": null,
   "id": "5f84f83d",
   "metadata": {},
   "outputs": [],
   "source": [
    "# 5) Vamos a definir ahora una “Cuenta Joven”, para ello vamos a crear una nueva clase CuantaJoven que deriva de la anterior.\n",
    "#    Cuando se crea esta nueva clase, además del titular y la cantidad se debe guardar una bonificación que estará expresada \n",
    "#    en tanto por ciento. Construye los siguientes métodos para la clase:\n",
    "#\n",
    "# * Un constructor.\n",
    "# * En esta ocasión los titulares de este tipo de cuenta tienen que ser mayor de edad., por lo tanto hay que crear \n",
    "#   un método esTitularValido() que devuelve verdadero si el titular es mayor de edad pero menor de 25 años y \n",
    "#   falso en caso contrario.\n",
    "# * Además la retirada de dinero sólo se podrá hacer si el titular es válido.\n",
    "# * El método mostrar() debe devolver el mensaje de “Cuenta Joven” y la bonificación de la cuenta.\n",
    "# * Piensa los métodos heredados de la clase madre que hay que reescribir."
   ]
  },
  {
   "cell_type": "code",
   "execution_count": 153,
   "id": "f63f3f46",
   "metadata": {},
   "outputs": [],
   "source": [
    "class Cuenta_Joven():\n",
    "    def __init__(self, bonificacion):\n",
    "        self.bonificacion = bonificacion\n",
    "        \n",
    "    def esTitularValido(Persona):\n",
    "        if Persona.edad < 25 and Persona.esMayorDeEdad():\n",
    "            esTitularValido = True\n",
    "            return esTitularValido\n",
    "        else:\n",
    "            esTitularValido = False\n",
    "            return esTitularValido\n",
    "\n",
    "    def retirar(self, Persona, Cuenta, cantidad):\n",
    "        if Cuenta_Joven.esTitularValido(Persona):\n",
    "            Cuenta.retirar(cantidad)\n",
    "        else:\n",
    "            print(\"Es titular no válido, no se puede hacer ingreso\") \n",
    "    \n",
    "    def mostrar(self):\n",
    "        print(\"Cuenta Joven\", self.bonificacion)\n",
    "    "
   ]
  },
  {
   "cell_type": "markdown",
   "id": "aea43be0",
   "metadata": {},
   "source": [
    "* Mayor de edad"
   ]
  },
  {
   "cell_type": "code",
   "execution_count": 99,
   "id": "51102601",
   "metadata": {},
   "outputs": [
    {
     "name": "stdout",
     "output_type": "stream",
     "text": [
      "El cliente Carlos de edad 19 es un titular válido para la Cuenca Joven\n"
     ]
    }
   ],
   "source": [
    "persona1 = Persona(\"Carlos\", 19, \"50000000A\")\n",
    "\n",
    "if Cuenta_Joven.esTitularValido(persona1):\n",
    "    print(\"El cliente\",persona1.nombre,\"de edad\",persona1.edad,\"es un titular válido para la Cuenta Joven\")\n",
    "else:\n",
    "    print(\"El cliente\",persona1.nombre,\"de edad\",persona1.edad,\"NO es un titular válido para la Cuenta Joven\")\n",
    "    "
   ]
  },
  {
   "cell_type": "code",
   "execution_count": 100,
   "id": "b533f6b4",
   "metadata": {},
   "outputs": [
    {
     "name": "stdout",
     "output_type": "stream",
     "text": [
      "El cliente Carlos de edad 28 NO es un titular válido para la Cuenca Joven\n"
     ]
    }
   ],
   "source": [
    "persona2 = Persona(\"Juan\", 28, \"50000000A\")\n",
    "\n",
    "if Cuenta_Joven.esTitularValido(persona2):\n",
    "    print(\"El cliente\",persona2.nombre,\"de edad\",persona2.edad,\"es un titular válido para la Cuenta Joven\")\n",
    "else:\n",
    "    print(\"El cliente\",persona2.nombre,\"de edad\",persona2.edad,\"NO es un titular válido para la Cuenta Joven\")\n",
    "    \n"
   ]
  },
  {
   "cell_type": "markdown",
   "id": "e8047328",
   "metadata": {},
   "source": [
    "* Menor de edad"
   ]
  },
  {
   "cell_type": "code",
   "execution_count": 101,
   "id": "8d39d9ea",
   "metadata": {},
   "outputs": [
    {
     "name": "stdout",
     "output_type": "stream",
     "text": [
      "El cliente Ana de edad 17 NO es un titular válido para la Cuenca Joven\n"
     ]
    }
   ],
   "source": [
    "persona3 = Persona(\"Ana\", 17, \"50000000A\")\n",
    "\n",
    "if Cuenta_Joven.esTitularValido(persona3):\n",
    "    print(\"El cliente\",persona3.nombre,\"de edad\",persona3.edad,\"es un titular válido para la Cuenca Joven\")\n",
    "else:\n",
    "    print(\"El cliente\",persona3.nombre,\"de edad\",persona3.edad,\"NO es un titular válido para la Cuenca Joven\")"
   ]
  },
  {
   "cell_type": "code",
   "execution_count": 114,
   "id": "f034f68a",
   "metadata": {},
   "outputs": [
    {
     "name": "stdout",
     "output_type": "stream",
     "text": [
      "Cuenta Joven 15%\n"
     ]
    }
   ],
   "source": [
    "persona4 = Cuenta_Joven(\"15%\")\n",
    "\n",
    "persona4.mostrar()\n"
   ]
  },
  {
   "cell_type": "code",
   "execution_count": 123,
   "id": "9f2aa9cc",
   "metadata": {},
   "outputs": [
    {
     "name": "stdout",
     "output_type": "stream",
     "text": [
      "Es titular no válido, no se puede hacer ingreso\n"
     ]
    }
   ],
   "source": [
    "persona3 = Persona(\"Ana\", 17, \"50000000A\")\n",
    "Cuenta_Joven.retirar(persona3)"
   ]
  },
  {
   "cell_type": "code",
   "execution_count": 124,
   "id": "1fa07436",
   "metadata": {},
   "outputs": [
    {
     "name": "stdout",
     "output_type": "stream",
     "text": [
      "Es titular no válido, no se puede hacer ingreso\n"
     ]
    }
   ],
   "source": [
    "persona2 = Persona(\"Juan\", 28, \"50000000A\")\n",
    "Cuenta_Joven.retirar(persona2)"
   ]
  },
  {
   "cell_type": "code",
   "execution_count": 154,
   "id": "bc1eeec2",
   "metadata": {},
   "outputs": [
    {
     "name": "stdout",
     "output_type": "stream",
     "text": [
      "Nombre cliente: Carlos --> Saldo : 90\n"
     ]
    }
   ],
   "source": [
    "persona1 = Persona(\"Carlos\", 19, \"50000000A\")\n",
    "cuenta1 = Cuenta(\"Carlos\", 100)\n",
    "persona4 = Cuenta_Joven(\"15%\")\n",
    "\n",
    "persona4.retirar(persona1, cuenta1, 10)\n",
    "cuenta1.mostrar()"
   ]
  },
  {
   "cell_type": "code",
   "execution_count": null,
   "id": "bd89ffe9",
   "metadata": {},
   "outputs": [],
   "source": [
    "# rehacer con super() y cogiendo las variables que necesitamos y pasandolas y heredando en la principal"
   ]
  },
  {
   "cell_type": "markdown",
   "id": "0ec140b2",
   "metadata": {},
   "source": [
    "*Creado por:*\n",
    "\n",
    "*Isabel Maniega*"
   ]
  }
 ],
 "metadata": {
  "kernelspec": {
   "display_name": "Python 3 (ipykernel)",
   "language": "python",
   "name": "python3"
  },
  "language_info": {
   "codemirror_mode": {
    "name": "ipython",
    "version": 3
   },
   "file_extension": ".py",
   "mimetype": "text/x-python",
   "name": "python",
   "nbconvert_exporter": "python",
   "pygments_lexer": "ipython3",
   "version": "3.8.10"
  }
 },
 "nbformat": 4,
 "nbformat_minor": 5
}
