{
 "cells": [
  {
   "cell_type": "markdown",
   "id": "a26e304d",
   "metadata": {},
   "source": [
    "*Creado por:*\n",
    "    \n",
    "*Isabel Maniega*"
   ]
  },
  {
   "cell_type": "markdown",
   "id": "4ffc33ab",
   "metadata": {},
   "source": [
    "# Ejercicios"
   ]
  },
  {
   "cell_type": "markdown",
   "id": "80153748",
   "metadata": {},
   "source": [
    "**1)** Crearemos un nuevo tipo llamado NumeroComplejo. Este tipo tiene un atributo x para la coordenada en x e y para la coordenada en y. Representa un número complejo de la forma (x, y)."
   ]
  },
  {
   "cell_type": "markdown",
   "id": "87f488c3",
   "metadata": {},
   "source": [
    "**2)** Ahora defina dentro de la clase NumeroComplejo un función imprimir donde muestre los valores de x e y."
   ]
  },
  {
   "cell_type": "markdown",
   "id": "cdcd92ba",
   "metadata": {},
   "source": [
    "**3)** Define la función __str__ para la clase NumeroComplejo para poder imprimir usando la función print."
   ]
  },
  {
   "cell_type": "markdown",
   "id": "a62f1161",
   "metadata": {},
   "source": [
    "**4)** definie una función que compara dos números complejos, ya que si dos objetos distintos tienen sus atributos iguales, no se consideran iguales."
   ]
  },
  {
   "cell_type": "markdown",
   "id": "d09ebf3a",
   "metadata": {},
   "source": [
    "**5)** Realiza un método que sume dos numeros complejos sin modificiar los objetos originales, ya que se retorna un nuevo numero NumeroComplejo."
   ]
  },
  {
   "cell_type": "markdown",
   "id": "d5d120d3",
   "metadata": {},
   "source": [
    "**6)** Crea una clase persona. Sus atributos deben ser su nombre y su edad. Además crea un método cumpleaños, que aumente en 1 la edad de la persona."
   ]
  },
  {
   "cell_type": "markdown",
   "id": "b9ff1562",
   "metadata": {},
   "source": [
    "**7)** Para la clase anterior definir el método __str__. Debe retornar al menos el nombre de la persona."
   ]
  },
  {
   "cell_type": "markdown",
   "id": "30ae1f6a",
   "metadata": {},
   "source": [
    "**8)** Extender la clase persona agregando un atributo saldo y un método transferencia(self, persona2, monto). El saldo representa el dinero que tiene la persona. El método transferencia hace que la Persona que llama el método le transfiera la cantidad monto al objeto persona2. Si no tiene el dinero suficiente no se ejecuta la acción."
   ]
  },
  {
   "cell_type": "markdown",
   "id": "515463c6",
   "metadata": {},
   "source": [
    "*Creado por:*\n",
    "\n",
    "*Isabel Maniega*"
   ]
  }
 ],
 "metadata": {
  "kernelspec": {
   "display_name": "Python 3",
   "language": "python",
   "name": "python3"
  },
  "language_info": {
   "codemirror_mode": {
    "name": "ipython",
    "version": 3
   },
   "file_extension": ".py",
   "mimetype": "text/x-python",
   "name": "python",
   "nbconvert_exporter": "python",
   "pygments_lexer": "ipython3",
   "version": "3.8.10"
  }
 },
 "nbformat": 4,
 "nbformat_minor": 5
}
