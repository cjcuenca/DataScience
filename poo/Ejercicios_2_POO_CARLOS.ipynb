{
 "cells": [
  {
   "cell_type": "markdown",
   "id": "a26e304d",
   "metadata": {},
   "source": [
    "*Creado por:*\n",
    "    \n",
    "*Isabel Maniega*"
   ]
  },
  {
   "cell_type": "markdown",
   "id": "4ffc33ab",
   "metadata": {},
   "source": [
    "# Ejercicios"
   ]
  },
  {
   "cell_type": "markdown",
   "id": "80153748",
   "metadata": {},
   "source": [
    "**1)** Crearemos un nuevo tipo llamado NumeroComplejo. Este tipo tiene un atributo x para la coordenada en x e y para la coordenada en y. Representa un número complejo de la forma (x, y)."
   ]
  },
  {
   "cell_type": "code",
   "execution_count": 78,
   "id": "8c8984e9",
   "metadata": {},
   "outputs": [],
   "source": [
    "class NumeroComplejo:\n",
    "    def __init__(self,x,y):\n",
    "        self.x=x\n",
    "        self.y=y\n"
   ]
  },
  {
   "cell_type": "code",
   "execution_count": 79,
   "id": "8ed446ce",
   "metadata": {},
   "outputs": [],
   "source": [
    "numero1 = NumeroComplejo(3,4)\n"
   ]
  },
  {
   "cell_type": "markdown",
   "id": "87f488c3",
   "metadata": {},
   "source": [
    "**2)** Ahora defina dentro de la clase NumeroComplejo un función imprimir donde muestre los valores de x e y."
   ]
  },
  {
   "cell_type": "code",
   "execution_count": 80,
   "id": "7e7c5d00",
   "metadata": {},
   "outputs": [],
   "source": [
    "class NumeroComplejo:\n",
    "    def __init__(self, x, y):\n",
    "        self.x = x\n",
    "        self.y = y\n",
    "    \n",
    "    def imprimir(self):\n",
    "        return f\"Número complejo:({self.x}, {self.y})\"            "
   ]
  },
  {
   "cell_type": "code",
   "execution_count": 81,
   "id": "9907f6ab",
   "metadata": {},
   "outputs": [
    {
     "data": {
      "text/plain": [
       "'Número complejo:(3, 4)'"
      ]
     },
     "execution_count": 81,
     "metadata": {},
     "output_type": "execute_result"
    }
   ],
   "source": [
    "numero3 = NumeroComplejo(3,4)\n",
    "\n",
    "numero3.imprimir()"
   ]
  },
  {
   "cell_type": "markdown",
   "id": "cdcd92ba",
   "metadata": {},
   "source": [
    "**3)** Define la función __str__ para la clase NumeroComplejo para poder imprimir usando la función print."
   ]
  },
  {
   "cell_type": "code",
   "execution_count": 82,
   "id": "f2d31bca",
   "metadata": {},
   "outputs": [],
   "source": [
    "class NumeroComplejo:\n",
    "    def __init__(self,x,y):\n",
    "        self.x=x\n",
    "        self.y=y\n",
    "    \n",
    "    def __str__(self):\n",
    "        return f\"Número complejo:({self.x}, {self.y})\""
   ]
  },
  {
   "cell_type": "code",
   "execution_count": 83,
   "id": "307912ef",
   "metadata": {},
   "outputs": [
    {
     "name": "stdout",
     "output_type": "stream",
     "text": [
      "Número complejo:(3, 4)\n"
     ]
    }
   ],
   "source": [
    "numero1 = NumeroComplejo(3,4)\n",
    "\n",
    "print(numero1)"
   ]
  },
  {
   "cell_type": "code",
   "execution_count": 84,
   "id": "e84d4aef",
   "metadata": {},
   "outputs": [],
   "source": [
    "class NumeroComplejo:\n",
    "    def __init__(self, x, y):\n",
    "        self.x = x\n",
    "        self.y = y\n",
    "    \n",
    "    def __repr__(self):\n",
    "        return f\"Número complejo:({self.x}, {self.y})\""
   ]
  },
  {
   "cell_type": "code",
   "execution_count": 85,
   "id": "a58a1579",
   "metadata": {},
   "outputs": [
    {
     "name": "stdout",
     "output_type": "stream",
     "text": [
      "Número complejo:(3, 4)\n"
     ]
    }
   ],
   "source": [
    "numero2 = NumeroComplejo(3,4)\n",
    "\n",
    "print(numero2)"
   ]
  },
  {
   "cell_type": "markdown",
   "id": "a62f1161",
   "metadata": {},
   "source": [
    "**4)** definie una función que compara dos números complejos, ya que si dos objetos distintos tienen sus atributos iguales, no se consideran iguales."
   ]
  },
  {
   "cell_type": "code",
   "execution_count": 169,
   "id": "04d3f421",
   "metadata": {},
   "outputs": [],
   "source": [
    "class NumeroComplejo:\n",
    "    def __init__(self, x, y):\n",
    "        self.x = x\n",
    "        self.y = y\n",
    "        \n",
    "    def __repr__(self):\n",
    "        return f\"Número complejo:({self.x}, {self.y})\"\n",
    "    \n",
    "    def son_iguales(self,numero2):\n",
    "        if self.x==numero2.x and self.y==numero2.y:\n",
    "            son_iguales=True\n",
    "        else:\n",
    "            son_iguales=False\n",
    "        return son_iguales"
   ]
  },
  {
   "cell_type": "code",
   "execution_count": 170,
   "id": "813a2b10",
   "metadata": {},
   "outputs": [],
   "source": [
    "A = NumeroComplejo(3,4)\n",
    "B = NumeroComplejo(2,4)"
   ]
  },
  {
   "cell_type": "code",
   "execution_count": 171,
   "id": "130f062e",
   "metadata": {},
   "outputs": [
    {
     "name": "stdout",
     "output_type": "stream",
     "text": [
      "Los numeros complejos son distintos\n"
     ]
    }
   ],
   "source": [
    "if A.son_iguales(B):\n",
    "    print(\"Los numeros complejos son iguales\")\n",
    "else:\n",
    "    print(\"Los numeros complejos son distintos\")\n"
   ]
  },
  {
   "cell_type": "markdown",
   "id": "d09ebf3a",
   "metadata": {},
   "source": [
    "**5)** Realiza un método que sume dos numeros complejos sin modificiar los objetos originales, ya que se retorna un nuevo numero NumeroComplejo."
   ]
  },
  {
   "cell_type": "code",
   "execution_count": 112,
   "id": "2d6d48df",
   "metadata": {},
   "outputs": [],
   "source": [
    "def suma_NumerosComplejos(A,B):\n",
    "    suma = NumeroComplejo(0,0)\n",
    "    suma.x=A.x+B.x\n",
    "    suma.y=A.y+B.y\n",
    "    return suma"
   ]
  },
  {
   "cell_type": "code",
   "execution_count": 113,
   "id": "ef62980a",
   "metadata": {},
   "outputs": [],
   "source": [
    "A = NumeroComplejo(3,4)\n",
    "B = NumeroComplejo(2,4)"
   ]
  },
  {
   "cell_type": "code",
   "execution_count": 116,
   "id": "af687176",
   "metadata": {},
   "outputs": [
    {
     "name": "stdout",
     "output_type": "stream",
     "text": [
      "La suma del Número complejo:(3, 4) + el Número complejo:(2, 4) es el Número complejo:(5, 8)\n"
     ]
    }
   ],
   "source": [
    "print(f\"La suma del {A} + el {B} es el {suma_NumerosComplejos(A,B)}\")"
   ]
  },
  {
   "cell_type": "markdown",
   "id": "d5d120d3",
   "metadata": {},
   "source": [
    "**6)** Crea una clase persona. Sus atributos deben ser su nombre y su edad. Además crea un método cumpleaños, que aumente en 1 la edad de la persona."
   ]
  },
  {
   "cell_type": "code",
   "execution_count": 129,
   "id": "18a543b6",
   "metadata": {},
   "outputs": [],
   "source": [
    "class Persona:\n",
    "    def __init__(self, nombre, edad):\n",
    "        self.nombre = nombre\n",
    "        self.edad = edad  \n",
    "        \n",
    "    def cumpleaños(self):\n",
    "        self.edad = self.edad + 1"
   ]
  },
  {
   "cell_type": "code",
   "execution_count": 130,
   "id": "42179dcb",
   "metadata": {},
   "outputs": [],
   "source": [
    "persona1 = Persona(\"Carlos\",44)\n",
    "persona2 = Persona(\"Maria\",16)"
   ]
  },
  {
   "cell_type": "code",
   "execution_count": 131,
   "id": "379b1753",
   "metadata": {},
   "outputs": [
    {
     "name": "stdout",
     "output_type": "stream",
     "text": [
      "Carlos ha cumplido: 45\n"
     ]
    }
   ],
   "source": [
    "persona1.cumpleaños()\n",
    "print(persona1.nombre, \"ha cumplido:\",persona1.edad)"
   ]
  },
  {
   "cell_type": "markdown",
   "id": "b9ff1562",
   "metadata": {},
   "source": [
    "**7)** Para la clase anterior definir el método __str__. Debe retornar al menos el nombre de la persona."
   ]
  },
  {
   "cell_type": "code",
   "execution_count": 139,
   "id": "f3dbca0a",
   "metadata": {},
   "outputs": [],
   "source": [
    "class Persona:\n",
    "    def __init__(self, nombre, edad):\n",
    "        self.nombre = nombre\n",
    "        self.edad = edad\n",
    "        \n",
    "    def __str__(self):\n",
    "        return f\"El cliente: {self.nombre} tiene: {self.edad}\"    \n",
    "        \n",
    "    def cumpleaños(self):\n",
    "        self.edad = self.edad + 1"
   ]
  },
  {
   "cell_type": "code",
   "execution_count": 140,
   "id": "e0095f83",
   "metadata": {},
   "outputs": [],
   "source": [
    "persona1 = Persona(\"Carlos\",44)\n",
    "persona2 = Persona(\"Maria\",16)"
   ]
  },
  {
   "cell_type": "code",
   "execution_count": 142,
   "id": "349bdc39",
   "metadata": {},
   "outputs": [
    {
     "name": "stdout",
     "output_type": "stream",
     "text": [
      "El cliente: Carlos tiene: 44\n",
      "El cliente: Maria tiene: 16\n"
     ]
    }
   ],
   "source": [
    "print(persona1)\n",
    "print(persona2)"
   ]
  },
  {
   "cell_type": "markdown",
   "id": "30ae1f6a",
   "metadata": {},
   "source": [
    "**8)** Extender(HEREDAR) la clase persona agregando un atributo saldo y un método transferencia(self, persona2, monto). El saldo representa el dinero que tiene la persona. El método transferencia hace que la Persona que llama el método le transfiera la cantidad monto al objeto persona2. Si no tiene el dinero suficiente no se ejecuta la acción."
   ]
  },
  {
   "cell_type": "code",
   "execution_count": 172,
   "id": "3f269f16",
   "metadata": {},
   "outputs": [],
   "source": [
    "class Persona:\n",
    "    def __init__(self, nombre, edad, saldo):\n",
    "        self.nombre = nombre\n",
    "        self.edad = edad\n",
    "        self.saldo = saldo\n",
    "\n",
    "    def __str__(self):\n",
    "        return f\"El cliente: {self.nombre} tiene: {self.edad} y tiene {self.saldo}€ \"    \n",
    "        \n",
    "    def cumpleaños(self):\n",
    "        self.edad = self.edad + 1\n",
    "        \n",
    "    def transferencia(self, persona2, monto):\n",
    "        if self.saldo >=monto:\n",
    "            self.saldo = self.saldo - monto\n",
    "            persona2.saldo = persona2.saldo + monto"
   ]
  },
  {
   "cell_type": "code",
   "execution_count": 173,
   "id": "d3668b90",
   "metadata": {},
   "outputs": [],
   "source": [
    "persona1 = Persona(\"Carlos\",44,100)\n",
    "persona2 = Persona(\"Maria\",16,90)"
   ]
  },
  {
   "cell_type": "code",
   "execution_count": 174,
   "id": "13a9c296",
   "metadata": {},
   "outputs": [],
   "source": [
    "persona1.transferencia(persona2,10)"
   ]
  },
  {
   "cell_type": "code",
   "execution_count": 175,
   "id": "3cbe1e8a",
   "metadata": {},
   "outputs": [
    {
     "name": "stdout",
     "output_type": "stream",
     "text": [
      "El cliente: Carlos tiene: 44 y tiene 90€ \n",
      "El cliente: Maria tiene: 16 y tiene 100€ \n"
     ]
    }
   ],
   "source": [
    "print(persona1)\n",
    "print(persona2)\n"
   ]
  },
  {
   "cell_type": "markdown",
   "id": "515463c6",
   "metadata": {},
   "source": [
    "*Creado por:*\n",
    "\n",
    "*Isabel Maniega*"
   ]
  }
 ],
 "metadata": {
  "kernelspec": {
   "display_name": "Python 3 (ipykernel)",
   "language": "python",
   "name": "python3"
  },
  "language_info": {
   "codemirror_mode": {
    "name": "ipython",
    "version": 3
   },
   "file_extension": ".py",
   "mimetype": "text/x-python",
   "name": "python",
   "nbconvert_exporter": "python",
   "pygments_lexer": "ipython3",
   "version": "3.8.10"
  }
 },
 "nbformat": 4,
 "nbformat_minor": 5
}
