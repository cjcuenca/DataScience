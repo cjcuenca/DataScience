{
 "cells": [
  {
   "cell_type": "markdown",
   "id": "b4679b30",
   "metadata": {},
   "source": [
    "*Creado por:*\n",
    "\n",
    "*Isabel Maniega*"
   ]
  },
  {
   "cell_type": "markdown",
   "id": "57d3e548",
   "metadata": {},
   "source": [
    "# Ejercicios"
   ]
  },
  {
   "cell_type": "markdown",
   "id": "dd300802",
   "metadata": {},
   "source": [
    "**1)** Crea el siguiente programa:\n",
    "* Una clase de nombre Librería\n",
    "* Inicia los siguientes atributos: nombre, sección, editorial y año\n",
    "* Crea una segunda clase con nombre Rosalia que herede la clase librería.\n",
    "* En esta clase Rosalia, crea una función \"result\" cuyo resultado sea los datos de los libros.\n",
    "* declara los Objetos siguientes:\n",
    "    * libro1 --> Oceanarium, Ciencia, Impedimenta, 2021\n",
    "    * libro2 --> 33 Botones, Novela negra, Atlantis, 2022\n",
    "    * libro3 --> Venganza en Compostela, Historia, Universo de letras, 2022"
   ]
  },
  {
   "cell_type": "markdown",
   "id": "839ac91e",
   "metadata": {},
   "source": [
    "**2)** Crea otra libraría de nombre MiLibro, que corresponde a una nueva clase, define una función de nombre misLibros, cuyo resultado sea los datos de los libros:\n",
    "* libro4 --> Mi primera Novela, Novela, Bruño, 2019\n",
    "* libro5 --> Gatos, Literatura, Listado, 2018"
   ]
  },
  {
   "cell_type": "markdown",
   "id": "9a6e14fa",
   "metadata": {},
   "source": [
    "* Realiza la media de los años de los libros 4 y 5"
   ]
  },
  {
   "cell_type": "markdown",
   "id": "59ecc045",
   "metadata": {},
   "source": [
    "**3)** Crea una clase llamada Persona. Sus atributos son: nombre, edad y DNI. Construye los siguientes métodos para la clase:\n",
    "\n",
    "* Un constructor, donde los datos pueden estar vacíos.\n",
    "* mostrar(): Muestra los datos de la persona.\n",
    "* esMayorDeEdad(): Devuelve un valor indicando si es mayor de edad."
   ]
  },
  {
   "cell_type": "markdown",
   "id": "d3788c2c",
   "metadata": {},
   "source": [
    "**4)** Crea una clase llamada Cuenta que tendrá los siguientes atributos: titular (que es una persona) y cantidad (puede tener decimales). El titular será obligatorio y la cantidad es opcional. Construye los siguientes métodos para la clase:\n",
    "\n",
    "* Un constructor, donde los datos pueden estar vacíos.\n",
    "* El atributo no se puede modificar directamente, sólo ingresando o retirando dinero.\n",
    "* mostrar(): Muestra los datos de la cuenta.\n",
    "* ingresar(cantidad): se ingresa una cantidad a la cuenta, si la cantidad introducida es negativa, no se hará nada.\n",
    "* retirar(cantidad): se retira una cantidad a la cuenta. La cuenta puede estar en números rojos si es saldo negativo."
   ]
  },
  {
   "cell_type": "markdown",
   "id": "37fb9d43",
   "metadata": {},
   "source": [
    "* Ingresar en positivo"
   ]
  },
  {
   "cell_type": "markdown",
   "id": "529f6eed",
   "metadata": {},
   "source": [
    "* Ingresar en negativo"
   ]
  },
  {
   "cell_type": "markdown",
   "id": "ae7ed299",
   "metadata": {},
   "source": [
    "* Retirar dinero"
   ]
  },
  {
   "cell_type": "markdown",
   "id": "8206e883",
   "metadata": {},
   "source": [
    "* Retirar dinero en numeros rojos"
   ]
  },
  {
   "cell_type": "markdown",
   "id": "eab30154",
   "metadata": {},
   "source": [
    "**5)** Vamos a definir ahora una “Cuenta Joven”, para ello vamos a crear una nueva clase CuantaJoven que deriva de la anterior. Cuando se crea esta nueva clase, además del titular y la cantidad se debe guardar una bonificación que estará expresada en tanto por ciento.Construye los siguientes métodos para la clase:\n",
    "\n",
    "* Un constructor.\n",
    "* En esta ocasión los titulares de este tipo de cuenta tienen que ser mayor de edad., por lo tanto hay que crear un método esTitularValido() que devuelve verdadero si el titular es mayor de edad pero menor de 25 años y falso en caso contrario.\n",
    "* Además la retirada de dinero sólo se podrá hacer si el titular es válido.\n",
    "* El método mostrar() debe devolver el mensaje de “Cuenta Joven” y la bonificación de la cuenta.\n",
    "* Piensa los métodos heredados de la clase madre que hay que reescribir."
   ]
  },
  {
   "cell_type": "markdown",
   "id": "aea43be0",
   "metadata": {},
   "source": [
    "* Mayor de edad"
   ]
  },
  {
   "cell_type": "markdown",
   "id": "e8047328",
   "metadata": {},
   "source": [
    "* Menor de edad"
   ]
  },
  {
   "cell_type": "markdown",
   "id": "0ec140b2",
   "metadata": {},
   "source": [
    "*Creado por:*\n",
    "\n",
    "*Isabel Maniega*"
   ]
  }
 ],
 "metadata": {
  "kernelspec": {
   "display_name": "Python 3",
   "language": "python",
   "name": "python3"
  },
  "language_info": {
   "codemirror_mode": {
    "name": "ipython",
    "version": 3
   },
   "file_extension": ".py",
   "mimetype": "text/x-python",
   "name": "python",
   "nbconvert_exporter": "python",
   "pygments_lexer": "ipython3",
   "version": "3.8.10"
  }
 },
 "nbformat": 4,
 "nbformat_minor": 5
}
