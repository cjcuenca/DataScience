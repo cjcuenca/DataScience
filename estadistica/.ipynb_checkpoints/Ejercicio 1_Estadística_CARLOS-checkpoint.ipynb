{
 "cells": [
  {
   "cell_type": "markdown",
   "id": "4a6422af",
   "metadata": {},
   "source": [
    "*Creado por:*\n",
    "    \n",
    "*Carlos Cuenca*"
   ]
  },
  {
   "cell_type": "markdown",
   "id": "e23ee9b2",
   "metadata": {},
   "source": [
    "# Ejercicio"
   ]
  },
  {
   "cell_type": "markdown",
   "id": "f784c413",
   "metadata": {},
   "source": [
    "Dada estos valores:\n",
    "    15 16 17\n",
    "    16 21 22\n",
    "    15 16 15\n",
    "    17 16 22\n",
    "    14 13 14\n",
    "    14 15 15\n",
    "    14 15 16\n",
    "    10 19 15\n",
    "    15 22 24\n",
    "    25 15 16"
   ]
  },
  {
   "cell_type": "code",
   "execution_count": 1,
   "id": "ec656b40",
   "metadata": {},
   "outputs": [],
   "source": [
    "import pandas as pd\n",
    "import numpy as np\n",
    "\n",
    "# Preprocesado y análisis\n",
    "# ===================================================================================================\n",
    "import statsmodels.api as sm\n",
    "from scipy import stats\n",
    "\n",
    "# Gráficos\n",
    "# ===================================================================================================\n",
    "import matplotlib.pyplot as plt"
   ]
  },
  {
   "cell_type": "code",
   "execution_count": 2,
   "id": "05574554",
   "metadata": {},
   "outputs": [],
   "source": [
    "x= [15, 16, 17, 16, 21, 22, 15, 16, 15, 17, 16, 22, 14, 13, 14, 14, 15, 15, 14, 15, 16, 10, 19, 15, 15, 22, 24, 25, 15, 16]"
   ]
  },
  {
   "cell_type": "code",
   "execution_count": 3,
   "id": "500bf5f6",
   "metadata": {},
   "outputs": [
    {
     "data": {
      "text/html": [
       "<div>\n",
       "<style scoped>\n",
       "    .dataframe tbody tr th:only-of-type {\n",
       "        vertical-align: middle;\n",
       "    }\n",
       "\n",
       "    .dataframe tbody tr th {\n",
       "        vertical-align: top;\n",
       "    }\n",
       "\n",
       "    .dataframe thead th {\n",
       "        text-align: right;\n",
       "    }\n",
       "</style>\n",
       "<table border=\"1\" class=\"dataframe\">\n",
       "  <thead>\n",
       "    <tr style=\"text-align: right;\">\n",
       "      <th></th>\n",
       "      <th>x</th>\n",
       "    </tr>\n",
       "  </thead>\n",
       "  <tbody>\n",
       "    <tr>\n",
       "      <th>0</th>\n",
       "      <td>15</td>\n",
       "    </tr>\n",
       "    <tr>\n",
       "      <th>1</th>\n",
       "      <td>16</td>\n",
       "    </tr>\n",
       "    <tr>\n",
       "      <th>2</th>\n",
       "      <td>17</td>\n",
       "    </tr>\n",
       "    <tr>\n",
       "      <th>3</th>\n",
       "      <td>16</td>\n",
       "    </tr>\n",
       "    <tr>\n",
       "      <th>4</th>\n",
       "      <td>21</td>\n",
       "    </tr>\n",
       "    <tr>\n",
       "      <th>5</th>\n",
       "      <td>22</td>\n",
       "    </tr>\n",
       "    <tr>\n",
       "      <th>6</th>\n",
       "      <td>15</td>\n",
       "    </tr>\n",
       "    <tr>\n",
       "      <th>7</th>\n",
       "      <td>16</td>\n",
       "    </tr>\n",
       "    <tr>\n",
       "      <th>8</th>\n",
       "      <td>15</td>\n",
       "    </tr>\n",
       "    <tr>\n",
       "      <th>9</th>\n",
       "      <td>17</td>\n",
       "    </tr>\n",
       "    <tr>\n",
       "      <th>10</th>\n",
       "      <td>16</td>\n",
       "    </tr>\n",
       "    <tr>\n",
       "      <th>11</th>\n",
       "      <td>22</td>\n",
       "    </tr>\n",
       "    <tr>\n",
       "      <th>12</th>\n",
       "      <td>14</td>\n",
       "    </tr>\n",
       "    <tr>\n",
       "      <th>13</th>\n",
       "      <td>13</td>\n",
       "    </tr>\n",
       "    <tr>\n",
       "      <th>14</th>\n",
       "      <td>14</td>\n",
       "    </tr>\n",
       "    <tr>\n",
       "      <th>15</th>\n",
       "      <td>14</td>\n",
       "    </tr>\n",
       "    <tr>\n",
       "      <th>16</th>\n",
       "      <td>15</td>\n",
       "    </tr>\n",
       "    <tr>\n",
       "      <th>17</th>\n",
       "      <td>15</td>\n",
       "    </tr>\n",
       "    <tr>\n",
       "      <th>18</th>\n",
       "      <td>14</td>\n",
       "    </tr>\n",
       "    <tr>\n",
       "      <th>19</th>\n",
       "      <td>15</td>\n",
       "    </tr>\n",
       "    <tr>\n",
       "      <th>20</th>\n",
       "      <td>16</td>\n",
       "    </tr>\n",
       "    <tr>\n",
       "      <th>21</th>\n",
       "      <td>10</td>\n",
       "    </tr>\n",
       "    <tr>\n",
       "      <th>22</th>\n",
       "      <td>19</td>\n",
       "    </tr>\n",
       "    <tr>\n",
       "      <th>23</th>\n",
       "      <td>15</td>\n",
       "    </tr>\n",
       "    <tr>\n",
       "      <th>24</th>\n",
       "      <td>15</td>\n",
       "    </tr>\n",
       "    <tr>\n",
       "      <th>25</th>\n",
       "      <td>22</td>\n",
       "    </tr>\n",
       "    <tr>\n",
       "      <th>26</th>\n",
       "      <td>24</td>\n",
       "    </tr>\n",
       "    <tr>\n",
       "      <th>27</th>\n",
       "      <td>25</td>\n",
       "    </tr>\n",
       "    <tr>\n",
       "      <th>28</th>\n",
       "      <td>15</td>\n",
       "    </tr>\n",
       "    <tr>\n",
       "      <th>29</th>\n",
       "      <td>16</td>\n",
       "    </tr>\n",
       "  </tbody>\n",
       "</table>\n",
       "</div>"
      ],
      "text/plain": [
       "     x\n",
       "0   15\n",
       "1   16\n",
       "2   17\n",
       "3   16\n",
       "4   21\n",
       "5   22\n",
       "6   15\n",
       "7   16\n",
       "8   15\n",
       "9   17\n",
       "10  16\n",
       "11  22\n",
       "12  14\n",
       "13  13\n",
       "14  14\n",
       "15  14\n",
       "16  15\n",
       "17  15\n",
       "18  14\n",
       "19  15\n",
       "20  16\n",
       "21  10\n",
       "22  19\n",
       "23  15\n",
       "24  15\n",
       "25  22\n",
       "26  24\n",
       "27  25\n",
       "28  15\n",
       "29  16"
      ]
     },
     "execution_count": 3,
     "metadata": {},
     "output_type": "execute_result"
    }
   ],
   "source": [
    "df = pd.DataFrame({\"x\": x})\n",
    "df"
   ]
  },
  {
   "cell_type": "markdown",
   "id": "2f6166af",
   "metadata": {},
   "source": [
    "**1)** Realiza un Histograma con tamaño de barra 2."
   ]
  },
  {
   "cell_type": "code",
   "execution_count": 4,
   "id": "7388ba2c",
   "metadata": {},
   "outputs": [
    {
     "data": {
      "image/png": "[encoded data removed]",
      "text/plain": [
       "<Figure size 640x480 with 1 Axes>"
      ]
     },
     "metadata": {},
     "output_type": "display_data"
    }
   ],
   "source": [
    "# realizar un histagrama:\n",
    "plt.hist(df.x, bins=2,\n",
    "        histtype=\"bar\",\n",
    "        rwidth= 0.2)\n",
    "\n",
    "# cuadrícula\n",
    "plt.grid(True)\n",
    "\n",
    "# Etiqueta del eje de la X\n",
    "plt.xlabel(\"Valores\")\n",
    "\n",
    "# Etiqueta del eje de la Y\n",
    "plt.ylabel(\"Frecuencia\")\n",
    "\n",
    "# titulo:\n",
    "plt.title(\"Ejercicio 1:1\")\n",
    "\n",
    "# Mostrar el gráfico:\n",
    "plt.show()"
   ]
  },
  {
   "cell_type": "markdown",
   "id": "ff065c12",
   "metadata": {},
   "source": [
    "**2)** ¿Cuál es el número que más se repite?"
   ]
  },
  {
   "cell_type": "code",
   "execution_count": 5,
   "id": "de7977cc",
   "metadata": {},
   "outputs": [
    {
     "data": {
      "text/plain": [
       "15    9\n",
       "16    6\n",
       "14    4\n",
       "22    3\n",
       "17    2\n",
       "21    1\n",
       "13    1\n",
       "10    1\n",
       "19    1\n",
       "24    1\n",
       "25    1\n",
       "Name: x, dtype: int64"
      ]
     },
     "execution_count": 5,
     "metadata": {},
     "output_type": "execute_result"
    }
   ],
   "source": [
    "df.x.value_counts()"
   ]
  },
  {
   "cell_type": "code",
   "execution_count": 6,
   "id": "18ee9d24",
   "metadata": {},
   "outputs": [
    {
     "data": {
      "text/plain": [
       "0    15\n",
       "Name: x, dtype: int64"
      ]
     },
     "execution_count": 6,
     "metadata": {},
     "output_type": "execute_result"
    }
   ],
   "source": [
    "df.x.mode()"
   ]
  },
  {
   "cell_type": "markdown",
   "id": "aaa2b750",
   "metadata": {},
   "source": [
    "**3)** ¿Qué pasa si cambiamos a tamaño de barra 5?"
   ]
  },
  {
   "cell_type": "code",
   "execution_count": 7,
   "id": "5d484f8f",
   "metadata": {},
   "outputs": [
    {
     "data": {
      "image/png": "[encoded data removed]",
      "text/plain": [
       "<Figure size 640x480 with 1 Axes>"
      ]
     },
     "metadata": {},
     "output_type": "display_data"
    }
   ],
   "source": [
    "# realizar un histagrama:\n",
    "plt.hist(df.x, bins=5,\n",
    "        histtype=\"bar\",\n",
    "        rwidth= 0.5)\n",
    "\n",
    "# cuadrícula\n",
    "plt.grid(True)\n",
    "\n",
    "# Etiqueta del eje de la X\n",
    "plt.xlabel(\"Valores\")\n",
    "\n",
    "# Etiqueta del eje de la Y\n",
    "plt.ylabel(\"Frecuencia\")\n",
    "\n",
    "# titulo:\n",
    "plt.title(\"Ejercicio 1:1\")\n",
    "\n",
    "# Mostrar el gráfico:\n",
    "plt.show()"
   ]
  },
  {
   "cell_type": "markdown",
   "id": "5bd7c315",
   "metadata": {},
   "source": [
    "**4)** ¿Qué pasa si cambiamos a tamaño de barra 20?"
   ]
  },
  {
   "cell_type": "code",
   "execution_count": 8,
   "id": "68bbe69c",
   "metadata": {},
   "outputs": [
    {
     "data": {
      "image/png": "[encoded data removed]",
      "text/plain": [
       "<Figure size 640x480 with 1 Axes>"
      ]
     },
     "metadata": {},
     "output_type": "display_data"
    }
   ],
   "source": [
    "# realizar un histagrama:\n",
    "plt.hist(df.x, bins=20,\n",
    "        histtype=\"bar\",\n",
    "        rwidth= 0.5)\n",
    "\n",
    "# cuadrícula\n",
    "plt.grid(True)\n",
    "\n",
    "# Etiqueta del eje de la X\n",
    "plt.xlabel(\"Valores\")\n",
    "\n",
    "# Etiqueta del eje de la Y\n",
    "plt.ylabel(\"Frecuencia\")\n",
    "\n",
    "# titulo:\n",
    "plt.title(\"Ejercicio 1:1\")\n",
    "\n",
    "# Mostrar el gráfico:\n",
    "plt.show()"
   ]
  },
  {
   "cell_type": "markdown",
   "id": "84ddf0c4",
   "metadata": {},
   "source": [
    "**5)** ¿Qué parece indicar el sesgo en la distribución?"
   ]
  },
  {
   "cell_type": "markdown",
   "id": "00242f91",
   "metadata": {},
   "source": [
    "Parece que hay un sesgo positivo con valores del 20-25"
   ]
  },
  {
   "cell_type": "markdown",
   "id": "7b9817d7",
   "metadata": {},
   "source": [
    "*Creado por*\n",
    "\n",
    "*Carlos Cuenca*"
   ]
  },
  {
   "cell_type": "code",
   "execution_count": null,
   "id": "8fbcf9fc",
   "metadata": {},
   "outputs": [],
   "source": []
  }
 ],
 "metadata": {
  "kernelspec": {
   "display_name": "Python 3 (ipykernel)",
   "language": "python",
   "name": "python3"
  },
  "language_info": {
   "codemirror_mode": {
    "name": "ipython",
    "version": 3
   },
   "file_extension": ".py",
   "mimetype": "text/x-python",
   "name": "python",
   "nbconvert_exporter": "python",
   "pygments_lexer": "ipython3",
   "version": "3.8.10"
  }
 },
 "nbformat": 4,
 "nbformat_minor": 5
}
