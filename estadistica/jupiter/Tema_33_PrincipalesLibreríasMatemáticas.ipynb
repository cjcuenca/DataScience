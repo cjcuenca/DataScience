{
 "cells": [
  {
   "cell_type": "markdown",
   "id": "7a669de8",
   "metadata": {},
   "source": [
    "Creado por:\n",
    "\n",
    "Isabel Maniega\n"
   ]
  },
  {
   "cell_type": "markdown",
   "id": "6f7d6a1b",
   "metadata": {},
   "source": [
    "# Librería Math"
   ]
  },
  {
   "cell_type": "code",
   "execution_count": 1,
   "id": "1c0bef68",
   "metadata": {},
   "outputs": [],
   "source": [
    "import math"
   ]
  },
  {
   "cell_type": "markdown",
   "id": "3d1c6219",
   "metadata": {},
   "source": [
    "# math.factorial(número)"
   ]
  },
  {
   "cell_type": "code",
   "execution_count": 2,
   "id": "6f07a5c5",
   "metadata": {},
   "outputs": [],
   "source": [
    "# 3! = 3*2*1\n",
    "# 4! = 4*3*2*1\n",
    "# 5! = 5*4*3*2*1"
   ]
  },
  {
   "cell_type": "code",
   "execution_count": 3,
   "id": "f7c04444",
   "metadata": {},
   "outputs": [
    {
     "data": {
      "text/plain": [
       "6"
      ]
     },
     "execution_count": 3,
     "metadata": {},
     "output_type": "execute_result"
    }
   ],
   "source": [
    "math.factorial(3)"
   ]
  },
  {
   "cell_type": "code",
   "execution_count": 4,
   "id": "ad486cb9",
   "metadata": {},
   "outputs": [
    {
     "data": {
      "text/plain": [
       "24"
      ]
     },
     "execution_count": 4,
     "metadata": {},
     "output_type": "execute_result"
    }
   ],
   "source": [
    "math.factorial(4)"
   ]
  },
  {
   "cell_type": "code",
   "execution_count": 5,
   "id": "fbe665ff",
   "metadata": {},
   "outputs": [
    {
     "data": {
      "text/plain": [
       "120"
      ]
     },
     "execution_count": 5,
     "metadata": {},
     "output_type": "execute_result"
    }
   ],
   "source": [
    "math.factorial(5)"
   ]
  },
  {
   "cell_type": "markdown",
   "id": "c9e95fde",
   "metadata": {},
   "source": [
    "# math.sqrt(número) - raíz cuadrada de un número"
   ]
  },
  {
   "cell_type": "code",
   "execution_count": 6,
   "id": "880a1c41",
   "metadata": {},
   "outputs": [
    {
     "data": {
      "text/plain": [
       "2.0"
      ]
     },
     "execution_count": 6,
     "metadata": {},
     "output_type": "execute_result"
    }
   ],
   "source": [
    "math.sqrt(4)"
   ]
  },
  {
   "cell_type": "code",
   "execution_count": 7,
   "id": "05ce2378",
   "metadata": {},
   "outputs": [
    {
     "data": {
      "text/plain": [
       "3.0"
      ]
     },
     "execution_count": 7,
     "metadata": {},
     "output_type": "execute_result"
    }
   ],
   "source": [
    "math.sqrt(9)"
   ]
  },
  {
   "cell_type": "markdown",
   "id": "c110d6e0",
   "metadata": {},
   "source": [
    "# math.pi"
   ]
  },
  {
   "cell_type": "code",
   "execution_count": 8,
   "id": "858a7e1d",
   "metadata": {},
   "outputs": [
    {
     "data": {
      "text/plain": [
       "3.141592653589793"
      ]
     },
     "execution_count": 8,
     "metadata": {},
     "output_type": "execute_result"
    }
   ],
   "source": [
    "math.pi"
   ]
  },
  {
   "cell_type": "markdown",
   "id": "e003ae53",
   "metadata": {},
   "source": [
    "# trigonometría"
   ]
  },
  {
   "cell_type": "code",
   "execution_count": 12,
   "id": "94e3b435",
   "metadata": {},
   "outputs": [
    {
     "data": {
      "text/plain": [
       "0.5235987755982988"
      ]
     },
     "execution_count": 12,
     "metadata": {},
     "output_type": "execute_result"
    }
   ],
   "source": [
    "math.radians(30)"
   ]
  },
  {
   "cell_type": "code",
   "execution_count": 13,
   "id": "b3e556ac",
   "metadata": {},
   "outputs": [
    {
     "data": {
      "text/plain": [
       "180.0"
      ]
     },
     "execution_count": 13,
     "metadata": {},
     "output_type": "execute_result"
    }
   ],
   "source": [
    "math.degrees(math.pi/1) # pi radianes son 180 grados"
   ]
  },
  {
   "cell_type": "code",
   "execution_count": 14,
   "id": "d96caccb",
   "metadata": {},
   "outputs": [
    {
     "data": {
      "text/plain": [
       "360.0"
      ]
     },
     "execution_count": 14,
     "metadata": {},
     "output_type": "execute_result"
    }
   ],
   "source": [
    "math.degrees(2* math.pi) # 2 pi radianes son 360 grados (la circunferencia)"
   ]
  },
  {
   "cell_type": "code",
   "execution_count": 15,
   "id": "0829fc21",
   "metadata": {},
   "outputs": [
    {
     "data": {
      "text/plain": [
       "90.0"
      ]
     },
     "execution_count": 15,
     "metadata": {},
     "output_type": "execute_result"
    }
   ],
   "source": [
    "math.degrees(1/2 * math.pi) # 90 grados"
   ]
  },
  {
   "cell_type": "code",
   "execution_count": 16,
   "id": "77468bb2",
   "metadata": {},
   "outputs": [
    {
     "data": {
      "text/plain": [
       "270.0"
      ]
     },
     "execution_count": 16,
     "metadata": {},
     "output_type": "execute_result"
    }
   ],
   "source": [
    "math.degrees(3/2 * math.pi) # 270 grados"
   ]
  },
  {
   "cell_type": "code",
   "execution_count": 17,
   "id": "873a0c6e",
   "metadata": {},
   "outputs": [
    {
     "data": {
      "text/plain": [
       "1.0"
      ]
     },
     "execution_count": 17,
     "metadata": {},
     "output_type": "execute_result"
    }
   ],
   "source": [
    "math.sin(1/2 * math.pi) # sen 90 grados = 1"
   ]
  },
  {
   "cell_type": "code",
   "execution_count": 18,
   "id": "c6cd5144",
   "metadata": {},
   "outputs": [
    {
     "data": {
      "text/plain": [
       "81.0"
      ]
     },
     "execution_count": 18,
     "metadata": {},
     "output_type": "execute_result"
    }
   ],
   "source": [
    "math.pow(3,4) # 3*4 (4 veces)\n",
    "# 3*3*3*3 = 81"
   ]
  },
  {
   "cell_type": "markdown",
   "id": "561ec143",
   "metadata": {},
   "source": [
    "# Librería Statistics"
   ]
  },
  {
   "cell_type": "code",
   "execution_count": 19,
   "id": "d204e914",
   "metadata": {},
   "outputs": [],
   "source": [
    "import statistics"
   ]
  },
  {
   "cell_type": "code",
   "execution_count": 20,
   "id": "b470b424",
   "metadata": {},
   "outputs": [
    {
     "data": {
      "text/plain": [
       "[10, 20, 30, 40, 50]"
      ]
     },
     "execution_count": 20,
     "metadata": {},
     "output_type": "execute_result"
    }
   ],
   "source": [
    "listado = [10, 20, 30, 40, 50]\n",
    "listado"
   ]
  },
  {
   "cell_type": "code",
   "execution_count": 21,
   "id": "83f48606",
   "metadata": {},
   "outputs": [
    {
     "data": {
      "text/plain": [
       "30"
      ]
     },
     "execution_count": 21,
     "metadata": {},
     "output_type": "execute_result"
    }
   ],
   "source": [
    "statistics.mean(listado) # media"
   ]
  },
  {
   "cell_type": "code",
   "execution_count": 22,
   "id": "5257459c",
   "metadata": {},
   "outputs": [
    {
     "data": {
      "text/plain": [
       "30"
      ]
     },
     "execution_count": 22,
     "metadata": {},
     "output_type": "execute_result"
    }
   ],
   "source": [
    "statistics.median(listado) # mediana"
   ]
  },
  {
   "cell_type": "code",
   "execution_count": 23,
   "id": "cf9c96a3",
   "metadata": {},
   "outputs": [
    {
     "data": {
      "text/plain": [
       "10"
      ]
     },
     "execution_count": 23,
     "metadata": {},
     "output_type": "execute_result"
    }
   ],
   "source": [
    "statistics.mode(listado) # mode"
   ]
  },
  {
   "cell_type": "code",
   "execution_count": 24,
   "id": "99d9d4d0",
   "metadata": {},
   "outputs": [
    {
     "data": {
      "text/plain": [
       "15.811388300841896"
      ]
     },
     "execution_count": 24,
     "metadata": {},
     "output_type": "execute_result"
    }
   ],
   "source": [
    "statistics.stdev(listado) # desviación estándar\n"
   ]
  },
  {
   "cell_type": "code",
   "execution_count": 25,
   "id": "71efd14e",
   "metadata": {},
   "outputs": [
    {
     "data": {
      "text/plain": [
       "250"
      ]
     },
     "execution_count": 25,
     "metadata": {},
     "output_type": "execute_result"
    }
   ],
   "source": [
    "statistics.variance(listado) # varianza\n"
   ]
  },
  {
   "cell_type": "markdown",
   "id": "b2dff578",
   "metadata": {},
   "source": [
    "Creado por:\n",
    "\n",
    "Isabel Maniega"
   ]
  },
  {
   "cell_type": "code",
   "execution_count": null,
   "id": "5ed77f8a",
   "metadata": {},
   "outputs": [],
   "source": []
  }
 ],
 "metadata": {
  "kernelspec": {
   "display_name": "Python 3 (ipykernel)",
   "language": "python",
   "name": "python3"
  },
  "language_info": {
   "codemirror_mode": {
    "name": "ipython",
    "version": 3
   },
   "file_extension": ".py",
   "mimetype": "text/x-python",
   "name": "python",
   "nbconvert_exporter": "python",
   "pygments_lexer": "ipython3",
   "version": "3.8.10"
  }
 },
 "nbformat": 4,
 "nbformat_minor": 5
}
