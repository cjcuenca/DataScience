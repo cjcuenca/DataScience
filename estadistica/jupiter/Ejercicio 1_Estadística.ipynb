{
 "cells": [
  {
   "cell_type": "markdown",
   "id": "4a6422af",
   "metadata": {},
   "source": [
    "*Creado por:*\n",
    "    \n",
    "*Isabel Maniega*"
   ]
  },
  {
   "cell_type": "markdown",
   "id": "e23ee9b2",
   "metadata": {},
   "source": [
    "# Ejercicio"
   ]
  },
  {
   "cell_type": "markdown",
   "id": "f784c413",
   "metadata": {},
   "source": [
    "Dada estos valores:\n",
    "    15 16 17\n",
    "    16 21 22\n",
    "    15 16 15\n",
    "    17 16 22\n",
    "    14 13 14\n",
    "    14 15 15\n",
    "    14 15 16\n",
    "    10 19 15\n",
    "    15 22 24\n",
    "    25 15 16"
   ]
  },
  {
   "cell_type": "markdown",
   "id": "2f6166af",
   "metadata": {},
   "source": [
    "**1)** Realiza un Histograma con tamaño de barra 2."
   ]
  },
  {
   "cell_type": "markdown",
   "id": "ff065c12",
   "metadata": {},
   "source": [
    "**2)** ¿Cuál es el número que más se repite?"
   ]
  },
  {
   "cell_type": "markdown",
   "id": "aaa2b750",
   "metadata": {},
   "source": [
    "**3)** ¿Qué pasa si cambiamos a tamaño de barra 5?"
   ]
  },
  {
   "cell_type": "markdown",
   "id": "5bd7c315",
   "metadata": {},
   "source": [
    "**4)** ¿Qué pasa si cambiamos a tamaño de barra 20?"
   ]
  },
  {
   "cell_type": "markdown",
   "id": "84ddf0c4",
   "metadata": {},
   "source": [
    "**5)** ¿Qué parece indicar el sesgo en la distribución?"
   ]
  },
  {
   "cell_type": "markdown",
   "id": "7b9817d7",
   "metadata": {},
   "source": [
    "*Creado por*\n",
    "\n",
    "*Isabel Maniega*"
   ]
  }
 ],
 "metadata": {
  "kernelspec": {
   "display_name": "Python 3",
   "language": "python",
   "name": "python3"
  },
  "language_info": {
   "codemirror_mode": {
    "name": "ipython",
    "version": 3
   },
   "file_extension": ".py",
   "mimetype": "text/x-python",
   "name": "python",
   "nbconvert_exporter": "python",
   "pygments_lexer": "ipython3",
   "version": "3.8.10"
  }
 },
 "nbformat": 4,
 "nbformat_minor": 5
}
