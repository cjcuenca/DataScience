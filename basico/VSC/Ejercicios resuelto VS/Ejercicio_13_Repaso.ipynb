{
 "cells": [
  {
   "cell_type": "markdown",
   "id": "3325177a",
   "metadata": {},
   "source": [
    "*Creado por:*\n",
    "\n",
    "*Isabel Maniega*"
   ]
  },
  {
   "cell_type": "markdown",
   "id": "5c993563",
   "metadata": {},
   "source": [
    "# Ejercicio 1"
   ]
  },
  {
   "cell_type": "markdown",
   "id": "4d10ebb8",
   "metadata": {},
   "source": [
    "Se pide por tanto:\n",
    "    \n",
    "* **-1- Leer el archivo train.csv de Titanic dataset con pandas**\n",
    "\n",
    "* **-2- Imprimir algunas filas de la parte de arriba y otras de la parte del final**\n",
    "\n",
    "* **-3- Imprimir algunos parámetros estadísticos**\n",
    "\n",
    "* **-4- Ver si en todas las columnas tenemos el mismo número de datos (solo verlo)**\n",
    "\n",
    "* **-5- Ver el número de hombres y mujeres que hay**\n",
    "\n",
    "* **-6- Hacer alguna gráfica con pandas relativa al número de hombres y mujeres que hay**\n",
    "\n",
    "* Si quieres hacer alguna cosa más también puedes"
   ]
  },
  {
   "cell_type": "code",
   "execution_count": 2,
   "id": "6bfba543",
   "metadata": {},
   "outputs": [],
   "source": [
    "# Necesitas descargar el train.csv subido al aula virtual en la parte de MATERIALES\n",
    "# para la realización del ejercicio."
   ]
  },
  {
   "cell_type": "markdown",
   "id": "58ae2116",
   "metadata": {},
   "source": [
    "# Ejercicio 2"
   ]
  },
  {
   "cell_type": "markdown",
   "id": "f6bd5210",
   "metadata": {},
   "source": [
    "Dadas estas matrices:\n",
    "* m1 = [[1, 10, 20], [30, 40, 50]]\n",
    "* m2 = [[60, 80, 90,]]\n",
    "* m3 = [[-2, 3, 5], [8, 6, 2]]"
   ]
  },
  {
   "cell_type": "markdown",
   "id": "03217d8f",
   "metadata": {},
   "source": [
    "**1)** Comprueba si todos los valores de las matrices son mayores de 0"
   ]
  },
  {
   "cell_type": "markdown",
   "id": "d687af08",
   "metadata": {},
   "source": [
    "**2)** Si en la matriz m2 se encuentra el valor 80"
   ]
  },
  {
   "cell_type": "markdown",
   "id": "c7c9d839",
   "metadata": {},
   "source": [
    "**3)** Selecciona de m1 las dos últimas columnas"
   ]
  },
  {
   "cell_type": "markdown",
   "id": "33b11b5d",
   "metadata": {},
   "source": [
    "**4)** Concatena la m1 con m2, cuyo nombre de la matriz resultante sea m4"
   ]
  },
  {
   "cell_type": "markdown",
   "id": "84f5bac1",
   "metadata": {},
   "source": [
    "**5)** Convierte m1 y m3 en \"np.matrix\" asignando el nombre de matriz_1 y matriz_3, respectivamente"
   ]
  },
  {
   "cell_type": "markdown",
   "id": "8c6130c5",
   "metadata": {},
   "source": [
    "**6)** Realiza la resta, suma y producto de la matriz_1 y matriz_3"
   ]
  },
  {
   "cell_type": "markdown",
   "id": "50de6a38",
   "metadata": {},
   "source": [
    "**7)** Realiza las traza de la matriz de m4"
   ]
  },
  {
   "cell_type": "markdown",
   "id": "c809a055",
   "metadata": {},
   "source": [
    "# Ejercicio 3"
   ]
  },
  {
   "cell_type": "markdown",
   "id": "9105319d",
   "metadata": {},
   "source": [
    "* Numeros Primos: Crear un listado de los numeros primos menores de 30"
   ]
  },
  {
   "cell_type": "markdown",
   "id": "11e44b7a",
   "metadata": {},
   "source": [
    "**Explicación inicial teórica**\n",
    "\n",
    "(véase Tema_7..)\n",
    "\n",
    "Nota: \n",
    "\n",
    "si quieres apendiza el número 2, \n",
    "\n",
    "y a partir de ahí crea el algoritmo para apendizar los demas \n",
    "\n",
    "(menores de 30 en todo caso)"
   ]
  },
  {
   "cell_type": "markdown",
   "id": "ea29c61f",
   "metadata": {},
   "source": [
    "**1)**\n",
    "\n",
    "Pide por teclado un número\n",
    "\n",
    "Y di si es o no primo"
   ]
  },
  {
   "cell_type": "code",
   "execution_count": 5,
   "id": "c574f606",
   "metadata": {},
   "outputs": [],
   "source": [
    "# solución\n",
    "# -> 4"
   ]
  },
  {
   "cell_type": "code",
   "execution_count": 6,
   "id": "440be1f8",
   "metadata": {},
   "outputs": [],
   "source": [
    "# -> 5"
   ]
  },
  {
   "cell_type": "markdown",
   "id": "9f65d77b",
   "metadata": {},
   "source": [
    "**2)**\n",
    "\n",
    "Escribe los números primos menores de 30"
   ]
  },
  {
   "cell_type": "code",
   "execution_count": 8,
   "id": "e64259c9",
   "metadata": {},
   "outputs": [],
   "source": [
    "# solución"
   ]
  },
  {
   "cell_type": "markdown",
   "id": "b24e3f3e",
   "metadata": {},
   "source": [
    "**3)**\n",
    "\n",
    "* Numeros Primos: Crear un listado de los numeros primos menores de 200"
   ]
  },
  {
   "cell_type": "code",
   "execution_count": 7,
   "id": "fb95db8a",
   "metadata": {},
   "outputs": [],
   "source": [
    "# primos"
   ]
  },
  {
   "cell_type": "markdown",
   "id": "d2b33f47",
   "metadata": {},
   "source": [
    "**4)**\n",
    "\n",
    "* Números Primos: Haz un listado de números primos entre 50 y 100"
   ]
  },
  {
   "cell_type": "markdown",
   "id": "c88265fe",
   "metadata": {},
   "source": [
    "**5)**\n",
    "\n",
    "* Numeros Primos: Haz un listado de los 10 primeros números primos\n",
    "\n",
    "**Si puedes hazlo de más de una forma, no necesario aun así**"
   ]
  },
  {
   "cell_type": "code",
   "execution_count": null,
   "id": "ef368223",
   "metadata": {},
   "outputs": [],
   "source": [
    "# Solución (forma 1)\n",
    "# if (0 not in listado_restos) and (len(litado_restos)<10):\n",
    "#     apendiza.."
   ]
  },
  {
   "cell_type": "code",
   "execution_count": null,
   "id": "96d37f6c",
   "metadata": {},
   "outputs": [],
   "source": [
    "# if (0 not in listado_restos)\n",
    "#    if (len(litado_restos)<10):\n",
    "#        apendiza.."
   ]
  },
  {
   "cell_type": "code",
   "execution_count": null,
   "id": "32b1b45e",
   "metadata": {},
   "outputs": [],
   "source": [
    "# forma 2\n",
    "# if len(listado_restos==10):\n",
    "#   break"
   ]
  },
  {
   "cell_type": "code",
   "execution_count": null,
   "id": "5853cf47",
   "metadata": {},
   "outputs": [],
   "source": [
    "# forma 3\n",
    "# [:...]"
   ]
  },
  {
   "cell_type": "markdown",
   "id": "088d5a48",
   "metadata": {},
   "source": [
    "*Creado por:*\n",
    "\n",
    "*Isabel Maniega*"
   ]
  }
 ],
 "metadata": {
  "kernelspec": {
   "display_name": "Python 3",
   "language": "python",
   "name": "python3"
  },
  "language_info": {
   "codemirror_mode": {
    "name": "ipython",
    "version": 3
   },
   "file_extension": ".py",
   "mimetype": "text/x-python",
   "name": "python",
   "nbconvert_exporter": "python",
   "pygments_lexer": "ipython3",
   "version": "3.8.10"
  }
 },
 "nbformat": 4,
 "nbformat_minor": 5
}
