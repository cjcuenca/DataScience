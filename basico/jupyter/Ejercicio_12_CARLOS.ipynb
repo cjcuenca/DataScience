{
 "cells": [
  {
   "cell_type": "code",
   "execution_count": 1,
   "id": "7cb717b1",
   "metadata": {},
   "outputs": [],
   "source": [
    "# Ejercicio 1\n",
    "# 1) Haz un programa que calcule los múltiplos de 3\n",
    "# Para ello primero primero debe preguntarse al usuario cuántos múltiplos desea añadir.\n",
    "# Nota: Puedes usar un bucle while si lo deseas"
   ]
  },
  {
   "cell_type": "code",
   "execution_count": 2,
   "id": "6fbb749f",
   "metadata": {},
   "outputs": [],
   "source": [
    "import numpy as np\n",
    "import pandas as pd"
   ]
  },
  {
   "cell_type": "code",
   "execution_count": 98,
   "id": "187bfb4f",
   "metadata": {},
   "outputs": [
    {
     "name": "stdout",
     "output_type": "stream",
     "text": [
      "¿cuántos múltiplos de 3 quieres imprimir?: 3\n"
     ]
    },
    {
     "data": {
      "text/plain": [
       "[3, 6, 9]"
      ]
     },
     "execution_count": 98,
     "metadata": {},
     "output_type": "execute_result"
    }
   ],
   "source": [
    "\n",
    "def Multiplos (x):\n",
    "    lista=list(range(3,(3*x)+1,3))\n",
    "    return lista\n",
    "\n",
    "x = int(input(\"¿cuántos múltiplos de 3 quieres imprimir?: \"))\n",
    "Multiplos(x)"
   ]
  },
  {
   "cell_type": "code",
   "execution_count": 17,
   "id": "04b8edb4",
   "metadata": {},
   "outputs": [
    {
     "name": "stdout",
     "output_type": "stream",
     "text": [
      "3\n",
      "6\n",
      "9\n"
     ]
    }
   ],
   "source": [
    "for numero in lista:\n",
    "    print(numero)"
   ]
  },
  {
   "cell_type": "code",
   "execution_count": 34,
   "id": "1ee822e2",
   "metadata": {},
   "outputs": [
    {
     "name": "stdout",
     "output_type": "stream",
     "text": [
      "¿cuántos múltiplos de 3 quieres imprimir?: 6\n",
      "3\n",
      "6\n",
      "9\n",
      "12\n",
      "15\n",
      "18\n"
     ]
    }
   ],
   "source": [
    "def Multiplos (cifra, cantidad):\n",
    "    lista=list(range(cifra,(cifra*cantidad)+1,cifra))\n",
    "    for numero in lista:\n",
    "        print(numero)\n",
    "    return\n",
    "\n",
    "x = int(input(\"¿cuántos múltiplos de 3 quieres imprimir?: \"))\n",
    "Multiplos(3,x)"
   ]
  },
  {
   "cell_type": "code",
   "execution_count": 39,
   "id": "229dd167",
   "metadata": {},
   "outputs": [
    {
     "name": "stdout",
     "output_type": "stream",
     "text": [
      "¿cuántos múltiplos de 3 quieres imprimir?: 6\n"
     ]
    },
    {
     "data": {
      "text/plain": [
       "[3, 6, 9, 12, 15, 18]"
      ]
     },
     "execution_count": 39,
     "metadata": {},
     "output_type": "execute_result"
    }
   ],
   "source": [
    "def Multiplos (cifra, cantidad):\n",
    "    lista_nueva=[]\n",
    "    lista=list(range(cifra,(cifra*cantidad)+1,cifra))\n",
    "    for numero in lista:\n",
    "        lista_nueva.append(numero)\n",
    "    return(lista_nueva)\n",
    "\n",
    "x = int(input(\"¿cuántos múltiplos de 3 quieres imprimir?: \"))\n",
    "Multiplos(3,x)"
   ]
  },
  {
   "cell_type": "code",
   "execution_count": 41,
   "id": "e8c38cd3",
   "metadata": {},
   "outputs": [
    {
     "name": "stdout",
     "output_type": "stream",
     "text": [
      "¿cuántos múltiplos de 3 quieres imprimir?: 6\n"
     ]
    },
    {
     "data": {
      "text/plain": [
       "[3, 6, 9, 12, 15, 18]"
      ]
     },
     "execution_count": 41,
     "metadata": {},
     "output_type": "execute_result"
    }
   ],
   "source": [
    "def Multiplos (cifra, cantidad):\n",
    "    lista_nueva=[]\n",
    "    i=0\n",
    "    while i<cantidad:\n",
    "        i=i+1\n",
    "        lista_nueva.append(3*i)\n",
    "    return(lista_nueva)\n",
    "\n",
    "x = int(input(\"¿cuántos múltiplos de 3 quieres imprimir?: \"))\n",
    "Multiplos(3,x)"
   ]
  },
  {
   "cell_type": "code",
   "execution_count": 42,
   "id": "39803e41",
   "metadata": {},
   "outputs": [],
   "source": [
    "# 2) Haz lo mismo con np.arange"
   ]
  },
  {
   "cell_type": "code",
   "execution_count": 43,
   "id": "befb28a0",
   "metadata": {},
   "outputs": [
    {
     "name": "stdout",
     "output_type": "stream",
     "text": [
      "¿cuántos múltiplos de 3 quieres imprimir?: 3\n"
     ]
    },
    {
     "data": {
      "text/plain": [
       "3"
      ]
     },
     "execution_count": 43,
     "metadata": {},
     "output_type": "execute_result"
    }
   ],
   "source": [
    "x = int(input(\"¿cuántos múltiplos de 3 quieres imprimir?: \"))\n",
    "x"
   ]
  },
  {
   "cell_type": "code",
   "execution_count": 44,
   "id": "b605cb68",
   "metadata": {},
   "outputs": [
    {
     "data": {
      "text/plain": [
       "array([3, 6, 9])"
      ]
     },
     "execution_count": 44,
     "metadata": {},
     "output_type": "execute_result"
    }
   ],
   "source": [
    "np.arange(3,(3*x)+1,3)"
   ]
  },
  {
   "cell_type": "code",
   "execution_count": 99,
   "id": "0c1c02b2",
   "metadata": {},
   "outputs": [
    {
     "name": "stdout",
     "output_type": "stream",
     "text": [
      "¿cuántos múltiplos de 3 quieres imprimir?: 3\n",
      "[3, 6, 9]\n"
     ]
    }
   ],
   "source": [
    "x = int(input(\"¿cuántos múltiplos de 3 quieres imprimir?: \"))\n",
    "x\n",
    "def Multiplos (cifra, cantidad):\n",
    "    lista = list(np.arange(cifra,(cifra*cantidad)+1,cifra))\n",
    "    return lista\n",
    "\n",
    "print(Multiplos(3,x))"
   ]
  },
  {
   "cell_type": "code",
   "execution_count": 102,
   "id": "e526bb2f",
   "metadata": {},
   "outputs": [
    {
     "data": {
      "text/html": [
       "<div>\n",
       "<style scoped>\n",
       "    .dataframe tbody tr th:only-of-type {\n",
       "        vertical-align: middle;\n",
       "    }\n",
       "\n",
       "    .dataframe tbody tr th {\n",
       "        vertical-align: top;\n",
       "    }\n",
       "\n",
       "    .dataframe thead th {\n",
       "        text-align: right;\n",
       "    }\n",
       "</style>\n",
       "<table border=\"1\" class=\"dataframe\">\n",
       "  <thead>\n",
       "    <tr style=\"text-align: right;\">\n",
       "      <th></th>\n",
       "      <th>listado</th>\n",
       "    </tr>\n",
       "  </thead>\n",
       "  <tbody>\n",
       "    <tr>\n",
       "      <th>0</th>\n",
       "      <td>10</td>\n",
       "    </tr>\n",
       "    <tr>\n",
       "      <th>1</th>\n",
       "      <td>10</td>\n",
       "    </tr>\n",
       "    <tr>\n",
       "      <th>2</th>\n",
       "      <td>20</td>\n",
       "    </tr>\n",
       "    <tr>\n",
       "      <th>3</th>\n",
       "      <td>20</td>\n",
       "    </tr>\n",
       "    <tr>\n",
       "      <th>4</th>\n",
       "      <td>20</td>\n",
       "    </tr>\n",
       "    <tr>\n",
       "      <th>5</th>\n",
       "      <td>30</td>\n",
       "    </tr>\n",
       "    <tr>\n",
       "      <th>6</th>\n",
       "      <td>40</td>\n",
       "    </tr>\n",
       "  </tbody>\n",
       "</table>\n",
       "</div>"
      ],
      "text/plain": [
       "   listado\n",
       "0       10\n",
       "1       10\n",
       "2       20\n",
       "3       20\n",
       "4       20\n",
       "5       30\n",
       "6       40"
      ]
     },
     "execution_count": 102,
     "metadata": {},
     "output_type": "execute_result"
    }
   ],
   "source": [
    "# EJERCICIO 2\n",
    "\n",
    "# \"\"\"\n",
    "#     Dado el listado del apartado 2\n",
    "#     Dada esta lista de variable \"listado\" y \"valores\": 10, 10, 20, 20, 20, 30, 40\n",
    "#     Se pide:\n",
    "# \"\"\"\n",
    "\n",
    "# 1) Crea un DataFrame con esa información e imprímelo\n",
    "\n",
    "listado = [10, 10, 20, 20, 20, 30, 40]\n",
    "\n",
    "df = pd.DataFrame({\"listado\": listado})\n",
    "\n",
    "df\n"
   ]
  },
  {
   "cell_type": "code",
   "execution_count": 103,
   "id": "8d80e3a4",
   "metadata": {},
   "outputs": [
    {
     "data": {
      "text/plain": [
       "20    3\n",
       "10    2\n",
       "30    1\n",
       "40    1\n",
       "Name: listado, dtype: int64"
      ]
     },
     "execution_count": 103,
     "metadata": {},
     "output_type": "execute_result"
    }
   ],
   "source": [
    "# 2) Usa value_counts() para determinar cuántas repeticiones hay de cada número en esa columna\n",
    "\n",
    "df.listado.value_counts()"
   ]
  },
  {
   "cell_type": "code",
   "execution_count": 104,
   "id": "76d1caf8",
   "metadata": {},
   "outputs": [
    {
     "data": {
      "text/plain": [
       "(4,)"
      ]
     },
     "execution_count": 104,
     "metadata": {},
     "output_type": "execute_result"
    }
   ],
   "source": [
    "# 3) Haz un \".shape\" a esa información del value_counts()\n",
    "\n",
    "    # NOTA: Escribe: .shape justo al final\n",
    "\n",
    "\n",
    "df.listado.value_counts().shape"
   ]
  },
  {
   "cell_type": "code",
   "execution_count": 105,
   "id": "a1b0f8a1",
   "metadata": {},
   "outputs": [
    {
     "name": "stdout",
     "output_type": "stream",
     "text": [
      "[3 2 1 1]\n",
      "[3, 2, 1, 1]\n"
     ]
    }
   ],
   "source": [
    "# 4) A esa misma instrucción con value_counts() escribe al final \".values\"\n",
    "\n",
    "    # Y veras la información..\n",
    "\n",
    "    # pasa esa información a lista si puedes\n",
    "\n",
    "    # y guarda ese listado como \"repeticiones\"\n",
    "\n",
    "print(df.listado.value_counts().values)\n",
    "\n",
    "repeticiones=list(df.listado.value_counts().values)\n",
    "print(repeticiones)"
   ]
  },
  {
   "cell_type": "code",
   "execution_count": 106,
   "id": "b4e4ca67",
   "metadata": {},
   "outputs": [
    {
     "name": "stdout",
     "output_type": "stream",
     "text": [
      "Int64Index([20, 10, 30, 40], dtype='int64')\n",
      "[20, 10, 30, 40]\n"
     ]
    }
   ],
   "source": [
    "# 5) A esa información de value_counts() añade al final \".index\"\n",
    "\n",
    "    # Y pasa posteriormente a lista esa información\n",
    "\n",
    "    # y guarda ese listado con el nombre: \"valores\"\n",
    "\n",
    "    \n",
    "print(df.listado.value_counts().index)\n",
    "\n",
    "valores=list(df.listado.value_counts().index)\n",
    "print(valores)"
   ]
  },
  {
   "cell_type": "code",
   "execution_count": 107,
   "id": "58b8fd6b",
   "metadata": {},
   "outputs": [
    {
     "data": {
      "text/html": [
       "<div>\n",
       "<style scoped>\n",
       "    .dataframe tbody tr th:only-of-type {\n",
       "        vertical-align: middle;\n",
       "    }\n",
       "\n",
       "    .dataframe tbody tr th {\n",
       "        vertical-align: top;\n",
       "    }\n",
       "\n",
       "    .dataframe thead th {\n",
       "        text-align: right;\n",
       "    }\n",
       "</style>\n",
       "<table border=\"1\" class=\"dataframe\">\n",
       "  <thead>\n",
       "    <tr style=\"text-align: right;\">\n",
       "      <th></th>\n",
       "      <th>valores</th>\n",
       "      <th>repeticiones</th>\n",
       "    </tr>\n",
       "  </thead>\n",
       "  <tbody>\n",
       "    <tr>\n",
       "      <th>0</th>\n",
       "      <td>20</td>\n",
       "      <td>3</td>\n",
       "    </tr>\n",
       "    <tr>\n",
       "      <th>1</th>\n",
       "      <td>10</td>\n",
       "      <td>2</td>\n",
       "    </tr>\n",
       "    <tr>\n",
       "      <th>2</th>\n",
       "      <td>30</td>\n",
       "      <td>1</td>\n",
       "    </tr>\n",
       "    <tr>\n",
       "      <th>3</th>\n",
       "      <td>40</td>\n",
       "      <td>1</td>\n",
       "    </tr>\n",
       "  </tbody>\n",
       "</table>\n",
       "</div>"
      ],
      "text/plain": [
       "   valores  repeticiones\n",
       "0       20             3\n",
       "1       10             2\n",
       "2       30             1\n",
       "3       40             1"
      ]
     },
     "execution_count": 107,
     "metadata": {},
     "output_type": "execute_result"
    }
   ],
   "source": [
    "# 6) Crea un DataFrame con 2 columnas,\n",
    "\n",
    "    # 1 para \"valores\"\n",
    "\n",
    "    # 1 para \"repeticiones\"\n",
    "\n",
    "    # llámalo: \"df_value_counts\" (por ejemplo)\n",
    "\n",
    "    # Y observa..\n",
    "\n",
    "df_value_count=pd.DataFrame({\"valores\":valores, \"repeticiones\":repeticiones})\n",
    "df_value_count"
   ]
  },
  {
   "cell_type": "code",
   "execution_count": 110,
   "id": "dba0a251",
   "metadata": {},
   "outputs": [
    {
     "data": {
      "text/plain": [
       "listado\n",
       "20         3\n",
       "10         2\n",
       "30         1\n",
       "40         1\n",
       "dtype: int64"
      ]
     },
     "execution_count": 110,
     "metadata": {},
     "output_type": "execute_result"
    }
   ],
   "source": [
    "# 7) Haz lo siguiente: \"df.value_counts()\"\n",
    "\n",
    "df.value_counts()\n"
   ]
  },
  {
   "cell_type": "code",
   "execution_count": null,
   "id": "44692c70",
   "metadata": {},
   "outputs": [],
   "source": [
    "# 8) Observa si hay diferencias entre: \"df\" y \"df_value_counts\"\n",
    "\n",
    "#es lo mismo"
   ]
  },
  {
   "cell_type": "code",
   "execution_count": 74,
   "id": "b98a3fbf",
   "metadata": {},
   "outputs": [],
   "source": [
    "# EJERCICIO 3\n",
    "# \"\"\"\n",
    "#     Comparación de matrices\n",
    "#     Haz el código que testee si esas 2 matrices son iguales\n",
    "#     1)\n",
    "#     Dadas:\n",
    "#    matriz1 = np.array([[1,2],[3,4]])\n",
    "#     matriz2 = np.array([[1,2],[3,8]])\n",
    "#     PISTAS:\n",
    "#     -1- RECORRER MATRIZ1 Y MATRIZ2 CON LA PARAMETRIZACIÓN de i y j\n",
    "#     COMPROBAR: ( matriz1 [ i ][ j ] == matriz2 [ i ][ j ] )"
   ]
  },
  {
   "cell_type": "code",
   "execution_count": 75,
   "id": "4c40e576",
   "metadata": {},
   "outputs": [],
   "source": [
    "matriz1 = np.array([[1,2],[3,4]])\n",
    "matriz2 = np.array([[1,2],[3,8]])"
   ]
  },
  {
   "cell_type": "code",
   "execution_count": 78,
   "id": "5e9572fd",
   "metadata": {},
   "outputs": [
    {
     "name": "stdout",
     "output_type": "stream",
     "text": [
      "[[1 2]\n",
      " [3 4]]\n",
      "[[1 2]\n",
      " [3 8]]\n"
     ]
    }
   ],
   "source": [
    "print(matriz1)\n",
    "print(matriz2)"
   ]
  },
  {
   "cell_type": "code",
   "execution_count": 85,
   "id": "55e4e183",
   "metadata": {},
   "outputs": [
    {
     "data": {
      "text/plain": [
       "2"
      ]
     },
     "execution_count": 85,
     "metadata": {},
     "output_type": "execute_result"
    }
   ],
   "source": [
    "matriz1.shape[0]"
   ]
  },
  {
   "cell_type": "code",
   "execution_count": 89,
   "id": "c5b9e528",
   "metadata": {},
   "outputs": [
    {
     "data": {
      "text/plain": [
       "2"
      ]
     },
     "execution_count": 89,
     "metadata": {},
     "output_type": "execute_result"
    }
   ],
   "source": [
    "matriz1.shape[0]"
   ]
  },
  {
   "cell_type": "code",
   "execution_count": 117,
   "id": "29594691",
   "metadata": {},
   "outputs": [
    {
     "name": "stdout",
     "output_type": "stream",
     "text": [
      "Son diferentes matrices\n"
     ]
    }
   ],
   "source": [
    "def compara_matrices (M1,M2):\n",
    "\n",
    "    diferentes=False\n",
    "    if (M1.shape[0]==M2.shape[0]) and (M1.shape[1]==M2.shape[1]):\n",
    "        for i in range(M1.shape[0]):\n",
    "            for j in range(M1.shape[1]):\n",
    "                if M1[i][j] != M2[i][j]:\n",
    "                    diferentes=True\n",
    "                    break\n",
    "    else:\n",
    "        return print(\"Son de diferentes dimensiones\")\n",
    "    \n",
    "    if diferentes:\n",
    "        return print(\"Son diferentes matrices\")\n",
    "    else:\n",
    "        return print(\"Son iguales\")\n",
    "\n",
    "compara_matrices(matriz1,matriz2)"
   ]
  },
  {
   "cell_type": "code",
   "execution_count": 112,
   "id": "fc5a5e41",
   "metadata": {},
   "outputs": [
    {
     "data": {
      "text/plain": [
       "False"
      ]
     },
     "execution_count": 112,
     "metadata": {},
     "output_type": "execute_result"
    }
   ],
   "source": [
    "def compara_matrices (M1,M2):\n",
    "    return (M1==M2).all()\n",
    "\n",
    "compara_matrices(matriz1,matriz2)"
   ]
  },
  {
   "cell_type": "code",
   "execution_count": 121,
   "id": "7ebaf1d6",
   "metadata": {},
   "outputs": [
    {
     "name": "stdout",
     "output_type": "stream",
     "text": [
      "Son diferentes matrices\n"
     ]
    }
   ],
   "source": [
    "# -4- puedes usar np.arange( ) si lo deseas para las filas y para las columnas\n",
    "\n",
    "\n",
    "def compara_matrices (M1,M2):\n",
    "\n",
    "    diferentes=False\n",
    "    if (M1.shape[0]==M2.shape[0]) and (M1.shape[1]==M2.shape[1]):\n",
    "        for i in np.arange(M1.shape[0]):\n",
    "            for j in np.arange(M1.shape[1]):\n",
    "                if M1[i][j] != M2[i][j]:\n",
    "                    diferentes=True\n",
    "                    break\n",
    "    else:\n",
    "        return print(\"Son de diferentes dimensiones\")\n",
    "    \n",
    "    if diferentes:\n",
    "        return print(\"Son diferentes matrices\")\n",
    "    else:\n",
    "        return print(\"Son iguales\")\n",
    "\n",
    "compara_matrices(matriz1,matriz2)"
   ]
  },
  {
   "cell_type": "code",
   "execution_count": 119,
   "id": "1886efa4",
   "metadata": {},
   "outputs": [],
   "source": [
    "#-5- recuerda el ejercicio del cronómetro para tener una referencia"
   ]
  },
  {
   "cell_type": "code",
   "execution_count": 122,
   "id": "d38148a7",
   "metadata": {},
   "outputs": [
    {
     "name": "stdout",
     "output_type": "stream",
     "text": [
      "Son diferentes matrices\n",
      "range 0.0010013580322265625\n",
      "Son diferentes matrices\n",
      "np.arange 0.0010018348693847656\n",
      ".all 0.0\n"
     ]
    }
   ],
   "source": [
    "import time\n",
    "inicio = time.time()\n",
    "\n",
    "def compara_matrices (M1,M2):\n",
    "\n",
    "    diferentes=False\n",
    "    if (M1.shape[0]==M2.shape[0]) and (M1.shape[1]==M2.shape[1]):\n",
    "        for i in range(M1.shape[0]):\n",
    "            for j in range(M1.shape[1]):\n",
    "                if M1[i][j] != M2[i][j]:\n",
    "                    diferentes=True\n",
    "                    break\n",
    "    else:\n",
    "        return print(\"Son de diferentes dimensiones\")\n",
    "    \n",
    "    if diferentes:\n",
    "        return print(\"Son diferentes matrices\")\n",
    "    else:\n",
    "        return print(\"Son iguales\")\n",
    "\n",
    "compara_matrices(matriz1,matriz2)\n",
    "\n",
    "fin = time.time()\n",
    "\n",
    "print(\"range\", fin-inicio)\n",
    "\n",
    "inicio = time.time()\n",
    "\n",
    "def compara_matrices (M1,M2):\n",
    "\n",
    "    diferentes=False\n",
    "    if (M1.shape[0]==M2.shape[0]) and (M1.shape[1]==M2.shape[1]):\n",
    "        for i in np.arange(M1.shape[0]):\n",
    "            for j in np.arange(M1.shape[1]):\n",
    "                if M1[i][j] != M2[i][j]:\n",
    "                    diferentes=True\n",
    "                    break\n",
    "    else:\n",
    "        return print(\"Son de diferentes dimensiones\")\n",
    "    \n",
    "    if diferentes:\n",
    "        return print(\"Son diferentes matrices\")\n",
    "    else:\n",
    "        return print(\"Son iguales\")\n",
    "\n",
    "compara_matrices(matriz1,matriz2)\n",
    "\n",
    "fin = time.time()\n",
    "\n",
    "print(\"np.arange\", fin-inicio)\n",
    "\n",
    "inicio = time.time()\n",
    "\n",
    "def compara_matrices (M1,M2):\n",
    "    return (M1==M2).all()\n",
    "\n",
    "compara_matrices(matriz1,matriz2)\n",
    "\n",
    "fin = time.time()\n",
    "\n",
    "print(\".all\", fin-inicio)"
   ]
  },
  {
   "cell_type": "code",
   "execution_count": null,
   "id": "c68875f2",
   "metadata": {},
   "outputs": [],
   "source": []
  }
 ],
 "metadata": {
  "kernelspec": {
   "display_name": "Python 3 (ipykernel)",
   "language": "python",
   "name": "python3"
  },
  "language_info": {
   "codemirror_mode": {
    "name": "ipython",
    "version": 3
   },
   "file_extension": ".py",
   "mimetype": "text/x-python",
   "name": "python",
   "nbconvert_exporter": "python",
   "pygments_lexer": "ipython3",
   "version": "3.8.10"
  }
 },
 "nbformat": 4,
 "nbformat_minor": 5
}
