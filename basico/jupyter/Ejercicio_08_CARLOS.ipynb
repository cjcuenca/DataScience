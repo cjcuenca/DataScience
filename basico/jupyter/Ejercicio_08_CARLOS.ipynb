{
 "cells": [
  {
   "cell_type": "code",
   "execution_count": 23,
   "id": "b39becdf",
   "metadata": {},
   "outputs": [
    {
     "name": "stdout",
     "output_type": "stream",
     "text": [
      "hola como estas?\n",
      "16\n",
      "La cadena ` hola como estas? ´ tiene  16  caracteres\n"
     ]
    }
   ],
   "source": [
    "# EJERCICIO 1 \n",
    "\n",
    "# Calcula la longitud de una cadena de texto sin usar la instruccion len(cadena)\n",
    "\n",
    "# 1) Cadena de texto: hola como estas?\n",
    "\n",
    "    # Nombre de la variable: \"cadena\"\n",
    "\n",
    "\n",
    "cadena_texto = \"hola como estas?\" \n",
    "print(cadena_texto)\n",
    "# 2) Longitud de la cadena de texto\n",
    "\n",
    "print(len(cadena_texto))\n",
    "\n",
    "# 3) Longitud de la cadena de texto calculada con un bucle\n",
    "\n",
    "def longitud_cadena (cadena):\n",
    "    contador = 0\n",
    "    for i in cadena:\n",
    "        contador+=1\n",
    "    return contador\n",
    "\n",
    "print(\"La cadena `\", cadena_texto, \"´ tiene \",longitud_cadena(cadena_texto), \" caracteres\")"
   ]
  },
  {
   "cell_type": "code",
   "execution_count": 24,
   "id": "36656672",
   "metadata": {},
   "outputs": [
    {
     "name": "stdout",
     "output_type": "stream",
     "text": [
      "[10, 8, 6]\n",
      "8.0\n"
     ]
    }
   ],
   "source": [
    "# EJERCICIO 2\n",
    "\n",
    "# Crea un diccionario que tenga la nota de 3 asignaturas y\n",
    "\n",
    "# haz un pequeño algoritmo que calcule la nota media\n",
    "\n",
    "# CURSO         -> Nota\n",
    "# ---------------------\n",
    "# Python        ->  10\n",
    "# Big Data      ->  8\n",
    "# NLP           ->  6\n",
    "\n",
    "curso = [\"Python\",\"Big Data\",\"NLP\"]\n",
    "nota = [10,8,6]\n",
    "\n",
    "notas_clase = {'Python': 10, 'Big Data': 8, 'NLP': 6}\n",
    "notas_clase\n",
    "\n",
    "#creamos un listado de los valores\n",
    "\n",
    "values = list(notas_clase.values())\n",
    "print(values)\n",
    "\n",
    "#values = [value for value in notas_clase.values()]\n",
    "#print(values)\n",
    "\n",
    "media = sum(values)/len(values)\n",
    "print(media)\n"
   ]
  },
  {
   "cell_type": "code",
   "execution_count": 25,
   "id": "14d2fadf",
   "metadata": {},
   "outputs": [
    {
     "data": {
      "text/plain": [
       "dict_keys(['Python', 'Big Data', 'NLP'])"
      ]
     },
     "execution_count": 25,
     "metadata": {},
     "output_type": "execute_result"
    }
   ],
   "source": [
    "# 1) Muestra el valor de las claves\n",
    "\n",
    "notas_clase.keys()"
   ]
  },
  {
   "cell_type": "code",
   "execution_count": 26,
   "id": "5782578f",
   "metadata": {},
   "outputs": [
    {
     "data": {
      "text/plain": [
       "dict_values([10, 8, 6])"
      ]
     },
     "execution_count": 26,
     "metadata": {},
     "output_type": "execute_result"
    }
   ],
   "source": [
    "# 2) Muestra el valor de los valores del diccionario\n",
    "\n",
    "notas_clase.values()"
   ]
  },
  {
   "cell_type": "code",
   "execution_count": 27,
   "id": "0a11605c",
   "metadata": {},
   "outputs": [
    {
     "name": "stdout",
     "output_type": "stream",
     "text": [
      "{'Python': 10, 'Big Data': 8, 'NLP': 6, 'Machine Learning': 9}\n"
     ]
    }
   ],
   "source": [
    "# 3) Apendiza en el diccionario un nuevo elemento:\n",
    "\n",
    "    # Machine Learning --> 9\n",
    "notas_clase[\"Machine Learning\"]=9\n",
    "print(notas_clase)"
   ]
  },
  {
   "cell_type": "code",
   "execution_count": 28,
   "id": "289e4bbf",
   "metadata": {},
   "outputs": [
    {
     "name": "stdout",
     "output_type": "stream",
     "text": [
      "[['Python', 10], ['Big Data', 8], ['NLP', 6], ['Machine Learning', 9]]\n"
     ]
    }
   ],
   "source": [
    "# 4) Haciendo uso un bucle muestra la clave y el valor del diccionario, cuyo resultado final sean listas anidadas.\n",
    "\n",
    "    # [[\"clave1\", valor1], [\"clave2\", valor2]]\n",
    "lista_anidada=[]\n",
    "for key, value in notas_clase.items():\n",
    "    lista_intermedia=[]\n",
    "    lista_intermedia.append(key)\n",
    "    lista_intermedia.append(value)\n",
    "    lista_anidada.append(lista_intermedia)\n",
    "print(lista_anidada)\n",
    "\n",
    "#lista_anidada=[]\n",
    "#for key in notas_clase.items():\n",
    "#    lista_intermedia=[]\n",
    "#    lista_intermedia.append(key)\n",
    "#    print(lista_intermedia)\n",
    "#    lista_anidada.append(lista_intermedia)\n",
    "#    print(lista_intermedia)\n",
    "#print(lista_anidada)"
   ]
  },
  {
   "cell_type": "code",
   "execution_count": 29,
   "id": "ca72aab4",
   "metadata": {},
   "outputs": [
    {
     "name": "stdout",
     "output_type": "stream",
     "text": [
      "[['Python', 10], ['Big Data', 8], ['NLP', 6], ['Machine Learning', 9]]\n"
     ]
    }
   ],
   "source": [
    "# FUNCION\n",
    "def lista_anidada (lista):\n",
    "    lista_anidada=[]\n",
    "    for key, value in lista.items():\n",
    "        lista_intermedia=[]\n",
    "        lista_intermedia.append(key)\n",
    "        lista_intermedia.append(value)\n",
    "        lista_anidada.append(lista_intermedia)\n",
    "    return lista_anidada\n",
    "\n",
    "print(lista_anidada(notas_clase))"
   ]
  },
  {
   "cell_type": "code",
   "execution_count": 137,
   "id": "ec39b60b",
   "metadata": {},
   "outputs": [
    {
     "name": "stdout",
     "output_type": "stream",
     "text": [
      "{'Asignaturas': ['Python', 'Big Data', 'NLP', 'Machine Learning'], 'Notas': [10, 8, 6, 9]}\n",
      "        Asignaturas  Notas\n",
      "0            Python     10\n",
      "1          Big Data      8\n",
      "2               NLP      6\n",
      "3  Machine Learning      9\n",
      "10\n"
     ]
    }
   ],
   "source": [
    "# 5) Reconvierte el diccionario para transformarlo en un dataframe y busca la asignatura con la nota más alta\n",
    "import pandas as pd\n",
    "\n",
    "curso = [\"Python\", \"Big Data\", \"NLP\", \"Machine Learning\"]\n",
    "nota = [10,8,6,9]\n",
    "\n",
    "notas_clase_dic = {\"Asignaturas\": curso, 'Notas': nota}\n",
    "print(notas_clase_dic)\n",
    "\n",
    "df_diccionario = pd.DataFrame(notas_clase_dic)\n",
    "print(df_diccionario)\n",
    "\n",
    "mayor = max(df_diccionario.Notas)\n"
   ]
  },
  {
   "cell_type": "code",
   "execution_count": 139,
   "id": "708dc6ff",
   "metadata": {},
   "outputs": [
    {
     "name": "stdout",
     "output_type": "stream",
     "text": [
      "6\n"
     ]
    }
   ],
   "source": [
    "# 6) ¿y la nota más baja?\n",
    "nota_minima = min(df_diccionario.Notas)\n",
    "print(nota_minima)"
   ]
  },
  {
   "cell_type": "code",
   "execution_count": 150,
   "id": "59f43fbc",
   "metadata": {},
   "outputs": [
    {
     "data": {
      "text/html": [
       "<div>\n",
       "<style scoped>\n",
       "    .dataframe tbody tr th:only-of-type {\n",
       "        vertical-align: middle;\n",
       "    }\n",
       "\n",
       "    .dataframe tbody tr th {\n",
       "        vertical-align: top;\n",
       "    }\n",
       "\n",
       "    .dataframe thead th {\n",
       "        text-align: right;\n",
       "    }\n",
       "</style>\n",
       "<table border=\"1\" class=\"dataframe\">\n",
       "  <thead>\n",
       "    <tr style=\"text-align: right;\">\n",
       "      <th></th>\n",
       "      <th>Asignaturas</th>\n",
       "      <th>Notas</th>\n",
       "    </tr>\n",
       "  </thead>\n",
       "  <tbody>\n",
       "    <tr>\n",
       "      <th>1</th>\n",
       "      <td>Big Data</td>\n",
       "      <td>8</td>\n",
       "    </tr>\n",
       "    <tr>\n",
       "      <th>3</th>\n",
       "      <td>Machine Learning</td>\n",
       "      <td>9</td>\n",
       "    </tr>\n",
       "    <tr>\n",
       "      <th>2</th>\n",
       "      <td>NLP</td>\n",
       "      <td>6</td>\n",
       "    </tr>\n",
       "    <tr>\n",
       "      <th>0</th>\n",
       "      <td>Python</td>\n",
       "      <td>10</td>\n",
       "    </tr>\n",
       "  </tbody>\n",
       "</table>\n",
       "</div>"
      ],
      "text/plain": [
       "        Asignaturas  Notas\n",
       "1          Big Data      8\n",
       "3  Machine Learning      9\n",
       "2               NLP      6\n",
       "0            Python     10"
      ]
     },
     "execution_count": 150,
     "metadata": {},
     "output_type": "execute_result"
    }
   ],
   "source": [
    "# 7) Ordena el dataframe en orden descendente:\n",
    "df_diccionario.sort_values(by='Notas', ascending=False)\n",
    "df_diccionario.sort_values(by='Asignaturas', ascending=True)"
   ]
  },
  {
   "cell_type": "code",
   "execution_count": 151,
   "id": "6c881378",
   "metadata": {},
   "outputs": [
    {
     "data": {
      "text/html": [
       "<div>\n",
       "<style scoped>\n",
       "    .dataframe tbody tr th:only-of-type {\n",
       "        vertical-align: middle;\n",
       "    }\n",
       "\n",
       "    .dataframe tbody tr th {\n",
       "        vertical-align: top;\n",
       "    }\n",
       "\n",
       "    .dataframe thead th {\n",
       "        text-align: right;\n",
       "    }\n",
       "</style>\n",
       "<table border=\"1\" class=\"dataframe\">\n",
       "  <thead>\n",
       "    <tr style=\"text-align: right;\">\n",
       "      <th></th>\n",
       "      <th>Asignaturas</th>\n",
       "      <th>Notas</th>\n",
       "    </tr>\n",
       "  </thead>\n",
       "  <tbody>\n",
       "    <tr>\n",
       "      <th>0</th>\n",
       "      <td>Python</td>\n",
       "      <td>10</td>\n",
       "    </tr>\n",
       "    <tr>\n",
       "      <th>1</th>\n",
       "      <td>Big Data</td>\n",
       "      <td>8</td>\n",
       "    </tr>\n",
       "    <tr>\n",
       "      <th>2</th>\n",
       "      <td>NLP</td>\n",
       "      <td>6</td>\n",
       "    </tr>\n",
       "    <tr>\n",
       "      <th>3</th>\n",
       "      <td>Machine Learning</td>\n",
       "      <td>9</td>\n",
       "    </tr>\n",
       "  </tbody>\n",
       "</table>\n",
       "</div>"
      ],
      "text/plain": [
       "        Asignaturas  Notas\n",
       "0            Python     10\n",
       "1          Big Data      8\n",
       "2               NLP      6\n",
       "3  Machine Learning      9"
      ]
     },
     "execution_count": 151,
     "metadata": {},
     "output_type": "execute_result"
    }
   ],
   "source": [
    "# funcion\n",
    "def ordenar_diccionario(diccionario, columna, tipo):\n",
    "    diccionario.sort_values(by=columna, ascending=tipo)\n",
    "    return diccionario\n",
    "\n",
    "ordenar_diccionario(df_diccionario, \"Notas\", False)"
   ]
  },
  {
   "cell_type": "code",
   "execution_count": 34,
   "id": "2d4c9de9",
   "metadata": {},
   "outputs": [],
   "source": [
    "# EJERCICIO 3\n",
    "# \"\"\"\n",
    "# Dadas 2 funciones:\n",
    "# Determina cual de ellas ejecuta mas rápido.\n",
    "# Si sabes, hazlo de 2 formas.\n",
    "# función a\n",
    "# def main(): for i in range(10**8): pass\n",
    "# main()\n",
    "# función b\n",
    "# def main(): for i in np.arange(10**8): pass\n",
    "# main()\n",
    "# de 2 formas\n",
    "\n",
    "import time\n",
    "import numpy as np"
   ]
  },
  {
   "cell_type": "code",
   "execution_count": 209,
   "id": "51f7c4a8",
   "metadata": {},
   "outputs": [
    {
     "name": "stdout",
     "output_type": "stream",
     "text": [
      "CPU times: total: 0 ns\n",
      "Wall time: 0 ns\n"
     ]
    }
   ],
   "source": [
    "# función a\n",
    "%time\n",
    "\n",
    "def main():\n",
    "    for i in range(10**8):\n",
    "        pass\n",
    "\n",
    "main()\n"
   ]
  },
  {
   "cell_type": "code",
   "execution_count": 210,
   "id": "49175ed8",
   "metadata": {},
   "outputs": [
    {
     "name": "stdout",
     "output_type": "stream",
     "text": [
      "CPU times: total: 0 ns\n",
      "Wall time: 0 ns\n"
     ]
    }
   ],
   "source": [
    "# función b\n",
    "%time\n",
    "def main():\n",
    "    for i in np.arange(10**8):\n",
    "        pass\n",
    "main()"
   ]
  },
  {
   "cell_type": "code",
   "execution_count": 36,
   "id": "844e0f69",
   "metadata": {},
   "outputs": [],
   "source": [
    "# función a\n",
    "x1 = time.time()\n",
    "def main():\n",
    "    for i in range(10**8):\n",
    "        pass\n",
    "main()\n",
    "\n",
    "y1 = time.time()\n",
    "\n",
    "tiempo1 = y1-x1\n"
   ]
  },
  {
   "cell_type": "code",
   "execution_count": 37,
   "id": "4af93b9c",
   "metadata": {},
   "outputs": [
    {
     "name": "stdout",
     "output_type": "stream",
     "text": [
      "Tiempo 1ºFuncion  3.759249210357666 Tiempo 2ºFuncion  7.491258144378662\n"
     ]
    }
   ],
   "source": [
    "# función b\n",
    "x2 = time.time()\n",
    "def main():\n",
    "    for i in np.arange(10**8):\n",
    "        pass\n",
    "main()\n",
    "\n",
    "y2 = time.time()\n",
    "tiempo2 = y2-x2\n",
    "\n",
    "print(\"Tiempo 1ºFuncion \", tiempo1, \"Tiempo 2ºFuncion \", tiempo2) "
   ]
  },
  {
   "cell_type": "code",
   "execution_count": 35,
   "id": "b38b236a",
   "metadata": {},
   "outputs": [
    {
     "name": "stdout",
     "output_type": "stream",
     "text": [
      "Tiempo 1ºFuncion  3.5130574703216553 Tiempo 2ºFuncion  7.728407859802246\n"
     ]
    }
   ],
   "source": [
    "# FUNCION comparar\n",
    "tiempo1 = 0\n",
    "tiempo2 = 0\n",
    "def comparar_funciones(operacion1, operacion2):\n",
    "    x1 = time.time()\n",
    "    def main1():\n",
    "        for i in operacion1:\n",
    "            pass\n",
    "    main1()\n",
    "\n",
    "    y1 = time.time()\n",
    "\n",
    "    tiempo1 = y1-x1\n",
    "\n",
    "    x2 = time.time()\n",
    "    def main2():\n",
    "        for i in operacion2:\n",
    "            pass\n",
    "    main2()\n",
    "\n",
    "    y2 = time.time()\n",
    "    tiempo2 = y2-x2\n",
    "    return(print(\"Tiempo 1ºFuncion \", tiempo1, \"Tiempo 2ºFuncion \", tiempo2)) \n",
    "\n",
    "\n",
    "comparar_funciones(range(10**8), np.arange(10**8))\n",
    "\n",
    " "
   ]
  },
  {
   "cell_type": "code",
   "execution_count": 166,
   "id": "a17ac87e",
   "metadata": {},
   "outputs": [],
   "source": [
    "# EJERCICIO 4\n",
    "\n",
    "# Dada:\n",
    "\n",
    "# Una matriz tal que así:\n",
    "\n",
    "# A = np.array([[1,2,3], [4,5,6], [7,8,9]])\n",
    "\n",
    "# se pide:\n",
    "\n",
    "# 1) Escribe ese código en Python\n",
    "\n",
    "# 2) Escribe la matriz transpuesta.\n",
    "\n",
    "    # Nota, puedes usar numpy, si quieres. Si sabes más de una forma puedes usar varias.\n",
    "\n",
    "# 3) Se pide que hagas lo mismo, pero con un bucle."
   ]
  },
  {
   "cell_type": "code",
   "execution_count": 38,
   "id": "d5eb487f",
   "metadata": {},
   "outputs": [
    {
     "data": {
      "text/plain": [
       "array([[1, 2, 3],\n",
       "       [4, 5, 6],\n",
       "       [7, 8, 9]])"
      ]
     },
     "execution_count": 38,
     "metadata": {},
     "output_type": "execute_result"
    }
   ],
   "source": [
    "# 1) Escribe ese código en Python\n",
    "A = np.array([[1,2,3], \n",
    "              [4,5,6], \n",
    "              [7,8,9]])\n",
    "A"
   ]
  },
  {
   "cell_type": "code",
   "execution_count": 236,
   "id": "588ed6e8",
   "metadata": {},
   "outputs": [
    {
     "data": {
      "text/plain": [
       "array([[1, 4, 7],\n",
       "       [2, 5, 8],\n",
       "       [3, 6, 9]])"
      ]
     },
     "execution_count": 236,
     "metadata": {},
     "output_type": "execute_result"
    }
   ],
   "source": [
    "# 2) Escribe la matriz transpuesta.\n",
    "A.T"
   ]
  },
  {
   "cell_type": "code",
   "execution_count": 278,
   "id": "db0824ef",
   "metadata": {},
   "outputs": [
    {
     "data": {
      "text/plain": [
       "array([[1, 4, 7],\n",
       "       [2, 5, 8],\n",
       "       [3, 6, 9]])"
      ]
     },
     "execution_count": 278,
     "metadata": {},
     "output_type": "execute_result"
    }
   ],
   "source": [
    "A.transpose()"
   ]
  },
  {
   "cell_type": "code",
   "execution_count": 45,
   "id": "c3a38b2b",
   "metadata": {},
   "outputs": [
    {
     "data": {
      "text/plain": [
       "array([[1, 4, 7],\n",
       "       [2, 5, 8],\n",
       "       [3, 6, 9]])"
      ]
     },
     "execution_count": 45,
     "metadata": {},
     "output_type": "execute_result"
    }
   ],
   "source": [
    "# 3) Se pide que hagas lo mismo, pero con un bucle.\n",
    "\n",
    "def transponer_matriz(matriz):\n",
    "    matriz_transpuesta = np.empty((3, 3), int)\n",
    "    if len(matriz) == 0:\n",
    "        return []\n",
    "    \n",
    "    for i in range(len(matriz)):\n",
    "        for j in range(len(matriz)):\n",
    "            matriz_transpuesta[i][j] = matriz[j][i]\n",
    "    return matriz_transpuesta\n",
    "\n",
    "\n",
    "transponer_matriz(A)"
   ]
  },
  {
   "cell_type": "code",
   "execution_count": 46,
   "id": "ffd66983",
   "metadata": {},
   "outputs": [
    {
     "data": {
      "text/plain": [
       "array([[1, 4, 7],\n",
       "       [2, 5, 8],\n",
       "       [3, 6, 9]])"
      ]
     },
     "execution_count": 46,
     "metadata": {},
     "output_type": "execute_result"
    }
   ],
   "source": [
    "def transponer_matriz2(matriz):\n",
    "    if len(matriz) == 0:\n",
    "        return []\n",
    "    \n",
    "    matriz_transpuesta = np.array([[matriz[i][j] for i in range(len(matriz))] for j in range(len(matriz))])\n",
    "    return matriz_transpuesta\n",
    "\n",
    "transponer_matriz2(A)"
   ]
  },
  {
   "cell_type": "code",
   "execution_count": null,
   "id": "a60e406d",
   "metadata": {},
   "outputs": [],
   "source": []
  }
 ],
 "metadata": {
  "kernelspec": {
   "display_name": "Python 3 (ipykernel)",
   "language": "python",
   "name": "python3"
  },
  "language_info": {
   "codemirror_mode": {
    "name": "ipython",
    "version": 3
   },
   "file_extension": ".py",
   "mimetype": "text/x-python",
   "name": "python",
   "nbconvert_exporter": "python",
   "pygments_lexer": "ipython3",
   "version": "3.8.10"
  }
 },
 "nbformat": 4,
 "nbformat_minor": 5
}
