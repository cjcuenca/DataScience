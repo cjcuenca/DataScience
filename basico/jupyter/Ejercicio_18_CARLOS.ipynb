{
 "cells": [
  {
   "cell_type": "code",
   "execution_count": 1,
   "id": "b1a6499b",
   "metadata": {},
   "outputs": [],
   "source": [
    "# EJERCICIO 1\n",
    "# \n",
    "# \"\"\"\n",
    "#     Definir una función max()\n",
    "#     que tome como argumento dos números y devuelva el mayor de ellos. \n",
    "#     (Es cierto que python tiene una función max() incorporada,\n",
    "#     pero hacerla nosotros mismos es un muy buen ejercicio).\n",
    "# \"\"\""
   ]
  },
  {
   "cell_type": "code",
   "execution_count": 7,
   "id": "4f9789ff",
   "metadata": {},
   "outputs": [
    {
     "name": "stdout",
     "output_type": "stream",
     "text": [
      "sin iguales\n"
     ]
    }
   ],
   "source": [
    "def maximo(x,y):\n",
    "    if x>y:\n",
    "        return x\n",
    "    elif x<y:\n",
    "        return y\n",
    "    else:\n",
    "        return print(\"son iguales\")\n",
    "\n",
    "maximo(5,5)"
   ]
  },
  {
   "cell_type": "code",
   "execution_count": 16,
   "id": "f5a2caa6",
   "metadata": {},
   "outputs": [
    {
     "data": {
      "text/plain": [
       "6"
      ]
     },
     "execution_count": 16,
     "metadata": {},
     "output_type": "execute_result"
    }
   ],
   "source": [
    "# 2) - Definir una función max_de_tres(), que tome tres números como argumentos y devuelva el mayor de ellos.\n",
    "\n",
    "def maximo3(x,y,z):\n",
    "    if x>y and x>z:\n",
    "        return x\n",
    "    elif y>x and y>z:\n",
    "        return y\n",
    "    elif z>x and z>y:\n",
    "        return z\n",
    "    else:\n",
    "        return print(\"son iguales\")\n",
    "\n",
    "maximo3(5,5,6)"
   ]
  },
  {
   "cell_type": "code",
   "execution_count": 18,
   "id": "cc7f0c5f",
   "metadata": {},
   "outputs": [
    {
     "data": {
      "text/plain": [
       "11"
      ]
     },
     "execution_count": 18,
     "metadata": {},
     "output_type": "execute_result"
    }
   ],
   "source": [
    "# 3) - Definir una función que calcule la longitud de una lista o una cadena dada. \n",
    "# (Es cierto que python tiene la función len() incorporada,\n",
    "# pero escribirla por nosotros mismos resulta un muy buen ejercicio.\n",
    "\n",
    "def longitud_cadena(cadena):\n",
    "    contador=0\n",
    "    for i in cadena:\n",
    "        contador=contador+1\n",
    "    return contador\n",
    "\n",
    "longitud_cadena(\"Hola amigos\")"
   ]
  },
  {
   "cell_type": "code",
   "execution_count": 19,
   "id": "01e46339",
   "metadata": {},
   "outputs": [
    {
     "data": {
      "text/plain": [
       "3"
      ]
     },
     "execution_count": 19,
     "metadata": {},
     "output_type": "execute_result"
    }
   ],
   "source": [
    "longitud_cadena([1,2,3])"
   ]
  },
  {
   "cell_type": "code",
   "execution_count": 31,
   "id": "3a3f53e0",
   "metadata": {},
   "outputs": [
    {
     "name": "stdout",
     "output_type": "stream",
     "text": [
      "Escriba una vocal i\n"
     ]
    },
    {
     "data": {
      "text/plain": [
       "True"
      ]
     },
     "execution_count": 31,
     "metadata": {},
     "output_type": "execute_result"
    }
   ],
   "source": [
    "# 4) - Escribir una función que tome un carácter y devuelva True si es una vocal, de lo contrario devuelve False.\n",
    "\n",
    "def es_vocal(caracter):\n",
    "    vocales =[\"a\",\"e\",\"i\",\"o\",\"u\",\"A\",\"E\",\"I\",\"O\",\"U\"]\n",
    "    if caracter in vocales:\n",
    "        return True\n",
    "    else:       \n",
    "        return False\n",
    "\n",
    "letra=input(\"Escriba una vocal \")\n",
    "\n",
    "es_vocal(letra)"
   ]
  },
  {
   "cell_type": "code",
   "execution_count": null,
   "id": "e69b864e",
   "metadata": {},
   "outputs": [],
   "source": [
    "#5) - Escribir una función sum() y una función multip() que sumen y multipliquen respectivamente \n",
    "# todos los números de una lista. Por\n",
    "# ejemplo: sum([1,2,3,4]) debería devolver 10 y multip([1,2,3,4]) debería devolver 24."
   ]
  },
  {
   "cell_type": "code",
   "execution_count": 32,
   "id": "f4ad6a56",
   "metadata": {},
   "outputs": [
    {
     "data": {
      "text/plain": [
       "10"
      ]
     },
     "execution_count": 32,
     "metadata": {},
     "output_type": "execute_result"
    }
   ],
   "source": [
    "def suma_lista(lista):\n",
    "    suma=0\n",
    "    for i in lista:\n",
    "        suma=suma+i\n",
    "    return suma\n",
    "\n",
    "L=[1,2,3,4]\n",
    "suma_lista(L)"
   ]
  },
  {
   "cell_type": "code",
   "execution_count": 34,
   "id": "13e9e68b",
   "metadata": {},
   "outputs": [
    {
     "data": {
      "text/plain": [
       "6"
      ]
     },
     "execution_count": 34,
     "metadata": {},
     "output_type": "execute_result"
    }
   ],
   "source": [
    "def multip_lista(lista):\n",
    "    multip=1\n",
    "    for i in lista:\n",
    "        multip=multip*i\n",
    "    return multip\n",
    "\n",
    "L=[1,2,3]\n",
    "multip_lista(L)"
   ]
  },
  {
   "cell_type": "code",
   "execution_count": null,
   "id": "7b77f548",
   "metadata": {},
   "outputs": [],
   "source": []
  }
 ],
 "metadata": {
  "kernelspec": {
   "display_name": "Python 3 (ipykernel)",
   "language": "python",
   "name": "python3"
  },
  "language_info": {
   "codemirror_mode": {
    "name": "ipython",
    "version": 3
   },
   "file_extension": ".py",
   "mimetype": "text/x-python",
   "name": "python",
   "nbconvert_exporter": "python",
   "pygments_lexer": "ipython3",
   "version": "3.8.10"
  }
 },
 "nbformat": 4,
 "nbformat_minor": 5
}
