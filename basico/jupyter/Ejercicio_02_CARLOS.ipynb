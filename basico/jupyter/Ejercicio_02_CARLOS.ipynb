{
 "cells": [
  {
   "cell_type": "code",
   "execution_count": 13,
   "id": "a4e10311",
   "metadata": {},
   "outputs": [],
   "source": [
    "import pandas as pd\n",
    "\n",
    "# EJERCICIO 1\n",
    "# \n",
    "# \"\"\"\n",
    "#    Dado el siguiente listado: [\"Python\", \"Matlab\", \"R\", \"VBA\", \"Julia\", \"C++\"].\n",
    "# \n",
    "#     Modifica con un algoritmo ese listado.\n",
    "# \n",
    "#     Cuando encuentre Python debe poner un 1\n",
    "#     y cuando encuentre otro lenguaje de programacion, un 0\n",
    "#     es un simple ejemplo de modificación de valores en una lista.\n",
    "# \"\"\""
   ]
  },
  {
   "cell_type": "code",
   "execution_count": 4,
   "id": "4fe2030a",
   "metadata": {},
   "outputs": [
    {
     "data": {
      "text/plain": [
       "['Python', 'Matlab', 'R', 'VBA', 'Julia', 'C++']"
      ]
     },
     "execution_count": 4,
     "metadata": {},
     "output_type": "execute_result"
    }
   ],
   "source": [
    "lenguajes=[\"Python\", \"Matlab\", \"R\", \"VBA\", \"Julia\", \"C++\"]\n",
    "lenguajes"
   ]
  },
  {
   "cell_type": "code",
   "execution_count": 5,
   "id": "64fcefdb",
   "metadata": {},
   "outputs": [
    {
     "name": "stdout",
     "output_type": "stream",
     "text": [
      "[1, 0, 0, 0, 0, 0]\n"
     ]
    }
   ],
   "source": [
    "for i in range(len(lenguajes)):\n",
    "    if lenguajes[i]==\"Python\":\n",
    "        lenguajes[i]=1\n",
    "    else:\n",
    "        lenguajes[i]=0\n",
    "print(lenguajes)"
   ]
  },
  {
   "cell_type": "code",
   "execution_count": 8,
   "id": "61d7d248",
   "metadata": {},
   "outputs": [
    {
     "name": "stdout",
     "output_type": "stream",
     "text": [
      "[1, 0, 0, 0, 0, 0]\n"
     ]
    }
   ],
   "source": [
    "# FUNCION\n",
    "def transformacion(languages):\n",
    "    for i in range(len(languages)):\n",
    "        if languages[i] == \"Python\":\n",
    "            languages[i] = 1\n",
    "        else:\n",
    "            languages[i] = 0\n",
    "    return languages\n",
    "\n",
    "lenguajes=[\"Python\", \"Matlab\", \"R\", \"VBA\", \"Julia\", \"C++\"]\n",
    "print(transformacion(lenguajes))"
   ]
  },
  {
   "cell_type": "code",
   "execution_count": 9,
   "id": "a700ed52",
   "metadata": {},
   "outputs": [
    {
     "name": "stdout",
     "output_type": "stream",
     "text": [
      "[10, None, 8, 5, None, 20]\n",
      "[10, -1, 8, 5, -1, 20]\n"
     ]
    }
   ],
   "source": [
    "# EJERCICIO 2\n",
    "# \n",
    "# \"\"\"\n",
    "#     Dada la siguiente lista:\n",
    "#     L = [10, None, 8, 5, None, 20]\n",
    "# \"\"\"\n",
    "L = [10, None, 8, 5, None, 20]\n",
    "print(L)\n",
    "\n",
    "# 1) Susitituir por -1 el valor None usando bucles y listas\n",
    "\n",
    "for i in range(len(L)):\n",
    "    if L[i]==None:\n",
    "        L[i]=-1\n",
    "print(L)"
   ]
  },
  {
   "cell_type": "code",
   "execution_count": 22,
   "id": "853d761f",
   "metadata": {},
   "outputs": [
    {
     "name": "stdout",
     "output_type": "stream",
     "text": [
      "[10, None, 8, 5, None, 20]\n",
      "[10, -1, 8, 5, -1, 20]\n"
     ]
    }
   ],
   "source": [
    "def sustituir_valor_lista(lista, valor):\n",
    "    for i in range(len(lista)):\n",
    "        if lista[i]==None:\n",
    "            lista[i]=valor\n",
    "    return lista\n",
    "\n",
    "L = [10, None, 8, 5, None, 20]\n",
    "print(L)\n",
    "print(sustituir_valor_lista(L, -1))"
   ]
  },
  {
   "cell_type": "code",
   "execution_count": 17,
   "id": "0101c62b",
   "metadata": {},
   "outputs": [
    {
     "data": {
      "text/html": [
       "<div>\n",
       "<style scoped>\n",
       "    .dataframe tbody tr th:only-of-type {\n",
       "        vertical-align: middle;\n",
       "    }\n",
       "\n",
       "    .dataframe tbody tr th {\n",
       "        vertical-align: top;\n",
       "    }\n",
       "\n",
       "    .dataframe thead th {\n",
       "        text-align: right;\n",
       "    }\n",
       "</style>\n",
       "<table border=\"1\" class=\"dataframe\">\n",
       "  <thead>\n",
       "    <tr style=\"text-align: right;\">\n",
       "      <th></th>\n",
       "      <th>Valores</th>\n",
       "    </tr>\n",
       "  </thead>\n",
       "  <tbody>\n",
       "    <tr>\n",
       "      <th>0</th>\n",
       "      <td>10.0</td>\n",
       "    </tr>\n",
       "    <tr>\n",
       "      <th>1</th>\n",
       "      <td>NaN</td>\n",
       "    </tr>\n",
       "    <tr>\n",
       "      <th>2</th>\n",
       "      <td>8.0</td>\n",
       "    </tr>\n",
       "    <tr>\n",
       "      <th>3</th>\n",
       "      <td>5.0</td>\n",
       "    </tr>\n",
       "    <tr>\n",
       "      <th>4</th>\n",
       "      <td>NaN</td>\n",
       "    </tr>\n",
       "    <tr>\n",
       "      <th>5</th>\n",
       "      <td>20.0</td>\n",
       "    </tr>\n",
       "  </tbody>\n",
       "</table>\n",
       "</div>"
      ],
      "text/plain": [
       "   Valores\n",
       "0     10.0\n",
       "1      NaN\n",
       "2      8.0\n",
       "3      5.0\n",
       "4      NaN\n",
       "5     20.0"
      ]
     },
     "execution_count": 17,
     "metadata": {},
     "output_type": "execute_result"
    }
   ],
   "source": [
    "# 2) Creamos un dataframe con los valores de la lista y\n",
    "#     modificamos los \"NaN\" por un valor de -1 (Valores nulos, suma, etc..)\n",
    "L = [10, None, 8, 5, None, 20]\n",
    "df=pd.DataFrame({\"Valores\":L})\n",
    "df"
   ]
  },
  {
   "cell_type": "code",
   "execution_count": 18,
   "id": "c5ca6699",
   "metadata": {},
   "outputs": [
    {
     "data": {
      "text/html": [
       "<div>\n",
       "<style scoped>\n",
       "    .dataframe tbody tr th:only-of-type {\n",
       "        vertical-align: middle;\n",
       "    }\n",
       "\n",
       "    .dataframe tbody tr th {\n",
       "        vertical-align: top;\n",
       "    }\n",
       "\n",
       "    .dataframe thead th {\n",
       "        text-align: right;\n",
       "    }\n",
       "</style>\n",
       "<table border=\"1\" class=\"dataframe\">\n",
       "  <thead>\n",
       "    <tr style=\"text-align: right;\">\n",
       "      <th></th>\n",
       "      <th>Valores</th>\n",
       "    </tr>\n",
       "  </thead>\n",
       "  <tbody>\n",
       "    <tr>\n",
       "      <th>0</th>\n",
       "      <td>10.0</td>\n",
       "    </tr>\n",
       "    <tr>\n",
       "      <th>1</th>\n",
       "      <td>NaN</td>\n",
       "    </tr>\n",
       "    <tr>\n",
       "      <th>2</th>\n",
       "      <td>8.0</td>\n",
       "    </tr>\n",
       "    <tr>\n",
       "      <th>3</th>\n",
       "      <td>5.0</td>\n",
       "    </tr>\n",
       "    <tr>\n",
       "      <th>4</th>\n",
       "      <td>NaN</td>\n",
       "    </tr>\n",
       "    <tr>\n",
       "      <th>5</th>\n",
       "      <td>20.0</td>\n",
       "    </tr>\n",
       "  </tbody>\n",
       "</table>\n",
       "</div>"
      ],
      "text/plain": [
       "   Valores\n",
       "0     10.0\n",
       "1      NaN\n",
       "2      8.0\n",
       "3      5.0\n",
       "4      NaN\n",
       "5     20.0"
      ]
     },
     "execution_count": 18,
     "metadata": {},
     "output_type": "execute_result"
    }
   ],
   "source": [
    "df2=pd.DataFrame(L, columns=[\"Valores\"])\n",
    "df2"
   ]
  },
  {
   "cell_type": "code",
   "execution_count": 23,
   "id": "a1dfa6b5",
   "metadata": {},
   "outputs": [
    {
     "data": {
      "text/plain": [
       "0    10.0\n",
       "1    -1.0\n",
       "2     8.0\n",
       "3     5.0\n",
       "4    -1.0\n",
       "5    20.0\n",
       "Name: Valores, dtype: float64"
      ]
     },
     "execution_count": 23,
     "metadata": {},
     "output_type": "execute_result"
    }
   ],
   "source": [
    "def sustituir_valor_df(DF, valor):\n",
    "    DF = DF.fillna(valor)\n",
    "    return DF\n",
    "sustituir_valor_df(df.Valores, -1)"
   ]
  },
  {
   "cell_type": "code",
   "execution_count": 24,
   "id": "2a3f8acc",
   "metadata": {},
   "outputs": [
    {
     "data": {
      "text/plain": [
       "0    10.00\n",
       "1    10.75\n",
       "2     8.00\n",
       "3     5.00\n",
       "4    10.75\n",
       "5    20.00\n",
       "Name: Valores, dtype: float64"
      ]
     },
     "execution_count": 24,
     "metadata": {},
     "output_type": "execute_result"
    }
   ],
   "source": [
    "# 3) Vuelve a escribir el listado con falta de valores (inicial),\n",
    "#     y sustituye por la media.\n",
    "\n",
    "L = [10, None, 8, 5, None, 20]\n",
    "df=pd.DataFrame({\"Valores\":L})\n",
    "df\n",
    "\n",
    "def sustituir_valor_df(DF, valor):\n",
    "    DF = DF.fillna(valor)\n",
    "    return DF\n",
    "\n",
    "sustituir_valor_df(df.Valores, df.Valores.mean())"
   ]
  },
  {
   "cell_type": "code",
   "execution_count": 25,
   "id": "43ff40b5",
   "metadata": {},
   "outputs": [
    {
     "data": {
      "text/html": [
       "<div>\n",
       "<style scoped>\n",
       "    .dataframe tbody tr th:only-of-type {\n",
       "        vertical-align: middle;\n",
       "    }\n",
       "\n",
       "    .dataframe tbody tr th {\n",
       "        vertical-align: top;\n",
       "    }\n",
       "\n",
       "    .dataframe thead th {\n",
       "        text-align: right;\n",
       "    }\n",
       "</style>\n",
       "<table border=\"1\" class=\"dataframe\">\n",
       "  <thead>\n",
       "    <tr style=\"text-align: right;\">\n",
       "      <th></th>\n",
       "      <th>Valores</th>\n",
       "      <th>listado2</th>\n",
       "    </tr>\n",
       "  </thead>\n",
       "  <tbody>\n",
       "    <tr>\n",
       "      <th>0</th>\n",
       "      <td>10.0</td>\n",
       "      <td>10</td>\n",
       "    </tr>\n",
       "    <tr>\n",
       "      <th>1</th>\n",
       "      <td>NaN</td>\n",
       "      <td>20</td>\n",
       "    </tr>\n",
       "    <tr>\n",
       "      <th>2</th>\n",
       "      <td>8.0</td>\n",
       "      <td>50</td>\n",
       "    </tr>\n",
       "    <tr>\n",
       "      <th>3</th>\n",
       "      <td>5.0</td>\n",
       "      <td>30</td>\n",
       "    </tr>\n",
       "    <tr>\n",
       "      <th>4</th>\n",
       "      <td>NaN</td>\n",
       "      <td>20</td>\n",
       "    </tr>\n",
       "    <tr>\n",
       "      <th>5</th>\n",
       "      <td>20.0</td>\n",
       "      <td>0</td>\n",
       "    </tr>\n",
       "  </tbody>\n",
       "</table>\n",
       "</div>"
      ],
      "text/plain": [
       "   Valores  listado2\n",
       "0     10.0        10\n",
       "1      NaN        20\n",
       "2      8.0        50\n",
       "3      5.0        30\n",
       "4      NaN        20\n",
       "5     20.0         0"
      ]
     },
     "execution_count": 25,
     "metadata": {},
     "output_type": "execute_result"
    }
   ],
   "source": [
    "# 4) Apendiza la columna con estos valores\n",
    "#     listado2 = [10, 20, 50, 30, 20, 0]\n",
    "\n",
    "listado2 = [10, 20, 50, 30, 20, 0]\n",
    "\n",
    "df[\"listado2\"]=listado2\n",
    "df"
   ]
  },
  {
   "cell_type": "code",
   "execution_count": 27,
   "id": "aa7a770b",
   "metadata": {},
   "outputs": [
    {
     "data": {
      "text/html": [
       "<div>\n",
       "<style scoped>\n",
       "    .dataframe tbody tr th:only-of-type {\n",
       "        vertical-align: middle;\n",
       "    }\n",
       "\n",
       "    .dataframe tbody tr th {\n",
       "        vertical-align: top;\n",
       "    }\n",
       "\n",
       "    .dataframe thead th {\n",
       "        text-align: right;\n",
       "    }\n",
       "</style>\n",
       "<table border=\"1\" class=\"dataframe\">\n",
       "  <thead>\n",
       "    <tr style=\"text-align: right;\">\n",
       "      <th></th>\n",
       "      <th>Valores</th>\n",
       "    </tr>\n",
       "  </thead>\n",
       "  <tbody>\n",
       "    <tr>\n",
       "      <th>0</th>\n",
       "      <td>10.0</td>\n",
       "    </tr>\n",
       "    <tr>\n",
       "      <th>1</th>\n",
       "      <td>NaN</td>\n",
       "    </tr>\n",
       "    <tr>\n",
       "      <th>2</th>\n",
       "      <td>8.0</td>\n",
       "    </tr>\n",
       "    <tr>\n",
       "      <th>3</th>\n",
       "      <td>5.0</td>\n",
       "    </tr>\n",
       "    <tr>\n",
       "      <th>4</th>\n",
       "      <td>NaN</td>\n",
       "    </tr>\n",
       "    <tr>\n",
       "      <th>5</th>\n",
       "      <td>20.0</td>\n",
       "    </tr>\n",
       "  </tbody>\n",
       "</table>\n",
       "</div>"
      ],
      "text/plain": [
       "   Valores\n",
       "0     10.0\n",
       "1      NaN\n",
       "2      8.0\n",
       "3      5.0\n",
       "4      NaN\n",
       "5     20.0"
      ]
     },
     "execution_count": 27,
     "metadata": {},
     "output_type": "execute_result"
    }
   ],
   "source": [
    "# 5) Elimina la columna L\n",
    "\n",
    "df=df.drop([\"listado2\"],axis=1)\n",
    "df"
   ]
  },
  {
   "cell_type": "code",
   "execution_count": 28,
   "id": "e37f9b04",
   "metadata": {},
   "outputs": [
    {
     "data": {
      "text/plain": [
       "[10, 20, 30, 40]"
      ]
     },
     "execution_count": 28,
     "metadata": {},
     "output_type": "execute_result"
    }
   ],
   "source": [
    "#\n",
    "# EJERCICIO 3\n",
    "#\n",
    "#\"\"\"\n",
    "#    Crear un listado con los siguientes numeros:\n",
    "#        10, 20, 30, 40 (nombra la lista con nombre: \"listado\")\n",
    "#\"\"\"\n",
    "# 1) Crea el listado e imprimelo:\n",
    "\n",
    "listado = [10, 20, 30, 40]\n",
    "listado"
   ]
  },
  {
   "cell_type": "code",
   "execution_count": 29,
   "id": "42d3814c",
   "metadata": {},
   "outputs": [
    {
     "data": {
      "text/plain": [
       "[10, 20, 30, 40, 50]"
      ]
     },
     "execution_count": 29,
     "metadata": {},
     "output_type": "execute_result"
    }
   ],
   "source": [
    "# 2) Apendiza el valor 50 ( si es posible)\n",
    "listado.append(50)\n",
    "listado\n"
   ]
  },
  {
   "cell_type": "code",
   "execution_count": 31,
   "id": "286c699c",
   "metadata": {},
   "outputs": [
    {
     "name": "stdout",
     "output_type": "stream",
     "text": [
      "[10, 20, 30, 40]\n",
      "[10, 20, 30, 40, 50]\n"
     ]
    }
   ],
   "source": [
    "def apendiza_lista(lista, valor):\n",
    "    lista.append(valor)\n",
    "    return lista\n",
    "\n",
    "listado = [10, 20, 30, 40]\n",
    "print(listado)\n",
    "print(apendiza_lista(listado, 50))"
   ]
  },
  {
   "cell_type": "code",
   "execution_count": 32,
   "id": "082f2cdd",
   "metadata": {},
   "outputs": [
    {
     "name": "stdout",
     "output_type": "stream",
     "text": [
      "[10, 20, 30, 40, 50]\n",
      "[100, 20, 30, 40, 50]\n"
     ]
    }
   ],
   "source": [
    "# 3) Modifica (si es posible) el valor 10 por 100\n",
    "\n",
    "def modifica_lista(lista, valor, valor_s):\n",
    "    for i in range(len(lista)):\n",
    "        if lista[i]==valor:\n",
    "            lista[i]=valor_s\n",
    "    return lista\n",
    "\n",
    "print(listado)\n",
    "print(modifica_lista(listado, 10,100))"
   ]
  },
  {
   "cell_type": "code",
   "execution_count": 33,
   "id": "eee2dce6",
   "metadata": {},
   "outputs": [
    {
     "data": {
      "text/plain": [
       "[10, 20, 30, 40, 50]"
      ]
     },
     "execution_count": 33,
     "metadata": {},
     "output_type": "execute_result"
    }
   ],
   "source": [
    "# EJERCICIO 4\n",
    "# \n",
    "# \"\"\"\n",
    "#     Dada una lista de nombre \"Temperatura\" con valores: 10, 20, 30, 40, 50\n",
    "# \"\"\"\n",
    "\n",
    "# 1) Crea el listado e imprimelo:\n",
    "Temperatura = [10, 20, 30, 40, 50]\n",
    "Temperatura"
   ]
  },
  {
   "cell_type": "code",
   "execution_count": 34,
   "id": "03f78cf4",
   "metadata": {},
   "outputs": [
    {
     "data": {
      "text/plain": [
       "20"
      ]
     },
     "execution_count": 34,
     "metadata": {},
     "output_type": "execute_result"
    }
   ],
   "source": [
    "# 2) En este \"Temperatura\". ¿Cuál es el elemento en la posición (index) 1?\n",
    "Temperatura[1]"
   ]
  },
  {
   "cell_type": "code",
   "execution_count": 35,
   "id": "7bb5eedc",
   "metadata": {},
   "outputs": [
    {
     "data": {
      "text/plain": [
       "10"
      ]
     },
     "execution_count": 35,
     "metadata": {},
     "output_type": "execute_result"
    }
   ],
   "source": [
    "# 3) ¿Y en la posición (index) 0?\n",
    "\n",
    "Temperatura[0]"
   ]
  },
  {
   "cell_type": "code",
   "execution_count": 36,
   "id": "fb571b8b",
   "metadata": {},
   "outputs": [
    {
     "data": {
      "text/plain": [
       "50"
      ]
     },
     "execution_count": 36,
     "metadata": {},
     "output_type": "execute_result"
    }
   ],
   "source": [
    "# 4) ¿Y en la posición (index) -1?\n",
    "\n",
    "Temperatura[-1]"
   ]
  },
  {
   "cell_type": "code",
   "execution_count": null,
   "id": "a9c4038b-c69c-413f-96de-0c63e055696d",
   "metadata": {},
   "outputs": [],
   "source": []
  }
 ],
 "metadata": {
  "kernelspec": {
   "display_name": "Python 3 (ipykernel)",
   "language": "python",
   "name": "python3"
  },
  "language_info": {
   "codemirror_mode": {
    "name": "ipython",
    "version": 3
   },
   "file_extension": ".py",
   "mimetype": "text/x-python",
   "name": "python",
   "nbconvert_exporter": "python",
   "pygments_lexer": "ipython3",
   "version": "3.8.10"
  }
 },
 "nbformat": 4,
 "nbformat_minor": 5
}
