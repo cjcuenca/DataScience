{
 "cells": [
  {
   "cell_type": "code",
   "execution_count": 6,
   "id": "2c399386",
   "metadata": {},
   "outputs": [
    {
     "name": "stdout",
     "output_type": "stream",
     "text": [
      "El alumno Pedro tiene 26 años y ha obtenido una nota de 7.4\n",
      "El alumno Sergio tiene 28 años y ha obtenido una nota de 9.7\n"
     ]
    }
   ],
   "source": [
    "# Ejercicio 1\n",
    "# \n",
    "# \"\"\"\n",
    "#     Desarrolla el siguiente ejercicios de POO:\n",
    "#    * Alumnos  -> Es la clase.\n",
    "#    * __init__ -> Es el método init\n",
    "#    * nombre, edad, asignatura y nota son las propiedades\n",
    "#    * Instanciamos..\n",
    "#    * los posibles alumnos (alumno1, alumno2, alumno3..) --> son los \"objetos\"\n",
    "#    * y el.__init__ los inicializa\n",
    "#    A continuación muestra la edad del alumno 2 y el alumno 3 y sus notas\n",
    "# \"\"\"\n",
    "\n",
    "class Alumno:\n",
    "    def __init__(self,nombre,edad,asignatura,nota):\n",
    "        self.nombre=nombre\n",
    "        self.edad=edad\n",
    "        self.asignatura=asignatura\n",
    "        self.nota=nota\n",
    "    \n",
    "alumno1 = Alumno(\"Pedro\", 25, \"Matemáticas\", 6.8)\n",
    "alumno2 = Alumno(\"Elia\", 26, \"Historia\", 7.4)\n",
    "alumno3 = Alumno(\"Sergio\", 28, \"Lengua\", 9.7)\n",
    "\n",
    "print(\"El alumno\",alumno1.nombre,\"tiene\",alumno2.edad, \"años\",\"y ha obtenido una nota de\",alumno2.nota)\n",
    "print(\"El alumno\",alumno3.nombre,\"tiene\",alumno3.edad, \"años\",\"y ha obtenido una nota de\",alumno3.nota)"
   ]
  },
  {
   "cell_type": "code",
   "execution_count": 9,
   "id": "3961147f",
   "metadata": {},
   "outputs": [
    {
     "name": "stdout",
     "output_type": "stream",
     "text": [
      "¿Cuantos años tiene? 6\n",
      "1\n",
      "2\n",
      "3\n",
      "4\n",
      "5\n",
      "6\n"
     ]
    }
   ],
   "source": [
    "# Ejercicio 2\n",
    "# \n",
    "# \"\"\"\n",
    "#     Escribir un programa que pregunte al usuario su edad\n",
    "#     y muestre por pantalla todos los años que ha cumplido (desde 1 hasta su edad).\n",
    "# \"\"\"\n",
    "def listado_edad(edad):\n",
    "    for i in range(int(edad)):\n",
    "        print(i+1)\n",
    "\n",
    "edad=input(\"¿Cuantos años tiene? \")\n",
    "listado_edad(edad)"
   ]
  },
  {
   "cell_type": "code",
   "execution_count": 12,
   "id": "9701017e",
   "metadata": {},
   "outputs": [
    {
     "name": "stdout",
     "output_type": "stream",
     "text": [
      "Introduzca una palabra carlos\n",
      "s\n",
      "o\n",
      "l\n",
      "r\n",
      "a\n",
      "c\n"
     ]
    }
   ],
   "source": [
    "# Ejercicio 3\n",
    "# \n",
    "# \"\"\"\n",
    "#     Escribir un programa que pida al usuario una palabra y\n",
    "#     luego muestre por pantalla una a una las letras de la palabra introducida empezando por la última.\n",
    "# \"\"\"\n",
    "def listado_inverso(palabra):\n",
    "    contador=0\n",
    "    for i in range(len(palabra)):        \n",
    "        contador=contador-1\n",
    "        print(palabra[contador])\n",
    "        \n",
    "        \n",
    "palabra=input(\"Introduzca una palabra \")\n",
    "listado_inverso(palabra)"
   ]
  },
  {
   "cell_type": "code",
   "execution_count": 20,
   "id": "6323a9fd",
   "metadata": {},
   "outputs": [
    {
     "name": "stdout",
     "output_type": "stream",
     "text": [
      "Introduzca una palabra carlos\n",
      "s\n",
      "o\n",
      "l\n",
      "r\n",
      "a\n",
      "c\n"
     ]
    }
   ],
   "source": [
    "def listado_inverso2(palabra):\n",
    "    contador=0\n",
    "    for i in range(len(palabra)-1, -1, -1):      \n",
    "        print(palabra[i])\n",
    "\n",
    "palabra=input(\"Introduzca una palabra \")\n",
    "\n",
    "listado_inverso2(palabra)"
   ]
  },
  {
   "cell_type": "code",
   "execution_count": 24,
   "id": "fc99a4e4",
   "metadata": {},
   "outputs": [
    {
     "name": "stdout",
     "output_type": "stream",
     "text": [
      "Introduzca su nombre Carlos cuenca\n",
      "CARLOS CUENCA\n",
      "carlos cuenca\n",
      "Carlos Cuenca\n"
     ]
    }
   ],
   "source": [
    "# Ejercicio 4\n",
    "#\n",
    "#\"\"\"\n",
    "#    Escribir un programa que pregunte el nombre completo del usuario en la consola y\n",
    "#    después muestre por pantalla el nombre completo del usuario tres veces,\n",
    "#    una con todas las letras minúsculas,\n",
    "#    otra con todas las letras mayúsculas y otra solo con la primera letra del nombre y de los apellidos en mayúscula.\n",
    "#    El usuario puede introducir su nombre combinando mayúsculas y minúsculas como quiera.\n",
    "#\"\"\"\n",
    "\n",
    "def listado(nombre):\n",
    "    print(nombre.upper())\n",
    "    print(nombre.lower())\n",
    "    print(nombre.title())\n",
    "    return\n",
    "\n",
    "nombre=input(\"Introduzca su nombre \")\n",
    "listado(nombre)"
   ]
  },
  {
   "cell_type": "code",
   "execution_count": 11,
   "id": "c38a6661",
   "metadata": {},
   "outputs": [
    {
     "name": "stdout",
     "output_type": "stream",
     "text": [
      "Introduzca el telefono de la empresa +34-913724710-56\n",
      "El numero de teléfono es: 913724710\n"
     ]
    }
   ],
   "source": [
    "# Ejercicio 5\n",
    "# \n",
    "# \"\"\"\n",
    "#     Los teléfonos de una empresa tienen el siguiente formato prefijo-número-extension \n",
    "#     donde el prefijo es el código del país +34,\n",
    "#     y la extensión tiene dos dígitos (por ejemplo +34-913724710-56).\n",
    "#     Escribir un programa que pregunte por un número de teléfono con este formato\n",
    "#     y muestre por pantalla el número de teléfono sin el prefijo y la extensión.\n",
    "# \"\"\"\n",
    "def listado_tel(telefono):\n",
    "    tel=telefono.split(\"-\")\n",
    "    tel_normalizado=tel[1]    \n",
    "    return tel_normalizado\n",
    "\n",
    "telefono=input(\"Introduzca el telefono de la empresa \")\n",
    "print(f\"El numero de teléfono es: {listado_tel(telefono)}\")"
   ]
  },
  {
   "cell_type": "code",
   "execution_count": 6,
   "id": "2925143a",
   "metadata": {},
   "outputs": [
    {
     "name": "stdout",
     "output_type": "stream",
     "text": [
      "Introduzca el telefono de la empresa +34-913724710-56\n"
     ]
    },
    {
     "data": {
      "text/plain": [
       "'913724710'"
      ]
     },
     "execution_count": 6,
     "metadata": {},
     "output_type": "execute_result"
    }
   ],
   "source": [
    "def listado_tel(telefono):\n",
    "    tel_normalizado=telefono[4:13]    \n",
    "    return tel_normalizado\n",
    "\n",
    "telefono=input(\"Introduzca el telefono de la empresa \")\n",
    "listado_tel(telefono)"
   ]
  },
  {
   "cell_type": "code",
   "execution_count": 12,
   "id": "951a7648",
   "metadata": {},
   "outputs": [
    {
     "name": "stdout",
     "output_type": "stream",
     "text": [
      "Introduzca una frase Megalitico\n",
      "Introduzca una vocal i\n",
      "La frase haciendo mayusculas la letra i es MegalItIco\n"
     ]
    }
   ],
   "source": [
    "# Ejercicio 6\n",
    "# \n",
    "# \"\"\"\n",
    "#     Escribir un programa que pida al usuario que introduzca una frase en la consola y una vocal,\n",
    "#     y después muestre por pantalla la misma frase pero con la vocal introducida en mayúscula.\n",
    "#     ejemplo geranio --> e --> gEranio\n",
    "# \"\"\"\n",
    "def cambiar_vocal(frase, vocal):\n",
    "    for i in range(len(frase)):\n",
    "        if frase[i]==vocal:\n",
    "            frase=frase[0:i]+vocal.upper()+frase[i+1:len(frase)]\n",
    "    return frase\n",
    "\n",
    "frase=input(\"Introduzca una frase \")\n",
    "vocal=input(\"Introduzca una vocal \")\n",
    "\n",
    "print(f\"La frase haciendo mayusculas la letra {vocal} es {cambiar_vocal(frase, vocal)}\")"
   ]
  },
  {
   "cell_type": "code",
   "execution_count": 1,
   "id": "67bd6014",
   "metadata": {},
   "outputs": [
    {
     "name": "stdout",
     "output_type": "stream",
     "text": [
      "Introduzca una frase pedro por su casa\n",
      "Introduzca una vocal a\n",
      "pedro por su cAsA\n"
     ]
    }
   ],
   "source": [
    "def cambiar_vocal2(frase, vocal):\n",
    "    return print(frase.replace(vocal, vocal.upper()))\n",
    "     \n",
    "\n",
    "frase=input(\"Introduzca una frase \")\n",
    "vocal=input(\"Introduzca una vocal \")\n",
    "\n",
    "cambiar_vocal2(frase, vocal)"
   ]
  },
  {
   "cell_type": "code",
   "execution_count": 13,
   "id": "2f434e64",
   "metadata": {},
   "outputs": [
    {
     "name": "stdout",
     "output_type": "stream",
     "text": [
      "Introduzca un numero decimal 24.75\n",
      "24.75 --> 24  Euros con 75 Centimos\n"
     ]
    }
   ],
   "source": [
    "# Ejercicio 7\n",
    "# \n",
    "# \"\"\"\n",
    "#     Escribir un programa que pregunte por consola el precio de un producto en euros con dos decimales\n",
    "#     y muestre por pantalla el número de euros y el número de céntimos del precio introducido.\n",
    "#     Ejemplo: 24.75 --> 24 Euros con 75 Centimos\n",
    "# \"\"\"\n",
    "\n",
    "def separar_decimales(numero):\n",
    "    num=numero.split(\".\")\n",
    "    print(f\"{numero} --> {num[0]}  Euros con {num[1]} Centimos\")\n",
    "    return \n",
    "\n",
    "numero=input(\"Introduzca un numero decimal \")\n",
    "\n",
    "separar_decimales(numero)"
   ]
  },
  {
   "cell_type": "code",
   "execution_count": 14,
   "id": "37b697ac",
   "metadata": {},
   "outputs": [
    {
     "data": {
      "text/html": [
       "<div>\n",
       "<style scoped>\n",
       "    .dataframe tbody tr th:only-of-type {\n",
       "        vertical-align: middle;\n",
       "    }\n",
       "\n",
       "    .dataframe tbody tr th {\n",
       "        vertical-align: top;\n",
       "    }\n",
       "\n",
       "    .dataframe thead th {\n",
       "        text-align: right;\n",
       "    }\n",
       "</style>\n",
       "<table border=\"1\" class=\"dataframe\">\n",
       "  <thead>\n",
       "    <tr style=\"text-align: right;\">\n",
       "      <th></th>\n",
       "      <th>Mes</th>\n",
       "      <th>Ventas</th>\n",
       "      <th>Gastos</th>\n",
       "    </tr>\n",
       "  </thead>\n",
       "  <tbody>\n",
       "    <tr>\n",
       "      <th>0</th>\n",
       "      <td>Enero</td>\n",
       "      <td>30500</td>\n",
       "      <td>22000</td>\n",
       "    </tr>\n",
       "    <tr>\n",
       "      <th>1</th>\n",
       "      <td>Febrero</td>\n",
       "      <td>35600</td>\n",
       "      <td>23400</td>\n",
       "    </tr>\n",
       "    <tr>\n",
       "      <th>2</th>\n",
       "      <td>Marzo</td>\n",
       "      <td>28300</td>\n",
       "      <td>18100</td>\n",
       "    </tr>\n",
       "    <tr>\n",
       "      <th>3</th>\n",
       "      <td>Abril</td>\n",
       "      <td>33900</td>\n",
       "      <td>20700</td>\n",
       "    </tr>\n",
       "  </tbody>\n",
       "</table>\n",
       "</div>"
      ],
      "text/plain": [
       "       Mes  Ventas  Gastos\n",
       "0    Enero   30500   22000\n",
       "1  Febrero   35600   23400\n",
       "2    Marzo   28300   18100\n",
       "3    Abril   33900   20700"
      ]
     },
     "execution_count": 14,
     "metadata": {},
     "output_type": "execute_result"
    }
   ],
   "source": [
    "# Ejercicio 8\n",
    "# \n",
    "# \"\"\"\n",
    "#     Escribir programa que genere y muestre por pantalla un DataFrame con los datos de la tabla siguiente:\n",
    "#     Mes Ventas Gastos\n",
    "#     Enero 30500 22000\n",
    "#     Febrero 35600 23400\n",
    "#     Marzo 28300 18100\n",
    "#     Abril 33900 20700\n",
    "# \"\"\"\n",
    "\n",
    "import pandas as pd\n",
    "\n",
    "datos_meses = ['Enero', 'Febrero', 'Marzo', 'Abril']\n",
    "datos_ventas = [30500, 35600, 28300, 33900] \n",
    "datos_gastos = [22000, 23400, 18100, 20700]\n",
    "\n",
    "datos_tabla = {'Mes':datos_meses,\n",
    "            'Ventas': datos_ventas,\n",
    "            'Gastos': datos_gastos}\n",
    "df=pd.DataFrame(datos_tabla)\n",
    "df"
   ]
  },
  {
   "cell_type": "code",
   "execution_count": 23,
   "id": "3ceedd4d",
   "metadata": {},
   "outputs": [
    {
     "data": {
      "text/plain": [
       "44100"
      ]
     },
     "execution_count": 23,
     "metadata": {},
     "output_type": "execute_result"
    }
   ],
   "source": [
    "# Ejercicio 9\n",
    "# \n",
    "# \"\"\"\n",
    "#     Escribir una función que reciba un DataFrame con el formato del ejercicio anterior,\n",
    "#     una lista de meses, y devuelva el balance (ventas - gastos) total en los meses indicados.\n",
    "# \"\"\"\n",
    "\n",
    "def balance_df(df):\n",
    "    balance = 0\n",
    "    for i in range(len(df.Mes)):\n",
    "        balance=balance+df.Ventas[i]-df.Gastos[i]\n",
    "\n",
    "    return balance\n",
    "\n",
    "balance_df(df)\n"
   ]
  },
  {
   "cell_type": "code",
   "execution_count": 22,
   "id": "c4aeac68",
   "metadata": {},
   "outputs": [
    {
     "name": "stdout",
     "output_type": "stream",
     "text": [
      "44100\n"
     ]
    }
   ],
   "source": [
    "def balance_df(df):\n",
    "    balance =[]\n",
    "    for i in range(len(df.Mes)):\n",
    "        b =df.Ventas[i]-df.Gastos[i]\n",
    "        balance.append(b)\n",
    "    return balance\n",
    "\n",
    "print(sum(balance_df(df)))"
   ]
  },
  {
   "cell_type": "code",
   "execution_count": 22,
   "id": "761224bd",
   "metadata": {},
   "outputs": [
    {
     "name": "stdout",
     "output_type": "stream",
     "text": [
      "¿Que nota ha sacado en la asignatura Matemáticas ? 5,6\n",
      "¿Que nota ha sacado en la asignatura Física ? 7.7\n",
      "¿Que nota ha sacado en la asignatura Química ? 9.9\n",
      "¿Que nota ha sacado en la asignatura Historia ? 3.3\n",
      "¿Que nota ha sacado en la asignatura Lengua ? 4.5\n",
      "\n",
      "\n",
      "Has sacado MATEMÁTICAS la nota de 5,6\n",
      "Has sacado FÍSICA la nota de 7.7\n",
      "Has sacado QUÍMICA la nota de 9.9\n",
      "Has sacado HISTORIA la nota de 3.3\n",
      "Has sacado LENGUA la nota de 4.5\n"
     ]
    }
   ],
   "source": [
    "# Ejercicio 10\n",
    "# \n",
    "# \"\"\"\n",
    "#     Escribir un programa que almacene las asignaturas de un curso\n",
    "#     (por ejemplo Matemáticas, Física, Química, Historia y Lengua) en una lista,\n",
    "#     pregunte al usuario la nota que ha sacado en cada asignatura,\n",
    "#     y después las muestre por pantalla con el mensaje \"Has sacado ASIGNATURA la nota de NOTA\"\n",
    "#     donde es cada una de las asignaturas de la lista y cada una de las correspondientes notas introducidas por el usuario.\n",
    "# \"\"\"\n",
    "\n",
    "def listado_notas(asignaturas):\n",
    "    notas = []\n",
    "    for i in range(len(asignaturas)):\n",
    "        nota=input(f\"¿Que nota ha sacado en la asignatura {asignaturas[i]} ? \")\n",
    "        notas.append(nota)\n",
    "    print(\"\\n\")\n",
    "    \n",
    "    for i in range(len(notas)):\n",
    "        print(f\"Has sacado {asignaturas[i].upper()} la nota de {notas[i]}\")\n",
    "    return\n",
    "\n",
    "asignaturas = [\"Matemáticas\", \"Física\", \"Química\", \"Historia\", \"Lengua\"]\n",
    "listado_notas(asignaturas)\n",
    "              "
   ]
  },
  {
   "cell_type": "code",
   "execution_count": null,
   "id": "bcdb3f6f",
   "metadata": {},
   "outputs": [],
   "source": []
  }
 ],
 "metadata": {
  "kernelspec": {
   "display_name": "Python 3 (ipykernel)",
   "language": "python",
   "name": "python3"
  },
  "language_info": {
   "codemirror_mode": {
    "name": "ipython",
    "version": 3
   },
   "file_extension": ".py",
   "mimetype": "text/x-python",
   "name": "python",
   "nbconvert_exporter": "python",
   "pygments_lexer": "ipython3",
   "version": "3.8.10"
  }
 },
 "nbformat": 4,
 "nbformat_minor": 5
}
