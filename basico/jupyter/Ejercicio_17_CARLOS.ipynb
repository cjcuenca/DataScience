{
 "cells": [
  {
   "cell_type": "code",
   "execution_count": 1,
   "id": "86935b6b",
   "metadata": {},
   "outputs": [],
   "source": [
    "# EJERCICIO 1\n",
    "# \n",
    "# \"\"\"\n",
    "#     Crea la clase \"matematicas\" y dentro de esa clase crea las funciones suma y resta,\n",
    "#     en dichas funciones nos deberán devolver el resultado de la suma y de la resta, siguiendo los siguientes pasos:\n",
    "# \"\"\"\n",
    "\n",
    "# Crea la clase matematicas\n",
    "# crea la funcion suma en la cual se le pase un valor (x):\n",
    "#           y = 10 + x\n",
    "#           retornar el resultado\n",
    "# crea la funcion resta en la cual se le pase un valor(x):\n",
    "#           y = 10- x\n",
    "#           retornar el resultado\n",
    "# Imprime el resultado de la función suma y de la funcion resta para un valor de x = 5, x = 10"
   ]
  },
  {
   "cell_type": "code",
   "execution_count": 2,
   "id": "5f2556fa",
   "metadata": {},
   "outputs": [],
   "source": [
    "class matematicas:\n",
    "    def funcion_suma(x):\n",
    "        y= 10 + x\n",
    "        return y\n",
    "    \n",
    "    def funcion_resta(x):\n",
    "        y = 10 - x\n",
    "        return y\n",
    "    \n"
   ]
  },
  {
   "cell_type": "code",
   "execution_count": 3,
   "id": "471df9a8",
   "metadata": {},
   "outputs": [
    {
     "name": "stdout",
     "output_type": "stream",
     "text": [
      "15\n"
     ]
    }
   ],
   "source": [
    "print(matematicas.funcion_suma(5))"
   ]
  },
  {
   "cell_type": "code",
   "execution_count": 4,
   "id": "b48065d1",
   "metadata": {},
   "outputs": [
    {
     "name": "stdout",
     "output_type": "stream",
     "text": [
      "5\n"
     ]
    }
   ],
   "source": [
    "print(matematicas.funcion_resta(5))"
   ]
  },
  {
   "cell_type": "code",
   "execution_count": 5,
   "id": "897c0baf",
   "metadata": {},
   "outputs": [],
   "source": [
    "# EJERCICIO 2\n",
    "# \n",
    "# \"\"\"\n",
    "#     Crea dos clases una llamala \"libros\" y otra clase \"materias\".\n",
    "#     A la clase libros declara una función con nombre \"tipos\" y dentro de clase materias declara una función con nombre \"asignaturas\".\n",
    "#     A la función tipos retorne el valor name = \"Data Science\" y la función asignaturas retorne nombre = \"Big Data\"\n",
    "# \"\"\"\n",
    "# 1) Prueba a retornar el resultados de la clase libros y la función tipos\n",
    "\n",
    "# 2) Prueba a retornar el resultados de la clase materias y la función asignaturas\n",
    "\n",
    "# 3) Prueba a retornar el resultados de la clase materias y la función tipos\n",
    "    # ¿ Qué es lo que observas ?"
   ]
  },
  {
   "cell_type": "code",
   "execution_count": 6,
   "id": "c254e09f",
   "metadata": {},
   "outputs": [],
   "source": [
    "class libros:\n",
    "    def tipos():\n",
    "        name = \"Data Science\"\n",
    "        return name\n",
    "    \n",
    "class materias:\n",
    "    def asignaturas():\n",
    "        nombre = \"Big Data\"\n",
    "        return nombre\n",
    "    "
   ]
  },
  {
   "cell_type": "code",
   "execution_count": 7,
   "id": "297a3899",
   "metadata": {},
   "outputs": [
    {
     "name": "stdout",
     "output_type": "stream",
     "text": [
      "Data Science\n"
     ]
    }
   ],
   "source": [
    "# 1) Prueba a retornar el resultados de la clase libros y la función tipos\n",
    "print(libros.tipos())"
   ]
  },
  {
   "cell_type": "code",
   "execution_count": 8,
   "id": "693d2639",
   "metadata": {},
   "outputs": [
    {
     "name": "stdout",
     "output_type": "stream",
     "text": [
      "Big Data\n"
     ]
    }
   ],
   "source": [
    "# 2) Prueba a retornar el resultados de la clase materias y la función asignaturas\n",
    "print(materias.asignaturas())"
   ]
  },
  {
   "cell_type": "code",
   "execution_count": 9,
   "id": "9f520952",
   "metadata": {
    "scrolled": true
   },
   "outputs": [
    {
     "ename": "AttributeError",
     "evalue": "type object 'materias' has no attribute 'tipos'",
     "output_type": "error",
     "traceback": [
      "\u001b[1;31m---------------------------------------------------------------------------\u001b[0m",
      "\u001b[1;31mAttributeError\u001b[0m                            Traceback (most recent call last)",
      "Input \u001b[1;32mIn [9]\u001b[0m, in \u001b[0;36m<cell line: 3>\u001b[1;34m()\u001b[0m\n\u001b[0;32m      1\u001b[0m \u001b[38;5;66;03m# 3) Prueba a retornar el resultados de la clase materias y la función tipos\u001b[39;00m\n\u001b[0;32m      2\u001b[0m     \u001b[38;5;66;03m# ¿ Qué es lo que observas ?\u001b[39;00m\n\u001b[1;32m----> 3\u001b[0m \u001b[38;5;28mprint\u001b[39m(\u001b[43mmaterias\u001b[49m\u001b[38;5;241;43m.\u001b[39;49m\u001b[43mtipos\u001b[49m())\n",
      "\u001b[1;31mAttributeError\u001b[0m: type object 'materias' has no attribute 'tipos'"
     ]
    }
   ],
   "source": [
    "# 3) Prueba a retornar el resultados de la clase materias y la función tipos\n",
    "    # ¿ Qué es lo que observas ?\n",
    "print(materias.tipos())"
   ]
  },
  {
   "cell_type": "code",
   "execution_count": 11,
   "id": "aa9400cf",
   "metadata": {},
   "outputs": [],
   "source": [
    "class libros:\n",
    "    def tipos():\n",
    "        name = \"Data Science\"\n",
    "        return name\n",
    "    \n",
    "class materias(libros):\n",
    "    def asignaturas():\n",
    "        nombre = \"Big Data\"\n",
    "        return nombre"
   ]
  },
  {
   "cell_type": "code",
   "execution_count": 12,
   "id": "cfd34b05",
   "metadata": {},
   "outputs": [
    {
     "name": "stdout",
     "output_type": "stream",
     "text": [
      "Data Science\n"
     ]
    }
   ],
   "source": [
    "print(materias.tipos())"
   ]
  },
  {
   "cell_type": "code",
   "execution_count": null,
   "id": "3e8df46b",
   "metadata": {},
   "outputs": [],
   "source": []
  }
 ],
 "metadata": {
  "kernelspec": {
   "display_name": "Python 3 (ipykernel)",
   "language": "python",
   "name": "python3"
  },
  "language_info": {
   "codemirror_mode": {
    "name": "ipython",
    "version": 3
   },
   "file_extension": ".py",
   "mimetype": "text/x-python",
   "name": "python",
   "nbconvert_exporter": "python",
   "pygments_lexer": "ipython3",
   "version": "3.8.10"
  }
 },
 "nbformat": 4,
 "nbformat_minor": 5
}
