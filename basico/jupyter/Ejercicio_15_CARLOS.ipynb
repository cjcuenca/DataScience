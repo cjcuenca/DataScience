{
 "cells": [
  {
   "cell_type": "code",
   "execution_count": 102,
   "id": "f713a00d",
   "metadata": {},
   "outputs": [],
   "source": [
    "### Ejercicio 1\n",
    "# 1) Crea una lista de nombre \"Concursante\" que contenga los siguientes valores:\n",
    "# \"Juan\", \"Pedro\", \"Andrea\", \"Luis\", \"Ana\", \"Lara\", \"Jose\", \"Estefania\""
   ]
  },
  {
   "cell_type": "code",
   "execution_count": 103,
   "id": "ff1d28bb",
   "metadata": {},
   "outputs": [],
   "source": [
    "Concursantes = [\"Juan\", \"Pedro\", \"Andrea\", \"Luis\", \"Ana\", \"Lara\", \"Jose\", \"Estefania\"]"
   ]
  },
  {
   "cell_type": "code",
   "execution_count": 122,
   "id": "5b78b7b4",
   "metadata": {},
   "outputs": [
    {
     "data": {
      "text/plain": [
       "['Juan', 'Pedro', 'Andrea', 'Luis', 'Ana', 'Lara', 'Jose', 'Estefania']"
      ]
     },
     "execution_count": 122,
     "metadata": {},
     "output_type": "execute_result"
    }
   ],
   "source": [
    "Concursantes"
   ]
  },
  {
   "cell_type": "code",
   "execution_count": 123,
   "id": "ed469769",
   "metadata": {},
   "outputs": [
    {
     "data": {
      "text/plain": [
       "[20, 30, 50, 20, 10, 5, 60, 40]"
      ]
     },
     "execution_count": 123,
     "metadata": {},
     "output_type": "execute_result"
    }
   ],
   "source": [
    "# 2) Crea una lista de nombre \"Resultados\" que contenga los siguientes valores:\n",
    "# 20, 30, 50, 20, 10, 5, 60, 40\n",
    "Resultados = [20, 30, 50, 20, 10, 5, 60, 40]\n",
    "Resultados"
   ]
  },
  {
   "cell_type": "code",
   "execution_count": 124,
   "id": "4b79aaa0",
   "metadata": {},
   "outputs": [
    {
     "data": {
      "text/plain": [
       "{'Concursantes': ['Juan',\n",
       "  'Pedro',\n",
       "  'Andrea',\n",
       "  'Luis',\n",
       "  'Ana',\n",
       "  'Lara',\n",
       "  'Jose',\n",
       "  'Estefania'],\n",
       " 'Resultados': [20, 30, 50, 20, 10, 5, 60, 40]}"
      ]
     },
     "execution_count": 124,
     "metadata": {},
     "output_type": "execute_result"
    }
   ],
   "source": [
    "# 3) Crea un diccionario con los concursantes y los resultados.\n",
    "diccionario={\"Concursantes\": Concursantes, \"Resultados\":Resultados}\n",
    "diccionario"
   ]
  },
  {
   "cell_type": "code",
   "execution_count": 125,
   "id": "806b5850",
   "metadata": {},
   "outputs": [],
   "source": [
    "# 4) Crea un dataframe vacio y apendiza los concursantes y los resultados mediante el empleo de un bucle for\n",
    "import pandas as pd\n",
    "\n",
    "df = pd.DataFrame(columns=[\"Concursantes\", \"Resultados\"])"
   ]
  },
  {
   "cell_type": "code",
   "execution_count": 126,
   "id": "18c509b7",
   "metadata": {},
   "outputs": [
    {
     "data": {
      "text/html": [
       "<div>\n",
       "<style scoped>\n",
       "    .dataframe tbody tr th:only-of-type {\n",
       "        vertical-align: middle;\n",
       "    }\n",
       "\n",
       "    .dataframe tbody tr th {\n",
       "        vertical-align: top;\n",
       "    }\n",
       "\n",
       "    .dataframe thead th {\n",
       "        text-align: right;\n",
       "    }\n",
       "</style>\n",
       "<table border=\"1\" class=\"dataframe\">\n",
       "  <thead>\n",
       "    <tr style=\"text-align: right;\">\n",
       "      <th></th>\n",
       "      <th>Concursantes</th>\n",
       "      <th>Resultados</th>\n",
       "    </tr>\n",
       "  </thead>\n",
       "  <tbody>\n",
       "  </tbody>\n",
       "</table>\n",
       "</div>"
      ],
      "text/plain": [
       "Empty DataFrame\n",
       "Columns: [Concursantes, Resultados]\n",
       "Index: []"
      ]
     },
     "execution_count": 126,
     "metadata": {},
     "output_type": "execute_result"
    }
   ],
   "source": [
    "df"
   ]
  },
  {
   "cell_type": "code",
   "execution_count": 127,
   "id": "b880f371",
   "metadata": {},
   "outputs": [
    {
     "name": "stdout",
     "output_type": "stream",
     "text": [
      "Concursantes ['Juan', 'Pedro', 'Andrea', 'Luis', 'Ana', 'Lara', 'Jose', 'Estefania']\n",
      "Resultados [20, 30, 50, 20, 10, 5, 60, 40]\n"
     ]
    },
    {
     "data": {
      "text/html": [
       "<div>\n",
       "<style scoped>\n",
       "    .dataframe tbody tr th:only-of-type {\n",
       "        vertical-align: middle;\n",
       "    }\n",
       "\n",
       "    .dataframe tbody tr th {\n",
       "        vertical-align: top;\n",
       "    }\n",
       "\n",
       "    .dataframe thead th {\n",
       "        text-align: right;\n",
       "    }\n",
       "</style>\n",
       "<table border=\"1\" class=\"dataframe\">\n",
       "  <thead>\n",
       "    <tr style=\"text-align: right;\">\n",
       "      <th></th>\n",
       "      <th>Concursantes</th>\n",
       "      <th>Resultados</th>\n",
       "    </tr>\n",
       "  </thead>\n",
       "  <tbody>\n",
       "    <tr>\n",
       "      <th>0</th>\n",
       "      <td>Juan</td>\n",
       "      <td>20</td>\n",
       "    </tr>\n",
       "    <tr>\n",
       "      <th>1</th>\n",
       "      <td>Pedro</td>\n",
       "      <td>30</td>\n",
       "    </tr>\n",
       "    <tr>\n",
       "      <th>2</th>\n",
       "      <td>Andrea</td>\n",
       "      <td>50</td>\n",
       "    </tr>\n",
       "    <tr>\n",
       "      <th>3</th>\n",
       "      <td>Luis</td>\n",
       "      <td>20</td>\n",
       "    </tr>\n",
       "    <tr>\n",
       "      <th>4</th>\n",
       "      <td>Ana</td>\n",
       "      <td>10</td>\n",
       "    </tr>\n",
       "    <tr>\n",
       "      <th>5</th>\n",
       "      <td>Lara</td>\n",
       "      <td>5</td>\n",
       "    </tr>\n",
       "    <tr>\n",
       "      <th>6</th>\n",
       "      <td>Jose</td>\n",
       "      <td>60</td>\n",
       "    </tr>\n",
       "    <tr>\n",
       "      <th>7</th>\n",
       "      <td>Estefania</td>\n",
       "      <td>40</td>\n",
       "    </tr>\n",
       "  </tbody>\n",
       "</table>\n",
       "</div>"
      ],
      "text/plain": [
       "  Concursantes  Resultados\n",
       "0         Juan          20\n",
       "1        Pedro          30\n",
       "2       Andrea          50\n",
       "3         Luis          20\n",
       "4          Ana          10\n",
       "5         Lara           5\n",
       "6         Jose          60\n",
       "7    Estefania          40"
      ]
     },
     "execution_count": 127,
     "metadata": {},
     "output_type": "execute_result"
    }
   ],
   "source": [
    "for key, value in diccionario.items():\n",
    "    print(key,value)\n",
    "    df[key]=value\n",
    "df"
   ]
  },
  {
   "cell_type": "code",
   "execution_count": 75,
   "id": "b75455e7",
   "metadata": {},
   "outputs": [
    {
     "data": {
      "text/html": [
       "<div>\n",
       "<style scoped>\n",
       "    .dataframe tbody tr th:only-of-type {\n",
       "        vertical-align: middle;\n",
       "    }\n",
       "\n",
       "    .dataframe tbody tr th {\n",
       "        vertical-align: top;\n",
       "    }\n",
       "\n",
       "    .dataframe thead th {\n",
       "        text-align: right;\n",
       "    }\n",
       "</style>\n",
       "<table border=\"1\" class=\"dataframe\">\n",
       "  <thead>\n",
       "    <tr style=\"text-align: right;\">\n",
       "      <th></th>\n",
       "      <th>Concursantes</th>\n",
       "      <th>Resultados</th>\n",
       "    </tr>\n",
       "  </thead>\n",
       "  <tbody>\n",
       "    <tr>\n",
       "      <th>0</th>\n",
       "      <td>Juan</td>\n",
       "      <td>20</td>\n",
       "    </tr>\n",
       "    <tr>\n",
       "      <th>1</th>\n",
       "      <td>Pedro</td>\n",
       "      <td>30</td>\n",
       "    </tr>\n",
       "    <tr>\n",
       "      <th>2</th>\n",
       "      <td>Andrea</td>\n",
       "      <td>50</td>\n",
       "    </tr>\n",
       "    <tr>\n",
       "      <th>3</th>\n",
       "      <td>Luis</td>\n",
       "      <td>20</td>\n",
       "    </tr>\n",
       "    <tr>\n",
       "      <th>4</th>\n",
       "      <td>Ana</td>\n",
       "      <td>10</td>\n",
       "    </tr>\n",
       "    <tr>\n",
       "      <th>5</th>\n",
       "      <td>Lara</td>\n",
       "      <td>5</td>\n",
       "    </tr>\n",
       "    <tr>\n",
       "      <th>6</th>\n",
       "      <td>Jose</td>\n",
       "      <td>60</td>\n",
       "    </tr>\n",
       "    <tr>\n",
       "      <th>7</th>\n",
       "      <td>Estefania</td>\n",
       "      <td>40</td>\n",
       "    </tr>\n",
       "  </tbody>\n",
       "</table>\n",
       "</div>"
      ],
      "text/plain": [
       "  Concursantes  Resultados\n",
       "0         Juan          20\n",
       "1        Pedro          30\n",
       "2       Andrea          50\n",
       "3         Luis          20\n",
       "4          Ana          10\n",
       "5         Lara           5\n",
       "6         Jose          60\n",
       "7    Estefania          40"
      ]
     },
     "execution_count": 75,
     "metadata": {},
     "output_type": "execute_result"
    }
   ],
   "source": [
    "data2 = dict(zip(Concursantes, Resultados))\n",
    "\n",
    "df2 = pd.DataFrame(columns=[\"Concursantes\", \"Resultados\"])\n",
    "\n",
    "list_keys = []\n",
    "list_values = []\n",
    "\n",
    "for key, value in data2.items():\n",
    "    list_keys.append(key)\n",
    "    list_values.append(value)\n",
    "\n",
    "df2[\"Concursantes\"] = list_keys\n",
    "df2[\"Resultados\"] = list_values\n",
    "df2"
   ]
  },
  {
   "cell_type": "code",
   "execution_count": 76,
   "id": "7b6eccda",
   "metadata": {},
   "outputs": [
    {
     "data": {
      "text/html": [
       "<div>\n",
       "<style scoped>\n",
       "    .dataframe tbody tr th:only-of-type {\n",
       "        vertical-align: middle;\n",
       "    }\n",
       "\n",
       "    .dataframe tbody tr th {\n",
       "        vertical-align: top;\n",
       "    }\n",
       "\n",
       "    .dataframe thead th {\n",
       "        text-align: right;\n",
       "    }\n",
       "</style>\n",
       "<table border=\"1\" class=\"dataframe\">\n",
       "  <thead>\n",
       "    <tr style=\"text-align: right;\">\n",
       "      <th></th>\n",
       "      <th>Concursantes</th>\n",
       "      <th>Resultados</th>\n",
       "    </tr>\n",
       "  </thead>\n",
       "  <tbody>\n",
       "    <tr>\n",
       "      <th>0</th>\n",
       "      <td>Juan</td>\n",
       "      <td>20</td>\n",
       "    </tr>\n",
       "    <tr>\n",
       "      <th>1</th>\n",
       "      <td>Pedro</td>\n",
       "      <td>30</td>\n",
       "    </tr>\n",
       "    <tr>\n",
       "      <th>2</th>\n",
       "      <td>Andrea</td>\n",
       "      <td>50</td>\n",
       "    </tr>\n",
       "    <tr>\n",
       "      <th>3</th>\n",
       "      <td>Luis</td>\n",
       "      <td>20</td>\n",
       "    </tr>\n",
       "    <tr>\n",
       "      <th>4</th>\n",
       "      <td>Ana</td>\n",
       "      <td>10</td>\n",
       "    </tr>\n",
       "    <tr>\n",
       "      <th>5</th>\n",
       "      <td>Lara</td>\n",
       "      <td>5</td>\n",
       "    </tr>\n",
       "    <tr>\n",
       "      <th>6</th>\n",
       "      <td>Jose</td>\n",
       "      <td>60</td>\n",
       "    </tr>\n",
       "    <tr>\n",
       "      <th>7</th>\n",
       "      <td>Estefania</td>\n",
       "      <td>40</td>\n",
       "    </tr>\n",
       "  </tbody>\n",
       "</table>\n",
       "</div>"
      ],
      "text/plain": [
       "  Concursantes  Resultados\n",
       "0         Juan          20\n",
       "1        Pedro          30\n",
       "2       Andrea          50\n",
       "3         Luis          20\n",
       "4          Ana          10\n",
       "5         Lara           5\n",
       "6         Jose          60\n",
       "7    Estefania          40"
      ]
     },
     "execution_count": 76,
     "metadata": {},
     "output_type": "execute_result"
    }
   ],
   "source": [
    "df3 = pd.DataFrame(columns=[\"Concursantes\", \"Resultados\"])\n",
    "\n",
    "df3[\"Concursantes\"] = Concursantes\n",
    "df3[\"Resultados\"] = Resultados\n",
    "df3"
   ]
  },
  {
   "cell_type": "code",
   "execution_count": 68,
   "id": "eacc5718",
   "metadata": {},
   "outputs": [
    {
     "data": {
      "text/html": [
       "<div>\n",
       "<style scoped>\n",
       "    .dataframe tbody tr th:only-of-type {\n",
       "        vertical-align: middle;\n",
       "    }\n",
       "\n",
       "    .dataframe tbody tr th {\n",
       "        vertical-align: top;\n",
       "    }\n",
       "\n",
       "    .dataframe thead th {\n",
       "        text-align: right;\n",
       "    }\n",
       "</style>\n",
       "<table border=\"1\" class=\"dataframe\">\n",
       "  <thead>\n",
       "    <tr style=\"text-align: right;\">\n",
       "      <th></th>\n",
       "      <th>Concursantes</th>\n",
       "      <th>Resultados</th>\n",
       "    </tr>\n",
       "  </thead>\n",
       "  <tbody>\n",
       "    <tr>\n",
       "      <th>1</th>\n",
       "      <td>Pedro</td>\n",
       "      <td>30</td>\n",
       "    </tr>\n",
       "    <tr>\n",
       "      <th>2</th>\n",
       "      <td>Andrea</td>\n",
       "      <td>50</td>\n",
       "    </tr>\n",
       "    <tr>\n",
       "      <th>3</th>\n",
       "      <td>Luis</td>\n",
       "      <td>20</td>\n",
       "    </tr>\n",
       "    <tr>\n",
       "      <th>4</th>\n",
       "      <td>Ana</td>\n",
       "      <td>10</td>\n",
       "    </tr>\n",
       "    <tr>\n",
       "      <th>5</th>\n",
       "      <td>Lara</td>\n",
       "      <td>5</td>\n",
       "    </tr>\n",
       "  </tbody>\n",
       "</table>\n",
       "</div>"
      ],
      "text/plain": [
       "  Concursantes  Resultados\n",
       "1        Pedro          30\n",
       "2       Andrea          50\n",
       "3         Luis          20\n",
       "4          Ana          10\n",
       "5         Lara           5"
      ]
     },
     "execution_count": 68,
     "metadata": {},
     "output_type": "execute_result"
    }
   ],
   "source": [
    "# 5) Con ayuda de loc filtra los resultados obtenidos desde Pedro hasta Lara.\n",
    "df.loc[1:5,:]"
   ]
  },
  {
   "cell_type": "code",
   "execution_count": 107,
   "id": "6b10e11c",
   "metadata": {},
   "outputs": [
    {
     "data": {
      "text/html": [
       "<div>\n",
       "<style scoped>\n",
       "    .dataframe tbody tr th:only-of-type {\n",
       "        vertical-align: middle;\n",
       "    }\n",
       "\n",
       "    .dataframe tbody tr th {\n",
       "        vertical-align: top;\n",
       "    }\n",
       "\n",
       "    .dataframe thead th {\n",
       "        text-align: right;\n",
       "    }\n",
       "</style>\n",
       "<table border=\"1\" class=\"dataframe\">\n",
       "  <thead>\n",
       "    <tr style=\"text-align: right;\">\n",
       "      <th></th>\n",
       "      <th>Concursantes</th>\n",
       "      <th>Resultados</th>\n",
       "    </tr>\n",
       "  </thead>\n",
       "  <tbody>\n",
       "    <tr>\n",
       "      <th>2</th>\n",
       "      <td>Andrea</td>\n",
       "      <td>50.0</td>\n",
       "    </tr>\n",
       "    <tr>\n",
       "      <th>6</th>\n",
       "      <td>Jose</td>\n",
       "      <td>60.0</td>\n",
       "    </tr>\n",
       "    <tr>\n",
       "      <th>7</th>\n",
       "      <td>Estefania</td>\n",
       "      <td>40.0</td>\n",
       "    </tr>\n",
       "  </tbody>\n",
       "</table>\n",
       "</div>"
      ],
      "text/plain": [
       "  Concursantes  Resultados\n",
       "2       Andrea        50.0\n",
       "6         Jose        60.0\n",
       "7    Estefania        40.0"
      ]
     },
     "execution_count": 107,
     "metadata": {},
     "output_type": "execute_result"
    }
   ],
   "source": [
    "# 6) Con ayuda de loc filtra los resultados obtenidos mayores o iguales a 40\n",
    "df[df[\"Resultados\"]>=40]"
   ]
  },
  {
   "cell_type": "code",
   "execution_count": 109,
   "id": "0101a483",
   "metadata": {},
   "outputs": [
    {
     "data": {
      "text/plain": [
       "60.0"
      ]
     },
     "execution_count": 109,
     "metadata": {},
     "output_type": "execute_result"
    }
   ],
   "source": [
    "# 7) Muestra el concursante con la mayor puntuación\n",
    "df[\"Resultados\"].max()"
   ]
  },
  {
   "cell_type": "code",
   "execution_count": 30,
   "id": "9dcec720",
   "metadata": {},
   "outputs": [
    {
     "data": {
      "text/plain": [
       "60"
      ]
     },
     "execution_count": 30,
     "metadata": {},
     "output_type": "execute_result"
    }
   ],
   "source": [
    "df.Resultados.max()"
   ]
  },
  {
   "cell_type": "code",
   "execution_count": 31,
   "id": "0dca6c95",
   "metadata": {},
   "outputs": [
    {
     "data": {
      "text/plain": [
       "5"
      ]
     },
     "execution_count": 31,
     "metadata": {},
     "output_type": "execute_result"
    }
   ],
   "source": [
    "# 8) Muestra el concursante con la menor puntuación\n",
    "df.Resultados.min()"
   ]
  },
  {
   "cell_type": "code",
   "execution_count": 32,
   "id": "19c05e2d",
   "metadata": {},
   "outputs": [
    {
     "data": {
      "text/plain": [
       "5"
      ]
     },
     "execution_count": 32,
     "metadata": {},
     "output_type": "execute_result"
    }
   ],
   "source": [
    "df[\"Resultados\"].min()"
   ]
  },
  {
   "cell_type": "code",
   "execution_count": 77,
   "id": "bcb56c5d",
   "metadata": {},
   "outputs": [
    {
     "data": {
      "text/html": [
       "<div>\n",
       "<style scoped>\n",
       "    .dataframe tbody tr th:only-of-type {\n",
       "        vertical-align: middle;\n",
       "    }\n",
       "\n",
       "    .dataframe tbody tr th {\n",
       "        vertical-align: top;\n",
       "    }\n",
       "\n",
       "    .dataframe thead th {\n",
       "        text-align: right;\n",
       "    }\n",
       "</style>\n",
       "<table border=\"1\" class=\"dataframe\">\n",
       "  <thead>\n",
       "    <tr style=\"text-align: right;\">\n",
       "      <th></th>\n",
       "      <th>Concursantes</th>\n",
       "      <th>Resultados</th>\n",
       "    </tr>\n",
       "  </thead>\n",
       "  <tbody>\n",
       "    <tr>\n",
       "      <th>0</th>\n",
       "      <td>Juan</td>\n",
       "      <td>0</td>\n",
       "    </tr>\n",
       "    <tr>\n",
       "      <th>1</th>\n",
       "      <td>Pedro</td>\n",
       "      <td>30</td>\n",
       "    </tr>\n",
       "    <tr>\n",
       "      <th>2</th>\n",
       "      <td>Andrea</td>\n",
       "      <td>50</td>\n",
       "    </tr>\n",
       "    <tr>\n",
       "      <th>3</th>\n",
       "      <td>Luis</td>\n",
       "      <td>0</td>\n",
       "    </tr>\n",
       "    <tr>\n",
       "      <th>4</th>\n",
       "      <td>Ana</td>\n",
       "      <td>10</td>\n",
       "    </tr>\n",
       "    <tr>\n",
       "      <th>5</th>\n",
       "      <td>Lara</td>\n",
       "      <td>5</td>\n",
       "    </tr>\n",
       "    <tr>\n",
       "      <th>6</th>\n",
       "      <td>Jose</td>\n",
       "      <td>60</td>\n",
       "    </tr>\n",
       "    <tr>\n",
       "      <th>7</th>\n",
       "      <td>Estefania</td>\n",
       "      <td>40</td>\n",
       "    </tr>\n",
       "  </tbody>\n",
       "</table>\n",
       "</div>"
      ],
      "text/plain": [
       "  Concursantes  Resultados\n",
       "0         Juan           0\n",
       "1        Pedro          30\n",
       "2       Andrea          50\n",
       "3         Luis           0\n",
       "4          Ana          10\n",
       "5         Lara           5\n",
       "6         Jose          60\n",
       "7    Estefania          40"
      ]
     },
     "execution_count": 77,
     "metadata": {},
     "output_type": "execute_result"
    }
   ],
   "source": [
    "# 9) Modifica con la ayuda de loc los valores 20 por 0\n",
    "df.loc[df[\"Resultados\"]==20, \"Resultados\"]=0\n",
    "df\n",
    "\n",
    "\n"
   ]
  },
  {
   "cell_type": "code",
   "execution_count": 78,
   "id": "a25906b1",
   "metadata": {},
   "outputs": [
    {
     "data": {
      "text/html": [
       "<div>\n",
       "<style scoped>\n",
       "    .dataframe tbody tr th:only-of-type {\n",
       "        vertical-align: middle;\n",
       "    }\n",
       "\n",
       "    .dataframe tbody tr th {\n",
       "        vertical-align: top;\n",
       "    }\n",
       "\n",
       "    .dataframe thead th {\n",
       "        text-align: right;\n",
       "    }\n",
       "</style>\n",
       "<table border=\"1\" class=\"dataframe\">\n",
       "  <thead>\n",
       "    <tr style=\"text-align: right;\">\n",
       "      <th></th>\n",
       "      <th>Concursantes</th>\n",
       "      <th>Resultados</th>\n",
       "    </tr>\n",
       "  </thead>\n",
       "  <tbody>\n",
       "    <tr>\n",
       "      <th>0</th>\n",
       "      <td>Juan</td>\n",
       "      <td>NaN</td>\n",
       "    </tr>\n",
       "    <tr>\n",
       "      <th>1</th>\n",
       "      <td>Pedro</td>\n",
       "      <td>30.0</td>\n",
       "    </tr>\n",
       "    <tr>\n",
       "      <th>2</th>\n",
       "      <td>Andrea</td>\n",
       "      <td>50.0</td>\n",
       "    </tr>\n",
       "    <tr>\n",
       "      <th>3</th>\n",
       "      <td>Luis</td>\n",
       "      <td>0.0</td>\n",
       "    </tr>\n",
       "    <tr>\n",
       "      <th>4</th>\n",
       "      <td>Ana</td>\n",
       "      <td>10.0</td>\n",
       "    </tr>\n",
       "    <tr>\n",
       "      <th>5</th>\n",
       "      <td>Lara</td>\n",
       "      <td>5.0</td>\n",
       "    </tr>\n",
       "    <tr>\n",
       "      <th>6</th>\n",
       "      <td>Jose</td>\n",
       "      <td>60.0</td>\n",
       "    </tr>\n",
       "    <tr>\n",
       "      <th>7</th>\n",
       "      <td>Estefania</td>\n",
       "      <td>40.0</td>\n",
       "    </tr>\n",
       "  </tbody>\n",
       "</table>\n",
       "</div>"
      ],
      "text/plain": [
       "  Concursantes  Resultados\n",
       "0         Juan         NaN\n",
       "1        Pedro        30.0\n",
       "2       Andrea        50.0\n",
       "3         Luis         0.0\n",
       "4          Ana        10.0\n",
       "5         Lara         5.0\n",
       "6         Jose        60.0\n",
       "7    Estefania        40.0"
      ]
     },
     "execution_count": 78,
     "metadata": {},
     "output_type": "execute_result"
    }
   ],
   "source": [
    "# 10) Modifica Concursante \"Juan\" su puntuación por \"None\" con ayuda de .loc\n",
    "df.loc[df[\"Concursantes\"]==\"Juan\", \"Resultados\"]=None\n",
    "df"
   ]
  },
  {
   "cell_type": "code",
   "execution_count": 80,
   "id": "696e1e20",
   "metadata": {},
   "outputs": [],
   "source": [
    "# EJERCICIO 2 (3)\n",
    "# \n",
    "# \"\"\"\n",
    "#     Escribe un programa que pida dos palabras y diga si riman o no.\n",
    "#     Si coinciden las tres últimas letras tiene que decir que riman.\n",
    "#     Si coinciden sólo las dos últimas tiene que decir que riman un poco y si no, que no riman.\n",
    "# \"\"\""
   ]
  },
  {
   "cell_type": "code",
   "execution_count": 111,
   "id": "cc5b8510",
   "metadata": {},
   "outputs": [
    {
     "name": "stdout",
     "output_type": "stream",
     "text": [
      "Escriba primera palabra: Jabon\n",
      "Escriba segunda palabra: Jamon\n"
     ]
    }
   ],
   "source": [
    "primera_palabra=input(\"Escriba primera palabra: \")\n",
    "segunda_palabra=input(\"Escriba segunda palabra: \")\n"
   ]
  },
  {
   "cell_type": "code",
   "execution_count": 116,
   "id": "7f534298",
   "metadata": {},
   "outputs": [
    {
     "data": {
      "text/plain": [
       "'Jabon'"
      ]
     },
     "execution_count": 116,
     "metadata": {},
     "output_type": "execute_result"
    }
   ],
   "source": [
    "primera_palabra\n",
    "str.upper(primera_palabra)\n",
    "primera_palabra"
   ]
  },
  {
   "cell_type": "code",
   "execution_count": 83,
   "id": "c978477a",
   "metadata": {},
   "outputs": [
    {
     "data": {
      "text/plain": [
       "'J'"
      ]
     },
     "execution_count": 83,
     "metadata": {},
     "output_type": "execute_result"
    }
   ],
   "source": [
    "primera_palabra[0]"
   ]
  },
  {
   "cell_type": "code",
   "execution_count": 84,
   "id": "75f685cd",
   "metadata": {},
   "outputs": [
    {
     "data": {
      "text/plain": [
       "'n'"
      ]
     },
     "execution_count": 84,
     "metadata": {},
     "output_type": "execute_result"
    }
   ],
   "source": [
    "primera_palabra[-1]"
   ]
  },
  {
   "cell_type": "code",
   "execution_count": 121,
   "id": "c30f056c",
   "metadata": {},
   "outputs": [
    {
     "name": "stdout",
     "output_type": "stream",
     "text": [
      "Escriba primera palabra: jabon\n",
      "Escriba segunda palabra: mamon\n",
      "Las palabra Riman POCO\n"
     ]
    }
   ],
   "source": [
    "primera_palabra=str.upper(input(\"Escriba primera palabra: \"))\n",
    "segunda_palabra=str.upper(input(\"Escriba segunda palabra: \"))\n",
    "\n",
    "if (primera_palabra[-1]==segunda_palabra[-1]) and (primera_palabra[-2]==segunda_palabra[-2]) and (primera_palabra[-3]==segunda_palabra[-3]):\n",
    "    print(\"Las palabra Riman\")\n",
    "elif (primera_palabra[-1]==segunda_palabra[-1]) and (primera_palabra[-2]==segunda_palabra[-2]):\n",
    "    print(\"Las palabra Riman POCO\")\n",
    "else:\n",
    "        print(\"Las palabra NO Riman\")"
   ]
  },
  {
   "cell_type": "code",
   "execution_count": 118,
   "id": "4f92671f",
   "metadata": {},
   "outputs": [
    {
     "name": "stdout",
     "output_type": "stream",
     "text": [
      "Las palabras Jabon y Jamon Riman POCO\n"
     ]
    }
   ],
   "source": [
    "if (primera_palabra[-3:]==segunda_palabra[-3:]):\n",
    "    print(\"Las palabras\", primera_palabra, \"y\" ,segunda_palabra, \"Riman\")\n",
    "elif (primera_palabra[-2:]==segunda_palabra[-2:]):\n",
    "    print(\"Las palabras\", primera_palabra, \"y\" ,segunda_palabra, \"Riman POCO\")\n",
    "else:\n",
    "    print(\"Las palabras\", primera_palabra, \"y\" ,segunda_palabra, \"NO Riman\")"
   ]
  },
  {
   "cell_type": "code",
   "execution_count": 98,
   "id": "ec78912c",
   "metadata": {},
   "outputs": [
    {
     "data": {
      "text/plain": [
       "'bon'"
      ]
     },
     "execution_count": 98,
     "metadata": {},
     "output_type": "execute_result"
    }
   ],
   "source": [
    "primera_palabra[-3:]"
   ]
  },
  {
   "cell_type": "code",
   "execution_count": 101,
   "id": "a27c0e51",
   "metadata": {},
   "outputs": [
    {
     "data": {
      "text/plain": [
       "'ja'"
      ]
     },
     "execution_count": 101,
     "metadata": {},
     "output_type": "execute_result"
    }
   ],
   "source": [
    "primera_palabra[:2]"
   ]
  },
  {
   "cell_type": "code",
   "execution_count": null,
   "id": "a65aa22c",
   "metadata": {},
   "outputs": [],
   "source": []
  }
 ],
 "metadata": {
  "kernelspec": {
   "display_name": "Python 3 (ipykernel)",
   "language": "python",
   "name": "python3"
  },
  "language_info": {
   "codemirror_mode": {
    "name": "ipython",
    "version": 3
   },
   "file_extension": ".py",
   "mimetype": "text/x-python",
   "name": "python",
   "nbconvert_exporter": "python",
   "pygments_lexer": "ipython3",
   "version": "3.8.10"
  }
 },
 "nbformat": 4,
 "nbformat_minor": 5
}
