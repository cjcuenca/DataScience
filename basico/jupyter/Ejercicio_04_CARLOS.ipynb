{
 "cells": [
  {
   "cell_type": "code",
   "execution_count": null,
   "id": "4d94c974-6b64-4e1a-89b0-30b4971ccceb",
   "metadata": {},
   "outputs": [],
   "source": [
    "# EJERCICIO 1\n",
    "def multiplicar(a,b):\n",
    "    return a*b"
   ]
  },
  {
   "cell_type": "code",
   "execution_count": null,
   "id": "4aad8357-cf93-4c32-b4d5-0088605aa05f",
   "metadata": {},
   "outputs": [],
   "source": [
    "Numero1 = int(input(\"Dígame primer número: \"))\n",
    "Numero2 = int(input(\"Dígame segundo número: \"))\n",
    "\n",
    "            \n",
    "print(\"El resultado de multiplicar \", Numero1, \" y \", Numero2, \" es : \", str(multiplicar(Numero1, Numero2)))"
   ]
  },
  {
   "cell_type": "markdown",
   "id": "cdf60ad2-c06c-4342-b85e-4c271bbd41c1",
   "metadata": {},
   "source": [
    "* Con Lambda"
   ]
  },
  {
   "cell_type": "code",
   "execution_count": 11,
   "id": "fb0fa499-58f7-4a77-beff-2757f548ec2c",
   "metadata": {},
   "outputs": [
    {
     "name": "stdin",
     "output_type": "stream",
     "text": [
      "Dígame primer número:  3\n",
      "Dígame segundo número:  4\n"
     ]
    },
    {
     "name": "stdout",
     "output_type": "stream",
     "text": [
      "El resultado de multiplicar  3  y  4  es :  12\n"
     ]
    }
   ],
   "source": [
    "multiplica=lambda x,y : x * y\n",
    "\n",
    "x = int(input(\"Dígame primer número: \"))\n",
    "y = int(input(\"Dígame segundo número: \"))        \n",
    "    \n",
    "print(\"El resultado de multiplicar \", x, \" y \", y, \" es : \", multiplica(x,y))"
   ]
  },
  {
   "cell_type": "code",
   "execution_count": null,
   "id": "65073a79-20eb-416e-924b-cc8956a128cd",
   "metadata": {},
   "outputs": [],
   "source": [
    "* Ejercicio 2"
   ]
  },
  {
   "cell_type": "code",
   "execution_count": 35,
   "id": "e11ca439-2f00-4b8a-8818-824989629d5f",
   "metadata": {},
   "outputs": [
    {
     "name": "stdout",
     "output_type": "stream",
     "text": [
      "LeveL\n",
      "Es Palindormo\n"
     ]
    }
   ],
   "source": [
    "String1=\"LeveL\"\n",
    "Reverso=\"\"\n",
    "Diferente = 0\n",
    "for i in range(len(String1)-1,-1,-1):\n",
    "    Reverso += String1[i]\n",
    "    \n",
    "print(Reverso)\n",
    "\n",
    "\n",
    "for i in range(len(String1)):\n",
    "    if String1[i] == Reverso[i]:\n",
    "        Diferente = 1\n",
    "    else:\n",
    "        Diferente = 0\n",
    "        break\n",
    "        \n",
    "if Diferente == 0:\n",
    "    print(\"No es Palindormo\")\n",
    "else:\n",
    "    print(\"Es Palindormo\")"
   ]
  },
  {
   "cell_type": "code",
   "execution_count": null,
   "id": "e4849dfd-9acb-417a-906f-891669f47120",
   "metadata": {},
   "outputs": [],
   "source": []
  }
 ],
 "metadata": {
  "kernelspec": {
   "display_name": "Python 3 (ipykernel)",
   "language": "python",
   "name": "python3"
  },
  "language_info": {
   "codemirror_mode": {
    "name": "ipython",
    "version": 3
   },
   "file_extension": ".py",
   "mimetype": "text/x-python",
   "name": "python",
   "nbconvert_exporter": "python",
   "pygments_lexer": "ipython3",
   "version": "3.8.10"
  }
 },
 "nbformat": 4,
 "nbformat_minor": 5
}
