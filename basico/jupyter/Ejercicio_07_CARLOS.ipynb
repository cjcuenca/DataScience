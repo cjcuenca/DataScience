{
 "cells": [
  {
   "cell_type": "code",
   "execution_count": 1,
   "id": "5674e681",
   "metadata": {},
   "outputs": [
    {
     "data": {
      "text/plain": [
       "array([2, 3, 4, 5, 6, 7, 8, 9])"
      ]
     },
     "execution_count": 1,
     "metadata": {},
     "output_type": "execute_result"
    }
   ],
   "source": [
    "# EJERCICIO 1\n",
    "# \n",
    "# \"\"\"\n",
    "#     Dado: \"np.arange(2,10)\"\n",
    "#     sigue los siguientes pasos:\n",
    "\n",
    "# 1) Escribe esa instrucción y asígnaselo a la variable \"a\"\n",
    "\n",
    "import numpy as np\n",
    "a = np.arange(2,10)\n",
    "a"
   ]
  },
  {
   "cell_type": "code",
   "execution_count": 5,
   "id": "811624c0",
   "metadata": {},
   "outputs": [
    {
     "data": {
      "text/plain": [
       "(array([2, 3, 4, 5, 6, 7, 8, 9]), array([2, 3, 4, 5, 6, 7, 8, 9]))"
      ]
     },
     "execution_count": 5,
     "metadata": {},
     "output_type": "execute_result"
    }
   ],
   "source": [
    "# 2) ¿Es equivalente a \"np.arange(2,10,1)\"?\n",
    "b = np.arange(2,10,1)\n",
    "a, b"
   ]
  },
  {
   "cell_type": "code",
   "execution_count": 7,
   "id": "8ac477da",
   "metadata": {},
   "outputs": [
    {
     "data": {
      "text/plain": [
       "[2, 3, 4]"
      ]
     },
     "execution_count": 7,
     "metadata": {},
     "output_type": "execute_result"
    }
   ],
   "source": [
    "# 3) Se pide quedarse con aquellos números menores de 5.\n",
    "\n",
    "    # hazlo con numpy si puedes para la variable \"a\"\n",
    "\n",
    "menores_5 =[]\n",
    "for i in a:\n",
    "    if i<5:\n",
    "        menores_5.append(i)\n",
    "menores_5"
   ]
  },
  {
   "cell_type": "code",
   "execution_count": 92,
   "id": "d62f1a20",
   "metadata": {},
   "outputs": [
    {
     "name": "stdout",
     "output_type": "stream",
     "text": [
      "[2, 3, 4]\n"
     ]
    },
    {
     "data": {
      "text/plain": [
       "list"
      ]
     },
     "execution_count": 92,
     "metadata": {},
     "output_type": "execute_result"
    }
   ],
   "source": [
    "# CON UNA FUNCION\n",
    "menores_5 =[]\n",
    "\n",
    "def f_menores_numero (array, numero):\n",
    "    menores_5 =[]\n",
    "    for i in array:\n",
    "        if i<numero:\n",
    "            menores_5.append(i)\n",
    "    return menores_5\n",
    "\n",
    "print(f_menores_numero(a, 5))\n",
    "type(f_menores_numero(a, 5))"
   ]
  },
  {
   "cell_type": "code",
   "execution_count": 93,
   "id": "ac6baa0b",
   "metadata": {},
   "outputs": [
    {
     "name": "stdout",
     "output_type": "stream",
     "text": [
      "[2, 3, 4, 5, 6, 7, 8, 9]\n",
      "[2, 3, 4]\n"
     ]
    },
    {
     "data": {
      "text/plain": [
       "list"
      ]
     },
     "execution_count": 93,
     "metadata": {},
     "output_type": "execute_result"
    }
   ],
   "source": [
    "# 4) Hazlo pasando esa información (de \"a\") a una lista\n",
    "listado = a.tolist()\n",
    "print(listado)\n",
    "\n",
    "listado_menor5=[]\n",
    "for numero in listado:\n",
    "    if numero<5:\n",
    "        listado_menor5.append(numero)\n",
    "print(listado_menor5)\n",
    "type(listado_menor5)"
   ]
  },
  {
   "cell_type": "code",
   "execution_count": null,
   "id": "82fc2c63",
   "metadata": {},
   "outputs": [],
   "source": [
    "# 5) En base a los resultados..\n",
    "\n",
    "    # ¿Es posible recorrer 1 a 1 un array de numpy?\n",
    "# es lo mismo"
   ]
  },
  {
   "cell_type": "code",
   "execution_count": 26,
   "id": "9d0a9ffa",
   "metadata": {},
   "outputs": [
    {
     "name": "stdout",
     "output_type": "stream",
     "text": [
      "[2, 3, 4]\n"
     ]
    }
   ],
   "source": [
    "# 6) Haz el mismo proceso programando una sola línea (toma \"a\" como referencia)\n",
    "listado=[]\n",
    "listado=[numero for numero in a if numero<5]\n",
    "print(listado)"
   ]
  },
  {
   "cell_type": "code",
   "execution_count": null,
   "id": "bcb7f053",
   "metadata": {},
   "outputs": [],
   "source": [
    "# EJERCICIO 2\n",
    "#\n",
    "#\"\"\"\n",
    "#    Para estos valores (v de valores por abreviar):\n",
    "#    v1 = 4\n",
    "#    v2 = 5\n",
    "#    v3 = 7\n",
    "#    v4 = 8\n",
    "#    El objetivo será calcular la media de estos valores\n",
    "#    Para ello sigue los siguientes pasos:\n",
    "#\"\"\""
   ]
  },
  {
   "cell_type": "code",
   "execution_count": 28,
   "id": "54050975",
   "metadata": {},
   "outputs": [
    {
     "name": "stdout",
     "output_type": "stream",
     "text": [
      "4 5 7 8\n",
      "6.0\n"
     ]
    }
   ],
   "source": [
    "v1 = 4\n",
    "v2 = 5\n",
    "v3 = 7\n",
    "v4 = 8\n",
    "print(v1,v2,v3,v4)\n",
    "\n",
    "media=(v1+v2+v3+v4)/4\n",
    "print(media)"
   ]
  },
  {
   "cell_type": "code",
   "execution_count": null,
   "id": "09184613",
   "metadata": {},
   "outputs": [],
   "source": [
    "# 2) Descomenta las 2 líneas siguientes para aprender..\n",
    "\n",
    "    # que es posible asignar varios valores en la misma línea\n",
    "\n",
    "    # Y la asignación de valores a variables se hace de forma consecutiva.\n",
    "\n",
    "# v1,v2,v3,v4 = 4, 5, 7, 8\n",
    "# print(v1,v2,v3,v4)"
   ]
  },
  {
   "cell_type": "code",
   "execution_count": 50,
   "id": "cb18eeae",
   "metadata": {},
   "outputs": [
    {
     "name": "stdout",
     "output_type": "stream",
     "text": [
      "4 5 7 8\n"
     ]
    }
   ],
   "source": [
    "v1,v2,v3,v4 = 4, 5, 7, 8\n",
    "#v1,v2,v3,v4\n",
    "print(v1,v2,v3,v4)"
   ]
  },
  {
   "cell_type": "code",
   "execution_count": 51,
   "id": "82dfc023",
   "metadata": {},
   "outputs": [],
   "source": [
    "#3) Descomenta la línea siguiente para aprender una posible forma de calcular la media.\n",
    "\n",
    "    #  Usamos nuevamente numpy..\n",
    "\n",
    "# media_numpy = np.mean([v1,v2,v3,v4])\n",
    "# print(media_numpy)"
   ]
  },
  {
   "cell_type": "code",
   "execution_count": 30,
   "id": "204a94d7",
   "metadata": {},
   "outputs": [
    {
     "data": {
      "text/plain": [
       "6.0"
      ]
     },
     "execution_count": 30,
     "metadata": {},
     "output_type": "execute_result"
    }
   ],
   "source": [
    "media_numpy = np.mean([v1,v2,v3,v4])\n",
    "media_numpy"
   ]
  },
  {
   "cell_type": "code",
   "execution_count": 31,
   "id": "aab0c26d",
   "metadata": {},
   "outputs": [
    {
     "name": "stdout",
     "output_type": "stream",
     "text": [
      "6.0\n"
     ]
    }
   ],
   "source": [
    "# 4) Calcula la media sin usar numpy\n",
    "\n",
    "    # Si el resultado no sale bien, razona cómo debería hacerse..\n",
    "media=(v1+v2+v3+v4)/4\n",
    "print(media)"
   ]
  },
  {
   "cell_type": "code",
   "execution_count": null,
   "id": "293341a7",
   "metadata": {},
   "outputs": [],
   "source": [
    "# EJERCICIO 3\n",
    "# \n",
    "# \"\"\"\n",
    "#     Factorial de un número\n",
    "#     Nota:\n",
    "#     El Factorial de 5, por ejemplo:\n",
    "#     5! = 5 * 4 * 3 * 2 * 1 = 120\n",
    "#     y el de 3:\n",
    "#     3! = 3 * 2 * 1 = 6\n",
    "#     y así para todos..\n",
    "#     PASOS A SEGUIR Y COSAS A TENER EN CUENTA\n",
    "#     Pide por teclado el número del cual quieres calcular el factorial.\n",
    "#     Para que no sea muy grande te recomendamos:\n",
    "#     3,4 o 5 (para hacer las pruebas)\n",
    "#     si ya no lo recuerdas o nunca lo viste, no te preocupes..\n",
    "#     3! es: 3 * 2 * 1 = 6\n",
    "#     4! es: 4 * 3 * 2 * 1 = 24\n",
    "#     5! es: 5 * 4 * 3 * 2 * 1 = 120\n",
    "#     (esto es lo que se pide, en esencia)\n",
    "# \"\"\"\n"
   ]
  },
  {
   "cell_type": "code",
   "execution_count": 100,
   "id": "90c6a476",
   "metadata": {},
   "outputs": [
    {
     "name": "stdout",
     "output_type": "stream",
     "text": [
      "Factorial del: <3, 4 ó 5> escribe por teclado..: 3\n"
     ]
    },
    {
     "data": {
      "text/plain": [
       "3"
      ]
     },
     "execution_count": 100,
     "metadata": {},
     "output_type": "execute_result"
    }
   ],
   "source": [
    "# pide el número entero por teclado..\n",
    "numero = int(input(\"Factorial del: <3, 4 ó 5> escribe por teclado..: \"))\n",
    "numero"
   ]
  },
  {
   "cell_type": "code",
   "execution_count": 105,
   "id": "43393cdd",
   "metadata": {},
   "outputs": [
    {
     "name": "stdout",
     "output_type": "stream",
     "text": [
      "[1, 2, 3]\n"
     ]
    }
   ],
   "source": [
    "# algoritmo..\n",
    "listado_numero = np.arange(1, numero+1, 1).tolist()\n",
    "print(listado_numero)"
   ]
  },
  {
   "cell_type": "code",
   "execution_count": 106,
   "id": "ee2a312e",
   "metadata": {},
   "outputs": [
    {
     "name": "stdout",
     "output_type": "stream",
     "text": [
      "6\n"
     ]
    }
   ],
   "source": [
    "producto=1\n",
    "\n",
    "for i in listado_numero:\n",
    "    producto=i*producto\n",
    "\n",
    "print(producto)"
   ]
  },
  {
   "cell_type": "code",
   "execution_count": 107,
   "id": "960c9851",
   "metadata": {},
   "outputs": [
    {
     "name": "stdout",
     "output_type": "stream",
     "text": [
      "Factorial del: <3, 4 ó 5> escribe por teclado..: 4\n",
      "24\n"
     ]
    }
   ],
   "source": [
    "# Por funcion\n",
    "\n",
    "numero = int(input(\"Factorial del: <3, 4 ó 5> escribe por teclado..: \"))\n",
    "\n",
    "def factorial_numero(numero):\n",
    "    listado_numero = np.arange(1, numero+1, 1).tolist()\n",
    "    producto=1\n",
    "    for i in listado_numero:\n",
    "        producto=i*producto\n",
    "    return producto\n",
    "\n",
    "print(factorial_numero(numero))\n"
   ]
  },
  {
   "cell_type": "code",
   "execution_count": null,
   "id": "c43a4f47",
   "metadata": {},
   "outputs": [],
   "source": [
    "# EJERCICIO 4\n",
    "# \n",
    "# \"\"\"\n",
    "#     Haz un cronómetro en Python:\n",
    "#     Obviamente:\n",
    "#     Horas - Minutos - Segundos\n",
    "#     Debes usar lo siguiente (from time import sleep)\n",
    "#     NOTA: Si quieres puedes usar sleep(0.000001)\n",
    "#     en vez de sleep(1) -> 1 segundo\n",
    "#     (para no esperar 1 segundo a ver los cambios)\n",
    "#     Para poder pararlo en poco tiempo,\n",
    "#     imprime mientras horas<2, cuando llegue a 2 debería parar la ejecución.\n",
    "#     Debería ejecutarse en unos 2 minutos aprox.\n",
    "# \"\"\""
   ]
  },
  {
   "cell_type": "code",
   "execution_count": 52,
   "id": "5696338b",
   "metadata": {},
   "outputs": [],
   "source": [
    "from time import sleep"
   ]
  },
  {
   "cell_type": "code",
   "execution_count": 109,
   "id": "d925b8fe",
   "metadata": {},
   "outputs": [
    {
     "name": "stdout",
     "output_type": "stream",
     "text": [
      "s m h\n"
     ]
    },
    {
     "ename": "NameError",
     "evalue": "name 'clear' is not defined",
     "output_type": "error",
     "traceback": [
      "\u001b[1;31m---------------------------------------------------------------------------\u001b[0m",
      "\u001b[1;31mNameError\u001b[0m                                 Traceback (most recent call last)",
      "Input \u001b[1;32mIn [109]\u001b[0m, in \u001b[0;36m<cell line: 34>\u001b[1;34m()\u001b[0m\n\u001b[0;32m     31\u001b[0m         \u001b[38;5;28;01melse\u001b[39;00m:\n\u001b[0;32m     32\u001b[0m             \u001b[38;5;28;01mbreak\u001b[39;00m\n\u001b[1;32m---> 34\u001b[0m \u001b[43mcronometro\u001b[49m\u001b[43m \u001b[49m\u001b[43m(\u001b[49m\u001b[38;5;241;43m32\u001b[39;49m\u001b[43m,\u001b[49m\u001b[38;5;241;43m2\u001b[39;49m\u001b[43m,\u001b[49m\u001b[38;5;241;43m0\u001b[39;49m\u001b[43m)\u001b[49m\n",
      "Input \u001b[1;32mIn [109]\u001b[0m, in \u001b[0;36mcronometro\u001b[1;34m(max_segundo, max_minuto, max_hora)\u001b[0m\n\u001b[0;32m      6\u001b[0m horas \u001b[38;5;241m=\u001b[39m np\u001b[38;5;241m.\u001b[39marange(\u001b[38;5;241m0\u001b[39m,\u001b[38;5;241m24\u001b[39m,\u001b[38;5;241m1\u001b[39m)\u001b[38;5;241m.\u001b[39mtolist()\n\u001b[0;32m      8\u001b[0m \u001b[38;5;28mprint\u001b[39m(\u001b[38;5;124m\"\u001b[39m\u001b[38;5;124ms m h\u001b[39m\u001b[38;5;124m\"\u001b[39m)\n\u001b[1;32m----> 9\u001b[0m \u001b[43mclear\u001b[49m()\n\u001b[0;32m     10\u001b[0m \u001b[38;5;28;01mfor\u001b[39;00m k \u001b[38;5;129;01min\u001b[39;00m horas:\n\u001b[0;32m     11\u001b[0m     \u001b[38;5;28;01mif\u001b[39;00m k\u001b[38;5;241m==\u001b[39mmax_hora:\n",
      "\u001b[1;31mNameError\u001b[0m: name 'clear' is not defined"
     ]
    }
   ],
   "source": [
    "def cronometro (max_segundo, max_minuto, max_hora):\n",
    "    segundos = np.arange(0,60,1).tolist()\n",
    "\n",
    "    minutos = np.arange(0,60,1).tolist()\n",
    "\n",
    "    horas = np.arange(0,24,1).tolist()\n",
    "    \n",
    "    print(\"s m h\")\n",
    "    for k in horas:\n",
    "        if k==max_hora:\n",
    "            for j in minutos:\n",
    "                if j==max_minuto:\n",
    "                    for i in segundos:\n",
    "                        if i<=max_segundo:\n",
    "                            print(i,j,k)\n",
    "                            sleep(0.0000000001)\n",
    "                        else:\n",
    "                            break\n",
    "                elif j<max_minuto:\n",
    "                    for i in segundos:\n",
    "                        print(i,j,k)\n",
    "                        sleep(0.0000000001)\n",
    "                else:\n",
    "                    break\n",
    "        elif k<max_hora:\n",
    "            for j in minutos:\n",
    "                for i in segundos:\n",
    "                    print(i,j,k)\n",
    "                    sleep(0.0000000001)        \n",
    "        else:\n",
    "            break\n",
    "\n",
    "cronometro (32,2,0)\n"
   ]
  },
  {
   "cell_type": "code",
   "execution_count": null,
   "id": "a9e47791",
   "metadata": {},
   "outputs": [],
   "source": []
  }
 ],
 "metadata": {
  "kernelspec": {
   "display_name": "Python 3 (ipykernel)",
   "language": "python",
   "name": "python3"
  },
  "language_info": {
   "codemirror_mode": {
    "name": "ipython",
    "version": 3
   },
   "file_extension": ".py",
   "mimetype": "text/x-python",
   "name": "python",
   "nbconvert_exporter": "python",
   "pygments_lexer": "ipython3",
   "version": "3.8.10"
  }
 },
 "nbformat": 4,
 "nbformat_minor": 5
}
