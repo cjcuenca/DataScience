{
 "cells": [
  {
   "cell_type": "code",
   "execution_count": 1,
   "id": "32e33ae8",
   "metadata": {},
   "outputs": [],
   "source": [
    "\n",
    "# \"\"\"\n",
    "#     Basándote en la teoría explicada en clase sobre Python\n",
    "#     realiza los siguientes ejercicios\n",
    "# \"\"\"\n",
    "# \n",
    "# EJERCICIO 1\n",
    "# \n",
    "# \"\"\"\n",
    "#     Definir una función generar_n_caracteres() que tome un entero n\n",
    "#     y devuelva el caracter multiplicado por n.\n",
    "#     Por ejemplo: generar_n_caracteres(5, \"x\") debería devolver \"xxxxx\".\n",
    "# \"\"\""
   ]
  },
  {
   "cell_type": "code",
   "execution_count": 11,
   "id": "8decac2e",
   "metadata": {},
   "outputs": [
    {
     "data": {
      "text/plain": [
       "'xxxxx'"
      ]
     },
     "execution_count": 11,
     "metadata": {},
     "output_type": "execute_result"
    }
   ],
   "source": [
    "def generar_n_caracteres(numero, caracter):\n",
    "    cadena=\"\" \n",
    "    for i in range(numero):\n",
    "        cadena = cadena + caracter\n",
    "    return cadena\n",
    "\n",
    "\n",
    "generar_n_caracteres(5, \"x\")"
   ]
  },
  {
   "cell_type": "code",
   "execution_count": 15,
   "id": "aaa23b81",
   "metadata": {},
   "outputs": [
    {
     "name": "stdout",
     "output_type": "stream",
     "text": [
      "xxxxx\n"
     ]
    }
   ],
   "source": [
    "def generar_n_caracteres2(n, caracter):\n",
    "    return n * caracter\n",
    "\n",
    "print(generar_n_caracteres2(5, 'x'))"
   ]
  },
  {
   "cell_type": "code",
   "execution_count": 4,
   "id": "38818fc6",
   "metadata": {},
   "outputs": [],
   "source": [
    "# EJERCICIO 2\n",
    "# \n",
    "# \"\"\"\n",
    "#     Definir un diagrama procedimiento() que tome una lista de números enteros\n",
    "#     e imprima un diagrama en la pantalla. Ejemplo: procedimiento([4, 9, 7])\n",
    "#     debería imprimir lo siguiente:\n",
    "# \"\"\""
   ]
  },
  {
   "cell_type": "code",
   "execution_count": 20,
   "id": "f3c8a72a",
   "metadata": {},
   "outputs": [
    {
     "name": "stdout",
     "output_type": "stream",
     "text": [
      "xxxx\n",
      "xxxxxxxxx\n",
      "xxxxxxx\n"
     ]
    }
   ],
   "source": [
    "def procedimiento(lista, caracter):\n",
    "    for i in lista:\n",
    "        print(generar_n_caracteres2(i, caracter))\n",
    "    return\n",
    "\n",
    "L=[4, 9, 7]\n",
    "caracter=\"x\"\n",
    "\n",
    "procedimiento([4, 9, 7], \"x\")"
   ]
  },
  {
   "cell_type": "code",
   "execution_count": 21,
   "id": "a619664d",
   "metadata": {},
   "outputs": [
    {
     "name": "stdout",
     "output_type": "stream",
     "text": [
      "tortuga\n"
     ]
    }
   ],
   "source": [
    "# 3) Escribir una función mas_larga() que tome una lista de palabras y devuelva la mas larga.\n",
    "\n",
    "def mas_larga(lista):\n",
    "    indice=\"\"\n",
    "    for i in lista:\n",
    "        if len(i)>len(indice):\n",
    "            indice=i\n",
    "    return indice\n",
    "\n",
    "L=[\"coche\", \"tortuga\", \"bici\"]\n",
    "print(mas_larga(L))"
   ]
  },
  {
   "cell_type": "code",
   "execution_count": 25,
   "id": "0b3a0174",
   "metadata": {},
   "outputs": [
    {
     "data": {
      "text/plain": [
       "['coche', 'tortuga']"
      ]
     },
     "execution_count": 25,
     "metadata": {},
     "output_type": "execute_result"
    }
   ],
   "source": [
    "# 4) Escribir una función filtrar_palabras() que tome una lista de palabras y un entero n, \n",
    "#    y devuelva las palabras que tengan mas de n caracteres.\n",
    "def filtrar_palabras(lista,n):\n",
    "    lista_palabras=[]\n",
    "    for i in lista:\n",
    "        if len(i)>n:\n",
    "            lista_palabras.append(i)\n",
    "    return lista_palabras\n",
    "\n",
    "L=[\"coche\", \"tortuga\", \"bici\"]\n",
    "n=4\n",
    "filtrar_palabras(L,n)"
   ]
  },
  {
   "cell_type": "code",
   "execution_count": 30,
   "id": "c7a1c9c7",
   "metadata": {},
   "outputs": [
    {
     "name": "stdout",
     "output_type": "stream",
     "text": [
      "2\n"
     ]
    }
   ],
   "source": [
    "# 5) Escribir un programa que ingrese una cadena de texto. \n",
    "# El programa tiene que evaluar la cadena y decir cuantas letras mayúsculas tiene.\n",
    "\n",
    "def numero_mayusculas(cadena):\n",
    "    contador = 0\n",
    "    for i in cadena:\n",
    "        if i == i.upper() and i != \" \":\n",
    "            contador=contador+1\n",
    "    return contador\n",
    "\n",
    "frase=\"Mas que Coches\"\n",
    "print(numero_mayusculas(frase))"
   ]
  },
  {
   "cell_type": "code",
   "execution_count": 33,
   "id": "11183bbd",
   "metadata": {},
   "outputs": [
    {
     "name": "stdout",
     "output_type": "stream",
     "text": [
      "5\n"
     ]
    }
   ],
   "source": [
    "# 6) Definir una tupla con 10 edades de personas.\n",
    "# Imprimir la cantidad de personas con edades superiores a 20.\n",
    "T = (15, 20, 16, 31, 40, 50, 11, 13, 48, 60)\n",
    "def imprimir_edad_mayor(num,tupla):\n",
    "    cantidad=0\n",
    "    for i in tupla:\n",
    "        if i>num:\n",
    "            cantidad=cantidad+1\n",
    "    return cantidad\n",
    "\n",
    "T = (15, 20, 16, 31, 40, 50, 11, 13, 48, 60)\n",
    "print(imprimir_edad_mayor(20,T))"
   ]
  },
  {
   "cell_type": "code",
   "execution_count": 2,
   "id": "887b57e8",
   "metadata": {},
   "outputs": [
    {
     "name": "stdout",
     "output_type": "stream",
     "text": [
      "Introduzca la letra que quiere buscara\n",
      "El número de palabras que empiezan por a es 2\n"
     ]
    }
   ],
   "source": [
    "#  7) Definir una lista con un conjunto de nombres, imprimir la cantidad de comienzan con la letra a.\n",
    "#  También se puede hacer elegir al usuario la letra a buscar. (Un poco mas emocionante)\n",
    "\n",
    "lista = [\"Ana\", \"Pepe\", \"Isabel\", \"Carlos\", \"Ana\"]\n",
    "letra=\"a\"\n",
    "\n",
    "def num_nombre_empepiezan_letra(letra, lista):\n",
    "    contador=0\n",
    "    for i in lista:\n",
    "        if i[0].upper()==letra.upper():\n",
    "            contador=contador+1\n",
    "    return contador\n",
    "\n",
    "lista = [\"Ana\", \"Pepe\", \"Isabel\", \"Carlos\", \"Ana\"]\n",
    "letra= input(\"Introduzca la letra que quiere buscar\")\n",
    "\n",
    "print(\"El número de palabras que empiezan por\",letra,\"es\",num_nombre_empepiezan_letra(letra, lista))"
   ]
  },
  {
   "cell_type": "code",
   "execution_count": 4,
   "id": "873798b7",
   "metadata": {},
   "outputs": [
    {
     "name": "stdout",
     "output_type": "stream",
     "text": [
      "Introduzca la palabra a contar vocalesantonia\n",
      "a 2\n",
      "e 0\n",
      "i 1\n",
      "o 1\n",
      "u 0\n"
     ]
    },
    {
     "data": {
      "text/plain": [
       "[]"
      ]
     },
     "execution_count": 4,
     "metadata": {},
     "output_type": "execute_result"
    }
   ],
   "source": [
    "# 8) Crear una función contar_vocales(), que reciba una palabra y cuente cuantas letras \"a\" tiene, \n",
    "# cuantas letras \"e\" tiene y así hasta completar todas las vocales. \n",
    "# Se puede hacer que el usuario sea quien elija la palabra.\n",
    "\n",
    "def funcion_contar_vocales(palabra):\n",
    "    vocales=\"aeiou\"\n",
    "    num_vocales=[]\n",
    "    for i in vocales:\n",
    "        contador=0\n",
    "        for j in palabra:\n",
    "            if j==i:\n",
    "                contador=contador+1\n",
    "        print(i, contador)\n",
    "    return num_vocales\n",
    "\n",
    "palabra=input(\"Introduzca la palabra a contar vocales \")\n",
    "funcion_contar_vocales(palabra)"
   ]
  },
  {
   "cell_type": "code",
   "execution_count": null,
   "id": "eec247d5",
   "metadata": {},
   "outputs": [],
   "source": []
  }
 ],
 "metadata": {
  "kernelspec": {
   "display_name": "Python 3 (ipykernel)",
   "language": "python",
   "name": "python3"
  },
  "language_info": {
   "codemirror_mode": {
    "name": "ipython",
    "version": 3
   },
   "file_extension": ".py",
   "mimetype": "text/x-python",
   "name": "python",
   "nbconvert_exporter": "python",
   "pygments_lexer": "ipython3",
   "version": "3.8.10"
  }
 },
 "nbformat": 4,
 "nbformat_minor": 5
}
