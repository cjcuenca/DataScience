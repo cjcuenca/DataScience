{
 "cells": [
  {
   "cell_type": "code",
   "execution_count": null,
   "id": "1ead6617",
   "metadata": {},
   "outputs": [],
   "source": [
    "# EJERCICIO 1\n",
    "# \n",
    "# \"\"\"\n",
    "#     Dado este listado de números:\n",
    "#     -3, 150, 0, 499, 500, 1200, -350, 0, 750, 25\n",
    "#     Haz un pequeño algoritmo que haga lo siguiente:\n",
    "#     Si el número es negativo debe imprimir lo siguiente el valor es negativo\n",
    "#     Si es 0 debe imprimir un mensaje que indique: 0\n",
    "#     Si se encuentra entre 0 (no incluido) y 200 (si incluido), imprime 0,200\n",
    "#     Si se encuentra entre 200 (no incluido) y 500 (no incluido), debe imprimir (200, 500)\n",
    "#     Si es 500 debe continuar sin hacer nada\n",
    "#     Si se encuentra entre 500 (no incluido) y 1000 (no incluido) debe saltar automaticamente y dejar de testear (parar)\n",
    "#     Para el resto de números, debe decir: valor demasiado grande, desde 1000, en adelante\n",
    "# \"\"\"\n",
    "\n",
    "# 1) Escribir en formato lista\n",
    "\n",
    "# 2) Haz el propio ejercicio de programación planteado"
   ]
  },
  {
   "cell_type": "code",
   "execution_count": 1,
   "id": "5f44dc39",
   "metadata": {},
   "outputs": [
    {
     "data": {
      "text/plain": [
       "[-3, 150, 0, 499, 500, 1200, -350, 0, 750, 25]"
      ]
     },
     "execution_count": 1,
     "metadata": {},
     "output_type": "execute_result"
    }
   ],
   "source": [
    "valores = [-3, 150, 0, 499, 500, 1200, -350, 0, 750, 25]\n",
    "valores\n"
   ]
  },
  {
   "cell_type": "code",
   "execution_count": 5,
   "id": "ccc733cd",
   "metadata": {},
   "outputs": [
    {
     "name": "stdout",
     "output_type": "stream",
     "text": [
      "el valor -3 es negativo\n",
      "el valor 150 está entre 0 y 200\n",
      "el valor 0 es 0\n",
      "el valor 499 está entre (200, 500)\n",
      "El valor 1200 demasiado grande, desde 1000, en adelante\n",
      "el valor -350 es negativo\n",
      "el valor 0 es 0\n"
     ]
    }
   ],
   "source": [
    "def Comprobacion_Listado(Listado):\n",
    "    for i in Listado:\n",
    "        if i < 0:\n",
    "            print(\"el valor\", i, \"es negativo\")\n",
    "        elif i == 0:\n",
    "            print(\"el valor\", i, \"es 0\")\n",
    "        elif i >0 and i <=200:\n",
    "            print(\"el valor\", i, \"está entre 0 y 200\")   \n",
    "        elif i >200 and i <500:\n",
    "            print(\"el valor\", i, \"está entre (200, 500)\")   \n",
    "        elif i == 500:\n",
    "            pass\n",
    "        elif i >500 and i <1000:\n",
    "            break\n",
    "        else:\n",
    "            print(\"El valor\", i, \"demasiado grande, desde 1000, en adelante\") \n",
    "    return\n",
    "\n",
    "Comprobacion_Listado(valores)"
   ]
  },
  {
   "cell_type": "code",
   "execution_count": null,
   "id": "0d87ebcb",
   "metadata": {},
   "outputs": [],
   "source": [
    "# EJERCICIO 2\n",
    "\n",
    "# Dada la lista de nombre \"listado\" y de valores: 10, 20, 20, 30, 40, 40, 40\n",
    "\n",
    "# 1) Crea la lista e imprimela\n",
    "\n",
    "# 2) Haz un set de esa lista\n",
    "\n",
    "# 3) Trata de buscar los números NO REPETIDOS de esa lista (sin usar set)\n",
    "\n",
    "# Pista: Puedes almacenar todo en una nueva lista"
   ]
  },
  {
   "cell_type": "code",
   "execution_count": 8,
   "id": "75645e6f",
   "metadata": {},
   "outputs": [
    {
     "data": {
      "text/plain": [
       "[10, 20, 20, 30, 40, 40, 40]"
      ]
     },
     "execution_count": 8,
     "metadata": {},
     "output_type": "execute_result"
    }
   ],
   "source": [
    "# 1) Crea la lista e imprimela\n",
    "listado = [10, 20, 20, 30, 40, 40, 40]\n",
    "listado\n"
   ]
  },
  {
   "cell_type": "code",
   "execution_count": 9,
   "id": "6318d90f",
   "metadata": {},
   "outputs": [
    {
     "data": {
      "text/plain": [
       "{10, 20, 30, 40}"
      ]
     },
     "execution_count": 9,
     "metadata": {},
     "output_type": "execute_result"
    }
   ],
   "source": [
    "# 2) Haz un set de esa lista\n",
    "set(listado)"
   ]
  },
  {
   "cell_type": "code",
   "execution_count": 12,
   "id": "88a58b48",
   "metadata": {},
   "outputs": [
    {
     "name": "stdout",
     "output_type": "stream",
     "text": [
      "[10, 20, 30, 40]\n"
     ]
    }
   ],
   "source": [
    "# 3) Trata de buscar los números NO REPETIDOS de esa lista (sin usar set)\n",
    "def F_NO_REPETIDOS (lista):\n",
    "    no_repetidos = []\n",
    "    for i in lista:\n",
    "        if i not in no_repetidos:\n",
    "            no_repetidos.append(i)\n",
    "    return no_repetidos\n",
    "\n",
    "print(F_NO_REPETIDOS (listado))"
   ]
  },
  {
   "cell_type": "code",
   "execution_count": null,
   "id": "b70754aa",
   "metadata": {},
   "outputs": [],
   "source": [
    "# EJERCICIO 3\n",
    "\n",
    "# Dados estos clientes:\n",
    "\n",
    "# Usando el continue/break\n",
    "\n",
    "# Trata de averiguar si un cliente concreto se encuentra en la BBDD (Base de Datos)\n",
    "\n",
    "# \"Ana Pérez\", \"Juan García\", \"Andres Álvarez\", \"Luis Ramos\", \"Pedro Cadenas\", \"Estefanía Miguélez\", \"Alberto Delgado\", \"Susana Castro\", \"Luis González\""
   ]
  },
  {
   "cell_type": "code",
   "execution_count": 11,
   "id": "4f0ee760",
   "metadata": {},
   "outputs": [
    {
     "name": "stdout",
     "output_type": "stream",
     "text": [
      "['Ana Pérez', 'Juan García', 'Andrés Álvarez', 'Luis Ramos', 'Pedro Cadenas', 'Estefanía Miguélez', 'Alberto Delgado', 'Susana Castro', 'Luis González']\n"
     ]
    }
   ],
   "source": [
    "clientes = [\"Ana Pérez\", \"Juan García\", \"Andrés Álvarez\",\n",
    "\"Luis Ramos\", \"Pedro Cadenas\", \"Estefanía Miguélez\",\n",
    "\"Alberto Delgado\", \"Susana Castro\", \"Luis González\"]\n",
    "print(clientes)"
   ]
  },
  {
   "cell_type": "code",
   "execution_count": 12,
   "id": "676c8287",
   "metadata": {},
   "outputs": [
    {
     "name": "stdout",
     "output_type": "stream",
     "text": [
      "Introduca el nombre del cliente buscado Ana Pérez\n",
      "El cliente  Ana Pérez está en la BBDD\n"
     ]
    }
   ],
   "source": [
    "cliente_buscado = input (\"Introduca el nombre del cliente buscado \")\n",
    "\n",
    "def buscar_cliente_bbdd (bbdd, cliente):\n",
    "    for i in bbdd:\n",
    "        if i == cliente:\n",
    "            return print(\"El cliente \", cliente, \"está en la BBDD\")\n",
    "    return print(\"El cliente\", cliente, \"NO está en la BBDD\")\n",
    "\n",
    "buscar_cliente_bbdd(clientes, cliente_buscado)"
   ]
  },
  {
   "cell_type": "code",
   "execution_count": null,
   "id": "0df1403a",
   "metadata": {},
   "outputs": [],
   "source": []
  }
 ],
 "metadata": {
  "kernelspec": {
   "display_name": "Python 3 (ipykernel)",
   "language": "python",
   "name": "python3"
  },
  "language_info": {
   "codemirror_mode": {
    "name": "ipython",
    "version": 3
   },
   "file_extension": ".py",
   "mimetype": "text/x-python",
   "name": "python",
   "nbconvert_exporter": "python",
   "pygments_lexer": "ipython3",
   "version": "3.8.10"
  }
 },
 "nbformat": 4,
 "nbformat_minor": 5
}
