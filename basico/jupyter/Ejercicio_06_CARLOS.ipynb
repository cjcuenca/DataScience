{
 "cells": [
  {
   "cell_type": "code",
   "execution_count": 1,
   "id": "830a3dc0",
   "metadata": {},
   "outputs": [],
   "source": [
    "# EJERCICIO 1\n",
    "\n",
    "# Mínimo de una lista de números (lista de nombre \"listado\"): 30, 20, 10, 50, 40\n",
    "\n",
    "# 1) Escribe el listado e ímprimelo\n",
    "listado = [30, 20, 10, 50, 40]"
   ]
  },
  {
   "cell_type": "code",
   "execution_count": 2,
   "id": "17ff576a",
   "metadata": {},
   "outputs": [
    {
     "data": {
      "text/plain": [
       "[30, 20, 10, 50, 40]"
      ]
     },
     "execution_count": 2,
     "metadata": {},
     "output_type": "execute_result"
    }
   ],
   "source": [
    "listado\n"
   ]
  },
  {
   "cell_type": "code",
   "execution_count": 3,
   "id": "0d35e186",
   "metadata": {},
   "outputs": [
    {
     "data": {
      "text/plain": [
       "10"
      ]
     },
     "execution_count": 3,
     "metadata": {},
     "output_type": "execute_result"
    }
   ],
   "source": [
    "# 2) Prueba con min(listado)\n",
    "def minimo(listado):\n",
    "    return min(listado)\n",
    "\n",
    "minimo(listado)"
   ]
  },
  {
   "cell_type": "code",
   "execution_count": 10,
   "id": "bd71a9b4",
   "metadata": {},
   "outputs": [
    {
     "name": "stdout",
     "output_type": "stream",
     "text": [
      "10\n"
     ]
    }
   ],
   "source": [
    "# 3) Realiza lo mismo pero con bucles y condicionales\n",
    "listado = [30, 20, 10, 50, 40]\n",
    "def minimo_bucles(listado):\n",
    "    minimo = max(listado)\n",
    "    for numero in listado:\n",
    "        if numero < minimo:\n",
    "            minimo = numero\n",
    "    return minimo\n",
    "\n",
    "print(minimo_bucles(listado))\n"
   ]
  },
  {
   "cell_type": "code",
   "execution_count": 11,
   "id": "f5e22e0a",
   "metadata": {},
   "outputs": [
    {
     "data": {
      "text/plain": [
       "[30, 20, 10, 50, 40]"
      ]
     },
     "execution_count": 11,
     "metadata": {},
     "output_type": "execute_result"
    }
   ],
   "source": [
    "# EJERCICIO 2\n",
    "\n",
    "# Máximo de una lista de números (lista de nombre \"listado\"): 30, 20, 10, 50, 40\n",
    "\n",
    "# 1) Escribe el listado e ímprimelo\n",
    "\n",
    "listado = [30, 20, 10, 50, 40]\n",
    "listado"
   ]
  },
  {
   "cell_type": "code",
   "execution_count": 9,
   "id": "d867ae1f",
   "metadata": {},
   "outputs": [
    {
     "data": {
      "text/plain": [
       "50"
      ]
     },
     "execution_count": 9,
     "metadata": {},
     "output_type": "execute_result"
    }
   ],
   "source": [
    "# 2) Prueba con max(listado)\n",
    "max(listado)"
   ]
  },
  {
   "cell_type": "code",
   "execution_count": 12,
   "id": "4a94e548",
   "metadata": {},
   "outputs": [
    {
     "name": "stdout",
     "output_type": "stream",
     "text": [
      "50\n"
     ]
    }
   ],
   "source": [
    "# 3) Realiza lo mismo pero con bucles y condicionales\n",
    "def maximo_bucles(listado):\n",
    "    maximo = min(listado)\n",
    "    for numero in listado:\n",
    "        if numero > maximo:\n",
    "            maximo = numero\n",
    "    return maximo\n",
    "\n",
    "print(maximo_bucles(listado))"
   ]
  },
  {
   "cell_type": "code",
   "execution_count": 138,
   "id": "6ab80fd3",
   "metadata": {},
   "outputs": [
    {
     "name": "stdout",
     "output_type": "stream",
     "text": [
      "[30, 20, 10, 50, 40]\n"
     ]
    }
   ],
   "source": [
    "\n",
    "# EJERCICIO 3\n",
    "\n",
    "# Ordena de menor a mayor un listado de números: 30, 20, 10, 50, 40 (de nombre \"listado\")\n",
    "\n",
    "# Pista: si quieres almacena esos números en una lista de nombre: \"listado_ascendente\"\n",
    "\n",
    "# 1) Escribe el listado e ímprimelo\n",
    "\n",
    "listado = [30,20,10,50,40]\n",
    "print(listado)"
   ]
  },
  {
   "cell_type": "code",
   "execution_count": 140,
   "id": "0ef8a1af",
   "metadata": {},
   "outputs": [],
   "source": [
    "# 2) Prueba a usar sort()\n",
    "def ordenar(lista):\n",
    "    lista.sort(reverse=False)\n",
    "    return lista"
   ]
  },
  {
   "cell_type": "code",
   "execution_count": 141,
   "id": "016a6c91",
   "metadata": {},
   "outputs": [
    {
     "name": "stdout",
     "output_type": "stream",
     "text": [
      "[10, 20, 30, 40, 50]\n"
     ]
    }
   ],
   "source": [
    "print(ordenar(listado))"
   ]
  },
  {
   "cell_type": "code",
   "execution_count": 150,
   "id": "275035e0",
   "metadata": {},
   "outputs": [
    {
     "name": "stdout",
     "output_type": "stream",
     "text": [
      "[30, 20, 10, 50, 40] [10, 20, 30, 40, 50]\n"
     ]
    }
   ],
   "source": [
    "# 3) Realiza lo mismo pero con bucles y condicionales\n",
    "listado = [30,20,10,50,40]\n",
    "listado_prueba = [30,20,10,50,40]\n",
    "\n",
    "listado_ascendente = []\n",
    "\n",
    "def ordenar(lista):\n",
    "    while(len(lista)>0):\n",
    "        listado_ascendente.append(min(lista))\n",
    "        lista.remove(min(lista))\n",
    "    return listado_ascendente\n",
    "        \n",
    "ordenar(listado_prueba)\n",
    "print(listado, listado_ascendente)"
   ]
  },
  {
   "cell_type": "code",
   "execution_count": 61,
   "id": "f74067ae",
   "metadata": {},
   "outputs": [
    {
     "data": {
      "text/plain": [
       "[30, 20, 10, 50, 40]"
      ]
     },
     "execution_count": 61,
     "metadata": {},
     "output_type": "execute_result"
    }
   ],
   "source": [
    "# EJERCICIO 4\n",
    "\n",
    "# Ordena de mayor a menor un listado de números: 30, 20, 10, 50, 40 (de nombre \"listado\")\n",
    "\n",
    "# 1) Escribe el listado e ímprimelo\n",
    "listado = [30,20,10,50,40]\n",
    "listado"
   ]
  },
  {
   "cell_type": "code",
   "execution_count": 62,
   "id": "db317135",
   "metadata": {},
   "outputs": [
    {
     "name": "stdout",
     "output_type": "stream",
     "text": [
      "[50, 40, 30, 20, 10]\n"
     ]
    }
   ],
   "source": [
    "# 2) Prueba a usar sort()\n",
    "def ordenar_descendente(listado):\n",
    "    return listado.sort(reverse=True)\n",
    "\n",
    "ordenar_descendente(listado)\n",
    "print(listado)"
   ]
  },
  {
   "cell_type": "code",
   "execution_count": 153,
   "id": "2e795025",
   "metadata": {},
   "outputs": [
    {
     "name": "stdout",
     "output_type": "stream",
     "text": [
      "[30, 20, 10, 50, 40] [50, 40, 30, 20, 10]\n"
     ]
    }
   ],
   "source": [
    "# 3) Realiza lo mismo pero con bucles y condicionales\n",
    "listado = [30,20,10,50,40]\n",
    "listado_prueba = [30,20,10,50,40]\n",
    "listado_descendente=[]\n",
    "\n",
    "def ordenar_descendente(listado):\n",
    "    while(len(listado)>0):\n",
    "        listado_descendente.append(max(listado))\n",
    "        listado.remove(max(listado))\n",
    "    return listado_descendente\n",
    "    \n",
    "print(listado, ordenar_descendente(listado_prueba))"
   ]
  },
  {
   "cell_type": "code",
   "execution_count": 74,
   "id": "03c3a64f",
   "metadata": {},
   "outputs": [
    {
     "name": "stdout",
     "output_type": "stream",
     "text": [
      "Big Data\n",
      "Python\n",
      "Algoritmos\n",
      "Machine Learning\n",
      "Deep Learning\n",
      "NLP\n"
     ]
    }
   ],
   "source": [
    "# Ejercicio 5\n",
    "# Para ese listado imprime todas ellas, 1 a 1\n",
    "# módulos = [\"Big Data\", \"Python\", \"Algoritmos\", \"Machine Learning\", \"Deep Learning\", \"NLP\"]\n",
    "\n",
    "modulos = [\"Big Data\", \"Python\", \"Algoritmos\", \"Machine Learning\", \"Deep Learning\", \"NLP\"]\n",
    "\n",
    "def imprimir_valor(modulos):\n",
    "    for valor in modulos:\n",
    "        print(valor)\n",
    "\n",
    "imprimir_valor(modulos)"
   ]
  },
  {
   "cell_type": "code",
   "execution_count": 160,
   "id": "4d14a066",
   "metadata": {},
   "outputs": [
    {
     "name": "stdout",
     "output_type": "stream",
     "text": [
      "['Python']\n",
      "['Algoritmos']\n"
     ]
    }
   ],
   "source": [
    "# 2) dentro de ese grupo de materias, existen unas materias que son básicas en todos los programas.\n",
    "# y que forman la base de conocimientos iniciales para afrontar con éxito el resto de un programa.\n",
    "# Las mismas son: Python y Algoritmos (aunque en la práctica hay más cosas)\n",
    "# Se pide almacenar las mismas en un listado secundario, de nombre: \"esenciales\" (por ejemplo)\n",
    "# Imprime ese listado al terminar de almacenarlos.\n",
    "\n",
    "\n",
    "def listado_secundario(modulos, valor):\n",
    "    esenciales = []\n",
    "    for i in modulos:\n",
    "        if (i==valor):\n",
    "            esenciales.append(i)\n",
    "    return esenciales\n",
    "            \n",
    "print(listado_secundario(modulos, \"Python\"))\n",
    "\n",
    "print(listado_secundario(modulos, \"Algoritmos\"))\n",
    "\n"
   ]
  },
  {
   "cell_type": "code",
   "execution_count": 97,
   "id": "efc1e1ad",
   "metadata": {},
   "outputs": [
    {
     "data": {
      "text/html": [
       "<div>\n",
       "<style scoped>\n",
       "    .dataframe tbody tr th:only-of-type {\n",
       "        vertical-align: middle;\n",
       "    }\n",
       "\n",
       "    .dataframe tbody tr th {\n",
       "        vertical-align: top;\n",
       "    }\n",
       "\n",
       "    .dataframe thead th {\n",
       "        text-align: right;\n",
       "    }\n",
       "</style>\n",
       "<table border=\"1\" class=\"dataframe\">\n",
       "  <thead>\n",
       "    <tr style=\"text-align: right;\">\n",
       "      <th></th>\n",
       "      <th>modulos</th>\n",
       "      <th>horas</th>\n",
       "    </tr>\n",
       "  </thead>\n",
       "  <tbody>\n",
       "    <tr>\n",
       "      <th>0</th>\n",
       "      <td>Big Data</td>\n",
       "      <td>25</td>\n",
       "    </tr>\n",
       "    <tr>\n",
       "      <th>1</th>\n",
       "      <td>Python</td>\n",
       "      <td>15</td>\n",
       "    </tr>\n",
       "    <tr>\n",
       "      <th>2</th>\n",
       "      <td>Algoritmos</td>\n",
       "      <td>5</td>\n",
       "    </tr>\n",
       "    <tr>\n",
       "      <th>3</th>\n",
       "      <td>Machine Learning</td>\n",
       "      <td>15</td>\n",
       "    </tr>\n",
       "    <tr>\n",
       "      <th>4</th>\n",
       "      <td>Deep Learning</td>\n",
       "      <td>5</td>\n",
       "    </tr>\n",
       "    <tr>\n",
       "      <th>5</th>\n",
       "      <td>NLP</td>\n",
       "      <td>10</td>\n",
       "    </tr>\n",
       "  </tbody>\n",
       "</table>\n",
       "</div>"
      ],
      "text/plain": [
       "            modulos  horas\n",
       "0          Big Data     25\n",
       "1            Python     15\n",
       "2        Algoritmos      5\n",
       "3  Machine Learning     15\n",
       "4     Deep Learning      5\n",
       "5               NLP     10"
      ]
     },
     "execution_count": 97,
     "metadata": {},
     "output_type": "execute_result"
    }
   ],
   "source": [
    "# 3) Crea un DataFrame, de nombre df con esa información en base a la siguiente relación de módulos y horas de clase\n",
    "# módulos: Big Data, Python, Algoritmos, Machine Learning, Deep Learning, NLP\n",
    "# horas: 25, 15, 5, 15, 5, 10\n",
    "modulos = [\"Big Data\", \"Python\", \"Algoritmos\", \"Machine Learning\", \"Deep Learning\", \"NLP\"]\n",
    "horas = [25, 15, 5, 15, 5, 10]\n",
    "modulos\n",
    "horas\n",
    "\n",
    "import pandas as pd\n",
    "df = pd.DataFrame({\"modulos\": modulos, \"horas\": horas})\n",
    "df"
   ]
  },
  {
   "cell_type": "code",
   "execution_count": 162,
   "id": "4d84a51c",
   "metadata": {},
   "outputs": [
    {
     "name": "stdout",
     "output_type": "stream",
     "text": [
      "0    25\n",
      "1    15\n",
      "2     5\n",
      "3    15\n",
      "4     5\n",
      "5    10\n",
      "Name: horas, dtype: int64\n",
      "0    25\n",
      "1    15\n",
      "2     5\n",
      "3    15\n",
      "4     5\n",
      "5    10\n",
      "Name: horas, dtype: int64\n"
     ]
    }
   ],
   "source": [
    "# De ese DataFrame, selecciona solamente la columna \"horas\" e imprímela\n",
    "df_horas = df[\"horas\"]\n",
    "print(df_horas)\n",
    "print(df.horas)"
   ]
  },
  {
   "cell_type": "code",
   "execution_count": 119,
   "id": "cd7ca016",
   "metadata": {},
   "outputs": [],
   "source": [
    "def imprime_columna(df,columna):\n",
    "    df_horas = df[columna]\n",
    "    display(df[[columna]])"
   ]
  },
  {
   "cell_type": "code",
   "execution_count": 120,
   "id": "f2ecab5a",
   "metadata": {},
   "outputs": [
    {
     "data": {
      "text/html": [
       "<div>\n",
       "<style scoped>\n",
       "    .dataframe tbody tr th:only-of-type {\n",
       "        vertical-align: middle;\n",
       "    }\n",
       "\n",
       "    .dataframe tbody tr th {\n",
       "        vertical-align: top;\n",
       "    }\n",
       "\n",
       "    .dataframe thead th {\n",
       "        text-align: right;\n",
       "    }\n",
       "</style>\n",
       "<table border=\"1\" class=\"dataframe\">\n",
       "  <thead>\n",
       "    <tr style=\"text-align: right;\">\n",
       "      <th></th>\n",
       "      <th>horas</th>\n",
       "    </tr>\n",
       "  </thead>\n",
       "  <tbody>\n",
       "    <tr>\n",
       "      <th>0</th>\n",
       "      <td>25</td>\n",
       "    </tr>\n",
       "    <tr>\n",
       "      <th>1</th>\n",
       "      <td>15</td>\n",
       "    </tr>\n",
       "    <tr>\n",
       "      <th>2</th>\n",
       "      <td>5</td>\n",
       "    </tr>\n",
       "    <tr>\n",
       "      <th>3</th>\n",
       "      <td>15</td>\n",
       "    </tr>\n",
       "    <tr>\n",
       "      <th>4</th>\n",
       "      <td>5</td>\n",
       "    </tr>\n",
       "    <tr>\n",
       "      <th>5</th>\n",
       "      <td>10</td>\n",
       "    </tr>\n",
       "  </tbody>\n",
       "</table>\n",
       "</div>"
      ],
      "text/plain": [
       "   horas\n",
       "0     25\n",
       "1     15\n",
       "2      5\n",
       "3     15\n",
       "4      5\n",
       "5     10"
      ]
     },
     "metadata": {},
     "output_type": "display_data"
    }
   ],
   "source": [
    "imprime_columna(df,\"horas\")\n"
   ]
  },
  {
   "cell_type": "code",
   "execution_count": 163,
   "id": "95cdc7b4",
   "metadata": {},
   "outputs": [
    {
     "data": {
      "image/png": "[encoded data removed]",
      "text/plain": [
       "<Figure size 432x288 with 1 Axes>"
      ]
     },
     "metadata": {
      "needs_background": "light"
     },
     "output_type": "display_data"
    }
   ],
   "source": [
    "# 5) Muestra el gráfico (plot) para la columna \"horas\"\n",
    "\n",
    "def imprimir_plot_tipo (dataframre, tipo):\n",
    "    dataframre.horas.plot(kind=tipo)\n",
    "    \n",
    "imprimir_plot_tipo (df,\"bar\")"
   ]
  },
  {
   "cell_type": "code",
   "execution_count": 132,
   "id": "bfb52d3b",
   "metadata": {},
   "outputs": [
    {
     "data": {
      "text/html": [
       "<div>\n",
       "<style scoped>\n",
       "    .dataframe tbody tr th:only-of-type {\n",
       "        vertical-align: middle;\n",
       "    }\n",
       "\n",
       "    .dataframe tbody tr th {\n",
       "        vertical-align: top;\n",
       "    }\n",
       "\n",
       "    .dataframe thead th {\n",
       "        text-align: right;\n",
       "    }\n",
       "</style>\n",
       "<table border=\"1\" class=\"dataframe\">\n",
       "  <thead>\n",
       "    <tr style=\"text-align: right;\">\n",
       "      <th></th>\n",
       "      <th>modulos</th>\n",
       "      <th>horas</th>\n",
       "    </tr>\n",
       "  </thead>\n",
       "  <tbody>\n",
       "    <tr>\n",
       "      <th>0</th>\n",
       "      <td>Big Data</td>\n",
       "      <td>25</td>\n",
       "    </tr>\n",
       "  </tbody>\n",
       "</table>\n",
       "</div>"
      ],
      "text/plain": [
       "    modulos  horas\n",
       "0  Big Data     25"
      ]
     },
     "execution_count": 132,
     "metadata": {},
     "output_type": "execute_result"
    }
   ],
   "source": [
    "# 6) De ese DataFrame, selecciona solamente aquellas materias que tienen 20 o más horas de dedicación\n",
    "\n",
    "df_dedicacion_20 = df[df[\"horas\"]>=20]\n",
    "df_dedicacion_20"
   ]
  },
  {
   "cell_type": "code",
   "execution_count": 169,
   "id": "a75e3743",
   "metadata": {},
   "outputs": [
    {
     "data": {
      "text/html": [
       "<div>\n",
       "<style scoped>\n",
       "    .dataframe tbody tr th:only-of-type {\n",
       "        vertical-align: middle;\n",
       "    }\n",
       "\n",
       "    .dataframe tbody tr th {\n",
       "        vertical-align: top;\n",
       "    }\n",
       "\n",
       "    .dataframe thead th {\n",
       "        text-align: right;\n",
       "    }\n",
       "</style>\n",
       "<table border=\"1\" class=\"dataframe\">\n",
       "  <thead>\n",
       "    <tr style=\"text-align: right;\">\n",
       "      <th></th>\n",
       "      <th>modulos</th>\n",
       "      <th>horas</th>\n",
       "      <th>docente</th>\n",
       "    </tr>\n",
       "  </thead>\n",
       "  <tbody>\n",
       "    <tr>\n",
       "      <th>0</th>\n",
       "      <td>Big Data</td>\n",
       "      <td>25</td>\n",
       "      <td>Enrique</td>\n",
       "    </tr>\n",
       "  </tbody>\n",
       "</table>\n",
       "</div>"
      ],
      "text/plain": [
       "    modulos  horas  docente\n",
       "0  Big Data     25  Enrique"
      ]
     },
     "metadata": {},
     "output_type": "display_data"
    }
   ],
   "source": [
    "# Modo Funcion\n",
    "\n",
    "\n",
    "def seleccion (dataframe, columna, valor):\n",
    "    resultado=dataframe[dataframe[columna]>=valor]\n",
    "    return resultado\n",
    "    \n",
    "df_dedicacion = seleccion(df, \"horas\", 20)\n",
    "display(df_dedicacion)\n"
   ]
  },
  {
   "cell_type": "code",
   "execution_count": 133,
   "id": "10e496a0",
   "metadata": {},
   "outputs": [
    {
     "data": {
      "text/html": [
       "<div>\n",
       "<style scoped>\n",
       "    .dataframe tbody tr th:only-of-type {\n",
       "        vertical-align: middle;\n",
       "    }\n",
       "\n",
       "    .dataframe tbody tr th {\n",
       "        vertical-align: top;\n",
       "    }\n",
       "\n",
       "    .dataframe thead th {\n",
       "        text-align: right;\n",
       "    }\n",
       "</style>\n",
       "<table border=\"1\" class=\"dataframe\">\n",
       "  <thead>\n",
       "    <tr style=\"text-align: right;\">\n",
       "      <th></th>\n",
       "      <th>modulos</th>\n",
       "      <th>horas</th>\n",
       "    </tr>\n",
       "  </thead>\n",
       "  <tbody>\n",
       "    <tr>\n",
       "      <th>2</th>\n",
       "      <td>Algoritmos</td>\n",
       "      <td>5</td>\n",
       "    </tr>\n",
       "    <tr>\n",
       "      <th>4</th>\n",
       "      <td>Deep Learning</td>\n",
       "      <td>5</td>\n",
       "    </tr>\n",
       "  </tbody>\n",
       "</table>\n",
       "</div>"
      ],
      "text/plain": [
       "         modulos  horas\n",
       "2     Algoritmos      5\n",
       "4  Deep Learning      5"
      ]
     },
     "execution_count": 133,
     "metadata": {},
     "output_type": "execute_result"
    }
   ],
   "source": [
    " #7) De ese DataFrame, selecciona solamente aquellas materias que tienen menos de 10 horas de dedicación\n",
    "df_dedicacion_10 = df[df[\"horas\"]<10]\n",
    "df_dedicacion_10"
   ]
  },
  {
   "cell_type": "code",
   "execution_count": 165,
   "id": "f2af9ce5",
   "metadata": {},
   "outputs": [
    {
     "data": {
      "text/html": [
       "<div>\n",
       "<style scoped>\n",
       "    .dataframe tbody tr th:only-of-type {\n",
       "        vertical-align: middle;\n",
       "    }\n",
       "\n",
       "    .dataframe tbody tr th {\n",
       "        vertical-align: top;\n",
       "    }\n",
       "\n",
       "    .dataframe thead th {\n",
       "        text-align: right;\n",
       "    }\n",
       "</style>\n",
       "<table border=\"1\" class=\"dataframe\">\n",
       "  <thead>\n",
       "    <tr style=\"text-align: right;\">\n",
       "      <th></th>\n",
       "      <th>modulos</th>\n",
       "      <th>horas</th>\n",
       "      <th>docente</th>\n",
       "    </tr>\n",
       "  </thead>\n",
       "  <tbody>\n",
       "    <tr>\n",
       "      <th>2</th>\n",
       "      <td>Algoritmos</td>\n",
       "      <td>5</td>\n",
       "      <td>Juan</td>\n",
       "    </tr>\n",
       "    <tr>\n",
       "      <th>4</th>\n",
       "      <td>Deep Learning</td>\n",
       "      <td>5</td>\n",
       "      <td>Laura</td>\n",
       "    </tr>\n",
       "  </tbody>\n",
       "</table>\n",
       "</div>"
      ],
      "text/plain": [
       "         modulos  horas docente\n",
       "2     Algoritmos      5    Juan\n",
       "4  Deep Learning      5   Laura"
      ]
     },
     "metadata": {},
     "output_type": "display_data"
    }
   ],
   "source": [
    "# MODO FUNCION\n",
    "def seleccion (df, columna, valor):\n",
    "    resultado=df[df[columna]<valor]\n",
    "    return resultado\n",
    "    \n",
    "df_dedicacion = seleccion(df, \"horas\", 10)\n",
    "display(df_dedicacion)"
   ]
  },
  {
   "cell_type": "code",
   "execution_count": 134,
   "id": "286771bc",
   "metadata": {},
   "outputs": [
    {
     "data": {
      "text/html": [
       "<div>\n",
       "<style scoped>\n",
       "    .dataframe tbody tr th:only-of-type {\n",
       "        vertical-align: middle;\n",
       "    }\n",
       "\n",
       "    .dataframe tbody tr th {\n",
       "        vertical-align: top;\n",
       "    }\n",
       "\n",
       "    .dataframe thead th {\n",
       "        text-align: right;\n",
       "    }\n",
       "</style>\n",
       "<table border=\"1\" class=\"dataframe\">\n",
       "  <thead>\n",
       "    <tr style=\"text-align: right;\">\n",
       "      <th></th>\n",
       "      <th>modulos</th>\n",
       "      <th>horas</th>\n",
       "    </tr>\n",
       "  </thead>\n",
       "  <tbody>\n",
       "  </tbody>\n",
       "</table>\n",
       "</div>"
      ],
      "text/plain": [
       "Empty DataFrame\n",
       "Columns: [modulos, horas]\n",
       "Index: []"
      ]
     },
     "execution_count": 134,
     "metadata": {},
     "output_type": "execute_result"
    }
   ],
   "source": [
    "# 8) De ese DataFrame, selecciona solamente (si fuera posible) aquellas materias que tienen mas de 26 horas de dedicación\n",
    "df_dedicacion_26 = df[df[\"horas\"]>26]\n",
    "df_dedicacion_26"
   ]
  },
  {
   "cell_type": "code",
   "execution_count": 166,
   "id": "ea7d194e",
   "metadata": {},
   "outputs": [
    {
     "data": {
      "text/html": [
       "<div>\n",
       "<style scoped>\n",
       "    .dataframe tbody tr th:only-of-type {\n",
       "        vertical-align: middle;\n",
       "    }\n",
       "\n",
       "    .dataframe tbody tr th {\n",
       "        vertical-align: top;\n",
       "    }\n",
       "\n",
       "    .dataframe thead th {\n",
       "        text-align: right;\n",
       "    }\n",
       "</style>\n",
       "<table border=\"1\" class=\"dataframe\">\n",
       "  <thead>\n",
       "    <tr style=\"text-align: right;\">\n",
       "      <th></th>\n",
       "      <th>modulos</th>\n",
       "      <th>horas</th>\n",
       "      <th>docente</th>\n",
       "    </tr>\n",
       "  </thead>\n",
       "  <tbody>\n",
       "  </tbody>\n",
       "</table>\n",
       "</div>"
      ],
      "text/plain": [
       "Empty DataFrame\n",
       "Columns: [modulos, horas, docente]\n",
       "Index: []"
      ]
     },
     "metadata": {},
     "output_type": "display_data"
    }
   ],
   "source": [
    "# MODO FUNCION\n",
    "def seleccion (df, columna, valor):\n",
    "    resultado=df[df[columna]>valor]\n",
    "    return resultado\n",
    "    \n",
    "df_dedicacion = seleccion(df, \"horas\", 26)\n",
    "display(df_dedicacion)"
   ]
  },
  {
   "cell_type": "code",
   "execution_count": 168,
   "id": "4354a85e",
   "metadata": {},
   "outputs": [
    {
     "data": {
      "text/html": [
       "<div>\n",
       "<style scoped>\n",
       "    .dataframe tbody tr th:only-of-type {\n",
       "        vertical-align: middle;\n",
       "    }\n",
       "\n",
       "    .dataframe tbody tr th {\n",
       "        vertical-align: top;\n",
       "    }\n",
       "\n",
       "    .dataframe thead th {\n",
       "        text-align: right;\n",
       "    }\n",
       "</style>\n",
       "<table border=\"1\" class=\"dataframe\">\n",
       "  <thead>\n",
       "    <tr style=\"text-align: right;\">\n",
       "      <th></th>\n",
       "      <th>modulos</th>\n",
       "      <th>horas</th>\n",
       "      <th>docente</th>\n",
       "    </tr>\n",
       "  </thead>\n",
       "  <tbody>\n",
       "    <tr>\n",
       "      <th>0</th>\n",
       "      <td>Big Data</td>\n",
       "      <td>25</td>\n",
       "      <td>Enrique</td>\n",
       "    </tr>\n",
       "    <tr>\n",
       "      <th>1</th>\n",
       "      <td>Python</td>\n",
       "      <td>15</td>\n",
       "      <td>Susana</td>\n",
       "    </tr>\n",
       "    <tr>\n",
       "      <th>2</th>\n",
       "      <td>Algoritmos</td>\n",
       "      <td>5</td>\n",
       "      <td>Juan</td>\n",
       "    </tr>\n",
       "    <tr>\n",
       "      <th>3</th>\n",
       "      <td>Machine Learning</td>\n",
       "      <td>15</td>\n",
       "      <td>Ana</td>\n",
       "    </tr>\n",
       "    <tr>\n",
       "      <th>4</th>\n",
       "      <td>Deep Learning</td>\n",
       "      <td>5</td>\n",
       "      <td>Laura</td>\n",
       "    </tr>\n",
       "    <tr>\n",
       "      <th>5</th>\n",
       "      <td>NLP</td>\n",
       "      <td>10</td>\n",
       "      <td>Patricia</td>\n",
       "    </tr>\n",
       "  </tbody>\n",
       "</table>\n",
       "</div>"
      ],
      "text/plain": [
       "            modulos  horas   docente\n",
       "0          Big Data     25   Enrique\n",
       "1            Python     15    Susana\n",
       "2        Algoritmos      5      Juan\n",
       "3  Machine Learning     15       Ana\n",
       "4     Deep Learning      5     Laura\n",
       "5               NLP     10  Patricia"
      ]
     },
     "execution_count": 168,
     "metadata": {},
     "output_type": "execute_result"
    }
   ],
   "source": [
    "#9) Apendiza, (si puedes), una nueva columna llamada \"docente\" con el instructor encargado de la materia.\n",
    "# Y cuyos nombres serán: Enrique, Susana, Juan, Ana, Laura, Patricia\n",
    "docente = [\"Enrique\", \"Susana\", \"Juan\", \"Ana\", \"Laura\", \"Patricia\"]\n",
    "df[\"docente\"] = docente\n",
    "df"
   ]
  },
  {
   "cell_type": "code",
   "execution_count": 136,
   "id": "11c86bb4",
   "metadata": {},
   "outputs": [
    {
     "data": {
      "text/html": [
       "<div>\n",
       "<style scoped>\n",
       "    .dataframe tbody tr th:only-of-type {\n",
       "        vertical-align: middle;\n",
       "    }\n",
       "\n",
       "    .dataframe tbody tr th {\n",
       "        vertical-align: top;\n",
       "    }\n",
       "\n",
       "    .dataframe thead th {\n",
       "        text-align: right;\n",
       "    }\n",
       "</style>\n",
       "<table border=\"1\" class=\"dataframe\">\n",
       "  <thead>\n",
       "    <tr style=\"text-align: right;\">\n",
       "      <th></th>\n",
       "      <th>modulos</th>\n",
       "      <th>horas</th>\n",
       "    </tr>\n",
       "  </thead>\n",
       "  <tbody>\n",
       "    <tr>\n",
       "      <th>0</th>\n",
       "      <td>Big Data</td>\n",
       "      <td>25</td>\n",
       "    </tr>\n",
       "    <tr>\n",
       "      <th>1</th>\n",
       "      <td>Python</td>\n",
       "      <td>15</td>\n",
       "    </tr>\n",
       "    <tr>\n",
       "      <th>2</th>\n",
       "      <td>Algoritmos</td>\n",
       "      <td>5</td>\n",
       "    </tr>\n",
       "    <tr>\n",
       "      <th>3</th>\n",
       "      <td>Machine Learning</td>\n",
       "      <td>15</td>\n",
       "    </tr>\n",
       "    <tr>\n",
       "      <th>4</th>\n",
       "      <td>Deep Learning</td>\n",
       "      <td>5</td>\n",
       "    </tr>\n",
       "    <tr>\n",
       "      <th>5</th>\n",
       "      <td>NLP</td>\n",
       "      <td>10</td>\n",
       "    </tr>\n",
       "  </tbody>\n",
       "</table>\n",
       "</div>"
      ],
      "text/plain": [
       "            modulos  horas\n",
       "0          Big Data     25\n",
       "1            Python     15\n",
       "2        Algoritmos      5\n",
       "3  Machine Learning     15\n",
       "4     Deep Learning      5\n",
       "5               NLP     10"
      ]
     },
     "execution_count": 136,
     "metadata": {},
     "output_type": "execute_result"
    }
   ],
   "source": [
    "del(df['docente'])\n",
    "df"
   ]
  },
  {
   "cell_type": "code",
   "execution_count": 137,
   "id": "5a340d7e",
   "metadata": {},
   "outputs": [
    {
     "data": {
      "text/html": [
       "<div>\n",
       "<style scoped>\n",
       "    .dataframe tbody tr th:only-of-type {\n",
       "        vertical-align: middle;\n",
       "    }\n",
       "\n",
       "    .dataframe tbody tr th {\n",
       "        vertical-align: top;\n",
       "    }\n",
       "\n",
       "    .dataframe thead th {\n",
       "        text-align: right;\n",
       "    }\n",
       "</style>\n",
       "<table border=\"1\" class=\"dataframe\">\n",
       "  <thead>\n",
       "    <tr style=\"text-align: right;\">\n",
       "      <th></th>\n",
       "      <th>modulos</th>\n",
       "      <th>horas</th>\n",
       "      <th>docente</th>\n",
       "    </tr>\n",
       "  </thead>\n",
       "  <tbody>\n",
       "    <tr>\n",
       "      <th>0</th>\n",
       "      <td>Big Data</td>\n",
       "      <td>25</td>\n",
       "      <td>Enrique</td>\n",
       "    </tr>\n",
       "    <tr>\n",
       "      <th>1</th>\n",
       "      <td>Python</td>\n",
       "      <td>15</td>\n",
       "      <td>Susana</td>\n",
       "    </tr>\n",
       "    <tr>\n",
       "      <th>2</th>\n",
       "      <td>Algoritmos</td>\n",
       "      <td>5</td>\n",
       "      <td>Juan</td>\n",
       "    </tr>\n",
       "    <tr>\n",
       "      <th>3</th>\n",
       "      <td>Machine Learning</td>\n",
       "      <td>15</td>\n",
       "      <td>Ana</td>\n",
       "    </tr>\n",
       "    <tr>\n",
       "      <th>4</th>\n",
       "      <td>Deep Learning</td>\n",
       "      <td>5</td>\n",
       "      <td>Laura</td>\n",
       "    </tr>\n",
       "    <tr>\n",
       "      <th>5</th>\n",
       "      <td>NLP</td>\n",
       "      <td>10</td>\n",
       "      <td>Patricia</td>\n",
       "    </tr>\n",
       "  </tbody>\n",
       "</table>\n",
       "</div>"
      ],
      "text/plain": [
       "            modulos  horas   docente\n",
       "0          Big Data     25   Enrique\n",
       "1            Python     15    Susana\n",
       "2        Algoritmos      5      Juan\n",
       "3  Machine Learning     15       Ana\n",
       "4     Deep Learning      5     Laura\n",
       "5               NLP     10  Patricia"
      ]
     },
     "execution_count": 137,
     "metadata": {},
     "output_type": "execute_result"
    }
   ],
   "source": [
    "# CON FUNCION\n",
    "def nueva_columna (df, name, datos):\n",
    "    df[name] = datos\n",
    "nueva_columna (df, \"docente\", docente)\n",
    "df"
   ]
  },
  {
   "cell_type": "code",
   "execution_count": null,
   "id": "2333cb5a",
   "metadata": {},
   "outputs": [],
   "source": []
  }
 ],
 "metadata": {
  "kernelspec": {
   "display_name": "Python 3 (ipykernel)",
   "language": "python",
   "name": "python3"
  },
  "language_info": {
   "codemirror_mode": {
    "name": "ipython",
    "version": 3
   },
   "file_extension": ".py",
   "mimetype": "text/x-python",
   "name": "python",
   "nbconvert_exporter": "python",
   "pygments_lexer": "ipython3",
   "version": "3.8.10"
  }
 },
 "nbformat": 4,
 "nbformat_minor": 5
}
