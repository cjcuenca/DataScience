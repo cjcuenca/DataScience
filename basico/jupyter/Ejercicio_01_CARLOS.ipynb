{
 "cells": [
  {
   "cell_type": "code",
   "execution_count": 2,
   "id": "8e6e82b2-f198-4dcc-9d8b-6309add18f4b",
   "metadata": {},
   "outputs": [
    {
     "data": {
      "text/plain": [
       "-3"
      ]
     },
     "execution_count": 2,
     "metadata": {},
     "output_type": "execute_result"
    }
   ],
   "source": [
    "import pandas as pd\n",
    "\n",
    "\n",
    "# EJERCICIO 1\n",
    "\n",
    "\"\"\"\n",
    "    Decribe una variable con nombre \"notas\" que tenga el valor -3\n",
    "    muestra su valor\n",
    "\"\"\"\n",
    "\n",
    "notas = -3\n",
    "notas\n"
   ]
  },
  {
   "cell_type": "code",
   "execution_count": null,
   "id": "4910c2a3",
   "metadata": {},
   "outputs": [],
   "source": [
    "# Descomentar para ejecutar:\n",
    "# note(notas)\n",
    "#\n",
    "# EJERCICIO 2\n",
    "#\n",
    "#\"\"\"\n",
    "#    Imprime los valores de \"s\" es igual 25, de \"y\" es igual a 10, poniendo la siguiente salida:\n",
    "#    El valor de \"s\" es \"valor de s\" y el valor de y es \"valor de y\"\n",
    "#\"\"\""
   ]
  },
  {
   "cell_type": "code",
   "execution_count": 3,
   "id": "9c65b3e0",
   "metadata": {},
   "outputs": [
    {
     "name": "stdout",
     "output_type": "stream",
     "text": [
      "el valor de s es 25 y el valor de y es 10\n"
     ]
    }
   ],
   "source": [
    "s = 25\n",
    "y = 10\n",
    "print(f'el valor de s es {s} y el valor de y es {y}')"
   ]
  },
  {
   "cell_type": "code",
   "execution_count": 4,
   "id": "1a4c888c",
   "metadata": {},
   "outputs": [
    {
     "name": "stdout",
     "output_type": "stream",
     "text": [
      "el valor de s es 25 y el valor de y es 10\n"
     ]
    }
   ],
   "source": [
    "print('el valor de s es ' + str(s) + ' y el valor de y es ' + str(y))"
   ]
  },
  {
   "cell_type": "code",
   "execution_count": 5,
   "id": "2c34c84d",
   "metadata": {},
   "outputs": [
    {
     "name": "stdout",
     "output_type": "stream",
     "text": [
      "el valor de s es  25  y el valor de y es  10\n"
     ]
    }
   ],
   "source": [
    "print('el valor de s es ', s, ' y el valor de y es ', y)"
   ]
  },
  {
   "cell_type": "code",
   "execution_count": 6,
   "id": "866dc353",
   "metadata": {},
   "outputs": [
    {
     "name": "stdout",
     "output_type": "stream",
     "text": [
      "el valor de s es 25 y el valor de y es 10\n"
     ]
    }
   ],
   "source": [
    "print(f'el valor de s es %s y el valor de y es %s' %(s, y))"
   ]
  },
  {
   "cell_type": "code",
   "execution_count": 7,
   "id": "d1b0b938",
   "metadata": {},
   "outputs": [
    {
     "name": "stdout",
     "output_type": "stream",
     "text": [
      "el valor de s es 25 y el valor de y es 10\n",
      "el valor de s es 25 y el valor de y es 10\n",
      "el valor de s es  25  y el valor de y es  10\n",
      "el valor de s es 25 y el valor de y es 10\n"
     ]
    }
   ],
   "source": [
    "# Modo FUNCION\n",
    "s = 25\n",
    "y = 10\n",
    "\n",
    "def imprimir(s, y):\n",
    "    print(f'el valor de s es {s} y el valor de y es {y}')\n",
    "    print('el valor de s es ' + str(s) + ' y el valor de y es ' + str(y))\n",
    "    print('el valor de s es ', s, ' y el valor de y es ', y)\n",
    "    print(f'el valor de s es %s y el valor de y es %s' %(s, y))\n",
    "imprimir(s, y)\n",
    "\n"
   ]
  },
  {
   "cell_type": "code",
   "execution_count": 9,
   "id": "74724aa8",
   "metadata": {},
   "outputs": [
    {
     "data": {
      "text/plain": [
       "\"Juan 'El profesor'\""
      ]
     },
     "execution_count": 9,
     "metadata": {},
     "output_type": "execute_result"
    }
   ],
   "source": [
    "# EJERCICIO 3\n",
    "# \n",
    "# \"\"\"\n",
    "#     Declarar una variable con nombre \"name\",\n",
    "#     que tenga el valor de Juan \"El profesor\"\n",
    "# \"\"\"\n",
    "name=\"Juan 'El profesor'\"\n",
    "name"
   ]
  },
  {
   "cell_type": "code",
   "execution_count": 10,
   "id": "b223bea2",
   "metadata": {},
   "outputs": [
    {
     "name": "stdout",
     "output_type": "stream",
     "text": [
      "Juan 'El profesor'\n"
     ]
    }
   ],
   "source": [
    "# MODO FUNCION\n",
    "def profesor(name):\n",
    "    return name\n",
    "\n",
    "print(profesor(\"Juan 'El profesor'\"))"
   ]
  },
  {
   "cell_type": "code",
   "execution_count": 11,
   "id": "1421935c",
   "metadata": {},
   "outputs": [
    {
     "name": "stdout",
     "output_type": "stream",
     "text": [
      "Juan 'El profesor'\n"
     ]
    }
   ],
   "source": [
    "# EJERCICIO 4\n",
    "# \n",
    "# \"\"\"\n",
    "#     Concatena las siguientes palabras formando un sola:\n",
    "#     Juan \"El profesor\"\n",
    "# \"\"\"\n",
    "\n",
    "def profesor_2(name_1, name_2):\n",
    "    result = name_1 + \" \" + name_2\n",
    "    print(result)\n",
    "\n",
    "profesor_2(\"Juan\", \"'El profesor'\")"
   ]
  },
  {
   "cell_type": "code",
   "execution_count": 15,
   "id": "2e21d9c3",
   "metadata": {},
   "outputs": [
    {
     "name": "stdout",
     "output_type": "stream",
     "text": [
      "No Cuentes Los Días, Haz Que Los Días Cuenten\n",
      "NO CUENTES LOS DÍAS, HAZ QUE LOS DÍAS CUENTEN\n",
      "no cuentes los días, haz que los días cuenten\n"
     ]
    }
   ],
   "source": [
    "# EJERCICIO 5\n",
    "# \n",
    "# \"\"\"\n",
    "#     Teniendo la siguientes palabras: no cuentes los días, haz que los días cuenten\n",
    "#      · Pon las primeras letras de cada palabra en mayúsculas\n",
    "#      · Pon todas las letras en mayúsculas\n",
    "#      · Pon todas las letras en minúculas\n",
    "# \"\"\"\n",
    "\n",
    "frase = \"no cuentes los días, haz que los días cuenten\"\n",
    "\n",
    "def titulo(frase):\n",
    "    print(frase.title())\n",
    "\n",
    "def mayusculas(frase):\n",
    "    print(frase.upper())\n",
    "\n",
    "def minusculas(frase):\n",
    "    print(frase.lower())\n",
    "\n",
    "# Descomentar para ejecutar:\n",
    "titulo(frase)\n",
    "mayusculas(frase)\n",
    "minusculas(frase)"
   ]
  },
  {
   "cell_type": "code",
   "execution_count": null,
   "id": "45a1b7d6",
   "metadata": {},
   "outputs": [],
   "source": [
    "# EJERCICIO 6\n",
    "# \n",
    "# \"\"\"\n",
    "#     Realiza la suma de 26 y 35\n",
    "#     Realiza la multiplicación de 26 y 35\n",
    "#     Realiza la operación de 2 + 32 por 10\n",
    "#     Saca el resultado de 3 elevado a 9\n",
    "#     Redondea el resultado anterior a dos decimales\n",
    "#     Muestra de que tipo se trata\n",
    "# \"\"\"\n",
    "\n",
    "x = 26\n",
    "y = 35\n",
    "\n",
    "def sumaValores(x, y):\n",
    "    print(x + y)\n",
    "\n",
    "def multiplicación(x, y):\n",
    "    print(x * y)\n",
    "\n",
    "def operación():\n",
    "    print(2 + 32 * 10)\n",
    "\n",
    "def elevado(x, y):\n",
    "    print(x ** y)\n",
    "    result = x ** y\n",
    "    return result\n",
    "\n",
    "def redondeo(value):\n",
    "    print(round(value, 2))\n",
    "\n",
    "def tipo(value):\n",
    "    print(type(value))\n",
    "\n",
    "# Descomentar para ejecutar:\n",
    "# sumaValores(x, y)\n",
    "# multiplicación(x, y)\n",
    "# operación()\n",
    "# value = elevado(3, 9)\n",
    "# redondeo(value)\n",
    "# tipo(value)\n",
    "\n",
    "\n"
   ]
  },
  {
   "cell_type": "code",
   "execution_count": 16,
   "id": "0911226f",
   "metadata": {},
   "outputs": [
    {
     "name": "stdout",
     "output_type": "stream",
     "text": [
      "absoluto:  32\n",
      "máximo:  4\n",
      "mínimo:  -10\n"
     ]
    }
   ],
   "source": [
    "# EJERCICIO 7\n",
    "# \n",
    "# \"\"\"\n",
    "#     Saca el valor absoluto de -32\n",
    "#     Muestra el máximo y el mínimo de (3, -6, 4, -10, 2.6666)\n",
    "# \"\"\"\n",
    "\n",
    "z = -32\n",
    "lista = [3, -6, 4, -10, 2.6666]\n",
    "\n",
    "\n",
    "def absoluto(z):\n",
    "    print(\"absoluto: \", abs(z))\n",
    "\n",
    "def test(lista):\n",
    "    print(\"máximo: \", max(lista))\n",
    "    print(\"mínimo: \", min(lista))\n",
    "\n",
    "# Descomentar para ejecutar:\n",
    "absoluto(z)\n",
    "test(lista)\n",
    "\n",
    "\n"
   ]
  },
  {
   "cell_type": "code",
   "execution_count": 27,
   "id": "7d69d541",
   "metadata": {},
   "outputs": [
    {
     "name": "stdout",
     "output_type": "stream",
     "text": [
      "[10, None, 8, 5, None, 20]\n",
      "[10, -1, 8, 5, -1, 20]\n"
     ]
    }
   ],
   "source": [
    "# EJERCICIO 8\n",
    "# \n",
    "# \"\"\"\n",
    "#     Tratar de reemplazar los valores que faltan en este listado --> por un -1\n",
    "#     L = [10, None, 8, 5, None, 20]\n",
    "#     1) Hazlo de la forma más fácil posible teniendo en cuenta la posición (index) de esos valores.\n",
    "\n",
    "def reemplazar_none(lista, valor):\n",
    "    for i in range(len(lista)):\n",
    "        if lista[i] == None:\n",
    "            lista[i]=valor\n",
    "    return lista\n",
    "\n",
    "L = [10, None, 8, 5, None, 20]\n",
    "print(L)\n",
    "reemplazar_none(L, -1)\n",
    "print(L)"
   ]
  },
  {
   "cell_type": "code",
   "execution_count": 30,
   "id": "47cff227",
   "metadata": {},
   "outputs": [
    {
     "name": "stdout",
     "output_type": "stream",
     "text": [
      "   listado\n",
      "0     10.0\n",
      "1      NaN\n",
      "2      8.0\n",
      "3      5.0\n",
      "4      NaN\n",
      "5     20.0\n"
     ]
    }
   ],
   "source": [
    "L = [10, None, 8, 5, None, 20]\n",
    "df = pd.DataFrame({\"listado\":L})\n",
    "print(df)"
   ]
  },
  {
   "cell_type": "code",
   "execution_count": 31,
   "id": "4b20b57c",
   "metadata": {},
   "outputs": [
    {
     "name": "stdout",
     "output_type": "stream",
     "text": [
      "   listado\n",
      "0     10.0\n",
      "1      NaN\n",
      "2      8.0\n",
      "3      5.0\n",
      "4      NaN\n",
      "5     20.0\n"
     ]
    }
   ],
   "source": [
    "df2 = pd.DataFrame()\n",
    "df['listado'] = L\n",
    "print(df)"
   ]
  },
  {
   "cell_type": "code",
   "execution_count": 32,
   "id": "6453577e",
   "metadata": {},
   "outputs": [
    {
     "name": "stdout",
     "output_type": "stream",
     "text": [
      "   listado\n",
      "0     10.0\n",
      "1      NaN\n",
      "2      8.0\n",
      "3      5.0\n",
      "4      NaN\n",
      "5     20.0\n",
      "   listado\n",
      "0     10.0\n",
      "1      NaN\n",
      "2      8.0\n",
      "3      5.0\n",
      "4      NaN\n",
      "5     20.0\n",
      "   listado\n",
      "0     10.0\n",
      "1      NaN\n",
      "2      8.0\n",
      "3      5.0\n",
      "4      NaN\n",
      "5     20.0\n"
     ]
    }
   ],
   "source": [
    "#     2) Crea un dataframe con esos valores (L = [10, None, 8, 5, None, 20])\n",
    "\n",
    "L = [10, None, 8, 5, None, 20]\n",
    "\n",
    "# Modo 1\n",
    "df = pd.DataFrame({\"listado\":L})\n",
    "print(df)\n",
    "\n",
    "# Modo 2\n",
    "df2 = pd.DataFrame()\n",
    "df['listado'] = L\n",
    "print(df)\n",
    "\n",
    "# Modo 3\n",
    "df3 = pd.DataFrame(L, columns=[\"listado\"])\n",
    "print(df)\n"
   ]
  },
  {
   "cell_type": "code",
   "execution_count": null,
   "id": "a81b539a",
   "metadata": {},
   "outputs": [],
   "source": []
  }
 ],
 "metadata": {
  "kernelspec": {
   "display_name": "Python 3 (ipykernel)",
   "language": "python",
   "name": "python3"
  },
  "language_info": {
   "codemirror_mode": {
    "name": "ipython",
    "version": 3
   },
   "file_extension": ".py",
   "mimetype": "text/x-python",
   "name": "python",
   "nbconvert_exporter": "python",
   "pygments_lexer": "ipython3",
   "version": "3.8.10"
  }
 },
 "nbformat": 4,
 "nbformat_minor": 5
}
