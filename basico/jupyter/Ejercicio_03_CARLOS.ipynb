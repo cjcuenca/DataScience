{
 "cells": [
  {
   "cell_type": "code",
   "execution_count": 8,
   "id": "6cc48553",
   "metadata": {},
   "outputs": [
    {
     "data": {
      "text/plain": [
       "[50, 40, 30, 20, 10]"
      ]
     },
     "execution_count": 8,
     "metadata": {},
     "output_type": "execute_result"
    }
   ],
   "source": [
    "# EJERCICIO 1\n",
    "# \n",
    "# \"\"\"\n",
    "#     Dada una lista de nombre \"listado\" y con valores: 10,20,30,40,50\n",
    "# \"\"\"\n",
    "# 1) Crea un pequeño programa capaz de conseguir el orden inverso de los números de \"listado\" imprime nuevamente \n",
    "#    el listado para tenerlo \"a mano\"\n",
    "# 10-20-30-40-50 (tengo)\n",
    "# 50-40-30-20-10 (lo que busco)\n",
    "# \n",
    "\n",
    "# import numpy as np\n",
    "\n",
    "listado=[10,20,30,40,50]\n",
    "\n",
    "def listado_inverso(lista):\n",
    "    contador=0\n",
    "    lista_inversa=lista.copy()\n",
    "    for i in lista:\n",
    "        contador=contador-1\n",
    "        lista_inversa[contador]=i\n",
    "    return lista_inversa\n",
    "\n",
    "listado_inverso(listado)"
   ]
  },
  {
   "cell_type": "code",
   "execution_count": 28,
   "id": "5056430a",
   "metadata": {},
   "outputs": [
    {
     "data": {
      "text/plain": [
       "[50, 40, 30, 20, 10]"
      ]
     },
     "execution_count": 28,
     "metadata": {},
     "output_type": "execute_result"
    }
   ],
   "source": [
    "listado=[10,20,30,40,50]\n",
    "\n",
    "def listado_inverso(lista):\n",
    "    lista_inversa=[]\n",
    "    contador=0\n",
    "    for i in range(len(lista)):\n",
    "        contador=contador-1        \n",
    "        lista_inversa.append(lista[contador])\n",
    "    return lista_inversa\n",
    "\n",
    "listado_inverso(listado)"
   ]
  },
  {
   "cell_type": "code",
   "execution_count": 27,
   "id": "82af21e7",
   "metadata": {},
   "outputs": [
    {
     "data": {
      "text/plain": [
       "[50, 40, 30, 20, 10]"
      ]
     },
     "execution_count": 27,
     "metadata": {},
     "output_type": "execute_result"
    }
   ],
   "source": [
    "listado=[10,20,30,40,50]\n",
    "\n",
    "def listado_inverso(lista):\n",
    "    lista_inversa=[]\n",
    "    for i in range(1,len(lista)+1):\n",
    "        lista_inversa.append(lista[-i])\n",
    "    return lista_inversa\n",
    "\n",
    "listado_inverso(listado)"
   ]
  },
  {
   "cell_type": "code",
   "execution_count": 32,
   "id": "2e28eb8d",
   "metadata": {},
   "outputs": [
    {
     "name": "stdout",
     "output_type": "stream",
     "text": [
      "Introduzca numero 1\n",
      "Introduzca numero 2\n",
      "Introduzca numero 3\n",
      "Introduzca numero 4\n",
      "Introduzca numero 5\n",
      "[1, 2, 3, 4, 5]\n"
     ]
    }
   ],
   "source": [
    "# EJERCICIO 2\n",
    "#\n",
    "#\"\"\"\n",
    "#    Programa que coge por teclado 5 números y los almacena en una lista\n",
    "#    Nota:\n",
    "#    debería estar en la misma celda\n",
    "#    Hazlo como puedas, discurre cómo sería..\n",
    "#\"\"\"\n",
    "\n",
    "def entrada_lista():\n",
    "    lista=[]\n",
    "    for i in range(0,5):\n",
    "        numero=int(input(\"Introduzca numero \"))\n",
    "        lista.append(numero)\n",
    "    return lista\n",
    "print(entrada_lista())"
   ]
  },
  {
   "cell_type": "code",
   "execution_count": 1,
   "id": "233b5a12",
   "metadata": {},
   "outputs": [
    {
     "name": "stdout",
     "output_type": "stream",
     "text": [
      "Introduzca palabra casa\n",
      "La palabra casa  tiene 2 vocales\n"
     ]
    }
   ],
   "source": [
    "# EJERCICIO 3\n",
    "\n",
    "# \"\"\"\n",
    "#     Programa que coge por teclado una frase y es capaz de decir cuántas vocales hay\n",
    "#     Nota: asume que son letras minúsculas sin tildes.\n",
    "# \"\"\"\n",
    "\n",
    "# 1) Entrada de texto por teclado\n",
    "\n",
    "frase = input(\"añada una frase: \")\n",
    "print(frase)\n",
    "\n",
    "# 2) Hazlo si puedes de varias formas\n",
    "    # forma 1: contar vocales en palabra/frase\n",
    "\n",
    "frase=input(\"Introduzca palabra \")\n",
    "\n",
    "def vocales(frase):\n",
    "    vocales=(\"a\",\"e\",\"i\",\"o\",\"u\")\n",
    "    contador=0\n",
    "    for letra in frase:\n",
    "        if letra.lower() in vocales:\n",
    "            contador=contador+1\n",
    "    return contador\n",
    "\n",
    "print(\"La palabra\",frase,\" tiene\",vocales(frase),\"vocales\")\n",
    "\n"
   ]
  },
  {
   "cell_type": "code",
   "execution_count": 2,
   "id": "05ba89e1",
   "metadata": {},
   "outputs": [
    {
     "name": "stdout",
     "output_type": "stream",
     "text": [
      "Elija de que número quiere las Tablas de multiplicar: <1 a 10>: 2\n",
      "2\n"
     ]
    }
   ],
   "source": [
    "# EJERCICIO 4\n",
    "# \n",
    "# \"\"\"\n",
    "#     Tablas de multiplicar:\n",
    "#     Haz algo tal que:\n",
    "# \"\"\"\n",
    "# \n",
    "# 1) Pregunta al usuario que tabla quiere multiplicar: <1 al 10>\n",
    "\n",
    "tabla = int(input(\"Elija de que número quiere las Tablas de multiplicar: <1 a 10>: \"))\n",
    "print(tabla)\n"
   ]
  },
  {
   "cell_type": "code",
   "execution_count": 5,
   "id": "4824ac0b",
   "metadata": {},
   "outputs": [
    {
     "name": "stdout",
     "output_type": "stream",
     "text": [
      "Elija de que número quiere las Tablas de multiplicar: <1 a 10>: 2\n",
      "2 x 1 = 2\n",
      "2 x 2 = 4\n",
      "2 x 3 = 6\n",
      "2 x 4 = 8\n",
      "2 x 5 = 10\n",
      "2 x 6 = 12\n",
      "2 x 7 = 14\n",
      "2 x 8 = 16\n",
      "2 x 9 = 18\n",
      "2 x 10 = 20\n"
     ]
    }
   ],
   "source": [
    "# 2) Muestra los resultados de esta forma:\n",
    "#\"\"\"\n",
    "#    2 x 1 = 2\n",
    "#    2 x 2 = 4\n",
    "#    ...\n",
    "#    2 x 10 = 20\n",
    "#\"\"\"\n",
    "\n",
    "def tabla_multiplicar(tabla):\n",
    "    tabla=int(tabla)\n",
    "    for i in range(1,11):\n",
    "        print(tabla,\"x\",i,\"=\",tabla*i)\n",
    "    return\n",
    "\n",
    "tabla = int(input(\"Elija de que número quiere las Tablas de multiplicar: <1 a 10>: \"))\n",
    "\n",
    "\n",
    "tabla_multiplicar(tabla)"
   ]
  },
  {
   "cell_type": "code",
   "execution_count": null,
   "id": "5611d268",
   "metadata": {},
   "outputs": [],
   "source": []
  }
 ],
 "metadata": {
  "kernelspec": {
   "display_name": "Python 3 (ipykernel)",
   "language": "python",
   "name": "python3"
  },
  "language_info": {
   "codemirror_mode": {
    "name": "ipython",
    "version": 3
   },
   "file_extension": ".py",
   "mimetype": "text/x-python",
   "name": "python",
   "nbconvert_exporter": "python",
   "pygments_lexer": "ipython3",
   "version": "3.8.10"
  }
 },
 "nbformat": 4,
 "nbformat_minor": 5
}
