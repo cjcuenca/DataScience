{
 "cells": [
  {
   "cell_type": "code",
   "execution_count": 1,
   "id": "34246171",
   "metadata": {},
   "outputs": [],
   "source": [
    "# Ejercicio 1\n",
    "\n",
    "# Escribe el código necesario en Python para:\n",
    "\n",
    "# almacenar con una lista de nombre \"clientes\" los siguientes nombres:\n",
    "\n",
    "# \"Ana Pérez\", \"Juan García\", \"Andres Álvarez\", \"Luis Ramos\", \"Pedro Cadenas\", \n",
    "# \"Estefanía Miguélez\", \"Alberto Delgado\", \"Susana Castro\", \"Luis González\"\n",
    "\n"
   ]
  },
  {
   "cell_type": "code",
   "execution_count": 79,
   "id": "6f727b60",
   "metadata": {},
   "outputs": [],
   "source": [
    "# Importar las librerías\n",
    "import pandas as pd\n",
    "\n",
    "import matplotlib.pyplot as plt\n",
    "\n",
    "import numpy as np\n"
   ]
  },
  {
   "cell_type": "code",
   "execution_count": 5,
   "id": "c7e1bf9e",
   "metadata": {},
   "outputs": [],
   "source": [
    "# EJERCICIO 1\n",
    "# \n",
    "# \"\"\"\n",
    "#     Escribe el código necesario en Python para:\n",
    "#     almacenar con una lista de nombre \"clientes\" los siguientes nombres:\n",
    "#     \"Ana Pérez\", \"Juan García\", \"Andres Álvarez\", \"Luis Ramos\", \"Pedro Cadenas\",\n",
    "#     \"Estefanía Miguélez\", \"Alberto Delgado\", \"Susana Castro\", \"Luis González\"\n",
    "# \"\"\""
   ]
  },
  {
   "cell_type": "code",
   "execution_count": 6,
   "id": "63d39a29",
   "metadata": {},
   "outputs": [
    {
     "data": {
      "text/plain": [
       "['Ana Pérez',\n",
       " 'Juan García',\n",
       " 'Andres Álvarez',\n",
       " 'Luis Ramos',\n",
       " 'Pedro Cadenas',\n",
       " 'Estefanía Miguélez',\n",
       " 'Alberto Delgado',\n",
       " 'Susana Castro',\n",
       " 'Luis González']"
      ]
     },
     "execution_count": 6,
     "metadata": {},
     "output_type": "execute_result"
    }
   ],
   "source": [
    "clientes = [\"Ana Pérez\", \"Juan García\", \"Andres Álvarez\", \"Luis Ramos\", \"Pedro Cadenas\",\n",
    "           \"Estefanía Miguélez\", \"Alberto Delgado\", \"Susana Castro\", \"Luis González\"]"
   ]
  },
  {
   "cell_type": "code",
   "execution_count": 102,
   "id": "992489bd",
   "metadata": {},
   "outputs": [
    {
     "name": "stdout",
     "output_type": "stream",
     "text": [
      "['Ana Pérez', 'Juan García', 'Andres Álvarez', 'Luis Ramos', 'Pedro Cadenas', 'Estefanía Miguélez', 'Alberto Delgado', 'Susana Castro', 'Luis González']\n"
     ]
    }
   ],
   "source": [
    "print(clientes)\n"
   ]
  },
  {
   "cell_type": "code",
   "execution_count": 21,
   "id": "17908c09",
   "metadata": {},
   "outputs": [
    {
     "name": "stdout",
     "output_type": "stream",
     "text": [
      "Ana Pérez\n",
      "Juan García\n",
      "Andres Álvarez\n",
      "Luis Ramos\n",
      "Pedro Cadenas\n",
      "Estefanía Miguélez\n",
      "Alberto Delgado\n",
      "Susana Castro\n",
      "Luis González\n"
     ]
    }
   ],
   "source": [
    "# 1) Para ese listado de clientes imprime todos ellos, 1 a 1\n",
    "\n",
    "\n",
    "for cliente in clientes:\n",
    "    print(cliente)"
   ]
  },
  {
   "cell_type": "code",
   "execution_count": 8,
   "id": "c35ffe59",
   "metadata": {},
   "outputs": [],
   "source": [
    "# 2) Dentro de ese grupo de clientes..\n",
    "#     se pide buscar..al cliente de nombre: \"Juan García\" si es posible\n",
    "#     Si lo encuentra, debería imprimir un mensaje tal que así:\n",
    "#     \"el cliente -nombre del cliente- se encuentra en mi Base de Datos de Clientes\"\n",
    "#     Si no se le encuentra, debería salir un mensaje tal que así:\n",
    "#     \"el cliente -nombre del cliente- NO se encuentra en mi Base de Datos de Clientes\"\n",
    "#     Nota: Comprueba en el caso de llevar o no acento\n",
    "#     Para:\n",
    "#     Juan García\n",
    "#     Juan Garcia\n",
    "#     Ojo con la tilde..\n",
    "# \"\"\""
   ]
  },
  {
   "cell_type": "code",
   "execution_count": 114,
   "id": "b37dcbff",
   "metadata": {},
   "outputs": [
    {
     "data": {
      "text/plain": [
       "'Juan Garcia'"
      ]
     },
     "execution_count": 114,
     "metadata": {},
     "output_type": "execute_result"
    }
   ],
   "source": [
    "def tratar_acentos (cadena):\n",
    "    cadena.replace('á', 'a')\n",
    "    cadena.replace('é', 'e')\n",
    "    cadena.replace('í', 'i')\n",
    "    cadena.replace('ó', 'o')\n",
    "    cadena.replace('ú', 'u')\n",
    "    return cadena\n",
    "\n",
    "cliente = \"Juan Garcia\"\n",
    "new_cliente = tratar_acentos(cliente)\n",
    "new_cliente\n",
    "# print(tratar_acentos(apellido))"
   ]
  },
  {
   "cell_type": "code",
   "execution_count": 116,
   "id": "4f07cec4",
   "metadata": {},
   "outputs": [
    {
     "name": "stdout",
     "output_type": "stream",
     "text": [
      "el cliente Juan Garcia NO se encuentra en mi Base de Datos de Clientes\n"
     ]
    }
   ],
   "source": [
    "cliente = \"Juan Garcia\"\n",
    "\n",
    "def Buscar_BBDD(lista, dato):\n",
    "    if dato in lista:\n",
    "        return print(\"el cliente\", cliente, \"se encuentra en mi Base de Datos de Clientes\")\n",
    "    else:\n",
    "        return print(\"el cliente\", cliente, \"NO se encuentra en mi Base de Datos de Clientes\")\n",
    "\n",
    "Buscar_BBDD(clientes, cliente)"
   ]
  },
  {
   "cell_type": "code",
   "execution_count": 117,
   "id": "d9a63db8",
   "metadata": {},
   "outputs": [],
   "source": [
    "tarifas = [40,50,50,35,45,50,60,50,45]"
   ]
  },
  {
   "cell_type": "code",
   "execution_count": 118,
   "id": "b9a63870",
   "metadata": {},
   "outputs": [
    {
     "data": {
      "text/html": [
       "<div>\n",
       "<style scoped>\n",
       "    .dataframe tbody tr th:only-of-type {\n",
       "        vertical-align: middle;\n",
       "    }\n",
       "\n",
       "    .dataframe tbody tr th {\n",
       "        vertical-align: top;\n",
       "    }\n",
       "\n",
       "    .dataframe thead th {\n",
       "        text-align: right;\n",
       "    }\n",
       "</style>\n",
       "<table border=\"1\" class=\"dataframe\">\n",
       "  <thead>\n",
       "    <tr style=\"text-align: right;\">\n",
       "      <th></th>\n",
       "      <th>clientes</th>\n",
       "      <th>tarifas</th>\n",
       "    </tr>\n",
       "  </thead>\n",
       "  <tbody>\n",
       "    <tr>\n",
       "      <th>0</th>\n",
       "      <td>Ana Pérez</td>\n",
       "      <td>40</td>\n",
       "    </tr>\n",
       "    <tr>\n",
       "      <th>1</th>\n",
       "      <td>Juan García</td>\n",
       "      <td>50</td>\n",
       "    </tr>\n",
       "    <tr>\n",
       "      <th>2</th>\n",
       "      <td>Andres Álvarez</td>\n",
       "      <td>50</td>\n",
       "    </tr>\n",
       "    <tr>\n",
       "      <th>3</th>\n",
       "      <td>Luis Ramos</td>\n",
       "      <td>35</td>\n",
       "    </tr>\n",
       "    <tr>\n",
       "      <th>4</th>\n",
       "      <td>Pedro Cadenas</td>\n",
       "      <td>45</td>\n",
       "    </tr>\n",
       "    <tr>\n",
       "      <th>5</th>\n",
       "      <td>Estefanía Miguélez</td>\n",
       "      <td>50</td>\n",
       "    </tr>\n",
       "    <tr>\n",
       "      <th>6</th>\n",
       "      <td>Alberto Delgado</td>\n",
       "      <td>60</td>\n",
       "    </tr>\n",
       "    <tr>\n",
       "      <th>7</th>\n",
       "      <td>Susana Castro</td>\n",
       "      <td>50</td>\n",
       "    </tr>\n",
       "    <tr>\n",
       "      <th>8</th>\n",
       "      <td>Luis González</td>\n",
       "      <td>45</td>\n",
       "    </tr>\n",
       "  </tbody>\n",
       "</table>\n",
       "</div>"
      ],
      "text/plain": [
       "             clientes  tarifas\n",
       "0           Ana Pérez       40\n",
       "1         Juan García       50\n",
       "2      Andres Álvarez       50\n",
       "3          Luis Ramos       35\n",
       "4       Pedro Cadenas       45\n",
       "5  Estefanía Miguélez       50\n",
       "6     Alberto Delgado       60\n",
       "7       Susana Castro       50\n",
       "8       Luis González       45"
      ]
     },
     "execution_count": 118,
     "metadata": {},
     "output_type": "execute_result"
    }
   ],
   "source": [
    "df = pd.DataFrame({\"clientes\": clientes, \"tarifas\":tarifas})\n",
    "df"
   ]
  },
  {
   "cell_type": "code",
   "execution_count": 38,
   "id": "4aa40bde",
   "metadata": {},
   "outputs": [
    {
     "data": {
      "text/html": [
       "<div>\n",
       "<style scoped>\n",
       "    .dataframe tbody tr th:only-of-type {\n",
       "        vertical-align: middle;\n",
       "    }\n",
       "\n",
       "    .dataframe tbody tr th {\n",
       "        vertical-align: top;\n",
       "    }\n",
       "\n",
       "    .dataframe thead th {\n",
       "        text-align: right;\n",
       "    }\n",
       "</style>\n",
       "<table border=\"1\" class=\"dataframe\">\n",
       "  <thead>\n",
       "    <tr style=\"text-align: right;\">\n",
       "      <th></th>\n",
       "      <th>clientes</th>\n",
       "      <th>tarifas</th>\n",
       "    </tr>\n",
       "  </thead>\n",
       "  <tbody>\n",
       "    <tr>\n",
       "      <th>0</th>\n",
       "      <td>Ana Pérez</td>\n",
       "      <td>40</td>\n",
       "    </tr>\n",
       "    <tr>\n",
       "      <th>1</th>\n",
       "      <td>Juan García</td>\n",
       "      <td>50</td>\n",
       "    </tr>\n",
       "    <tr>\n",
       "      <th>2</th>\n",
       "      <td>Andres Álvarez</td>\n",
       "      <td>50</td>\n",
       "    </tr>\n",
       "    <tr>\n",
       "      <th>3</th>\n",
       "      <td>Luis Ramos</td>\n",
       "      <td>35</td>\n",
       "    </tr>\n",
       "    <tr>\n",
       "      <th>4</th>\n",
       "      <td>Pedro Cadenas</td>\n",
       "      <td>45</td>\n",
       "    </tr>\n",
       "  </tbody>\n",
       "</table>\n",
       "</div>"
      ],
      "text/plain": [
       "         clientes  tarifas\n",
       "0       Ana Pérez       40\n",
       "1     Juan García       50\n",
       "2  Andres Álvarez       50\n",
       "3      Luis Ramos       35\n",
       "4   Pedro Cadenas       45"
      ]
     },
     "execution_count": 38,
     "metadata": {},
     "output_type": "execute_result"
    }
   ],
   "source": [
    "# 4) Imprime las primeras 5 filas del DataFrame de 2 formas distintas\n",
    "\n",
    "df.loc[0:4, :]\n"
   ]
  },
  {
   "cell_type": "code",
   "execution_count": 37,
   "id": "c54f9923",
   "metadata": {},
   "outputs": [
    {
     "data": {
      "text/html": [
       "<div>\n",
       "<style scoped>\n",
       "    .dataframe tbody tr th:only-of-type {\n",
       "        vertical-align: middle;\n",
       "    }\n",
       "\n",
       "    .dataframe tbody tr th {\n",
       "        vertical-align: top;\n",
       "    }\n",
       "\n",
       "    .dataframe thead th {\n",
       "        text-align: right;\n",
       "    }\n",
       "</style>\n",
       "<table border=\"1\" class=\"dataframe\">\n",
       "  <thead>\n",
       "    <tr style=\"text-align: right;\">\n",
       "      <th></th>\n",
       "      <th>clientes</th>\n",
       "      <th>tarifas</th>\n",
       "    </tr>\n",
       "  </thead>\n",
       "  <tbody>\n",
       "    <tr>\n",
       "      <th>0</th>\n",
       "      <td>Ana Pérez</td>\n",
       "      <td>40</td>\n",
       "    </tr>\n",
       "    <tr>\n",
       "      <th>1</th>\n",
       "      <td>Juan García</td>\n",
       "      <td>50</td>\n",
       "    </tr>\n",
       "    <tr>\n",
       "      <th>2</th>\n",
       "      <td>Andres Álvarez</td>\n",
       "      <td>50</td>\n",
       "    </tr>\n",
       "    <tr>\n",
       "      <th>3</th>\n",
       "      <td>Luis Ramos</td>\n",
       "      <td>35</td>\n",
       "    </tr>\n",
       "    <tr>\n",
       "      <th>4</th>\n",
       "      <td>Pedro Cadenas</td>\n",
       "      <td>45</td>\n",
       "    </tr>\n",
       "  </tbody>\n",
       "</table>\n",
       "</div>"
      ],
      "text/plain": [
       "         clientes  tarifas\n",
       "0       Ana Pérez       40\n",
       "1     Juan García       50\n",
       "2  Andres Álvarez       50\n",
       "3      Luis Ramos       35\n",
       "4   Pedro Cadenas       45"
      ]
     },
     "execution_count": 37,
     "metadata": {},
     "output_type": "execute_result"
    }
   ],
   "source": [
    "df.head(5)"
   ]
  },
  {
   "cell_type": "code",
   "execution_count": 119,
   "id": "b4144a9c",
   "metadata": {},
   "outputs": [
    {
     "data": {
      "text/html": [
       "<div>\n",
       "<style scoped>\n",
       "    .dataframe tbody tr th:only-of-type {\n",
       "        vertical-align: middle;\n",
       "    }\n",
       "\n",
       "    .dataframe tbody tr th {\n",
       "        vertical-align: top;\n",
       "    }\n",
       "\n",
       "    .dataframe thead th {\n",
       "        text-align: right;\n",
       "    }\n",
       "</style>\n",
       "<table border=\"1\" class=\"dataframe\">\n",
       "  <thead>\n",
       "    <tr style=\"text-align: right;\">\n",
       "      <th></th>\n",
       "      <th>clientes</th>\n",
       "      <th>tarifas</th>\n",
       "    </tr>\n",
       "  </thead>\n",
       "  <tbody>\n",
       "    <tr>\n",
       "      <th>4</th>\n",
       "      <td>Pedro Cadenas</td>\n",
       "      <td>45</td>\n",
       "    </tr>\n",
       "    <tr>\n",
       "      <th>5</th>\n",
       "      <td>Estefanía Miguélez</td>\n",
       "      <td>50</td>\n",
       "    </tr>\n",
       "    <tr>\n",
       "      <th>6</th>\n",
       "      <td>Alberto Delgado</td>\n",
       "      <td>60</td>\n",
       "    </tr>\n",
       "    <tr>\n",
       "      <th>7</th>\n",
       "      <td>Susana Castro</td>\n",
       "      <td>50</td>\n",
       "    </tr>\n",
       "    <tr>\n",
       "      <th>8</th>\n",
       "      <td>Luis González</td>\n",
       "      <td>45</td>\n",
       "    </tr>\n",
       "  </tbody>\n",
       "</table>\n",
       "</div>"
      ],
      "text/plain": [
       "             clientes  tarifas\n",
       "4       Pedro Cadenas       45\n",
       "5  Estefanía Miguélez       50\n",
       "6     Alberto Delgado       60\n",
       "7       Susana Castro       50\n",
       "8       Luis González       45"
      ]
     },
     "execution_count": 119,
     "metadata": {},
     "output_type": "execute_result"
    }
   ],
   "source": [
    "df.tail(5)"
   ]
  },
  {
   "cell_type": "code",
   "execution_count": 43,
   "id": "9901f702",
   "metadata": {},
   "outputs": [
    {
     "data": {
      "text/html": [
       "<div>\n",
       "<style scoped>\n",
       "    .dataframe tbody tr th:only-of-type {\n",
       "        vertical-align: middle;\n",
       "    }\n",
       "\n",
       "    .dataframe tbody tr th {\n",
       "        vertical-align: top;\n",
       "    }\n",
       "\n",
       "    .dataframe thead th {\n",
       "        text-align: right;\n",
       "    }\n",
       "</style>\n",
       "<table border=\"1\" class=\"dataframe\">\n",
       "  <thead>\n",
       "    <tr style=\"text-align: right;\">\n",
       "      <th></th>\n",
       "      <th>tarifas</th>\n",
       "    </tr>\n",
       "  </thead>\n",
       "  <tbody>\n",
       "    <tr>\n",
       "      <th>0</th>\n",
       "      <td>40</td>\n",
       "    </tr>\n",
       "    <tr>\n",
       "      <th>1</th>\n",
       "      <td>50</td>\n",
       "    </tr>\n",
       "    <tr>\n",
       "      <th>2</th>\n",
       "      <td>50</td>\n",
       "    </tr>\n",
       "    <tr>\n",
       "      <th>3</th>\n",
       "      <td>35</td>\n",
       "    </tr>\n",
       "    <tr>\n",
       "      <th>4</th>\n",
       "      <td>45</td>\n",
       "    </tr>\n",
       "    <tr>\n",
       "      <th>5</th>\n",
       "      <td>50</td>\n",
       "    </tr>\n",
       "    <tr>\n",
       "      <th>6</th>\n",
       "      <td>60</td>\n",
       "    </tr>\n",
       "    <tr>\n",
       "      <th>7</th>\n",
       "      <td>50</td>\n",
       "    </tr>\n",
       "    <tr>\n",
       "      <th>8</th>\n",
       "      <td>45</td>\n",
       "    </tr>\n",
       "  </tbody>\n",
       "</table>\n",
       "</div>"
      ],
      "text/plain": [
       "   tarifas\n",
       "0       40\n",
       "1       50\n",
       "2       50\n",
       "3       35\n",
       "4       45\n",
       "5       50\n",
       "6       60\n",
       "7       50\n",
       "8       45"
      ]
     },
     "execution_count": 43,
     "metadata": {},
     "output_type": "execute_result"
    }
   ],
   "source": [
    "# 5) De ese DataFrame, selecciona solamente la columna \"tarifas\" e imprímela\n",
    "    # (con 1 forma es suficiente, pero si sabes 2 mejor)\n",
    "\n",
    "df[[\"tarifas\"]]"
   ]
  },
  {
   "cell_type": "code",
   "execution_count": 45,
   "id": "72f531d2",
   "metadata": {},
   "outputs": [
    {
     "data": {
      "text/plain": [
       "0    40\n",
       "1    50\n",
       "2    50\n",
       "3    35\n",
       "4    45\n",
       "5    50\n",
       "6    60\n",
       "7    50\n",
       "8    45\n",
       "Name: tarifas, dtype: int64"
      ]
     },
     "execution_count": 45,
     "metadata": {},
     "output_type": "execute_result"
    }
   ],
   "source": [
    "df[\"tarifas\"]"
   ]
  },
  {
   "cell_type": "code",
   "execution_count": 120,
   "id": "87d76f6a",
   "metadata": {},
   "outputs": [
    {
     "data": {
      "text/plain": [
       "0    40\n",
       "1    50\n",
       "2    50\n",
       "3    35\n",
       "4    45\n",
       "5    50\n",
       "6    60\n",
       "7    50\n",
       "8    45\n",
       "Name: tarifas, dtype: int64"
      ]
     },
     "execution_count": 120,
     "metadata": {},
     "output_type": "execute_result"
    }
   ],
   "source": [
    "df.tarifas"
   ]
  },
  {
   "cell_type": "code",
   "execution_count": 126,
   "id": "09e7c8ca",
   "metadata": {},
   "outputs": [
    {
     "data": {
      "text/plain": [
       "50    4\n",
       "45    2\n",
       "40    1\n",
       "35    1\n",
       "60    1\n",
       "Name: tarifas, dtype: int64"
      ]
     },
     "execution_count": 126,
     "metadata": {},
     "output_type": "execute_result"
    }
   ],
   "source": [
    "# 6) Descomenta las siguientes líneas (algunos trucos y cosas útiles).\n",
    "    # Ponlo en formato función!!\n",
    "\n",
    "\n",
    "    \n",
    "# df.tarifas.value_counts()\n",
    "\n",
    "def imprime_cantidades(df):\n",
    "    return df.tarifas.value_counts()\n",
    "\n",
    "imprime_cantidades(df)\n",
    "\n"
   ]
  },
  {
   "cell_type": "code",
   "execution_count": 127,
   "id": "d79ac59a",
   "metadata": {},
   "outputs": [
    {
     "data": {
      "image/png": "[encoded data removed]",
      "text/plain": [
       "<Figure size 432x288 with 1 Axes>"
      ]
     },
     "metadata": {
      "needs_background": "light"
     },
     "output_type": "display_data"
    }
   ],
   "source": [
    "df.tarifas.value_counts().plot(kind=\"bar\")\n",
    "plt.show()"
   ]
  },
  {
   "cell_type": "code",
   "execution_count": 81,
   "id": "1ce0879b",
   "metadata": {},
   "outputs": [
    {
     "data": {
      "text/plain": [
       "<AxesSubplot:>"
      ]
     },
     "execution_count": 81,
     "metadata": {},
     "output_type": "execute_result"
    },
    {
     "data": {
      "image/png": "[encoded data removed]",
      "text/plain": [
       "<Figure size 432x288 with 1 Axes>"
      ]
     },
     "metadata": {
      "needs_background": "light"
     },
     "output_type": "display_data"
    }
   ],
   "source": [
    "df.tarifas.plot(kind=\"bar\")\n",
    "plt.show()"
   ]
  },
  {
   "cell_type": "code",
   "execution_count": 83,
   "id": "610a607a",
   "metadata": {},
   "outputs": [
    {
     "name": "stdout",
     "output_type": "stream",
     "text": [
      "             clientes  tarifas\n",
      "0           Ana Pérez       40\n",
      "1         Juan García       50\n",
      "2      Andres Álvarez       50\n",
      "3          Luis Ramos       35\n",
      "4       Pedro Cadenas       45\n",
      "5  Estefanía Miguélez       50\n",
      "6     Alberto Delgado       60\n",
      "7       Susana Castro       50\n",
      "8       Luis González       45\n"
     ]
    }
   ],
   "source": [
    "print(df)"
   ]
  },
  {
   "cell_type": "code",
   "execution_count": 129,
   "id": "4d0cc87d",
   "metadata": {},
   "outputs": [
    {
     "data": {
      "text/html": [
       "<div>\n",
       "<style scoped>\n",
       "    .dataframe tbody tr th:only-of-type {\n",
       "        vertical-align: middle;\n",
       "    }\n",
       "\n",
       "    .dataframe tbody tr th {\n",
       "        vertical-align: top;\n",
       "    }\n",
       "\n",
       "    .dataframe thead th {\n",
       "        text-align: right;\n",
       "    }\n",
       "</style>\n",
       "<table border=\"1\" class=\"dataframe\">\n",
       "  <thead>\n",
       "    <tr style=\"text-align: right;\">\n",
       "      <th></th>\n",
       "      <th>clientes</th>\n",
       "      <th>tarifas</th>\n",
       "    </tr>\n",
       "  </thead>\n",
       "  <tbody>\n",
       "    <tr>\n",
       "      <th>6</th>\n",
       "      <td>Alberto Delgado</td>\n",
       "      <td>60</td>\n",
       "    </tr>\n",
       "  </tbody>\n",
       "</table>\n",
       "</div>"
      ],
      "text/plain": [
       "          clientes  tarifas\n",
       "6  Alberto Delgado       60"
      ]
     },
     "execution_count": 129,
     "metadata": {},
     "output_type": "execute_result"
    }
   ],
   "source": [
    "# 7) De ese DataFrame, selecciona solamente aquellos clientes con tarifa superior a 50 euros (50 no incluído)\n",
    "\n",
    "\n",
    "def Seleccion (df,tarifa, cantidad):\n",
    "    df_seleccion = df[df[tarifa]>cantidad]\n",
    "    return df_seleccion\n",
    "\n",
    "columna=\"tarifas\"\n",
    "Seleccion(df,columna,50)\n",
    "    \n",
    "#df_seleccion = df[df[\"tarifas\"]>50]\n",
    "#df_seleccion"
   ]
  },
  {
   "cell_type": "code",
   "execution_count": 132,
   "id": "256148e5",
   "metadata": {},
   "outputs": [
    {
     "name": "stdout",
     "output_type": "stream",
     "text": [
      "Numero a comprobar6\n",
      "el numero 6 es PAR\n"
     ]
    }
   ],
   "source": [
    "# EJERCICIO 2\n",
    "\n",
    "# Número par o impar\n",
    "\n",
    "# si el resto de la division del numero entre 2 es 0 ---> PAR\n",
    "# si el resto de la division del numero entre 2 es otro -> IMPAR\n",
    "\n",
    "# numero1/numero2\n",
    "# numero1//numero2\n",
    "# numero1%numero2\n",
    "\n",
    "# Prueba para los números 6 y 3\n",
    "\n",
    "# Realiza un algortimo para saber si son pares o impares\n",
    "\n",
    "def par_impar(numero):\n",
    "    if numero%2 == 0:\n",
    "        return print(\"el numero\", numero, \"es PAR\")\n",
    "    else:\n",
    "        return print(\"el numero\", numero, \"es IMPAR\")\n",
    "        \n",
    "numero1=int(input(\"Numero a comprobar\"))\n",
    "par_impar(numero1)"
   ]
  },
  {
   "cell_type": "code",
   "execution_count": 130,
   "id": "f137c362",
   "metadata": {},
   "outputs": [],
   "source": [
    "# EJERCICIO 3\n",
    "# \n",
    "# \"\"\"\n",
    "#     Intercambio de valores entre variables\n",
    "#     Siendo por ejemplo:\n",
    "#     x = 3 e y = 2\n",
    "#     Se pide hacer un pequeño algoritmo que me intercambie esos valores.\n",
    "#     Y que sea el resultado:\n",
    "#     x = 2 e y = 3\n",
    "# \"\"\"\n",
    "# \n",
    "# 1) Hazlo sin funciones\n",
    "# \n",
    "# 2) Hazlo mismo con una función"
   ]
  },
  {
   "cell_type": "code",
   "execution_count": 136,
   "id": "54e790d1",
   "metadata": {},
   "outputs": [
    {
     "data": {
      "text/plain": [
       "(2, 3)"
      ]
     },
     "execution_count": 136,
     "metadata": {},
     "output_type": "execute_result"
    }
   ],
   "source": [
    "def intercambio(valor1,valor2):\n",
    "    intermedia = valor2\n",
    "    valor2 = valor1\n",
    "    valor1=intermedia\n",
    "    return valor1, valor2\n",
    "\n",
    "x=3\n",
    "y=2\n",
    "intercambio(x,y)"
   ]
  },
  {
   "cell_type": "code",
   "execution_count": null,
   "id": "70f3d84b",
   "metadata": {},
   "outputs": [],
   "source": []
  }
 ],
 "metadata": {
  "kernelspec": {
   "display_name": "Python 3 (ipykernel)",
   "language": "python",
   "name": "python3"
  },
  "language_info": {
   "codemirror_mode": {
    "name": "ipython",
    "version": 3
   },
   "file_extension": ".py",
   "mimetype": "text/x-python",
   "name": "python",
   "nbconvert_exporter": "python",
   "pygments_lexer": "ipython3",
   "version": "3.8.10"
  }
 },
 "nbformat": 4,
 "nbformat_minor": 5
}
