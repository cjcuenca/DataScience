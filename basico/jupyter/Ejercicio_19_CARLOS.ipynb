{
 "cells": [
  {
   "cell_type": "code",
   "execution_count": 1,
   "id": "2933c4eb",
   "metadata": {},
   "outputs": [],
   "source": [
    "# Ejercicio 1\n",
    "# \n",
    "# \"\"\"\n",
    "#     Definir una función inversa() que calcule la inversion de una cadena. \n",
    "#     Por ejemplo la cadena \"estoy probando\" debería devolver la cadena \"odnaborp yotse\".\n",
    "# \"\"\"\n"
   ]
  },
  {
   "cell_type": "code",
   "execution_count": 2,
   "id": "7d996eda",
   "metadata": {},
   "outputs": [
    {
     "data": {
      "text/plain": [
       "'odnum aloH'"
      ]
     },
     "execution_count": 2,
     "metadata": {},
     "output_type": "execute_result"
    }
   ],
   "source": [
    "def inversa(cadena):\n",
    "    invertida = \"\"\n",
    "    cont = len(cadena)\n",
    "    indice = -1\n",
    "    while cont >= 1:\n",
    "        invertida += cadena[indice]\n",
    "        indice = indice + (-1)\n",
    "        cont -= 1\n",
    "    return invertida\n",
    "\n",
    "inversa(\"Hola mundo\")"
   ]
  },
  {
   "cell_type": "code",
   "execution_count": 2,
   "id": "2cae7462",
   "metadata": {},
   "outputs": [
    {
     "data": {
      "text/plain": [
       "'odnum aloH'"
      ]
     },
     "execution_count": 2,
     "metadata": {},
     "output_type": "execute_result"
    }
   ],
   "source": [
    "def inversa2(cadena):\n",
    "    cadena=cadena[::-1]\n",
    "    return cadena\n",
    "\n",
    "inversa2(\"Hola mundo\")"
   ]
  },
  {
   "cell_type": "code",
   "execution_count": 15,
   "id": "34f978ef",
   "metadata": {},
   "outputs": [
    {
     "data": {
      "text/plain": [
       "'odnum aloH'"
      ]
     },
     "execution_count": 15,
     "metadata": {},
     "output_type": "execute_result"
    }
   ],
   "source": [
    "cadena=\"Hola mundo\"\n",
    "cadena=cadena[::-1]\n",
    "cadena"
   ]
  }
 ],
 "metadata": {
  "kernelspec": {
   "display_name": "Python 3 (ipykernel)",
   "language": "python",
   "name": "python3"
  },
  "language_info": {
   "codemirror_mode": {
    "name": "ipython",
    "version": 3
   },
   "file_extension": ".py",
   "mimetype": "text/x-python",
   "name": "python",
   "nbconvert_exporter": "python",
   "pygments_lexer": "ipython3",
   "version": "3.8.10"
  }
 },
 "nbformat": 4,
 "nbformat_minor": 5
}
