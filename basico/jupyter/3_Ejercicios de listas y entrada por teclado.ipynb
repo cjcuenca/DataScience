# Creado por:

Isabel Maniega

Ejercicio 1
Dado el siguiente listado: ["Python", "Matlab", "R", "VBA", "Julia", "C++"].

Modifica con un algoritmo ese listado.

Cuando encuentre Python debe poner un 1
y cuando encuentre otro lenguaje de programacion, un 0
es un simple ejemplo de modificación de valores en una lista

languages =  ["Python", "Matlab", "R", "VBA", "Julia", "C++"]
languages
['Python', 'Matlab', 'R', 'VBA', 'Julia', 'C++']
n = 0
for language in languages:
    if language == "Python":
        languages[n] = 1
    else:
        languages[n] = 0
    n += 1
print(languages)
        
[1, 0, 0, 0, 0, 0]
otra forma

for i in range(len(languages)):
    if languages[i] == "Python":
        languages[i] = 1
    else:
        languages[i] = 0
        
languages
[1, 0, 0, 0, 0, 0]
Ejercicio 2
L = [10, None, 8, 5, None, 20]

L = [10, None, 8, 5, None, 20]
2.2) Susitituir por -1 el valor None usando bucles y listas

for i in range(0, len(L)):
    if L[i] == None:
        L[i] = -1
print(L)
[10, -1, 8, 5, -1, 20]
2.3) Creamos un dataframe con los valores de la lista y modificamos los "NaN" por un valor de -1 (Valores nulos, suma, etc..)

L = [10, None, 8, 5, None, 20]
# Recuerda instalar la libreria con:
# pip install pandas
import pandas as pd
df = pd.DataFrame(L, columns=["listado"])
df
listado
0	10.0
1	NaN
2	8.0
3	5.0
4	NaN
5	20.0
df.isnull()
listado
0	False
1	True
2	False
3	False
4	True
5	False
df.isnull().sum()
listado    2
dtype: int64
df.listado = df.listado.fillna(-1)
df
listado
0	10.0
1	-1.0
2	8.0
3	5.0
4	-1.0
5	20.0
2.4) Vuelve a escribir el listado con falta de valores (inicial), y sustituye por la media.

L = [10, None, 8, 5, None, 20]
df = pd.DataFrame(L, columns=["listado"])
df
listado
0	10.0
1	NaN
2	8.0
3	5.0
4	NaN
5	20.0
df.listado = df.listado.fillna(df.listado.mean())
df
listado
0	10.00
1	10.75
2	8.00
3	5.00
4	10.75
5	20.00
2.5) Apendiza la columna con estos valores

listado2 = [10, 20, 50, 30, 20, 0]

listado2 = [10, 20, 50, 30, 20, 0]
df['listado2'] = listado2
df
listado	listado2
0	10.00	10
1	10.75	20
2	8.00	50
3	5.00	30
4	10.75	20
5	20.00	0
2.6) Elimina la columna L

df = df.drop(["listado2"], axis=1)
df
listado
0	10.00
1	10.75
2	8.00
3	5.00
4	10.75
5	20.00
Ejercicio 3
Crear un listado con los siguientes numeros: 10, 20, 30, 40 (nombra la lista con nombre: "listado")

listado = [10, 20, 30, 40 ]
1) Crea el listado e imprimelo:

print(listado)
[10, 20, 30, 40]
2) Apendiza el valor 50 ( si es posible)

listado.append(50)
listado
[10, 20, 30, 40, 50]
3) Modifica (si es posible) el valor 10 por 100

listado[0] = 100
listado
[100, 20, 30, 40, 50]
Ejercicio 4
Da una lista de nombre "Temperatura" con valores: 10, 20, 30, 40, 50

Temperatura = [10, 20, 30, 40, 50]
1) Crea el listado e imprimelo:

Temperatura
[10, 20, 30, 40, 50]
2) En este "Temperatura". ¿Cuál es el elemento en la posición (index) 1?

Temperatura[1]
20
3) ¿Y en la posición (index) 0?

Temperatura[0]
10
4) ¿Y en la posición (index) -1?

Temperatura[-1]
50
Creado por:

Isabel Maniega