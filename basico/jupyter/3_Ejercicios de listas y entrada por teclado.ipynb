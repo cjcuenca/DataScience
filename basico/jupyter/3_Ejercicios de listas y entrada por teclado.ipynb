{
 "cells": [
  {
   "cell_type": "markdown",
   "id": "2c65f730",
   "metadata": {},
   "source": [
    "Creado por:\n",
    "\n",
    "Isabel Maniega\n",
    "\n",
    "Ejercicio 1\n",
    "Dada una lista de nombre \"listado\" y con valores: 10,20,30,40,50"
   ]
  },
  {
   "cell_type": "code",
   "execution_count": 1,
   "id": "18132f88",
   "metadata": {},
   "outputs": [],
   "source": [
    "listado = [10,20,30,40,50]"
   ]
  },
  {
   "cell_type": "markdown",
   "id": "2b47c6a0",
   "metadata": {},
   "source": [
    "1)\n",
    "\n",
    "Crea un pequeño programa capaz de conseguir el orden inverso de los números de \"listado\""
   ]
  },
  {
   "cell_type": "code",
   "execution_count": 2,
   "id": "7d4f0ebe",
   "metadata": {},
   "outputs": [
    {
     "data": {
      "text/plain": [
       "[50, 40, 30, 20, 10]"
      ]
     },
     "execution_count": 2,
     "metadata": {},
     "output_type": "execute_result"
    }
   ],
   "source": [
    "# imprime nuevamente el listado para tenerlo \"a mano\"\n",
    "# 10-20-30-40-50 (tengo)\n",
    "# 50-40-30-20-10 (lo que busco)\n",
    "# necesitas instalar con:\n",
    "# pip install numpy\n",
    "import numpy as np\n",
    "rango_indices = np.arange(1,len(listado)+1,1).tolist()\n",
    "rango_indices\n",
    "[1, 2, 3, 4, 5]\n",
    "# OJO! \"indice\" está en negativo.\n",
    "# tengo indice: 0a4 y de -1 a -5\n",
    "# pero no de 1 a 5 \n",
    "listado_inverso = []                              # []\n",
    "\n",
    "\n",
    "for indice in rango_indices:                      # 1-2-3-4-5\n",
    "    listado_inverso.append(listado[-indice])      # [1º]=> [50]--[50,40]--[50,40,30]--[50,40,30,20]--[50,40,30,20,10]\n",
    "\n",
    "listado_inverso\n",
    "[50, 40, 30, 20, 10]"
   ]
  },
  {
   "cell_type": "markdown",
   "id": "08ed5042",
   "metadata": {},
   "source": [
    "Ejercicio 2\n",
    "Programa que coge por teclado 5 números y los almacena en una lista\n",
    "\n",
    "Nota:\n",
    "\n",
    "debería estar en la misma celda\n",
    "\n",
    "Hazlo como puedas, discurre cómo sería.."
   ]
  },
  {
   "cell_type": "code",
   "execution_count": 3,
   "id": "d954b2c4",
   "metadata": {},
   "outputs": [
    {
     "name": "stdout",
     "output_type": "stream",
     "text": [
      "Escribe un número entero: 12345\n",
      "Escribe un número entero: 5\n",
      "Escribe un número entero: 7\n",
      "Escribe un número entero: 1\n",
      "Escribe un número entero: 2\n",
      "\n",
      "\n"
     ]
    },
    {
     "data": {
      "text/plain": [
       "[12345, 5, 7, 1, 2]"
      ]
     },
     "execution_count": 3,
     "metadata": {},
     "output_type": "execute_result"
    }
   ],
   "source": [
    "# entrada por teclao de 5 números\n",
    "\n",
    "listado_teclado = []\n",
    "\n",
    "for i in np.arange(1,6,1):\n",
    "    entrada = int(input(\"Escribe un número entero: \"))\n",
    "    listado_teclado.append(entrada)\n",
    "\n",
    "print(\"\\n\")\n",
    "listado_teclado"
   ]
  },
  {
   "cell_type": "markdown",
   "id": "a3187ef2",
   "metadata": {},
   "source": [
    "Ejercicio 3\n",
    "Programa que coge por teclado una frase y es capaz de decir cuántas vocales hay\n",
    "\n",
    "Nota: asume que son letras minúsculas sin tildes.\n",
    "\n",
    "1)\n",
    "\n",
    "Entrada de texto por teclado"
   ]
  },
  {
   "cell_type": "code",
   "execution_count": 4,
   "id": "a2f02d66",
   "metadata": {},
   "outputs": [
    {
     "name": "stdout",
     "output_type": "stream",
     "text": [
      "añada una frase: casa\n"
     ]
    },
    {
     "data": {
      "text/plain": [
       "'casa'"
      ]
     },
     "execution_count": 4,
     "metadata": {},
     "output_type": "execute_result"
    }
   ],
   "source": [
    "# entrada de texto por teclado\n",
    "frase = input(\"añada una frase: \")\n",
    "frase"
   ]
  },
  {
   "cell_type": "markdown",
   "id": "75d02b28",
   "metadata": {},
   "source": [
    "2)\n",
    "\n",
    "Hazlo si puedes de varias formas\n",
    "\n",
    "forma 1: contar vocales en palabra/frase"
   ]
  },
  {
   "cell_type": "code",
   "execution_count": 5,
   "id": "f898195b",
   "metadata": {},
   "outputs": [
    {
     "data": {
      "text/plain": [
       "2"
      ]
     },
     "execution_count": 5,
     "metadata": {},
     "output_type": "execute_result"
    }
   ],
   "source": [
    "# vocales\n",
    "\n",
    "contador_vocales = 0 # contador a 0\n",
    "\n",
    "vocales = [\"a\", \"e\", \"i\", \"o\", \"u\"]\n",
    "\n",
    "for letra in frase:\n",
    "    if letra in vocales:\n",
    "        contador_vocales+=1\n",
    "        \n",
    "contador_vocales"
   ]
  },
  {
   "cell_type": "markdown",
   "id": "0c9ba5f4",
   "metadata": {},
   "source": [
    "3)\n",
    "\n",
    "Hazlo de otra forma si se te ocurre..\n",
    "\n",
    "forma 2"
   ]
  },
  {
   "cell_type": "code",
   "execution_count": 6,
   "id": "6ce7d0a6",
   "metadata": {},
   "outputs": [
    {
     "data": {
      "text/plain": [
       "2"
      ]
     },
     "execution_count": 6,
     "metadata": {},
     "output_type": "execute_result"
    }
   ],
   "source": [
    "numero_vocales = 0\n",
    "for letra in frase:\n",
    "    if (letra==\"a\") | (letra==\"e\") | (letra==\"i\") | (letra==\"o\") | (letra==\"u\"):\n",
    "        numero_vocales+=1\n",
    "        \n",
    "numero_vocales"
   ]
  },
  {
   "cell_type": "markdown",
   "id": "cf7d3344",
   "metadata": {},
   "source": [
    "Ejercicio 4\n",
    "Tablas de multiplicar:\n",
    "\n",
    "Haz algo tal que:\n",
    "\n",
    "1) Pregunta al usuario que tabla quiere multiplicar: <1 al 10>\n",
    "\n",
    "2) Muestra los resultados de esta forma:\n",
    "\n",
    "2 x 1 = 2\n",
    "\n",
    "2 x 2 = 4\n",
    "\n",
    "...\n",
    "\n",
    "2 x 10 = 20"
   ]
  },
  {
   "cell_type": "code",
   "execution_count": 7,
   "id": "9e0d2f71",
   "metadata": {},
   "outputs": [
    {
     "name": "stdout",
     "output_type": "stream",
     "text": [
      "Elija de que número quiere las Tablas de multiplicar: <1 a 10>: 3\n"
     ]
    },
    {
     "data": {
      "text/plain": [
       "3"
      ]
     },
     "execution_count": 7,
     "metadata": {},
     "output_type": "execute_result"
    }
   ],
   "source": [
    "tabla = int(input(\"Elija de que número quiere las Tablas de multiplicar: <1 a 10>: \"))\n",
    "tabla"
   ]
  },
  {
   "cell_type": "code",
   "execution_count": 9,
   "id": "66356bee",
   "metadata": {},
   "outputs": [
    {
     "data": {
      "text/plain": [
       "array([ 0,  1,  2,  3,  4,  5,  6,  7,  8,  9, 10])"
      ]
     },
     "execution_count": 9,
     "metadata": {},
     "output_type": "execute_result"
    }
   ],
   "source": [
    "import numpy as np\n",
    "numeros = np.arange(0,11,1)\n",
    "numeros"
   ]
  },
  {
   "cell_type": "code",
   "execution_count": 10,
   "id": "e9d4c3c7",
   "metadata": {},
   "outputs": [
    {
     "name": "stdout",
     "output_type": "stream",
     "text": [
      "3  x  0  =  0\n",
      "3  x  1  =  3\n",
      "3  x  2  =  6\n",
      "3  x  3  =  9\n",
      "3  x  4  =  12\n",
      "3  x  5  =  15\n",
      "3  x  6  =  18\n",
      "3  x  7  =  21\n",
      "3  x  8  =  24\n",
      "3  x  9  =  27\n",
      "3  x  10  =  30\n"
     ]
    }
   ],
   "source": [
    "for numero in numeros:\n",
    "    print(tabla, \" x \", numero, \" = \", tabla*numero)"
   ]
  },
  {
   "cell_type": "markdown",
   "id": "caa1c4b4",
   "metadata": {},
   "source": [
    "Creado por:\n",
    "\n",
    "Isabel Maniega"
   ]
  },
  {
   "cell_type": "code",
   "execution_count": null,
   "id": "f12fa74d",
   "metadata": {},
   "outputs": [],
   "source": []
  }
 ],
 "metadata": {
  "kernelspec": {
   "display_name": "Python 3 (ipykernel)",
   "language": "python",
   "name": "python3"
  },
  "language_info": {
   "codemirror_mode": {
    "name": "ipython",
    "version": 3
   },
   "file_extension": ".py",
   "mimetype": "text/x-python",
   "name": "python",
   "nbconvert_exporter": "python",
   "pygments_lexer": "ipython3",
   "version": "3.8.10"
  }
 },
 "nbformat": 4,
 "nbformat_minor": 5
}
