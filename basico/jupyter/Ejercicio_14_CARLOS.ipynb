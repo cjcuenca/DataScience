{
 "cells": [
  {
   "cell_type": "code",
   "execution_count": 40,
   "id": "7314909c-9150-45c3-ad99-415fda78deec",
   "metadata": {},
   "outputs": [],
   "source": [
    "# EJERCICIO 1\n",
    "\n",
    "# \"\"\"\n",
    "#     Cada número es la suma de los 2 anteriores:\n",
    "#     0-1-1-2-3-5-8-13-21-34...\n",
    "#     Se pide programar esa secuencia con Python.\n",
    "#     Nota:\n",
    "#     Apendiza elementos hasta tener 10 primeros resultados.\n",
    "#     (los 10 números indicados desde 0 hasta 34)\n",
    "#     Si sabes, hazlo de varias formas diferentes\n",
    "# \"\"\"\n",
    "\n",
    "import pandas as pd\n",
    "import numpy as np"
   ]
  },
  {
   "cell_type": "code",
   "execution_count": 68,
   "id": "d03aeca9",
   "metadata": {},
   "outputs": [
    {
     "data": {
      "text/plain": [
       "[0, 1, 1, 2, 3, 5, 8, 13, 21, 34]"
      ]
     },
     "execution_count": 68,
     "metadata": {},
     "output_type": "execute_result"
    }
   ],
   "source": [
    "def Fibonacci(num):\n",
    "    \n",
    "    listado_fibo = []\n",
    "    anterior=0\n",
    "    numero= 1\n",
    "    listado_fibo.append(anterior)\n",
    "    listado_fibo.append(numero)\n",
    "\n",
    "    valor=0 \n",
    "\n",
    "    while len(listado_fibo)<num:\n",
    "        valor = numero + anterior    \n",
    "        listado_fibo.append(valor)\n",
    "        anterior = numero\n",
    "        numero = valor\n",
    "\n",
    "    return listado_fibo\n",
    "\n",
    "Fibonacci(10)"
   ]
  },
  {
   "cell_type": "code",
   "execution_count": 1,
   "id": "16272e4e",
   "metadata": {},
   "outputs": [
    {
     "data": {
      "text/plain": [
       "[0, 1, 1, 2, 3, 5, 8, 13, 21, 34]"
      ]
     },
     "execution_count": 1,
     "metadata": {},
     "output_type": "execute_result"
    }
   ],
   "source": [
    "L = [0, 1]\n",
    "i=0\n",
    "while (len(L) < 10):\n",
    "    L.append(L[-1] + L[-2])\n",
    "L"
   ]
  },
  {
   "cell_type": "code",
   "execution_count": null,
   "id": "136d7ada",
   "metadata": {},
   "outputs": [],
   "source": []
  },
  {
   "cell_type": "code",
   "execution_count": null,
   "id": "9bfed482",
   "metadata": {},
   "outputs": [],
   "source": [
    "# EJERCICIO 2\n",
    "\n",
    "# Cada número es la suma de los 2 anteriores:\n",
    "\n",
    "# 0-1-1-2-3-5-8-13-21-34...\n",
    "\n",
    "# Se pide programar para los números de fibonacci mayores de 1000\n",
    "\n",
    "# Primero muestra los valores de 0 hasta 1000000, crea una lista\n",
    "# con ese listado crea una segunda lista con los mayores de 1000\n"
   ]
  },
  {
   "cell_type": "code",
   "execution_count": 14,
   "id": "ea9a45af",
   "metadata": {},
   "outputs": [],
   "source": [
    "L = [0, 1]\n",
    "i=0\n",
    "while (len(L) < 100):\n",
    "    L.append(L[-1] + L[-2])\n",
    "    "
   ]
  },
  {
   "cell_type": "code",
   "execution_count": 15,
   "id": "a8b6f66c",
   "metadata": {},
   "outputs": [
    {
     "data": {
      "text/plain": [
       "[1597, 2584, 4181, 6765, 10946, 17711, 28657, 46368, 75025, 121393]"
      ]
     },
     "execution_count": 15,
     "metadata": {},
     "output_type": "execute_result"
    }
   ],
   "source": [
    "L2= []  \n",
    "for i in L:\n",
    "    if (i > 1000) and (len(L2)<10):\n",
    "        L2.append(i)\n",
    "L2"
   ]
  },
  {
   "cell_type": "code",
   "execution_count": 80,
   "id": "79bd0e98",
   "metadata": {},
   "outputs": [
    {
     "data": {
      "text/plain": [
       "[1597, 2584, 4181, 6765, 10946, 17711, 28657, 46368, 75025, 121393]"
      ]
     },
     "execution_count": 80,
     "metadata": {},
     "output_type": "execute_result"
    }
   ],
   "source": [
    "L3 =Fibonacci(100)\n",
    "\n",
    "def Fibonacci_mayores(lista,numero, maximo):\n",
    "    L4 = []\n",
    "    for i in lista:\n",
    "        if (i > numero) and (len(L4)<maximo):\n",
    "            L4.append(i)\n",
    "    return L4  \n",
    "\n",
    "Fibonacci_mayores(L3,1000,10)"
   ]
  },
  {
   "cell_type": "code",
   "execution_count": 72,
   "id": "409b94d4",
   "metadata": {},
   "outputs": [
    {
     "data": {
      "text/plain": [
       "[1597, 2584, 4181, 6765, 10946, 17711, 28657, 46368, 75025, 121393]"
      ]
     },
     "execution_count": 72,
     "metadata": {},
     "output_type": "execute_result"
    }
   ],
   "source": [
    "L4 = []\n",
    "for i in L3:\n",
    "    if (i > 1000) and (len(L4)<10):\n",
    "        L4.append(i)\n",
    "L4"
   ]
  },
  {
   "cell_type": "code",
   "execution_count": 16,
   "id": "e912ec23",
   "metadata": {},
   "outputs": [],
   "source": [
    "# EJERCICIO 3\n",
    "\n",
    "# Se pide crear un NUEVO dataframe para cada uno de los siguientes casos\n",
    "\n",
    "# planteados y que están relacionados con el Titanic DataSet\n",
    "\n",
    "# (antes debéis de cargar el archivo como df)\n",
    "\n",
    "# 1) Leer el archivo train.csv del titanic dataset\n",
    "\n",
    "#df = pd.read_csv(\"./src/train.csv\")\n",
    "\n",
    "# Descomentar para ejecutar:\n",
    "# print(df)\n",
    "\n",
    "# 2) Crear un dataframe de nombre df_sobreviven refiriéndose a un dataframe en el que todos los pasajeros sobreviven\n",
    "\n",
    "    # NOTA: si al principio no estás seguro del resultado, puedes usar value_counts() para comprobar tu resultado\n",
    "\n",
    "# 3) Crear un dataframe de nombre df__no_sobreviven refiriéndose a un dataframe en el que NINGUNO de los pasajeros sobrevive\n",
    "\n",
    "# 4) DataFrame de hombres que no sobrevivieron en el titanic\n",
    "\n",
    "# 5) DataFrame de hombres que si sobrevivieron en el titanic\n",
    "\n",
    "# 6) DataFrame de mujeres que no sobrevivieron en el titanic\n",
    "\n",
    "# 7) DataFrame de mujeres que si sobrevivieron en el titanic"
   ]
  },
  {
   "cell_type": "code",
   "execution_count": 21,
   "id": "f734deb4",
   "metadata": {},
   "outputs": [],
   "source": [
    "import pandas as pd"
   ]
  },
  {
   "cell_type": "code",
   "execution_count": 150,
   "id": "6fba2ede",
   "metadata": {},
   "outputs": [
    {
     "name": "stdout",
     "output_type": "stream",
     "text": [
      "     PassengerId  Survived  Pclass  \\\n",
      "0              1         0       3   \n",
      "1              2         1       1   \n",
      "2              3         1       3   \n",
      "3              4         1       1   \n",
      "4              5         0       3   \n",
      "..           ...       ...     ...   \n",
      "886          887         0       2   \n",
      "887          888         1       1   \n",
      "888          889         0       3   \n",
      "889          890         1       1   \n",
      "890          891         0       3   \n",
      "\n",
      "                                                  Name     Sex   Age  SibSp  \\\n",
      "0                              Braund, Mr. Owen Harris    male  22.0      1   \n",
      "1    Cumings, Mrs. John Bradley (Florence Briggs Th...  female  38.0      1   \n",
      "2                               Heikkinen, Miss. Laina  female  26.0      0   \n",
      "3         Futrelle, Mrs. Jacques Heath (Lily May Peel)  female  35.0      1   \n",
      "4                             Allen, Mr. William Henry    male  35.0      0   \n",
      "..                                                 ...     ...   ...    ...   \n",
      "886                              Montvila, Rev. Juozas    male  27.0      0   \n",
      "887                       Graham, Miss. Margaret Edith  female  19.0      0   \n",
      "888           Johnston, Miss. Catherine Helen \"Carrie\"  female   NaN      1   \n",
      "889                              Behr, Mr. Karl Howell    male  26.0      0   \n",
      "890                                Dooley, Mr. Patrick    male  32.0      0   \n",
      "\n",
      "     Parch            Ticket     Fare Cabin Embarked  \n",
      "0        0         A/5 21171   7.2500   NaN        S  \n",
      "1        0          PC 17599  71.2833   C85        C  \n",
      "2        0  STON/O2. 3101282   7.9250   NaN        S  \n",
      "3        0            113803  53.1000  C123        S  \n",
      "4        0            373450   8.0500   NaN        S  \n",
      "..     ...               ...      ...   ...      ...  \n",
      "886      0            211536  13.0000   NaN        S  \n",
      "887      0            112053  30.0000   B42        S  \n",
      "888      2        W./C. 6607  23.4500   NaN        S  \n",
      "889      0            111369  30.0000  C148        C  \n",
      "890      0            370376   7.7500   NaN        Q  \n",
      "\n",
      "[891 rows x 12 columns]\n"
     ]
    },
    {
     "data": {
      "text/plain": [
       "891"
      ]
     },
     "execution_count": 150,
     "metadata": {},
     "output_type": "execute_result"
    }
   ],
   "source": [
    "df = pd.read_csv(\"train.csv\")\n",
    "\n",
    "print(df)\n",
    "\n",
    "len(df)"
   ]
  },
  {
   "cell_type": "code",
   "execution_count": 124,
   "id": "29c072ff",
   "metadata": {},
   "outputs": [
    {
     "data": {
      "text/plain": [
       "342"
      ]
     },
     "execution_count": 124,
     "metadata": {},
     "output_type": "execute_result"
    }
   ],
   "source": [
    "# 2) Crear un dataframe de nombre df_sobreviven refiriéndose a un dataframe en el que todos los pasajeros sobreviven\n",
    "\n",
    "    # NOTA: si al principio no estás seguro del resultado, puedes usar value_counts() para comprobar tu resultado\n",
    "\n",
    "df_sobreviven = df[df[\"Survived\"]==1]\n",
    "\n",
    "len(df_sobreviven)"
   ]
  },
  {
   "cell_type": "code",
   "execution_count": 151,
   "id": "c70414a0",
   "metadata": {},
   "outputs": [
    {
     "name": "stdout",
     "output_type": "stream",
     "text": [
      "Sobreviven 342\n"
     ]
    }
   ],
   "source": [
    "def supervivientes(df, valor):\n",
    "    return df[df[\"Survived\"]==valor]\n",
    "\n",
    "df_sobreviven = supervivientes(df, 1)\n",
    "\n",
    "print(\"Sobreviven\", len(df_sobreviven))"
   ]
  },
  {
   "cell_type": "code",
   "execution_count": 152,
   "id": "1d0103bd",
   "metadata": {},
   "outputs": [
    {
     "name": "stdout",
     "output_type": "stream",
     "text": [
      "No sobreviven 549\n"
     ]
    }
   ],
   "source": [
    "# 3) Crear un dataframe de nombre df__no_sobreviven refiriéndose a un dataframe en el que NINGUNO de los pasajeros sobrevive\n",
    "# df_no_sobreviven = df[df[\"Survived\"]==0]\n",
    "\n",
    "# df_no_sobreviven.head()\n",
    "\n",
    "df_no_sobreviven = supervivientes(df, 0)\n",
    "\n",
    "print(\"No sobreviven\", len(df_no_sobreviven))\n"
   ]
  },
  {
   "cell_type": "code",
   "execution_count": 143,
   "id": "35601935",
   "metadata": {},
   "outputs": [
    {
     "data": {
      "text/plain": [
       "468"
      ]
     },
     "execution_count": 143,
     "metadata": {},
     "output_type": "execute_result"
    }
   ],
   "source": [
    "# 4) DataFrame de hombres que no sobrevivieron en el titanic\n",
    "df_hombre_no_sobreviven = df[(df[\"Survived\"]==0) & (df[\"Sex\"]==\"male\")]\n",
    "                        \n",
    "df_hombre_no_sobreviven.head()\n",
    "\n",
    "len(df_hombre_no_sobreviven)"
   ]
  },
  {
   "cell_type": "code",
   "execution_count": 155,
   "id": "f8bb7e6d",
   "metadata": {},
   "outputs": [
    {
     "name": "stdout",
     "output_type": "stream",
     "text": [
      "Hombres que no sobreviven 468\n"
     ]
    }
   ],
   "source": [
    "def filtado_sexo (lista, sexo):\n",
    "    return lista[lista[\"Sex\"] == sexo]\n",
    "\n",
    "\n",
    "df_hombre_no_sobreviven = filtado_sexo(df_no_sobreviven, \"male\")\n",
    "\n",
    "print(\"Hombres que no sobreviven\", len(df_hombre_no_sobreviven))\n"
   ]
  },
  {
   "cell_type": "code",
   "execution_count": 36,
   "id": "99ee99ba",
   "metadata": {},
   "outputs": [
    {
     "data": {
      "text/html": [
       "<div>\n",
       "<style scoped>\n",
       "    .dataframe tbody tr th:only-of-type {\n",
       "        vertical-align: middle;\n",
       "    }\n",
       "\n",
       "    .dataframe tbody tr th {\n",
       "        vertical-align: top;\n",
       "    }\n",
       "\n",
       "    .dataframe thead th {\n",
       "        text-align: right;\n",
       "    }\n",
       "</style>\n",
       "<table border=\"1\" class=\"dataframe\">\n",
       "  <thead>\n",
       "    <tr style=\"text-align: right;\">\n",
       "      <th></th>\n",
       "      <th>PassengerId</th>\n",
       "      <th>Survived</th>\n",
       "      <th>Pclass</th>\n",
       "      <th>Name</th>\n",
       "      <th>Sex</th>\n",
       "      <th>Age</th>\n",
       "      <th>SibSp</th>\n",
       "      <th>Parch</th>\n",
       "      <th>Ticket</th>\n",
       "      <th>Fare</th>\n",
       "      <th>Cabin</th>\n",
       "      <th>Embarked</th>\n",
       "    </tr>\n",
       "  </thead>\n",
       "  <tbody>\n",
       "    <tr>\n",
       "      <th>17</th>\n",
       "      <td>18</td>\n",
       "      <td>1</td>\n",
       "      <td>2</td>\n",
       "      <td>Williams, Mr. Charles Eugene</td>\n",
       "      <td>male</td>\n",
       "      <td>NaN</td>\n",
       "      <td>0</td>\n",
       "      <td>0</td>\n",
       "      <td>244373</td>\n",
       "      <td>13.0000</td>\n",
       "      <td>NaN</td>\n",
       "      <td>S</td>\n",
       "    </tr>\n",
       "    <tr>\n",
       "      <th>21</th>\n",
       "      <td>22</td>\n",
       "      <td>1</td>\n",
       "      <td>2</td>\n",
       "      <td>Beesley, Mr. Lawrence</td>\n",
       "      <td>male</td>\n",
       "      <td>34.0</td>\n",
       "      <td>0</td>\n",
       "      <td>0</td>\n",
       "      <td>248698</td>\n",
       "      <td>13.0000</td>\n",
       "      <td>D56</td>\n",
       "      <td>S</td>\n",
       "    </tr>\n",
       "    <tr>\n",
       "      <th>23</th>\n",
       "      <td>24</td>\n",
       "      <td>1</td>\n",
       "      <td>1</td>\n",
       "      <td>Sloper, Mr. William Thompson</td>\n",
       "      <td>male</td>\n",
       "      <td>28.0</td>\n",
       "      <td>0</td>\n",
       "      <td>0</td>\n",
       "      <td>113788</td>\n",
       "      <td>35.5000</td>\n",
       "      <td>A6</td>\n",
       "      <td>S</td>\n",
       "    </tr>\n",
       "    <tr>\n",
       "      <th>36</th>\n",
       "      <td>37</td>\n",
       "      <td>1</td>\n",
       "      <td>3</td>\n",
       "      <td>Mamee, Mr. Hanna</td>\n",
       "      <td>male</td>\n",
       "      <td>NaN</td>\n",
       "      <td>0</td>\n",
       "      <td>0</td>\n",
       "      <td>2677</td>\n",
       "      <td>7.2292</td>\n",
       "      <td>NaN</td>\n",
       "      <td>C</td>\n",
       "    </tr>\n",
       "    <tr>\n",
       "      <th>55</th>\n",
       "      <td>56</td>\n",
       "      <td>1</td>\n",
       "      <td>1</td>\n",
       "      <td>Woolner, Mr. Hugh</td>\n",
       "      <td>male</td>\n",
       "      <td>NaN</td>\n",
       "      <td>0</td>\n",
       "      <td>0</td>\n",
       "      <td>19947</td>\n",
       "      <td>35.5000</td>\n",
       "      <td>C52</td>\n",
       "      <td>S</td>\n",
       "    </tr>\n",
       "  </tbody>\n",
       "</table>\n",
       "</div>"
      ],
      "text/plain": [
       "    PassengerId  Survived  Pclass                          Name   Sex   Age  \\\n",
       "17           18         1       2  Williams, Mr. Charles Eugene  male   NaN   \n",
       "21           22         1       2         Beesley, Mr. Lawrence  male  34.0   \n",
       "23           24         1       1  Sloper, Mr. William Thompson  male  28.0   \n",
       "36           37         1       3              Mamee, Mr. Hanna  male   NaN   \n",
       "55           56         1       1             Woolner, Mr. Hugh  male   NaN   \n",
       "\n",
       "    SibSp  Parch  Ticket     Fare Cabin Embarked  \n",
       "17      0      0  244373  13.0000   NaN        S  \n",
       "21      0      0  248698  13.0000   D56        S  \n",
       "23      0      0  113788  35.5000    A6        S  \n",
       "36      0      0    2677   7.2292   NaN        C  \n",
       "55      0      0   19947  35.5000   C52        S  "
      ]
     },
     "execution_count": 36,
     "metadata": {},
     "output_type": "execute_result"
    }
   ],
   "source": [
    "# 5) DataFrame de hombres que si sobrevivieron en el titanic\n",
    "df_hombre_si_sobreviven = df[(df[\"Survived\"]==1) & (df[\"Sex\"]==\"male\")]\n",
    "                        \n",
    "df_hombre_si_sobreviven.head()"
   ]
  },
  {
   "cell_type": "code",
   "execution_count": 156,
   "id": "b16b02e9",
   "metadata": {},
   "outputs": [
    {
     "name": "stdout",
     "output_type": "stream",
     "text": [
      "Hombres que sobreviven 109\n"
     ]
    }
   ],
   "source": [
    "df_hombre_si_sobreviven = filtado_sexo (df_sobreviven, \"male\")\n",
    "\n",
    "print(\"Hombres que sobreviven\", len(df_hombre_si_sobreviven))"
   ]
  },
  {
   "cell_type": "code",
   "execution_count": 37,
   "id": "d95b63cc",
   "metadata": {},
   "outputs": [
    {
     "data": {
      "text/html": [
       "<div>\n",
       "<style scoped>\n",
       "    .dataframe tbody tr th:only-of-type {\n",
       "        vertical-align: middle;\n",
       "    }\n",
       "\n",
       "    .dataframe tbody tr th {\n",
       "        vertical-align: top;\n",
       "    }\n",
       "\n",
       "    .dataframe thead th {\n",
       "        text-align: right;\n",
       "    }\n",
       "</style>\n",
       "<table border=\"1\" class=\"dataframe\">\n",
       "  <thead>\n",
       "    <tr style=\"text-align: right;\">\n",
       "      <th></th>\n",
       "      <th>PassengerId</th>\n",
       "      <th>Survived</th>\n",
       "      <th>Pclass</th>\n",
       "      <th>Name</th>\n",
       "      <th>Sex</th>\n",
       "      <th>Age</th>\n",
       "      <th>SibSp</th>\n",
       "      <th>Parch</th>\n",
       "      <th>Ticket</th>\n",
       "      <th>Fare</th>\n",
       "      <th>Cabin</th>\n",
       "      <th>Embarked</th>\n",
       "    </tr>\n",
       "  </thead>\n",
       "  <tbody>\n",
       "    <tr>\n",
       "      <th>14</th>\n",
       "      <td>15</td>\n",
       "      <td>0</td>\n",
       "      <td>3</td>\n",
       "      <td>Vestrom, Miss. Hulda Amanda Adolfina</td>\n",
       "      <td>female</td>\n",
       "      <td>14.0</td>\n",
       "      <td>0</td>\n",
       "      <td>0</td>\n",
       "      <td>350406</td>\n",
       "      <td>7.8542</td>\n",
       "      <td>NaN</td>\n",
       "      <td>S</td>\n",
       "    </tr>\n",
       "    <tr>\n",
       "      <th>18</th>\n",
       "      <td>19</td>\n",
       "      <td>0</td>\n",
       "      <td>3</td>\n",
       "      <td>Vander Planke, Mrs. Julius (Emelia Maria Vande...</td>\n",
       "      <td>female</td>\n",
       "      <td>31.0</td>\n",
       "      <td>1</td>\n",
       "      <td>0</td>\n",
       "      <td>345763</td>\n",
       "      <td>18.0000</td>\n",
       "      <td>NaN</td>\n",
       "      <td>S</td>\n",
       "    </tr>\n",
       "    <tr>\n",
       "      <th>24</th>\n",
       "      <td>25</td>\n",
       "      <td>0</td>\n",
       "      <td>3</td>\n",
       "      <td>Palsson, Miss. Torborg Danira</td>\n",
       "      <td>female</td>\n",
       "      <td>8.0</td>\n",
       "      <td>3</td>\n",
       "      <td>1</td>\n",
       "      <td>349909</td>\n",
       "      <td>21.0750</td>\n",
       "      <td>NaN</td>\n",
       "      <td>S</td>\n",
       "    </tr>\n",
       "    <tr>\n",
       "      <th>38</th>\n",
       "      <td>39</td>\n",
       "      <td>0</td>\n",
       "      <td>3</td>\n",
       "      <td>Vander Planke, Miss. Augusta Maria</td>\n",
       "      <td>female</td>\n",
       "      <td>18.0</td>\n",
       "      <td>2</td>\n",
       "      <td>0</td>\n",
       "      <td>345764</td>\n",
       "      <td>18.0000</td>\n",
       "      <td>NaN</td>\n",
       "      <td>S</td>\n",
       "    </tr>\n",
       "    <tr>\n",
       "      <th>40</th>\n",
       "      <td>41</td>\n",
       "      <td>0</td>\n",
       "      <td>3</td>\n",
       "      <td>Ahlin, Mrs. Johan (Johanna Persdotter Larsson)</td>\n",
       "      <td>female</td>\n",
       "      <td>40.0</td>\n",
       "      <td>1</td>\n",
       "      <td>0</td>\n",
       "      <td>7546</td>\n",
       "      <td>9.4750</td>\n",
       "      <td>NaN</td>\n",
       "      <td>S</td>\n",
       "    </tr>\n",
       "  </tbody>\n",
       "</table>\n",
       "</div>"
      ],
      "text/plain": [
       "    PassengerId  Survived  Pclass  \\\n",
       "14           15         0       3   \n",
       "18           19         0       3   \n",
       "24           25         0       3   \n",
       "38           39         0       3   \n",
       "40           41         0       3   \n",
       "\n",
       "                                                 Name     Sex   Age  SibSp  \\\n",
       "14               Vestrom, Miss. Hulda Amanda Adolfina  female  14.0      0   \n",
       "18  Vander Planke, Mrs. Julius (Emelia Maria Vande...  female  31.0      1   \n",
       "24                      Palsson, Miss. Torborg Danira  female   8.0      3   \n",
       "38                 Vander Planke, Miss. Augusta Maria  female  18.0      2   \n",
       "40     Ahlin, Mrs. Johan (Johanna Persdotter Larsson)  female  40.0      1   \n",
       "\n",
       "    Parch  Ticket     Fare Cabin Embarked  \n",
       "14      0  350406   7.8542   NaN        S  \n",
       "18      0  345763  18.0000   NaN        S  \n",
       "24      1  349909  21.0750   NaN        S  \n",
       "38      0  345764  18.0000   NaN        S  \n",
       "40      0    7546   9.4750   NaN        S  "
      ]
     },
     "execution_count": 37,
     "metadata": {},
     "output_type": "execute_result"
    }
   ],
   "source": [
    "# 6) DataFrame de mujeres que no sobrevivieron en el titanic\n",
    "df_mujeres_no_sobreviven = df[(df[\"Survived\"]==0) & (df[\"Sex\"]==\"female\")]\n",
    "                        \n",
    "df_mujeres_no_sobreviven.head()"
   ]
  },
  {
   "cell_type": "code",
   "execution_count": 157,
   "id": "9b3c439a",
   "metadata": {},
   "outputs": [
    {
     "name": "stdout",
     "output_type": "stream",
     "text": [
      "Mujeres que sobreviven 81\n"
     ]
    }
   ],
   "source": [
    "df_mujeres_no_sobreviven = filtado_sexo (df_no_sobreviven, \"female\")\n",
    "\n",
    "print(\"Mujeres que sobreviven\", len(df_mujeres_no_sobreviven))"
   ]
  },
  {
   "cell_type": "code",
   "execution_count": 137,
   "id": "96ea7ec2",
   "metadata": {},
   "outputs": [
    {
     "data": {
      "text/plain": [
       "233"
      ]
     },
     "execution_count": 137,
     "metadata": {},
     "output_type": "execute_result"
    }
   ],
   "source": [
    "# 7) DataFrame de mujeres que si sobrevivieron en el titanic\n",
    "df_mujeres_si_sobreviven = df[(df[\"Survived\"]==1) & (df[\"Sex\"]==\"female\")]\n",
    "                        \n",
    "len(df_mujeres_si_sobreviven)\n",
    "\n"
   ]
  },
  {
   "cell_type": "code",
   "execution_count": 158,
   "id": "45517f47",
   "metadata": {},
   "outputs": [
    {
     "name": "stdout",
     "output_type": "stream",
     "text": [
      "Mujeres que sobreviven 233\n"
     ]
    }
   ],
   "source": [
    "df_mujeres_si_sobreviven = filtado_sexo (df_sobreviven, \"female\")\n",
    "\n",
    "print(\"Mujeres que sobreviven\", len(df_mujeres_si_sobreviven))"
   ]
  },
  {
   "cell_type": "code",
   "execution_count": null,
   "id": "0933e7b8",
   "metadata": {},
   "outputs": [],
   "source": []
  }
 ],
 "metadata": {
  "kernelspec": {
   "display_name": "Python 3 (ipykernel)",
   "language": "python",
   "name": "python3"
  },
  "language_info": {
   "codemirror_mode": {
    "name": "ipython",
    "version": 3
   },
   "file_extension": ".py",
   "mimetype": "text/x-python",
   "name": "python",
   "nbconvert_exporter": "python",
   "pygments_lexer": "ipython3",
   "version": "3.8.10"
  }
 },
 "nbformat": 4,
 "nbformat_minor": 5
}
