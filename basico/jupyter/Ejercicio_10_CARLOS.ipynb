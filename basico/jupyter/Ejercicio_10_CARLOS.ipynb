{
 "cells": [
  {
   "cell_type": "code",
   "execution_count": 1,
   "id": "e4bfc1f5",
   "metadata": {},
   "outputs": [],
   "source": [
    "# Ejercicio 1\n",
    "\n",
    "# Crea una matriz con ayuda numpy:\n",
    "# 1) Cuya matriz contenga 4 filas por 4 columnas de ceros\n",
    "\n",
    "import numpy as np"
   ]
  },
  {
   "cell_type": "code",
   "execution_count": 153,
   "id": "b571c1cc",
   "metadata": {},
   "outputs": [
    {
     "name": "stdout",
     "output_type": "stream",
     "text": [
      "[[0. 0. 0. 0.]\n",
      " [0. 0. 0. 0.]\n",
      " [0. 0. 0. 0.]\n",
      " [0. 0. 0. 0.]]\n"
     ]
    }
   ],
   "source": [
    "matriz = np.zeros((4,4))\n",
    "print(matriz)"
   ]
  },
  {
   "cell_type": "code",
   "execution_count": 152,
   "id": "06ee8f52",
   "metadata": {},
   "outputs": [
    {
     "name": "stdout",
     "output_type": "stream",
     "text": [
      "[[1. 0. 0. 0.]\n",
      " [0. 1. 0. 0.]\n",
      " [0. 0. 1. 0.]\n",
      " [0. 0. 0. 1.]]\n"
     ]
    }
   ],
   "source": [
    "# 2) A partir de la matriz de ceros crea la matriz identidad\n",
    "\n",
    "def Matriz_Identidad (M):\n",
    "    Matriz_I = np.zeros((4,4))\n",
    "    for i in range(len(M)):\n",
    "        for j in range(len(M[i])):\n",
    "            if i == j:\n",
    "                Matriz_I[i][j] = 1\n",
    "    return Matriz_I\n",
    "\n",
    "print(Matriz_Identidad(matriz))"
   ]
  },
  {
   "cell_type": "code",
   "execution_count": 157,
   "id": "934249ff",
   "metadata": {},
   "outputs": [
    {
     "name": "stdout",
     "output_type": "stream",
     "text": [
      "[[ 3  6  8]\n",
      " [20  5  7]\n",
      " [10 14  1]]\n",
      "<class 'numpy.ndarray'>\n"
     ]
    }
   ],
   "source": [
    "# EJERCICIO 2\n",
    "\n",
    "# Crea una matriz con ayuda numpy:\n",
    "\n",
    "# Primera fila contenga: 3, 6, 8\n",
    "# Segunda fila contenga: 20, 5, 7\n",
    "# Tercera fila contenga: 10, 14, 1\n",
    "\n",
    "matriz = np.array([[3,6,8],\n",
    "                  [20,5,7],\n",
    "                  [10,14,1]])\n",
    "print(matriz)\n",
    "print(type(matriz))"
   ]
  },
  {
   "cell_type": "code",
   "execution_count": 158,
   "id": "73ddd413",
   "metadata": {},
   "outputs": [
    {
     "name": "stdout",
     "output_type": "stream",
     "text": [
      "[[ 3 20 10]\n",
      " [ 6  5 14]\n",
      " [ 8  7  1]]\n",
      "[[ 3 20 10]\n",
      " [ 6  5 14]\n",
      " [ 8  7  1]]\n"
     ]
    }
   ],
   "source": [
    "# 1) Crea la transpuesta de esta matriz\n",
    "\n",
    "print(matriz.T)\n",
    "\n",
    "print(np.transpose(matriz))"
   ]
  },
  {
   "cell_type": "code",
   "execution_count": 160,
   "id": "cb50cd57",
   "metadata": {},
   "outputs": [
    {
     "name": "stdout",
     "output_type": "stream",
     "text": [
      "9\n"
     ]
    }
   ],
   "source": [
    "# 2) Muestra el tamaño de la matriz\n",
    "\n",
    "print(matriz.size)\n"
   ]
  },
  {
   "cell_type": "code",
   "execution_count": 77,
   "id": "7578410e",
   "metadata": {},
   "outputs": [
    {
     "name": "stdout",
     "output_type": "stream",
     "text": [
      "(3, 3)\n"
     ]
    }
   ],
   "source": [
    "# 3) Muestra las dimensiones\n",
    "\n",
    "print(matriz.shape)"
   ]
  },
  {
   "cell_type": "code",
   "execution_count": 78,
   "id": "e9c26aba",
   "metadata": {},
   "outputs": [
    {
     "data": {
      "text/plain": [
       "False"
      ]
     },
     "execution_count": 78,
     "metadata": {},
     "output_type": "execute_result"
    }
   ],
   "source": [
    "# 4) ¿La matriz tiene valores menores de 0?\n",
    "\n",
    "np.all(matriz<0)"
   ]
  },
  {
   "cell_type": "code",
   "execution_count": 79,
   "id": "785f824f",
   "metadata": {},
   "outputs": [
    {
     "data": {
      "text/plain": [
       "True"
      ]
     },
     "execution_count": 79,
     "metadata": {},
     "output_type": "execute_result"
    }
   ],
   "source": [
    "# 5) ¿La matriz tiene algún valor mayor de 10?\n",
    "\n",
    "np.any(matriz<10)"
   ]
  },
  {
   "cell_type": "code",
   "execution_count": 80,
   "id": "e367011b",
   "metadata": {},
   "outputs": [
    {
     "name": "stdout",
     "output_type": "stream",
     "text": [
      "[ 1.    5.75 10.5  15.25 20.  ]\n"
     ]
    }
   ],
   "source": [
    "# 6) Coge una muestra de 5 valores de esa matriz usando linespace\n",
    "def Obtener_Muestreo (M, valores):\n",
    "    muestreo = np.linspace(M.min(),M.max(),valores)\n",
    "    return muestreo\n",
    "\n",
    "muestra = Obtener_Muestreo (matriz, 5)\n",
    "print(muestra)"
   ]
  },
  {
   "cell_type": "code",
   "execution_count": 81,
   "id": "b89572c6",
   "metadata": {},
   "outputs": [
    {
     "name": "stdout",
     "output_type": "stream",
     "text": [
      "El valor 7 está en la matriz\n"
     ]
    }
   ],
   "source": [
    "# 7) La matriz contiene el valor 7\n",
    "\n",
    "def Buscar_Valor(M, valor):\n",
    "    if valor in M:\n",
    "        return(print(\"El valor\", valor, \"está en la matriz\"))\n",
    "    else:\n",
    "        return(print(\"El valor\", valor, \"NO está en la matriz\"))\n",
    "\n",
    "Buscar_Valor(matriz, 7)"
   ]
  },
  {
   "cell_type": "code",
   "execution_count": 82,
   "id": "bb450aae",
   "metadata": {},
   "outputs": [
    {
     "data": {
      "text/plain": [
       "array([ 3,  6,  8, 20,  5,  7, 10, 14,  1])"
      ]
     },
     "execution_count": 82,
     "metadata": {},
     "output_type": "execute_result"
    }
   ],
   "source": [
    "# 8) Crea una copia de esa matriz en una única dimensión\n",
    "\n",
    "copia_matriz = matriz.flatten()\n",
    "copia_matriz"
   ]
  },
  {
   "cell_type": "code",
   "execution_count": 129,
   "id": "7c0759b7",
   "metadata": {},
   "outputs": [
    {
     "data": {
      "text/plain": [
       "array([ 3,  6,  8, 20,  5,  7, 10, 14,  1])"
      ]
     },
     "execution_count": 129,
     "metadata": {},
     "output_type": "execute_result"
    }
   ],
   "source": [
    "# 9) Crea una copia de esa matriz en una única dimensión, en este caso usando un bucle y una lista vacia\n",
    "def Copia_Matriz_1_Dimension(M):\n",
    "    copia_matriz = []\n",
    "    for i in range(len(M)):\n",
    "        for j in range(len(M[i])):\n",
    "            copia_matriz.append(M[i][j])\n",
    "    return copia_matriz\n",
    "\n",
    "Matriz_1 = np.array(Copia_Matriz_1_Dimension(matriz))\n",
    "Matriz_1\n"
   ]
  },
  {
   "cell_type": "code",
   "execution_count": 98,
   "id": "588f148f",
   "metadata": {},
   "outputs": [
    {
     "data": {
      "text/plain": [
       "array([  27,  216,  512, 8000,  125,  343, 1000, 2744,    1], dtype=int32)"
      ]
     },
     "execution_count": 98,
     "metadata": {},
     "output_type": "execute_result"
    }
   ],
   "source": [
    "# 10) Realiza a esta última matriz creada con flatten la potencia de 3\n",
    "pow(Matriz_1,3)"
   ]
  },
  {
   "cell_type": "code",
   "execution_count": 63,
   "id": "aa3792d7",
   "metadata": {},
   "outputs": [
    {
     "data": {
      "text/plain": [
       "array([  27,  216,  512, 8000,  125,  343, 1000, 2744,    1], dtype=int32)"
      ]
     },
     "execution_count": 63,
     "metadata": {},
     "output_type": "execute_result"
    }
   ],
   "source": [
    "def Potencia_Matriz(M, potencia):\n",
    "    return pow(M,potencia)\n",
    "\n",
    "Potencia_Matriz(Matriz_1, 3)"
   ]
  },
  {
   "cell_type": "code",
   "execution_count": 169,
   "id": "58cbd7a5",
   "metadata": {},
   "outputs": [
    {
     "data": {
      "text/plain": [
       "array([  27,  216,  512, 8000,  125,  343, 1000, 2744,    1])"
      ]
     },
     "execution_count": 169,
     "metadata": {},
     "output_type": "execute_result"
    }
   ],
   "source": [
    "def Potencia_Matriz(M, potencia):\n",
    "    M_potencia = []\n",
    "    for i in range(len(M)):\n",
    "        for j in range(len(M[i])):\n",
    "            M_potencia.append(M[i][j]**potencia)\n",
    "    return M_potencia\n",
    "\n",
    "Matriz_1 = np.array(Potencia_Matriz(matriz,3))\n",
    "Matriz_1"
   ]
  },
  {
   "cell_type": "code",
   "execution_count": null,
   "id": "e4cc921a",
   "metadata": {},
   "outputs": [],
   "source": []
  }
 ],
 "metadata": {
  "kernelspec": {
   "display_name": "Python 3 (ipykernel)",
   "language": "python",
   "name": "python3"
  },
  "language_info": {
   "codemirror_mode": {
    "name": "ipython",
    "version": 3
   },
   "file_extension": ".py",
   "mimetype": "text/x-python",
   "name": "python",
   "nbconvert_exporter": "python",
   "pygments_lexer": "ipython3",
   "version": "3.8.10"
  }
 },
 "nbformat": 4,
 "nbformat_minor": 5
}
