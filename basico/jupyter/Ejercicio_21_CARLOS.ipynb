{
 "cells": [
  {
   "cell_type": "code",
   "execution_count": 5,
   "id": "ef9869d1",
   "metadata": {},
   "outputs": [
    {
     "data": {
      "text/plain": [
       "False"
      ]
     },
     "execution_count": 5,
     "metadata": {},
     "output_type": "execute_result"
    }
   ],
   "source": [
    "# EJERCICIO 1\n",
    "# \n",
    "# \"\"\"\n",
    "#     Escriba una función es_bisiesto() que determine si un año determinado es un año\n",
    "#     bisiesto. Un año bisiesto es divisible por 4, pero no por 100.\n",
    "#     También es divisible por 400.\n",
    "# \"\"\"\n",
    "def bisiesto(anio):\n",
    "    if anio%4==0 and anio%100!=0:\n",
    "        return True\n",
    "    elif anio%400==0:\n",
    "        return True\n",
    "    else:\n",
    "        return False\n",
    "\n",
    "anio = 2001\n",
    "bisiesto(anio)"
   ]
  },
  {
   "cell_type": "code",
   "execution_count": 20,
   "id": "121301e0",
   "metadata": {},
   "outputs": [
    {
     "name": "stdout",
     "output_type": "stream",
     "text": [
      "Introduzca la cantidad de capital a invertir: 10000\n",
      "Introduzca la tasa de interés: 4,5%\n",
      "Introduzca el numero de años de inversión: 20\n",
      "Cuando pasen 20 años, con un 4,5% de interes, usted habrá generado 24117.14 dolares.\n"
     ]
    }
   ],
   "source": [
    "# EJERCICIO 2\n",
    "# \n",
    "# \"\"\"\n",
    "#     Haz un programa que pida al usuario una cantidad de dolares, una tasa de interés y un numero de años.\n",
    "#     Muestra por pantalla en cuanto se habrá convertido el capital inicial transcurridos\n",
    "#     esos años si cada año se aplica la tasa de interés introducida.\n",
    "#     Recordar que un capital C dolares a un interés del x por cien durante n años\n",
    "#     se convierte en C * (1 + x/100)elevado a n (años). Probar el programa\n",
    "#     sabiendo que una cantidad de 10000 dolares al 4.5% de interés anual se convierte en 24117.14 dolares al cabo de 20 años.\n",
    "# \"\"\"\n",
    "def pasar_float(cadena):\n",
    "    nueva_cadena = cadena.replace(\",\", \".\")\n",
    "    nueva_cadena = float(nueva_cadena)    \n",
    "    return nueva_cadena\n",
    "\n",
    "def quitar_porcentajes(cadena):\n",
    "    nueva_cadena = cadena.replace(\"%\", \"\")\n",
    "    return nueva_cadena\n",
    "\n",
    "quitar_porcentajes(\"4,5%\")\n",
    "\n",
    "def simulacion_capital (inversion, interes, anios):\n",
    "    return inversion * (1+interes/100)**anios\n",
    "\n",
    "def main():\n",
    "    capital=int(input(\"Introduzca la cantidad de capital a invertir: \"))\n",
    "    tasa_i=input(\"Introduzca la tasa de interés: \")\n",
    "    tasa=quitar_porcentajes(tasa_i)\n",
    "    tasa=pasar_float(tasa)\n",
    "    anios=int(input(\"Introduzca el numero de años de inversión: \"))\n",
    "\n",
    "    resultado = round(simulacion_capital (capital, tasa, anios),2)\n",
    "    \n",
    "    print(\"Cuando pasen\", anios, u\"años, con un\", tasa_i, u\"de interes, usted habrá generado\", resultado, \"dolares.\")\n",
    "\n",
    "main()"
   ]
  },
  {
   "cell_type": "code",
   "execution_count": null,
   "id": "b346c1c9",
   "metadata": {},
   "outputs": [],
   "source": [
    "# EJERCICIO 3\n",
    "# \n",
    "# \"\"\"\n",
    "#     Este programa muestra primero el listado de categorías de películas\n",
    "#     y pide al usuario que introduzca el código de la categoría de la película\n",
    "#     y posterior a ello pide que el usuario introduzca el número de días de atraso,\n",
    "#     y así se muestra al final el total a pagar.\n",
    "# \"\"\"\n",
    "#\n",
    "# CATEGORIA     PRECIO  CODIGO  RECARGO/DIA DE ATRASO\n",
    "# FAVORITOS      2.50      1          0.50\n",
    "# NUEVOS         3.00      2          0.75\n",
    "# ESTRENOS       3.50      3          1.00\n",
    "# SUPER ESTRENOS 4.00      4          1.50\n",
    "\n",
    "while True:\n",
    "    print(\"\\n\")\n",
    "    print(\"**************** MENU *******************\")\n",
    "    print(\"*****************************************\")\n",
    "    print(\"***********  1. Favoritos ***************\")\n",
    "    print(\"***********  2. Nuevos    ***************\")\n",
    "    print(\"***********  3. Estrenos  ***************\")\n",
    "    print(\"***********  4. Super Estrenos  *********\")\n",
    "    print(\"***********  99. Salir (del menú)  ******\")\n",
    "    print(\"*****************************************\")\n",
    "\n",
    "    print(\"\\n\")\n",
    "    \n",
    "    opcion = int(input(\"Inserte su opción: \"))\n",
    "\n",
    "    if opcion == 1:\n",
    "        dias=input(\"Introduzca los días de retraso: \")\n",
    "        dias_O=pasar_float(dias)\n",
    "        total_pagar=2.50+dias_O*0.5\n",
    "        print(\"Debe pagar\", total_pagar, u\"dolares, por un retraso de\", dias, u\"dias por una película de la categoria FAVORITOS\")\n",
    "\n",
    "\n",
    "    elif opcion == 2:\n",
    "        dias_O=pasar_float(dias)\n",
    "        total_pagar=3.00+dias_O*0.75\n",
    "        print(\"Debe pagar\", total_pagar, u\"dolares, por un retraso de\", dias, u\"dias por una película de la categoria NUEVOS\")\n",
    "        \n",
    "    elif opcion == 3:\n",
    "        dias_O=pasar_float(dias)\n",
    "        total_pagar=3.50+dias_O*1\n",
    "        print(\"Debe pagar\", total_pagar, u\"dolares, por un retraso de\", dias, u\"dias por una película de la categoria ESTRENOS\")\n",
    "        \n",
    "    elif opcion == 4:\n",
    "        dias_O=pasar_float(dias)\n",
    "        total_pagar=4.00+dias_O*1.5\n",
    "        print(\"Debe pagar\", total_pagar, u\"dolares, por un retraso de\", dias, u\"dias por una película de la categoria SUPER ESTRENOS\")\n",
    "\n",
    "    elif opcion == 99:\n",
    "        break\n",
    "    else:\n",
    "        print(\"escriba una opción correcta. \")\n",
    "        print(\"\\n\")"
   ]
  },
  {
   "cell_type": "code",
   "execution_count": null,
   "id": "bae12731",
   "metadata": {},
   "outputs": [],
   "source": [
    "# EJERCICIO 3\n",
    "# \n",
    "# \"\"\"\n",
    "#     Este programa muestra primero el listado de categorías de películas\n",
    "#     y pide al usuario que introduzca el código de la categoría de la película\n",
    "#     y posterior a ello pide que el usuario introduzca el número de días de atraso,\n",
    "#     y así se muestra al final el total a pagar.\n",
    "# \"\"\"\n",
    "#\n",
    "# CATEGORIA     PRECIO  CODIGO  RECARGO/DIA DE ATRASO\n",
    "# FAVORITOS      2.50      1          0.50\n",
    "# NUEVOS         3.00      2          0.75\n",
    "# ESTRENOS       3.50      3          1.00\n",
    "# SUPER ESTRENOS 4.00      4          1.50\n",
    "listado_opciones=[\"FAVORITOS\",\"NUEVOS\",\"ESTRENOS\",\"SUPER ESTRENOS\"]"
   ]
  },
  {
   "cell_type": "code",
   "execution_count": null,
   "id": "dbe350ee",
   "metadata": {},
   "outputs": [],
   "source": []
  }
 ],
 "metadata": {
  "kernelspec": {
   "display_name": "Python 3 (ipykernel)",
   "language": "python",
   "name": "python3"
  },
  "language_info": {
   "codemirror_mode": {
    "name": "ipython",
    "version": 3
   },
   "file_extension": ".py",
   "mimetype": "text/x-python",
   "name": "python",
   "nbconvert_exporter": "python",
   "pygments_lexer": "ipython3",
   "version": "3.8.10"
  }
 },
 "nbformat": 4,
 "nbformat_minor": 5
}
