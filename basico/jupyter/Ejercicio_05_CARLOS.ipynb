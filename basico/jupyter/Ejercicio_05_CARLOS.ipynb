{
 "cells": [
  {
   "cell_type": "code",
   "execution_count": 2,
   "id": "edc9935e",
   "metadata": {},
   "outputs": [],
   "source": [
    "# EJERCICIO 1\n",
    "# a) Declara la variable \"test\" como una lista con los siguientes componentes: 25, 8, 32, 20, 1.\n",
    "    # Usa las formas que conozcas para crearla y el uso de type para asegurarte de que es una lista."
   ]
  },
  {
   "cell_type": "code",
   "execution_count": 3,
   "id": "8d1dd94b",
   "metadata": {},
   "outputs": [],
   "source": [
    "test = list((25, 8, 32, 20, 1))"
   ]
  },
  {
   "cell_type": "code",
   "execution_count": 74,
   "id": "13847a2e",
   "metadata": {},
   "outputs": [],
   "source": [
    "test = [25, 8, 32, 20, 1]"
   ]
  },
  {
   "cell_type": "code",
   "execution_count": 75,
   "id": "5962dd1c",
   "metadata": {},
   "outputs": [
    {
     "data": {
      "text/plain": [
       "list"
      ]
     },
     "execution_count": 75,
     "metadata": {},
     "output_type": "execute_result"
    }
   ],
   "source": [
    "type(test)"
   ]
  },
  {
   "cell_type": "code",
   "execution_count": 76,
   "id": "36861121",
   "metadata": {},
   "outputs": [],
   "source": [
    "# b) Apendiza un valor de valor 20, 32, 25, 32\n"
   ]
  },
  {
   "cell_type": "code",
   "execution_count": 84,
   "id": "298a386c",
   "metadata": {},
   "outputs": [],
   "source": [
    "test = [25, 8, 32, 20, 1]\n",
    "nuevos_valores = [20, 32, 32, 25, 31]"
   ]
  },
  {
   "cell_type": "code",
   "execution_count": 85,
   "id": "c6d827e3",
   "metadata": {},
   "outputs": [
    {
     "name": "stdout",
     "output_type": "stream",
     "text": [
      "[25, 8, 32, 20, 1, 20, 32, 32, 25, 31]\n"
     ]
    }
   ],
   "source": [
    "def apendizar(a,b,c):\n",
    "    c = []\n",
    "    c = a + b\n",
    "    print(c)\n",
    "\n",
    "apendizar(test, nuevos_valores, listado_final)"
   ]
  },
  {
   "cell_type": "code",
   "execution_count": 72,
   "id": "a7412ea5",
   "metadata": {},
   "outputs": [],
   "source": [
    "listado_final = test + nuevos_valores"
   ]
  },
  {
   "cell_type": "code",
   "execution_count": 73,
   "id": "cb2dd677",
   "metadata": {},
   "outputs": [
    {
     "data": {
      "text/plain": [
       "[31, 1, 20, 32, 25, 20, 32, 32, 25, 31]"
      ]
     },
     "execution_count": 73,
     "metadata": {},
     "output_type": "execute_result"
    }
   ],
   "source": [
    "listado_final"
   ]
  },
  {
   "cell_type": "code",
   "execution_count": 10,
   "id": "3eeb71a6",
   "metadata": {},
   "outputs": [],
   "source": [
    "# c) Elimina el valor 8 de la lista"
   ]
  },
  {
   "cell_type": "code",
   "execution_count": 86,
   "id": "2a8ccc04",
   "metadata": {},
   "outputs": [
    {
     "data": {
      "text/plain": [
       "[31, 1, 20, 32, 25, 20, 32, 32, 25, 31]"
      ]
     },
     "execution_count": 86,
     "metadata": {},
     "output_type": "execute_result"
    }
   ],
   "source": [
    "def eliminar(listado,valor):\n",
    "    contador = 0\n",
    "    for i in listado:\n",
    "        if i == valor:\n",
    "            del listado[contador]\n",
    "        else:\n",
    "            contador += 1\n",
    "\n",
    "eliminar(listado_final, 8)\n",
    "listado_final"
   ]
  },
  {
   "cell_type": "code",
   "execution_count": 16,
   "id": "d7401a1c",
   "metadata": {},
   "outputs": [],
   "source": [
    "# d) Elimina los duplicados que haya en la lista test"
   ]
  },
  {
   "cell_type": "code",
   "execution_count": 17,
   "id": "b6624b05",
   "metadata": {},
   "outputs": [
    {
     "data": {
      "text/plain": [
       "[25, 32, 20, 1, 20, 32, 32, 25, 31]"
      ]
     },
     "execution_count": 17,
     "metadata": {},
     "output_type": "execute_result"
    }
   ],
   "source": [
    "test = listado_final\n",
    "test"
   ]
  },
  {
   "cell_type": "code",
   "execution_count": 24,
   "id": "8ca13238",
   "metadata": {},
   "outputs": [
    {
     "data": {
      "text/plain": [
       "[]"
      ]
     },
     "execution_count": 24,
     "metadata": {},
     "output_type": "execute_result"
    }
   ],
   "source": [
    "valores_unicos = []\n",
    "valores_unicos"
   ]
  },
  {
   "cell_type": "code",
   "execution_count": 25,
   "id": "86bf46e4",
   "metadata": {},
   "outputs": [
    {
     "data": {
      "text/plain": [
       "[25, 32, 20, 1, 31]"
      ]
     },
     "execution_count": 25,
     "metadata": {},
     "output_type": "execute_result"
    }
   ],
   "source": [
    "contador = 0\n",
    "for i in test:\n",
    "    if i not in valores_unicos:\n",
    "        valores_unicos.append(i)\n",
    "valores_unicos"
   ]
  },
  {
   "cell_type": "code",
   "execution_count": 26,
   "id": "aa47eae6",
   "metadata": {},
   "outputs": [],
   "source": [
    "test = valores_unicos"
   ]
  },
  {
   "cell_type": "code",
   "execution_count": 27,
   "id": "7f9d15aa",
   "metadata": {},
   "outputs": [
    {
     "data": {
      "text/plain": [
       "[25, 32, 20, 1, 31]"
      ]
     },
     "execution_count": 27,
     "metadata": {},
     "output_type": "execute_result"
    }
   ],
   "source": [
    "test"
   ]
  },
  {
   "cell_type": "code",
   "execution_count": 28,
   "id": "8dfe7a51",
   "metadata": {},
   "outputs": [],
   "source": [
    "# e) Crea una segunda lista de nombre \"info\" que contenga los valores:\n",
    "    #  25, 100, 10, 20, 5, 25, 30, 200\n",
    "    "
   ]
  },
  {
   "cell_type": "code",
   "execution_count": 29,
   "id": "f9a27d17",
   "metadata": {},
   "outputs": [
    {
     "data": {
      "text/plain": [
       "[25, 100, 10, 20, 5, 25, 30, 200]"
      ]
     },
     "execution_count": 29,
     "metadata": {},
     "output_type": "execute_result"
    }
   ],
   "source": [
    "info = [25, 100, 10, 20, 5, 25, 30, 200]\n",
    "info"
   ]
  },
  {
   "cell_type": "code",
   "execution_count": 30,
   "id": "e7f6af02",
   "metadata": {},
   "outputs": [],
   "source": [
    "# f) ¿Cuántos valores se repiten entre las listas?\n"
   ]
  },
  {
   "cell_type": "code",
   "execution_count": 95,
   "id": "934c7a76",
   "metadata": {},
   "outputs": [
    {
     "name": "stdout",
     "output_type": "stream",
     "text": [
      "Numero repetido:  25\n",
      "Numero repetido:  25\n",
      "Numero repetido:  20\n",
      "3\n"
     ]
    }
   ],
   "source": [
    "\n",
    "def comparar_listas(a,b):\n",
    "    contador = 0\n",
    "    for n in a:\n",
    "        for i in b:\n",
    "            if n == i:\n",
    "                print('Numero repetido: ', n)\n",
    "                contador += 1\n",
    "    print(contador)\n",
    "\n",
    "test = [25, 8, 32, 20, 1]\n",
    "info = [25, 100, 10, 20, 5, 25, 30, 200]\n",
    "comparar_listas(test, info)\n"
   ]
  },
  {
   "cell_type": "code",
   "execution_count": 97,
   "id": "7807b375",
   "metadata": {},
   "outputs": [
    {
     "name": "stdout",
     "output_type": "stream",
     "text": [
      "MAXIMO Y MINIMO LISTA [25, 8, 32, 20, 1]\n"
     ]
    },
    {
     "data": {
      "text/plain": [
       "(32, 1)"
      ]
     },
     "execution_count": 97,
     "metadata": {},
     "output_type": "execute_result"
    }
   ],
   "source": [
    "# g) Muéstrame el maximo y mínimo en las dos listas\n",
    "print(\"MAXIMO Y MINIMO LISTA\", test)\n",
    "max(test), min(test)"
   ]
  },
  {
   "cell_type": "code",
   "execution_count": 98,
   "id": "8989278d",
   "metadata": {},
   "outputs": [
    {
     "name": "stdout",
     "output_type": "stream",
     "text": [
      "MAXIMO Y MINIMO LISTA [25, 100, 10, 20, 5, 25, 30, 200]\n"
     ]
    },
    {
     "data": {
      "text/plain": [
       "(200, 5)"
      ]
     },
     "execution_count": 98,
     "metadata": {},
     "output_type": "execute_result"
    }
   ],
   "source": [
    "print(\"MAXIMO Y MINIMO LISTA\", info)\n",
    "max(info), min(info)\n"
   ]
  },
  {
   "cell_type": "code",
   "execution_count": 100,
   "id": "03116048",
   "metadata": {},
   "outputs": [
    {
     "data": {
      "text/plain": [
       "array([25,  8, 32, 20,  1])"
      ]
     },
     "execution_count": 100,
     "metadata": {},
     "output_type": "execute_result"
    }
   ],
   "source": [
    "# h) Crea una nueva variable de nombre \"matriz\" transformando la lista test en matriz\n",
    "import numpy as np\n",
    "matriz = np.array(test)\n",
    "matriz"
   ]
  },
  {
   "cell_type": "code",
   "execution_count": 46,
   "id": "6a1e3944",
   "metadata": {},
   "outputs": [
    {
     "name": "stdout",
     "output_type": "stream",
     "text": [
      "[25, 100, 10, 20, 5, 25, 30, 200]\n",
      "4\n",
      "[25, 32, 20, 1, 31]\n",
      "1\n"
     ]
    }
   ],
   "source": [
    "# i) Crea una función que se llame \"funcion_división\" donde se divida\n",
    "# el test con valor 32 entre info con valor 5 y muestra el resto de la división\n",
    "\n",
    "# Info[4] == 5\n",
    "# test[0] == 32\n",
    "\n",
    "print(info)\n",
    "s = info.index(5)\n",
    "print(s)\n",
    "\n",
    "print(test)\n",
    "n = test.index(32)\n",
    "print(n)\n"
   ]
  },
  {
   "cell_type": "code",
   "execution_count": 49,
   "id": "12943434",
   "metadata": {},
   "outputs": [],
   "source": [
    "def funcion_division(n, s):\n",
    "    return test[n] % info[s]"
   ]
  },
  {
   "cell_type": "code",
   "execution_count": 50,
   "id": "358515af",
   "metadata": {},
   "outputs": [
    {
     "data": {
      "text/plain": [
       "2"
      ]
     },
     "execution_count": 50,
     "metadata": {},
     "output_type": "execute_result"
    }
   ],
   "source": [
    "funcion_division(n, s)"
   ]
  },
  {
   "cell_type": "code",
   "execution_count": 63,
   "id": "4e6cf25f",
   "metadata": {},
   "outputs": [
    {
     "name": "stdout",
     "output_type": "stream",
     "text": [
      "[25, 32, 20, 1, 31]\n",
      "[31, 1, 20, 32, 25]\n"
     ]
    }
   ],
   "source": [
    "# j) Con ayuda de reverse() muestra la inversa de test\n",
    "print(test)\n",
    "inverso = test\n",
    "def revertir(n, r):\n",
    "    r = n.reverse()\n",
    "    \n",
    "revertir(test, inverso)\n",
    "print(inverso)"
   ]
  },
  {
   "cell_type": "code",
   "execution_count": null,
   "id": "8e932391",
   "metadata": {},
   "outputs": [],
   "source": [
    "# k) Con el listado info utiliza un bucle for con la ayuda de enumerate(),\n",
    "    # para mostrar posición y valor y crea un diccionario de nombre \"newDict\"\n"
   ]
  },
  {
   "cell_type": "code",
   "execution_count": 102,
   "id": "bd5c0c65",
   "metadata": {},
   "outputs": [
    {
     "name": "stdout",
     "output_type": "stream",
     "text": [
      "[  1   2   3   4   5   6   7   8   9  10  11  12  13  14  15  16  17  18\n",
      "  19  20  21  22  23  24  25  26  27  28  29  30  31  32  33  34  35  36\n",
      "  37  38  39  40  41  42  43  44  45  46  47  48  49  50  51  52  53  54\n",
      "  55  56  57  58  59  60  61  62  63  64  65  66  67  68  69  70  71  72\n",
      "  73  74  75  76  77  78  79  80  81  82  83  84  85  86  87  88  89  90\n",
      "  91  92  93  94  95  96  97  98  99 100]\n"
     ]
    }
   ],
   "source": [
    "N = np.arange(1,101,1)\n",
    "print(N)\n"
   ]
  },
  {
   "cell_type": "code",
   "execution_count": null,
   "id": "70657892",
   "metadata": {},
   "outputs": [],
   "source": []
  }
 ],
 "metadata": {
  "kernelspec": {
   "display_name": "Python 3 (ipykernel)",
   "language": "python",
   "name": "python3"
  },
  "language_info": {
   "codemirror_mode": {
    "name": "ipython",
    "version": 3
   },
   "file_extension": ".py",
   "mimetype": "text/x-python",
   "name": "python",
   "nbconvert_exporter": "python",
   "pygments_lexer": "ipython3",
   "version": "3.8.10"
  }
 },
 "nbformat": 4,
 "nbformat_minor": 5
}
