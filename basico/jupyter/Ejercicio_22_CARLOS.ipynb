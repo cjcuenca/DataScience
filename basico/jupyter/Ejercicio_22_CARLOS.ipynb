{
 "cells": [
  {
   "cell_type": "code",
   "execution_count": 4,
   "id": "b59011a5",
   "metadata": {},
   "outputs": [
    {
     "name": "stdout",
     "output_type": "stream",
     "text": [
      "El precio de la compra de la cesta aplicando descuentos es  1349.0\n",
      "El precio de la compra de la cesta aplicando el IVA es  1691.0\n"
     ]
    }
   ],
   "source": [
    "# EJERCICIO 1\n",
    "# \n",
    "# \"\"\"\n",
    "#     Escribir una función que aplique un descuento a un precio y otra que aplique el IVA a un precio.\n",
    "#     Escribir una tercera función que reciba un diccionario con los precios\n",
    "#     y porcentajes de una cesta de la compra, y una de las funciones anteriores, \n",
    "#     y utilice la función pasada para aplicar los descuentos o el IVA a los productos de la cesta y devolver el precio final de la cesta.\n",
    "#     Ejemplo de diccionario: {1000:20, 500:10, 100:1}\n",
    "# \"\"\"\n",
    "\n",
    "def aplicar_descuento(precio, descuento):\n",
    "    precio=precio-precio*descuento/100\n",
    "    return precio\n",
    "\n",
    "def aplicar_IVA(precio, iva):\n",
    "    precio=precio+precio*iva/100\n",
    "    return precio\n",
    "\n",
    "def precio_compra(diccionario_compra, funcion):\n",
    "    compra=0\n",
    "    for precio, tasa in diccionario_compra.items():\n",
    "        compra=compra + funcion(precio, tasa)\n",
    "    return compra\n",
    "\n",
    "compra_descuento={1000:20, 500:10, 100:1}\n",
    "precio=precio_compra(compra_descuento, aplicar_descuento)\n",
    "print(\"El precio de la compra de la cesta aplicando descuentos es \",precio)\n",
    "\n",
    "compra_IVA={1000:5, 500:4, 100:21}\n",
    "precio=precio_compra(compra_IVA, aplicar_IVA)\n",
    "print(\"El precio de la compra de la cesta aplicando el IVA es \",precio)\n",
    "\n"
   ]
  },
  {
   "cell_type": "code",
   "execution_count": 12,
   "id": "81a848c6",
   "metadata": {},
   "outputs": [
    {
     "name": "stdout",
     "output_type": "stream",
     "text": [
      "['4,5', '45', '4.5', '6,5', '6,5']\n"
     ]
    }
   ],
   "source": [
    "# EJERCICIO 2\n",
    "# \n",
    "# \"\"\"\n",
    "#     Escribir una función que reciba otra función y una lista,\n",
    "#     y devuelva otra lista con el resultado de aplicar\n",
    "#     la función dada a cada uno de los elementos de la lista.\n",
    "# \"\"\"\n",
    "\n",
    "\n",
    "def aplicar_funcion_lista(lista, funcion):\n",
    "    nueva_lista=[]\n",
    "    for i in range(len(lista)):\n",
    "        nueva_lista.append(funcion(lista[i]))\n",
    "    return nueva_lista\n",
    "\n",
    "def quitar_porcentajes(cadena):\n",
    "    nueva_cadena=cadena.replace(\"%\",\"\")\n",
    "    return nueva_cadena\n",
    "\n",
    "\n",
    "listado=[\"4,5%\",\"45\",\"4.5\",\"6,5%\",\"6,5%\"]\n",
    "L=aplicar_funcion_lista(listado, quitar_porcentajes)\n",
    "print(L)"
   ]
  },
  {
   "cell_type": "code",
   "execution_count": null,
   "id": "db45a6f9",
   "metadata": {},
   "outputs": [],
   "source": [
    "def aplicar_funcion_lista(lista, funcion):\n",
    "    nueva_lista=list(map(funcion,lista))\n",
    "    return nueva_lista\n",
    "\n",
    "def quitar_porcentajes(cadena):\n",
    "    nueva_cadena=cadena.replace(\"%\",\"\")\n",
    "    return nueva_cadena\n",
    "\n",
    "\n",
    "listado=[\"4,5%\",\"45\",\"4.5\",\"6,5%\",\"6,5%\"]\n",
    "L=aplicar_funcion_lista(listado, quitar_porcentajes)\n",
    "print(L)"
   ]
  },
  {
   "cell_type": "code",
   "execution_count": 16,
   "id": "6c560af4",
   "metadata": {},
   "outputs": [
    {
     "name": "stdout",
     "output_type": "stream",
     "text": [
      "{'Last': 4, 'Checkpoint:': 11, 'hace': 4, '39': 2, 'minutos': 7}\n"
     ]
    }
   ],
   "source": [
    "# EJERCICIO 3\n",
    "# \n",
    "# \"\"\"\n",
    "#     Escribir una función que reciba una frase y\n",
    "#     devuelva un diccionario con las palabras que contiene y su longitud.\n",
    "#     Ejemplo: \"Hola Mundo\" --> {\"Hola\": 4, \"Mundo\": 5}\n",
    "# \"\"\"\n",
    "\n",
    "def diccionario_palabras(frase):\n",
    "    listado_numero_caracteres = []\n",
    "    listado_palabras=frase.split()\n",
    "    \n",
    "#    for i in range(len(listado_palabras)):\n",
    "#        listado_numero_caracteres.append(len(listado_palabras[i]))\n",
    "\n",
    "    listado_numero_caracteres = map(len,listado_palabras)  \n",
    "        \n",
    "    diccionario = dict(zip(listado_palabras, listado_numero_caracteres))\n",
    "    return diccionario\n",
    "\n",
    "Frase=\"Last Checkpoint: hace 39 minutos\"\n",
    "print(diccionario_palabras(Frase))"
   ]
  },
  {
   "cell_type": "code",
   "execution_count": 38,
   "id": "2aeed30e",
   "metadata": {},
   "outputs": [
    {
     "data": {
      "text/plain": [
       "['Suficiente',\n",
       " 'Aprobado',\n",
       " 'Suspenso',\n",
       " 'Notable',\n",
       " 'Suspenso',\n",
       " 'Sobresaliente',\n",
       " 'Sobresaliente']"
      ]
     },
     "execution_count": 38,
     "metadata": {},
     "output_type": "execute_result"
    }
   ],
   "source": [
    "# EJERCICIO 4\n",
    "\n",
    "# \"\"\"\n",
    "#     Escribir una función reciba una lista de notas y\n",
    "#     devuelva la lista de calificaciones correspondientes a esas notas.\n",
    "#     Suspenso < 5\n",
    "#     Aprobado = 5\n",
    "#     Suficiente entre 5 - 7\n",
    "#     Notable 7-9\n",
    "#     Sobresaliente > 9\n",
    "# \"\"\"\n",
    "\n",
    "def calificaciones_listado(notas):\n",
    "    lista_calificaciones = []\n",
    "    for i in notas:\n",
    "        if i <5:\n",
    "            lista_calificaciones.append(\"Suspenso\")\n",
    "        elif i == 5:\n",
    "            lista_calificaciones.append(\"Aprobado\")\n",
    "        elif i >5 and i <7:\n",
    "            lista_calificaciones.append(\"Suficiente\")\n",
    "        elif i >=7 and i <9:\n",
    "            lista_calificaciones.append(\"Notable\")\n",
    "        else:\n",
    "            lista_calificaciones.append(\"Sobresaliente\")\n",
    "    return lista_calificaciones\n",
    "\n",
    "Notas=[6.5, 5, 3.4, 8.2, 2.1, 9.7, 10]\n",
    "calificaciones_listado(Notas)"
   ]
  },
  {
   "cell_type": "code",
   "execution_count": 39,
   "id": "65cbf6df",
   "metadata": {},
   "outputs": [
    {
     "data": {
      "text/plain": [
       "['Suficiente',\n",
       " 'Aprobado',\n",
       " 'Suspenso',\n",
       " 'Notable',\n",
       " 'Suspenso',\n",
       " 'Sobresaliente',\n",
       " 'Sobresaliente']"
      ]
     },
     "execution_count": 39,
     "metadata": {},
     "output_type": "execute_result"
    }
   ],
   "source": [
    "def calificaciones(nota):\n",
    "    if nota <5:\n",
    "        Nota=\"Suspenso\"\n",
    "    elif nota == 5:\n",
    "        Nota=\"Aprobado\"\n",
    "    elif nota >5 and nota <7:\n",
    "        Nota=\"Suficiente\"\n",
    "    elif nota >=7 and nota <9:\n",
    "        Nota=\"Notable\"\n",
    "    else:\n",
    "        Nota=\"Sobresaliente\"\n",
    "    return Nota\n",
    "\n",
    "def calificacion_lista(L):\n",
    "    lista_calificaciones = list(map(calificaciones,L))\n",
    "    return lista_calificaciones\n",
    "\n",
    "Notas=[6.5, 5, 3.4, 8.2, 2.1, 9.7, 10]\n",
    "calificacion_lista(Notas)"
   ]
  },
  {
   "cell_type": "code",
   "execution_count": 44,
   "id": "5dcdb599",
   "metadata": {},
   "outputs": [
    {
     "data": {
      "text/plain": [
       "{'MATEMÁTICAS': 'Suficiente',\n",
       " 'FÍSICA': 'Aprobado',\n",
       " 'QUÍMICA': 'Suspenso',\n",
       " 'ECONOMÍA': 'Notable',\n",
       " 'HISTORIA': 'Sobresaliente',\n",
       " 'PROGRAMACIÓN': 'Sobresaliente'}"
      ]
     },
     "execution_count": 44,
     "metadata": {},
     "output_type": "execute_result"
    }
   ],
   "source": [
    "# EJERCICIO 5\n",
    "# \n",
    "# \"\"\"\n",
    "#     Escribir una función que reciba un diccionario con las asignaturas y\n",
    "#     las notas de un alumno y devuelva otro diccionario con las asignaturas en mayúsculas\n",
    "#     y las calificaciones correspondientes a las notas.\n",
    "# \"\"\"\n",
    "\n",
    "def normalizar_diccionario_notas(diccionario_notas):\n",
    "    lista_notas=calificaciones_listado(diccionario_notas.values())\n",
    "    lista_asignaturas=list(map(str.upper,diccionario_notas.keys()))\n",
    "    \n",
    "    \n",
    "    diccionario_normalizado = dict(zip(lista_asignaturas, lista_notas))\n",
    "    return diccionario_normalizado\n",
    "        \n",
    "       \n",
    "diccionario_notas = {'Matemáticas':6.5, 'Física':5, 'Química':3.4, 'Economía':8.2, 'Historia':9.7, 'Programación':10}\n",
    "normalizar_diccionario_notas(diccionario_notas)\n",
    "\n"
   ]
  },
  {
   "cell_type": "code",
   "execution_count": null,
   "id": "282dddd0",
   "metadata": {},
   "outputs": [],
   "source": [
    "# EJERCICIO 6\n",
    "# \n",
    "# \"\"\"\n",
    "#     Escribir un programa que almacene la cadena de caracteres contraseña en una variable,\n",
    "#     pregunte al usuario por la contraseña e imprima por pantalla si la contraseña introducida\n",
    "#     por el usuario coincide con la guardada en la variable sin tener en cuenta mayúsculas y minúsculas.\n",
    "# \"\"\"\n",
    "\n",
    "def comprobar_password(password):\n",
    "    clave=\"la mejor\"\n",
    "    if password.upper()==clave.upper():\n",
    "        return True\n",
    "    else:\n",
    "        return False\n",
    "\n",
    "password=input(\"Introduzca contraseña \")\n",
    "if comprobar_password(password):\n",
    "    print(\"Contraseña correcta\")\n",
    "else:\n",
    "    print(\"Contraseña incorrecta\")\n"
   ]
  },
  {
   "cell_type": "code",
   "execution_count": null,
   "id": "881fa80e",
   "metadata": {},
   "outputs": [],
   "source": []
  }
 ],
 "metadata": {
  "kernelspec": {
   "display_name": "Python 3 (ipykernel)",
   "language": "python",
   "name": "python3"
  },
  "language_info": {
   "codemirror_mode": {
    "name": "ipython",
    "version": 3
   },
   "file_extension": ".py",
   "mimetype": "text/x-python",
   "name": "python",
   "nbconvert_exporter": "python",
   "pygments_lexer": "ipython3",
   "version": "3.8.10"
  }
 },
 "nbformat": 4,
 "nbformat_minor": 5
}
